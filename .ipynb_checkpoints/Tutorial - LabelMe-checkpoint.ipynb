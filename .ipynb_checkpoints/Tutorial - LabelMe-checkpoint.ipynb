{
 "cells": [
  {
   "cell_type": "code",
   "execution_count": 1,
   "metadata": {
    "scrolled": true
   },
   "outputs": [
    {
     "name": "stderr",
     "output_type": "stream",
     "text": [
      "Using TensorFlow backend.\n",
      "/home/casapanshop/anaconda2/envs/newpy3_tf1/lib/python3.6/site-packages/tensorflow/python/framework/dtypes.py:516: FutureWarning: Passing (type, 1) or '1type' as a synonym of type is deprecated; in a future version of numpy, it will be understood as (type, (1,)) / '(1,)type'.\n",
      "  _np_qint8 = np.dtype([(\"qint8\", np.int8, 1)])\n",
      "/home/casapanshop/anaconda2/envs/newpy3_tf1/lib/python3.6/site-packages/tensorflow/python/framework/dtypes.py:517: FutureWarning: Passing (type, 1) or '1type' as a synonym of type is deprecated; in a future version of numpy, it will be understood as (type, (1,)) / '(1,)type'.\n",
      "  _np_quint8 = np.dtype([(\"quint8\", np.uint8, 1)])\n",
      "/home/casapanshop/anaconda2/envs/newpy3_tf1/lib/python3.6/site-packages/tensorflow/python/framework/dtypes.py:518: FutureWarning: Passing (type, 1) or '1type' as a synonym of type is deprecated; in a future version of numpy, it will be understood as (type, (1,)) / '(1,)type'.\n",
      "  _np_qint16 = np.dtype([(\"qint16\", np.int16, 1)])\n",
      "/home/casapanshop/anaconda2/envs/newpy3_tf1/lib/python3.6/site-packages/tensorflow/python/framework/dtypes.py:519: FutureWarning: Passing (type, 1) or '1type' as a synonym of type is deprecated; in a future version of numpy, it will be understood as (type, (1,)) / '(1,)type'.\n",
      "  _np_quint16 = np.dtype([(\"quint16\", np.uint16, 1)])\n",
      "/home/casapanshop/anaconda2/envs/newpy3_tf1/lib/python3.6/site-packages/tensorflow/python/framework/dtypes.py:520: FutureWarning: Passing (type, 1) or '1type' as a synonym of type is deprecated; in a future version of numpy, it will be understood as (type, (1,)) / '(1,)type'.\n",
      "  _np_qint32 = np.dtype([(\"qint32\", np.int32, 1)])\n",
      "/home/casapanshop/anaconda2/envs/newpy3_tf1/lib/python3.6/site-packages/tensorflow/python/framework/dtypes.py:525: FutureWarning: Passing (type, 1) or '1type' as a synonym of type is deprecated; in a future version of numpy, it will be understood as (type, (1,)) / '(1,)type'.\n",
      "  np_resource = np.dtype([(\"resource\", np.ubyte, 1)])\n",
      "/home/casapanshop/anaconda2/envs/newpy3_tf1/lib/python3.6/site-packages/tensorboard/compat/tensorflow_stub/dtypes.py:541: FutureWarning: Passing (type, 1) or '1type' as a synonym of type is deprecated; in a future version of numpy, it will be understood as (type, (1,)) / '(1,)type'.\n",
      "  _np_qint8 = np.dtype([(\"qint8\", np.int8, 1)])\n",
      "/home/casapanshop/anaconda2/envs/newpy3_tf1/lib/python3.6/site-packages/tensorboard/compat/tensorflow_stub/dtypes.py:542: FutureWarning: Passing (type, 1) or '1type' as a synonym of type is deprecated; in a future version of numpy, it will be understood as (type, (1,)) / '(1,)type'.\n",
      "  _np_quint8 = np.dtype([(\"quint8\", np.uint8, 1)])\n",
      "/home/casapanshop/anaconda2/envs/newpy3_tf1/lib/python3.6/site-packages/tensorboard/compat/tensorflow_stub/dtypes.py:543: FutureWarning: Passing (type, 1) or '1type' as a synonym of type is deprecated; in a future version of numpy, it will be understood as (type, (1,)) / '(1,)type'.\n",
      "  _np_qint16 = np.dtype([(\"qint16\", np.int16, 1)])\n",
      "/home/casapanshop/anaconda2/envs/newpy3_tf1/lib/python3.6/site-packages/tensorboard/compat/tensorflow_stub/dtypes.py:544: FutureWarning: Passing (type, 1) or '1type' as a synonym of type is deprecated; in a future version of numpy, it will be understood as (type, (1,)) / '(1,)type'.\n",
      "  _np_quint16 = np.dtype([(\"quint16\", np.uint16, 1)])\n",
      "/home/casapanshop/anaconda2/envs/newpy3_tf1/lib/python3.6/site-packages/tensorboard/compat/tensorflow_stub/dtypes.py:545: FutureWarning: Passing (type, 1) or '1type' as a synonym of type is deprecated; in a future version of numpy, it will be understood as (type, (1,)) / '(1,)type'.\n",
      "  _np_qint32 = np.dtype([(\"qint32\", np.int32, 1)])\n",
      "/home/casapanshop/anaconda2/envs/newpy3_tf1/lib/python3.6/site-packages/tensorboard/compat/tensorflow_stub/dtypes.py:550: FutureWarning: Passing (type, 1) or '1type' as a synonym of type is deprecated; in a future version of numpy, it will be understood as (type, (1,)) / '(1,)type'.\n",
      "  np_resource = np.dtype([(\"resource\", np.ubyte, 1)])\n"
     ]
    }
   ],
   "source": [
    "import numpy as np\n",
    "import pandas as pd\n",
    "import matplotlib.pyplot as plt\n",
    "import seaborn as sns\n",
    "import keras, time, sys, os, gc\n",
    "\n",
    "DTYPE_OP = 'float32'\n",
    "keras.backend.set_floatx(DTYPE_OP)\n",
    "\n",
    "if DTYPE_OP == 'float64':\n",
    "    keras.backend.set_epsilon(np.finfo(np.float64).eps)\n",
    "elif DTYPE_OP == 'float32':\n",
    "    keras.backend.set_epsilon(np.finfo(np.float32).eps)"
   ]
  },
  {
   "cell_type": "code",
   "execution_count": 2,
   "metadata": {},
   "outputs": [],
   "source": [
    "#GLOBAL Variables\n",
    "BATCH_SIZE = 128 #rodrigues = BATCH_SIZE = 64\n",
    "EPOCHS_BASE = 50\n",
    "OPT = 'adam' #optimizer for neural network \n",
    "TOL = 3e-2"
   ]
  },
  {
   "cell_type": "code",
   "execution_count": 3,
   "metadata": {},
   "outputs": [],
   "source": [
    "folder = \"./data/LabelMe/\""
   ]
  },
  {
   "cell_type": "markdown",
   "metadata": {},
   "source": [
    "### Load Data and preprocess"
   ]
  },
  {
   "cell_type": "code",
   "execution_count": 4,
   "metadata": {},
   "outputs": [
    {
     "name": "stdout",
     "output_type": "stream",
     "text": [
      "Input shape: (1000, 512)\n",
      "Label shape: (1000,)\n"
     ]
    }
   ],
   "source": [
    "Xstd_train = np.load(folder+\"LabelMe_VGG_avg_train.npy\")\n",
    "Z_train = np.loadtxt(folder+\"LabelMe_Z_train.txt\",dtype='int')\n",
    "\n",
    "Xstd_val = np.load(folder+\"LabelMe_VGG_avg_valid.npy\")\n",
    "Z_val = np.loadtxt(folder+\"LabelMe_Z_valid.txt\",dtype='int')\n",
    "\n",
    "Xstd_test = np.load(folder+\"LabelMe_VGG_avg_test.npy\")\n",
    "Z_test = np.loadtxt(folder+\"LabelMe_Z_test.txt\",dtype='int')\n",
    "\n",
    "print(\"Input shape:\",Xstd_train.shape)\n",
    "print(\"Label shape:\",Z_train.shape)"
   ]
  },
  {
   "cell_type": "code",
   "execution_count": 5,
   "metadata": {},
   "outputs": [
    {
     "data": {
      "image/png": "[encoded data removed]",
      "text/plain": [
       "<Figure size 432x288 with 1 Axes>"
      ]
     },
     "metadata": {
      "needs_background": "light"
     },
     "output_type": "display_data"
    }
   ],
   "source": [
    "sns.countplot(Z_train)\n",
    "plt.show()"
   ]
  },
  {
   "cell_type": "markdown",
   "metadata": {},
   "source": [
    "### Load annotations "
   ]
  },
  {
   "cell_type": "code",
   "execution_count": 6,
   "metadata": {},
   "outputs": [
    {
     "name": "stdout",
     "output_type": "stream",
     "text": [
      "Loading AMT data...\n",
      "Remove 18 annotators that do not annotate on this set \n",
      "Shape (data,annotators):  (1000, 59)\n",
      "Classes:  8\n"
     ]
    }
   ],
   "source": [
    "from codeE.representation import *\n",
    "#from codeE.utils import *\n",
    "\n",
    "# data from Amazon Mechanical Turk\n",
    "print(\"Loading AMT data...\")\n",
    "y_obs = np.loadtxt(folder+\"answers.txt\",dtype='int16') #not annotation symbol ==-1\n",
    "#y_obs = np.loadtxt(folder+\"answers_GLOBAL.txt\",dtype='int16') \n",
    "\n",
    "T_weights = np.sum(y_obs != -1,axis=0) #number of annotations per annotator\n",
    "print(\"Remove %d annotators that do not annotate on this set \"%(np.sum(T_weights==0)))\n",
    "y_obs = y_obs[:,T_weights!=0]\n",
    "T_weights = np.sum(y_obs != -1,axis=0) \n",
    "\n",
    "N,T = y_obs.shape\n",
    "Kl = np.max(y_obs)+1 #asumming classification scenario\n",
    "print(\"Shape (data,annotators): \",(N,T))\n",
    "print(\"Classes: \",Kl)"
   ]
  },
  {
   "cell_type": "code",
   "execution_count": 7,
   "metadata": {
    "scrolled": true
   },
   "outputs": [
    {
     "data": {
      "image/png": "[encoded data removed]",
      "text/plain": [
       "<Figure size 432x288 with 1 Axes>"
      ]
     },
     "metadata": {
      "needs_background": "light"
     },
     "output_type": "display_data"
    },
    {
     "name": "stdout",
     "output_type": "stream",
     "text": [
      "Minimum annotations in a example:  1\n",
      "Maximum annotations in a example:  3\n",
      "T data (expected value):  2.547\n",
      "Graphics of T weights\n"
     ]
    },
    {
     "data": {
      "image/png": "[encoded data removed]",
      "text/plain": [
       "<Figure size 432x288 with 1 Axes>"
      ]
     },
     "metadata": {
      "needs_background": "light"
     },
     "output_type": "display_data"
    },
    {
     "data": {
      "image/png": "[encoded data removed]",
      "text/plain": [
       "<Figure size 432x288 with 1 Axes>"
      ]
     },
     "metadata": {
      "needs_background": "light"
     },
     "output_type": "display_data"
    },
    {
     "name": "stdout",
     "output_type": "stream",
     "text": [
      "Minimum annotations by an annotator:  3\n",
      "Maximum annotations by an annotator:  182\n",
      "Mean annotations by an annotator:  43.16949152542373\n"
     ]
    }
   ],
   "source": [
    "#graphics and distribution? what is T_data\n",
    "N_ann = np.sum(y_obs != -1,axis=1) #distribucion de anotaciones con este valor\n",
    "\n",
    "sns.countplot(N_ann)\n",
    "plt.show()\n",
    "print(\"Minimum annotations in a example: \",N_ann.min())\n",
    "print(\"Maximum annotations in a example: \",N_ann.max())\n",
    "print(\"T data (expected value): \",N_ann.mean())\n",
    "\n",
    "print(\"Graphics of T weights\")\n",
    "plt.hist(T_weights)\n",
    "plt.show()\n",
    "\n",
    "plt.boxplot(T_weights)\n",
    "plt.show()\n",
    "print(\"Minimum annotations by an annotator: \",T_weights.min())\n",
    "print(\"Maximum annotations by an annotator: \",T_weights.max())\n",
    "print(\"Mean annotations by an annotator: \",T_weights.mean())"
   ]
  },
  {
   "cell_type": "markdown",
   "metadata": {},
   "source": [
    "### Generate Matrix representation of both scenarios"
   ]
  },
  {
   "cell_type": "code",
   "execution_count": 8,
   "metadata": {},
   "outputs": [
    {
     "name": "stdout",
     "output_type": "stream",
     "text": [
      "Individual representation shape (N,T,K)=  (1000, 59, 8)\n",
      "Global representation shape (N,K)=  (1000, 8)\n"
     ]
    }
   ],
   "source": [
    "from codeE.representation import set_representation\n",
    "\n",
    "y_obs_categorical = set_representation(y_obs,'onehot') \n",
    "print(\"Individual representation shape (N,T,K)= \",y_obs_categorical.shape)\n",
    "\n",
    "r_obs = set_representation(y_obs,\"global\")\n",
    "print(\"Global representation shape (N,K)= \",r_obs.shape)"
   ]
  },
  {
   "cell_type": "code",
   "execution_count": 9,
   "metadata": {},
   "outputs": [
    {
     "data": {
      "text/plain": [
       "array([[0, 2, 0, ..., 0, 0, 0],\n",
       "       [0, 1, 2, ..., 0, 0, 0],\n",
       "       [0, 1, 1, ..., 0, 0, 0],\n",
       "       ...,\n",
       "       [0, 1, 0, ..., 0, 0, 0],\n",
       "       [0, 0, 3, ..., 0, 0, 0],\n",
       "       [0, 0, 0, ..., 0, 0, 2]], dtype=int32)"
      ]
     },
     "execution_count": 9,
     "metadata": {},
     "output_type": "execute_result"
    }
   ],
   "source": [
    "r_obs"
   ]
  },
  {
   "cell_type": "markdown",
   "metadata": {
    "collapsed": true
   },
   "source": [
    "### Real Confusion matrices\n",
    "Generate the individual and global confusion matrices based on the sampled annotations."
   ]
  },
  {
   "cell_type": "code",
   "execution_count": 10,
   "metadata": {
    "scrolled": true
   },
   "outputs": [
    {
     "name": "stdout",
     "output_type": "stream",
     "text": [
      "Individual matrix shape (T,K,K)=  (59, 8, 8)\n"
     ]
    },
    {
     "data": {
      "text/plain": [
       "array([[[0.7777778 , 0.11111111, 0.        , ..., 0.        ,\n",
       "         0.        , 0.        ],\n",
       "        [0.        , 0.78571427, 0.        , ..., 0.        ,\n",
       "         0.        , 0.        ],\n",
       "        [0.        , 0.23076923, 0.7692308 , ..., 0.        ,\n",
       "         0.        , 0.        ],\n",
       "        ...,\n",
       "        [0.        , 0.        , 0.        , ..., 1.        ,\n",
       "         0.        , 0.        ],\n",
       "        [0.        , 0.        , 0.        , ..., 0.        ,\n",
       "         1.        , 0.        ],\n",
       "        [0.        , 0.        , 0.        , ..., 0.05555556,\n",
       "         0.22222222, 0.5555556 ]],\n",
       "\n",
       "       [[1.        , 0.        , 0.        , ..., 0.        ,\n",
       "         0.        , 0.        ],\n",
       "        [0.        , 0.        , 0.        , ..., 0.        ,\n",
       "         0.        , 0.        ],\n",
       "        [0.125     , 0.125     , 0.125     , ..., 0.125     ,\n",
       "         0.125     , 0.125     ],\n",
       "        ...,\n",
       "        [0.        , 0.        , 0.        , ..., 1.        ,\n",
       "         0.        , 0.        ],\n",
       "        [0.        , 0.        , 0.        , ..., 0.        ,\n",
       "         0.5       , 0.5       ],\n",
       "        [0.        , 0.        , 0.        , ..., 0.        ,\n",
       "         0.5       , 0.5       ]],\n",
       "\n",
       "       [[0.375     , 0.125     , 0.        , ..., 0.        ,\n",
       "         0.        , 0.        ],\n",
       "        [0.        , 0.75      , 0.25      , ..., 0.        ,\n",
       "         0.        , 0.        ],\n",
       "        [0.        , 0.        , 1.        , ..., 0.        ,\n",
       "         0.        , 0.        ],\n",
       "        ...,\n",
       "        [0.        , 0.        , 0.        , ..., 1.        ,\n",
       "         0.        , 0.        ],\n",
       "        [0.        , 0.        , 0.        , ..., 0.        ,\n",
       "         1.        , 0.        ],\n",
       "        [0.        , 0.07142857, 0.        , ..., 0.21428572,\n",
       "         0.21428572, 0.5       ]],\n",
       "\n",
       "       ...,\n",
       "\n",
       "       [[0.125     , 0.125     , 0.125     , ..., 0.125     ,\n",
       "         0.125     , 0.125     ],\n",
       "        [0.        , 0.        , 0.        , ..., 0.        ,\n",
       "         0.        , 0.        ],\n",
       "        [0.        , 0.        , 1.        , ..., 0.        ,\n",
       "         0.        , 0.        ],\n",
       "        ...,\n",
       "        [0.125     , 0.125     , 0.125     , ..., 0.125     ,\n",
       "         0.125     , 0.125     ],\n",
       "        [0.125     , 0.125     , 0.125     , ..., 0.125     ,\n",
       "         0.125     , 0.125     ],\n",
       "        [0.125     , 0.125     , 0.125     , ..., 0.125     ,\n",
       "         0.125     , 0.125     ]],\n",
       "\n",
       "       [[0.125     , 0.125     , 0.125     , ..., 0.125     ,\n",
       "         0.125     , 0.125     ],\n",
       "        [0.        , 0.        , 1.        , ..., 0.        ,\n",
       "         0.        , 0.        ],\n",
       "        [0.        , 1.        , 0.        , ..., 0.        ,\n",
       "         0.        , 0.        ],\n",
       "        ...,\n",
       "        [0.125     , 0.125     , 0.125     , ..., 0.125     ,\n",
       "         0.125     , 0.125     ],\n",
       "        [0.        , 0.        , 0.        , ..., 0.        ,\n",
       "         1.        , 0.        ],\n",
       "        [0.        , 0.        , 0.        , ..., 0.        ,\n",
       "         0.        , 1.        ]],\n",
       "\n",
       "       [[0.125     , 0.125     , 0.125     , ..., 0.125     ,\n",
       "         0.125     , 0.125     ],\n",
       "        [0.        , 0.        , 0.        , ..., 0.        ,\n",
       "         0.        , 0.        ],\n",
       "        [0.        , 1.        , 0.        , ..., 0.        ,\n",
       "         0.        , 0.        ],\n",
       "        ...,\n",
       "        [0.125     , 0.125     , 0.125     , ..., 0.125     ,\n",
       "         0.125     , 0.125     ],\n",
       "        [0.        , 0.        , 0.        , ..., 0.        ,\n",
       "         1.        , 0.        ],\n",
       "        [0.125     , 0.125     , 0.125     , ..., 0.125     ,\n",
       "         0.125     , 0.125     ]]], dtype=float32)"
      ]
     },
     "execution_count": 10,
     "metadata": {},
     "output_type": "execute_result"
    }
   ],
   "source": [
    "from codeE.utils import generate_Individual_conf\n",
    "\n",
    "conf_matrix_I = generate_Individual_conf(Z_train, y_obs)\n",
    "print(\"Individual matrix shape (T,K,K)= \",conf_matrix_I.shape)\n",
    "conf_matrix_I"
   ]
  },
  {
   "cell_type": "code",
   "execution_count": 11,
   "metadata": {},
   "outputs": [
    {
     "name": "stdout",
     "output_type": "stream",
     "text": [
      "Global matrix shape (K,K)=  (8, 8)\n"
     ]
    },
    {
     "data": {
      "image/png": "[encoded data removed]",
      "text/plain": [
       "<Figure size 432x288 with 2 Axes>"
      ]
     },
     "metadata": {
      "needs_background": "light"
     },
     "output_type": "display_data"
    }
   ],
   "source": [
    "from codeE.utils import generate_Global_conf\n",
    "\n",
    "confe_matrix_G = generate_Global_conf(Z_train, r_obs)\n",
    "print(\"Global matrix shape (K,K)= \",confe_matrix_G.shape)\n",
    "\n",
    "from codeE.utils import plot_confusion_matrix\n",
    "plot_confusion_matrix(confe_matrix_G, np.arange(8), title= \"Global Matrix\")"
   ]
  },
  {
   "cell_type": "markdown",
   "metadata": {},
   "source": [
    "#### Delta Convergence criteria"
   ]
  },
  {
   "cell_type": "code",
   "execution_count": 12,
   "metadata": {
    "scrolled": true
   },
   "outputs": [],
   "source": [
    "from codeE.learning_models import LogisticRegression_Sklearn,LogisticRegression_Keras,MLP_Keras\n",
    "#deep learning\n",
    "from codeE.learning_models import default_CNN,default_RNN,CNN_simple, RNN_simple, Clonable_Model\n",
    "\n",
    "from codeE.utils import EarlyStopRelative\n",
    "ourCallback = EarlyStopRelative(monitor='loss',patience=1,min_delta=TOL)"
   ]
  },
  {
   "cell_type": "markdown",
   "metadata": {},
   "source": [
    "### Upper Bound Model -- ideal"
   ]
  },
  {
   "cell_type": "code",
   "execution_count": 13,
   "metadata": {
    "scrolled": true
   },
   "outputs": [
    {
     "name": "stdout",
     "output_type": "stream",
     "text": [
      "WARNING:tensorflow:From /home/casapanshop/anaconda2/envs/newpy3_tf1/lib/python3.6/site-packages/keras/backend/tensorflow_backend.py:66: The name tf.get_default_graph is deprecated. Please use tf.compat.v1.get_default_graph instead.\n",
      "\n",
      "WARNING:tensorflow:From /home/casapanshop/anaconda2/envs/newpy3_tf1/lib/python3.6/site-packages/keras/backend/tensorflow_backend.py:541: The name tf.placeholder is deprecated. Please use tf.compat.v1.placeholder instead.\n",
      "\n",
      "WARNING:tensorflow:From /home/casapanshop/anaconda2/envs/newpy3_tf1/lib/python3.6/site-packages/keras/backend/tensorflow_backend.py:4432: The name tf.random_uniform is deprecated. Please use tf.random.uniform instead.\n",
      "\n",
      "WARNING:tensorflow:From /home/casapanshop/anaconda2/envs/newpy3_tf1/lib/python3.6/site-packages/keras/backend/tensorflow_backend.py:148: The name tf.placeholder_with_default is deprecated. Please use tf.compat.v1.placeholder_with_default instead.\n",
      "\n",
      "WARNING:tensorflow:From /home/casapanshop/anaconda2/envs/newpy3_tf1/lib/python3.6/site-packages/keras/backend/tensorflow_backend.py:3733: calling dropout (from tensorflow.python.ops.nn_ops) with keep_prob is deprecated and will be removed in a future version.\n",
      "Instructions for updating:\n",
      "Please use `rate` instead of `keep_prob`. Rate should be set to `rate = 1 - keep_prob`.\n",
      "WARNING:tensorflow:From /home/casapanshop/anaconda2/envs/newpy3_tf1/lib/python3.6/site-packages/keras/optimizers.py:793: The name tf.train.Optimizer is deprecated. Please use tf.compat.v1.train.Optimizer instead.\n",
      "\n",
      "WARNING:tensorflow:From /home/casapanshop/anaconda2/envs/newpy3_tf1/lib/python3.6/site-packages/keras/backend/tensorflow_backend.py:3576: The name tf.log is deprecated. Please use tf.math.log instead.\n",
      "\n",
      "WARNING:tensorflow:From /home/casapanshop/anaconda2/envs/newpy3_tf1/lib/python3.6/site-packages/tensorflow/python/ops/math_grad.py:1250: add_dispatch_support.<locals>.wrapper (from tensorflow.python.ops.array_ops) is deprecated and will be removed in a future version.\n",
      "Instructions for updating:\n",
      "Use tf.where in 2.0, which has the same broadcast rule as np.where\n",
      "Trained IDeal Model, Epochs to converge = 13\n"
     ]
    }
   ],
   "source": [
    "Z_train_onehot = keras.utils.to_categorical(Z_train)\n",
    "Z_val_onehot = keras.utils.to_categorical(Z_val)\n",
    "\n",
    "model_UB = MLP_Keras(Xstd_train.shape[1:],Z_train_onehot.shape[1],128,1,BN=False,drop=0.5) #true bn?\n",
    "model_UB.compile(loss='categorical_crossentropy',optimizer=OPT)\n",
    "hist=model_UB.fit(Xstd_train,Z_train_onehot,epochs=EPOCHS_BASE,batch_size=BATCH_SIZE,verbose=0,callbacks=[ourCallback]\n",
    "                  ,validation_data=(Xstd_val,Z_val_onehot))\n",
    "clone_UB = Clonable_Model(model_UB, model_UB.input)\n",
    "print(\"Trained IDeal Model, Epochs to converge =\",len(hist.epoch))\n",
    "Z_train_pred = model_UB.predict_classes(Xstd_train)\n",
    "Z_test_pred = model_UB.predict_classes(Xstd_test)"
   ]
  },
  {
   "cell_type": "code",
   "execution_count": 14,
   "metadata": {},
   "outputs": [
    {
     "data": {
      "text/plain": [
       "<matplotlib.legend.Legend at 0x7fc5a41f7588>"
      ]
     },
     "execution_count": 14,
     "metadata": {},
     "output_type": "execute_result"
    },
    {
     "data": {
      "image/png": "[encoded data removed]",
      "text/plain": [
       "<Figure size 432x288 with 1 Axes>"
      ]
     },
     "metadata": {
      "needs_background": "light"
     },
     "output_type": "display_data"
    }
   ],
   "source": [
    "plt.plot(hist.history[\"loss\"],label=\"train\")\n",
    "plt.plot(hist.history[\"val_loss\"])\n",
    "plt.legend()"
   ]
  },
  {
   "cell_type": "code",
   "execution_count": 15,
   "metadata": {},
   "outputs": [
    {
     "name": "stdout",
     "output_type": "stream",
     "text": [
      "Train accuracy of model = 0.98\n",
      "Test accuracy of model = 0.9267676767676768\n"
     ]
    }
   ],
   "source": [
    "from codeE.evaluation import accuracy_model\n",
    "print(\"Train accuracy of model =\", accuracy_model(model_UB, Xstd_train, Z_train))\n",
    "print(\"Test accuracy of model =\", accuracy_model(model_UB, Xstd_test, Z_test))"
   ]
  },
  {
   "cell_type": "code",
   "execution_count": 16,
   "metadata": {
    "scrolled": false
   },
   "outputs": [
    {
     "name": "stdout",
     "output_type": "stream",
     "text": [
      "Train accuracy of model = 0.9819576642613401\n",
      "Test accuracy of model = 0.9277217933349785\n"
     ]
    }
   ],
   "source": [
    "from codeE.evaluation import f1score_model\n",
    "print(\"Train accuracy of model =\", f1score_model(model_UB, Xstd_train, Z_train))\n",
    "print(\"Test accuracy of model =\", f1score_model(model_UB, Xstd_test, Z_test))"
   ]
  },
  {
   "cell_type": "markdown",
   "metadata": {},
   "source": [
    "## Aggregation methods (without predictive model)\n",
    "* Majority Voting (MV)\n",
    "* Weighted Majority Voting\n",
    "* Dawid and Skene (DS): with inference"
   ]
  },
  {
   "cell_type": "code",
   "execution_count": 17,
   "metadata": {
    "scrolled": true
   },
   "outputs": [
    {
     "data": {
      "text/plain": [
       "array([1, 2, 1, 4, 5, 2, 0, 4, 2, 5, 0, 1, 2, 3, 1, 3, 6, 4, 7, 4, 1, 1,\n",
       "       2, 1, 3, 6, 0, 4, 6, 2, 4, 3, 6, 6, 5, 7, 4, 0, 5, 4, 5, 5, 2, 0,\n",
       "       4, 2, 1, 5, 1, 6, 1, 7, 1, 0, 1, 6, 6, 7, 4, 4, 2, 3, 0, 5, 1, 1,\n",
       "       4, 5, 2, 6, 4, 1, 7, 6, 6, 1, 5, 6, 6, 4, 1, 3, 6, 5, 4, 5, 6, 4,\n",
       "       0, 4, 7, 0, 3, 3, 5, 5, 7, 4, 1, 3, 5, 4, 4, 1, 7, 7, 6, 2, 4, 2,\n",
       "       2, 1, 7, 4, 0, 7, 7, 4, 0, 1, 6, 4, 7, 7, 2, 2, 2, 4, 1, 3, 1, 6,\n",
       "       0, 6, 6, 1, 6, 0, 4, 6, 0, 3, 0, 5, 7, 0, 4, 3, 2, 3, 4, 0, 5, 6,\n",
       "       4, 3, 0, 6, 1, 7, 3, 1, 7, 2, 1, 7, 0, 3, 5, 5, 1, 0, 5, 2, 6, 2,\n",
       "       5, 4, 2, 5, 5, 2, 5, 4, 3, 3, 6, 4, 0, 1, 0, 4, 7, 2, 5, 0, 7, 4,\n",
       "       1, 0, 0, 5, 0, 3, 6, 4, 1, 7, 1, 1, 1, 4, 6, 5, 5, 4, 1, 6, 1, 2,\n",
       "       1, 5, 5, 4, 4, 7, 2, 0, 2, 0, 1, 5, 2, 4, 3, 5, 6, 6, 1, 1, 4, 1,\n",
       "       6, 4, 2, 6, 2, 7, 5, 4, 3, 4, 2, 7, 6, 4, 2, 1, 5, 7, 3, 3, 5, 6,\n",
       "       1, 6, 6, 1, 7, 3, 5, 2, 6, 5, 1, 1, 6, 1, 1, 5, 1, 4, 4, 1, 5, 3,\n",
       "       6, 2, 6, 4, 3, 6, 1, 4, 1, 3, 6, 0, 2, 6, 0, 4, 0, 2, 5, 1, 1, 1,\n",
       "       1, 1, 0, 6, 5, 5, 4, 0, 0, 0, 1, 6, 4, 6, 6, 1, 2, 7, 2, 3, 0, 2,\n",
       "       1, 4, 0, 1, 6, 0, 1, 5, 5, 1, 1, 0, 6, 7, 0, 2, 7, 1, 6, 1, 3, 6,\n",
       "       6, 5, 4, 5, 4, 5, 6, 1, 5, 1, 4, 5, 1, 1, 6, 4, 5, 2, 6, 7, 5, 5,\n",
       "       5, 5, 1, 6, 1, 6, 7, 3, 4, 4, 2, 0, 4, 6, 1, 1, 6, 2, 2, 4, 6, 1,\n",
       "       3, 6, 5, 2, 5, 5, 5, 3, 3, 7, 4, 6, 2, 5, 4, 3, 5, 0, 4, 4, 1, 6,\n",
       "       6, 6, 4, 6, 5, 4, 4, 6, 5, 5, 7, 2, 4, 5, 4, 4, 5, 7, 0, 1, 4, 4,\n",
       "       6, 6, 1, 4, 1, 5, 6, 3, 4, 7, 5, 3, 4, 2, 3, 5, 4, 2, 5, 1, 7, 7,\n",
       "       5, 2, 1, 1, 3, 3, 4, 7, 6, 0, 6, 0, 5, 0, 5, 3, 3, 2, 5, 2, 6, 1,\n",
       "       2, 1, 2, 5, 4, 1, 2, 1, 3, 7, 1, 2, 6, 0, 3, 6, 0, 2, 6, 6, 2, 4,\n",
       "       5, 1, 2, 7, 1, 7, 5, 3, 6, 1, 1, 1, 5, 6, 4, 2, 5, 5, 6, 6, 4, 2,\n",
       "       2, 7, 5, 4, 0, 0, 5, 1, 1, 1, 0, 4, 4, 1, 1, 7, 2, 0, 4, 2, 5, 5,\n",
       "       4, 3, 2, 4, 4, 4, 1, 7, 1, 1, 3, 1, 0, 1, 3, 0, 3, 3, 1, 4, 4, 6,\n",
       "       3, 5, 2, 6, 5, 7, 5, 1, 2, 6, 0, 4, 7, 7, 7, 2, 5, 6, 5, 4, 1, 6,\n",
       "       6, 3, 6, 7, 6, 1, 2, 4, 1, 0, 2, 7, 6, 5, 5, 2, 0, 5, 7, 6, 2, 5,\n",
       "       1, 1, 4, 2, 5, 0, 2, 5, 6, 7, 6, 5, 4, 6, 4, 6, 5, 7, 5, 2, 2, 5,\n",
       "       2, 4, 1, 4, 4, 5, 0, 3, 5, 5, 3, 4, 1, 5, 1, 5, 3, 7, 4, 1, 1, 6,\n",
       "       3, 5, 5, 6, 1, 3, 0, 6, 2, 4, 2, 4, 5, 4, 2, 5, 6, 6, 2, 1, 0, 6,\n",
       "       3, 7, 3, 1, 6, 2, 5, 3, 2, 5, 3, 7, 1, 2, 3, 4, 0, 7, 0, 6, 6, 2,\n",
       "       4, 1, 5, 5, 2, 2, 4, 5, 1, 2, 4, 4, 6, 4, 4, 6, 6, 3, 0, 6, 1, 6,\n",
       "       6, 4, 5, 3, 5, 0, 2, 6, 1, 6, 6, 6, 6, 1, 2, 2, 4, 7, 7, 3, 4, 4,\n",
       "       7, 4, 4, 2, 1, 1, 5, 2, 1, 2, 1, 2, 4, 1, 0, 5, 5, 3, 2, 5, 6, 0,\n",
       "       6, 7, 6, 1, 6, 5, 6, 6, 5, 5, 0, 2, 3, 1, 6, 2, 1, 3, 4, 3, 6, 2,\n",
       "       2, 0, 1, 5, 6, 6, 4, 2, 5, 4, 1, 0, 7, 5, 1, 3, 6, 4, 1, 2, 5, 2,\n",
       "       3, 2, 1, 6, 2, 4, 6, 6, 4, 6, 0, 4, 6, 4, 4, 7, 0, 3, 7, 4, 4, 4,\n",
       "       4, 4, 6, 3, 2, 5, 4, 5, 6, 5, 0, 4, 2, 6, 6, 5, 5, 1, 1, 5, 6, 1,\n",
       "       3, 2, 4, 4, 6, 6, 5, 6, 6, 3, 4, 2, 4, 1, 7, 1, 6, 4, 7, 6, 6, 6,\n",
       "       0, 5, 4, 2, 5, 5, 4, 2, 4, 1, 6, 5, 3, 4, 5, 5, 6, 3, 6, 5, 6, 4,\n",
       "       4, 5, 4, 7, 1, 2, 4, 6, 6, 1, 1, 4, 4, 6, 0, 6, 1, 4, 6, 3, 3, 1,\n",
       "       6, 7, 5, 3, 5, 7, 4, 6, 1, 6, 0, 5, 2, 2, 2, 4, 6, 5, 2, 1, 6, 1,\n",
       "       0, 4, 3, 3, 0, 7, 2, 1, 0, 6, 1, 3, 3, 5, 1, 6, 1, 2, 5, 3, 6, 6,\n",
       "       2, 1, 6, 2, 6, 4, 6, 7, 3, 3, 7, 1, 6, 6, 2, 0, 5, 2, 1, 2, 3, 2,\n",
       "       6, 7, 6, 0, 2, 7, 5, 3, 2, 7])"
      ]
     },
     "execution_count": 17,
     "metadata": {},
     "output_type": "execute_result"
    }
   ],
   "source": [
    "from codeE.baseline import LabelAggregation\n",
    "label_A = LabelAggregation(scenario=\"global\")\n",
    "\n",
    "mv_soft = label_A.infer(  r_obs, 'softMV')\n",
    "mv_hard = label_A.predict(r_obs, 'hardMV')\n",
    "mv_hard"
   ]
  },
  {
   "cell_type": "code",
   "execution_count": 18,
   "metadata": {
    "scrolled": true
   },
   "outputs": [
    {
     "data": {
      "text/plain": [
       "array([[0.        , 0.6666667 , 0.        , ..., 0.        , 0.        ,\n",
       "        0.        ],\n",
       "       [0.        , 0.33333334, 0.6666667 , ..., 0.        , 0.        ,\n",
       "        0.        ],\n",
       "       [0.        , 0.33333334, 0.33333334, ..., 0.        , 0.        ,\n",
       "        0.        ],\n",
       "       ...,\n",
       "       [0.        , 0.33333334, 0.        , ..., 0.        , 0.        ,\n",
       "        0.        ],\n",
       "       [0.        , 0.        , 1.        , ..., 0.        , 0.        ,\n",
       "        0.        ],\n",
       "       [0.        , 0.        , 0.        , ..., 0.        , 0.        ,\n",
       "        1.        ]], dtype=float32)"
      ]
     },
     "execution_count": 18,
     "metadata": {},
     "output_type": "execute_result"
    }
   ],
   "source": [
    "from codeE.baseline import LabelAggregation\n",
    "label_A = LabelAggregation(scenario=\"individual\")\n",
    "\n",
    "mv_soft = label_A.infer(  y_obs_categorical, 'softMV')\n",
    "mv_hard = label_A.predict(y_obs_categorical, 'hardMV')\n",
    "mv_soft"
   ]
  },
  {
   "cell_type": "code",
   "execution_count": 19,
   "metadata": {},
   "outputs": [
    {
     "name": "stdout",
     "output_type": "stream",
     "text": [
      "ACC MV on train: 0.769\n"
     ]
    }
   ],
   "source": [
    "print(\"ACC MV on train:\",np.mean(mv_hard==Z_train))"
   ]
  },
  {
   "cell_type": "markdown",
   "metadata": {},
   "source": [
    "### generate confusion matrix to understand MV"
   ]
  },
  {
   "cell_type": "code",
   "execution_count": 20,
   "metadata": {},
   "outputs": [
    {
     "data": {
      "image/png": "[encoded data removed]",
      "text/plain": [
       "<Figure size 432x288 with 2 Axes>"
      ]
     },
     "metadata": {
      "needs_background": "light"
     },
     "output_type": "display_data"
    }
   ],
   "source": [
    "from codeE.utils import generate_confusionM\n",
    "prob_Yz = generate_confusionM(mv_soft, r_obs) #confusion matrix of all annotators\n",
    "\n",
    "from codeE.utils import plot_confusion_matrix\n",
    "plot_confusion_matrix(prob_Yz, np.arange(8), title= \"soft-MV confusion matrix\")"
   ]
  },
  {
   "cell_type": "code",
   "execution_count": 21,
   "metadata": {
    "scrolled": true
   },
   "outputs": [
    {
     "data": {
      "image/png": "[encoded data removed]",
      "text/plain": [
       "<Figure size 432x288 with 2 Axes>"
      ]
     },
     "metadata": {
      "needs_background": "light"
     },
     "output_type": "display_data"
    }
   ],
   "source": [
    "prob_Yz = generate_confusionM(mv_hard, r_obs) #confusion matrix of all annotators\n",
    "plot_confusion_matrix(prob_Yz, np.arange(8), title= \"hard-MV confusion matrix\")"
   ]
  },
  {
   "cell_type": "markdown",
   "metadata": {},
   "source": [
    "### Metrics to compare the estimation of confusion matrix"
   ]
  },
  {
   "cell_type": "code",
   "execution_count": 22,
   "metadata": {},
   "outputs": [
    {
     "data": {
      "image/png": "[encoded data removed]",
      "text/plain": [
       "<Figure size 432x288 with 2 Axes>"
      ]
     },
     "metadata": {
      "needs_background": "light"
     },
     "output_type": "display_data"
    }
   ],
   "source": [
    "from codeE.utils import compare_conf_mats\n",
    "compare_conf_mats(prob_Yz, true_conf_mat=confe_matrix_G, text=True)"
   ]
  },
  {
   "cell_type": "code",
   "execution_count": 23,
   "metadata": {},
   "outputs": [
    {
     "name": "stdout",
     "output_type": "stream",
     "text": [
      "D (based on Jensen Shannon) = 0.057157485481839916\n",
      "D (based on normalized Frobenius) = 0.07360907504598985\n"
     ]
    }
   ],
   "source": [
    "from codeE.evaluation import D_JS, D_KL, D_NormF\n",
    "print(\"D (based on Jensen Shannon) =\",D_JS(confe_matrix_G, prob_Yz))\n",
    "print(\"D (based on normalized Frobenius) =\",D_NormF(confe_matrix_G, prob_Yz))"
   ]
  },
  {
   "cell_type": "markdown",
   "metadata": {},
   "source": [
    "##### Weighted"
   ]
  },
  {
   "cell_type": "code",
   "execution_count": 24,
   "metadata": {},
   "outputs": [
    {
     "data": {
      "text/plain": [
       "array([[0.        , 0.33088234, 0.        , ..., 0.        , 0.        ,\n",
       "        0.        ],\n",
       "       [0.        , 0.33742332, 0.6625767 , ..., 0.        , 0.        ,\n",
       "        0.        ],\n",
       "       [0.        , 0.30601093, 0.19125684, ..., 0.        , 0.        ,\n",
       "        0.        ],\n",
       "       ...,\n",
       "       [0.        , 0.08484849, 0.        , ..., 0.        , 0.        ,\n",
       "        0.        ],\n",
       "       [0.        , 0.        , 1.        , ..., 0.        , 0.        ,\n",
       "        0.        ],\n",
       "       [0.        , 0.        , 0.        , ..., 0.        , 0.        ,\n",
       "        1.        ]], dtype=float32)"
      ]
     },
     "execution_count": 24,
     "metadata": {},
     "output_type": "execute_result"
    }
   ],
   "source": [
    "from codeE.baseline import LabelAggregation\n",
    "label_A = LabelAggregation(scenario=\"individual\")\n",
    "\n",
    "Wmv_soft = label_A.infer(y_obs_categorical, 'softMV', weights=T_weights)\n",
    "Wmv_soft"
   ]
  },
  {
   "cell_type": "code",
   "execution_count": 25,
   "metadata": {},
   "outputs": [
    {
     "name": "stdout",
     "output_type": "stream",
     "text": [
      "ACC MV on train: 0.762\n"
     ]
    }
   ],
   "source": [
    "print(\"ACC MV on train:\",np.mean(Wmv_soft.argmax(axis=-1)==Z_train))"
   ]
  },
  {
   "cell_type": "code",
   "execution_count": null,
   "metadata": {},
   "outputs": [],
   "source": [
    "#DS paralelo"
   ]
  },
  {
   "cell_type": "code",
   "execution_count": null,
   "metadata": {},
   "outputs": [],
   "source": [
    "from codeE.baseline import LabelInference\n",
    "label_I = LabelInference()\n",
    "\n",
    "DS paralelo .. init?"
   ]
  },
  {
   "cell_type": "code",
   "execution_count": 38,
   "metadata": {},
   "outputs": [
    {
     "name": "stdout",
     "output_type": "stream",
     "text": [
      "ACC MV on train: 0.769\n",
      "ACC D&S on train: 0.804\n"
     ]
    }
   ],
   "source": [
    "print(\"ACC D&S on train:\",np.mean(ds_labels.argmax(axis=1)==Z_train))"
   ]
  },
  {
   "cell_type": "code",
   "execution_count": null,
   "metadata": {},
   "outputs": [],
   "source": []
  },
  {
   "cell_type": "markdown",
   "metadata": {},
   "source": [
    "### Second Phase\n",
    "train a predictive model over the inference/aggregation label"
   ]
  },
  {
   "cell_type": "code",
   "execution_count": 36,
   "metadata": {},
   "outputs": [],
   "source": [
    "from codeE.evaluation import accuracy_model"
   ]
  },
  {
   "cell_type": "code",
   "execution_count": 37,
   "metadata": {},
   "outputs": [
    {
     "name": "stdout",
     "output_type": "stream",
     "text": [
      "Trained model over soft-MV, Epochs to converge = 8\n",
      "Train accuracy of model = 0.822\n",
      "Test accuracy of model = 0.8148148148148148\n"
     ]
    }
   ],
   "source": [
    "model_mvsoft = clone_UB.get_model()\n",
    "model_mvsoft.compile(loss='categorical_crossentropy',optimizer=OPT)\n",
    "hist=model_mvsoft.fit(Xstd_train, mv_soft, epochs=EPOCHS_BASE,batch_size=BATCH_SIZE,verbose=0,callbacks=[ourCallback])\n",
    "print(\"Trained model over soft-MV, Epochs to converge =\",len(hist.epoch))\n",
    "\n",
    "#Z_train_pred = model_mvsoft.predict_classes(Xstd_train)\n",
    "#Z_test_pred = model_mvsoft.predict_classes(Xstd_test)\n",
    "\n",
    "print(\"Train accuracy of model =\", accuracy_model(model_mvsoft, Xstd_train, Z_train))\n",
    "print(\"Test accuracy of model =\", accuracy_model(model_mvsoft, Xstd_test, Z_test))"
   ]
  },
  {
   "cell_type": "code",
   "execution_count": 38,
   "metadata": {},
   "outputs": [
    {
     "data": {
      "text/plain": [
       "array([[0., 1., 0., ..., 0., 0., 0.],\n",
       "       [0., 0., 1., ..., 0., 0., 0.],\n",
       "       [0., 1., 0., ..., 0., 0., 0.],\n",
       "       ...,\n",
       "       [0., 0., 0., ..., 0., 0., 0.],\n",
       "       [0., 0., 1., ..., 0., 0., 0.],\n",
       "       [0., 0., 0., ..., 0., 0., 1.]], dtype=float32)"
      ]
     },
     "execution_count": 38,
     "metadata": {},
     "output_type": "execute_result"
    }
   ],
   "source": [
    "mv_hard_onehot = keras.utils.to_categorical(mv_hard, num_classes=Kl)\n",
    "mv_hard_onehot"
   ]
  },
  {
   "cell_type": "code",
   "execution_count": 40,
   "metadata": {},
   "outputs": [
    {
     "name": "stdout",
     "output_type": "stream",
     "text": [
      "Trained model over hard-MV, Epochs to converge = 15\n",
      "Train accuracy of model = 0.792\n",
      "Test accuracy of model = 0.7878787878787878\n"
     ]
    }
   ],
   "source": [
    "model_mvhard = clone_UB.get_model()\n",
    "model_mvhard.compile(loss='categorical_crossentropy',optimizer=OPT)\n",
    "hist=model_mvhard.fit(Xstd_train, mv_hard_onehot, epochs=EPOCHS_BASE,batch_size=BATCH_SIZE,verbose=0,callbacks=[ourCallback])\n",
    "print(\"Trained model over hard-MV, Epochs to converge =\",len(hist.epoch))\n",
    "\n",
    "#Z_train_pred = model_mvhard.predict_classes(Xstd_train)\n",
    "#Z_test_pred = model_mvhard.predict_classes(Xstd_test)\n",
    "print(\"Train accuracy of model =\", accuracy_model(model_mvhard, Xstd_train, Z_train))\n",
    "print(\"Test accuracy of model =\", accuracy_model(model_mvhard, Xstd_test, Z_test))"
   ]
  },
  {
   "cell_type": "code",
   "execution_count": 41,
   "metadata": {
    "scrolled": true
   },
   "outputs": [
    {
     "name": "stdout",
     "output_type": "stream",
     "text": [
      "Trained model over D&S, Epochs to converge = 12\n"
     ]
    }
   ],
   "source": [
    "model_ds = clone_UB.get_model()\n",
    "model_ds.compile(loss='categorical_crossentropy',optimizer=OPT)\n",
    "hist=model_ds.fit(Xstd_train, ds_labels, epochs=EPOCHS_BASE,batch_size=BATCH_SIZE,verbose=0,callbacks=[ourCallback])\n",
    "print(\"Trained model over D&S, Epochs to converge =\",len(hist.epoch))\n",
    "\n",
    "#Z_train_pred = model_ds.predict_classes(Xstd_train)\n",
    "#Z_test_pred = model_ds.predict_classes(Xstd_test)"
   ]
  },
  {
   "cell_type": "markdown",
   "metadata": {},
   "source": [
    "## Raykar Model (joint predict model)"
   ]
  },
  {
   "cell_type": "code",
   "execution_count": 64,
   "metadata": {
    "scrolled": true
   },
   "outputs": [
    {
     "name": "stdout",
     "output_type": "stream",
     "text": [
      "Model: \"sequential_1\"\n",
      "_________________________________________________________________\n",
      "Layer (type)                 Output Shape              Param #   \n",
      "=================================================================\n",
      "dense_1 (Dense)              (None, 128)               65664     \n",
      "_________________________________________________________________\n",
      "dropout_1 (Dropout)          (None, 128)               0         \n",
      "_________________________________________________________________\n",
      "dense_2 (Dense)              (None, 8)                 1032      \n",
      "_________________________________________________________________\n",
      "activation_1 (Activation)    (None, 8)                 0         \n",
      "=================================================================\n",
      "Total params: 66,696\n",
      "Trainable params: 66,696\n",
      "Non-trainable params: 0\n",
      "_________________________________________________________________\n"
     ]
    }
   ],
   "source": [
    "from codeE.baseline import RaykarMC\n",
    "N,K,T = y_obs_categorical.shape\n",
    "raykarMC = RaykarMC(Xstd_train.shape[1:], K=K, T=T, init_Z=\"softmv\",\n",
    "                    epochs=1,batch_size=BATCH_SIZE, optimizer=OPT,DTYPE_OP=DTYPE_OP)\n",
    "\n",
    "raykarMC.define_model('keras_import', clone_UB.get_model())\n",
    "raykarMC.base_model.summary()"
   ]
  },
  {
   "cell_type": "code",
   "execution_count": 65,
   "metadata": {},
   "outputs": [
    {
     "name": "stdout",
     "output_type": "stream",
     "text": [
      "Initializing new EM...\n",
      "Betas shape:  (8, 59, 59)\n",
      "Q estimate shape:  (1000, 8)\n"
     ]
    },
    {
     "data": {
      "text/plain": [
       "array([[0., 1., 0., ..., 0., 0., 0.],\n",
       "       [0., 0., 1., ..., 0., 0., 0.],\n",
       "       [0., 1., 0., ..., 0., 0., 0.],\n",
       "       ...,\n",
       "       [0., 0., 0., ..., 0., 0., 0.],\n",
       "       [0., 0., 1., ..., 0., 0., 0.],\n",
       "       [0., 0., 0., ..., 0., 0., 1.]], dtype=float32)"
      ]
     },
     "execution_count": 65,
     "metadata": {},
     "output_type": "execute_result"
    }
   ],
   "source": [
    "# if you want you can initialize step E forcing some method\n",
    "raykarMC.init_E(y_obs_categorical, method=\"hardmv\")\n",
    "raykarMC.get_qestimation()"
   ]
  },
  {
   "cell_type": "code",
   "execution_count": 70,
   "metadata": {
    "scrolled": true
   },
   "outputs": [
    {
     "name": "stdout",
     "output_type": "stream",
     "text": [
      "Iter 1/50 \n",
      "M step: done,  E step: done //  (in 0.69 sec)\tlogL: -2927.012\t\n",
      "Iter 2/50 \n",
      "M step: done,  E step: done //  (in 0.03 sec)\tlogL: -2568.485\tTol1: 0.12249\tTol2: 0.06464\t\n",
      "Iter 3/50 \n",
      "M step: done,  E step: done //  (in 0.04 sec)\tlogL: -2447.486\tTol1: 0.04711\tTol2: 0.03654\t\n",
      "Iter 4/50 \n",
      "M step: done,  E step: done //  (in 0.03 sec)\tlogL: -2393.011\tTol1: 0.02226\tTol2: 0.01626\t\n",
      "Finished training\n",
      "Initializing new EM...\n",
      "Betas shape:  (8, 59, 59)\n",
      "Q estimate shape:  (1000, 8)\n",
      "Iter 1/50 \n",
      "M step: done,  E step: done //  (in 0.51 sec)\tlogL: -2902.016\t\n",
      "Iter 2/50 \n",
      "M step: done,  E step: done //  (in 0.04 sec)\tlogL: -2546.020\tTol1: 0.12267\tTol2: 0.10204\t\n",
      "Iter 3/50 \n",
      "M step: done,  E step: done //  (in 0.04 sec)\tlogL: -2431.876\tTol1: 0.04483\tTol2: 0.03614\t\n",
      "Iter 4/50 \n",
      "M step: done,  E step: done //  (in 0.04 sec)\tlogL: -2372.067\tTol1: 0.02459\tTol2: 0.02061\t\n",
      "Finished training\n",
      "Initializing new EM...\n",
      "Betas shape:  (8, 59, 59)\n",
      "Q estimate shape:  (1000, 8)\n",
      "Iter 1/50 \n",
      "M step: done,  E step: done //  (in 0.57 sec)\tlogL: -3016.920\t\n",
      "Iter 2/50 \n",
      "M step: done,  E step: done //  (in 0.04 sec)\tlogL: -2574.759\tTol1: 0.14656\tTol2: 0.11200\t\n",
      "Iter 3/50 \n",
      "M step: done,  E step: done //  (in 0.04 sec)\tlogL: -2444.672\tTol1: 0.05052\tTol2: 0.03778\t\n",
      "Iter 4/50 \n",
      "M step: done,  E step: done //  (in 0.04 sec)\tlogL: -2375.870\tTol1: 0.02814\tTol2: 0.03561\t\n",
      "Iter 5/50 \n",
      "M step: done,  E step: done //  (in 0.04 sec)\tlogL: -2337.386\tTol1: 0.01620\tTol2: 0.01646\t\n",
      "Finished training\n",
      "Initializing new EM...\n",
      "Betas shape:  (8, 59, 59)\n",
      "Q estimate shape:  (1000, 8)\n",
      "Iter 1/50 \n",
      "M step: done,  E step: done //  (in 0.56 sec)\tlogL: -3112.395\t\n",
      "Iter 2/50 \n",
      "M step: done,  E step: done //  (in 0.04 sec)\tlogL: -2711.813\tTol1: 0.12871\tTol2: 0.11394\t\n",
      "Iter 3/50 \n",
      "M step: done,  E step: done //  (in 0.03 sec)\tlogL: -2565.968\tTol1: 0.05378\tTol2: 0.04654\t\n",
      "Iter 4/50 \n",
      "M step: done,  E step: done //  (in 0.04 sec)\tlogL: -2479.433\tTol1: 0.03372\tTol2: 0.03063\t\n",
      "Iter 5/50 \n",
      "M step: done,  E step: done //  (in 0.03 sec)\tlogL: -2421.907\tTol1: 0.02320\tTol2: 0.02205\t\n",
      "Finished training\n",
      "Initializing new EM...\n",
      "Betas shape:  (8, 59, 59)\n",
      "Q estimate shape:  (1000, 8)\n",
      "Iter 1/50 \n",
      "M step: done,  E step: done //  (in 0.55 sec)\tlogL: -2956.826\t\n",
      "Iter 2/50 \n",
      "M step: done,  E step: done //  (in 0.03 sec)\tlogL: -2598.021\tTol1: 0.12135\tTol2: 0.09128\t\n",
      "Iter 3/50 \n",
      "M step: done,  E step: done //  (in 0.04 sec)\tlogL: -2474.233\tTol1: 0.04765\tTol2: 0.04815\t\n",
      "Iter 4/50 \n",
      "M step: done,  E step: done //  (in 0.04 sec)\tlogL: -2402.325\tTol1: 0.02906\tTol2: 0.01932\t\n",
      "Finished training\n",
      "Initializing new EM...\n",
      "Betas shape:  (8, 59, 59)\n",
      "Q estimate shape:  (1000, 8)\n",
      "Iter 1/50 \n",
      "M step: done,  E step: done //  (in 0.55 sec)\tlogL: -2973.194\t\n",
      "Iter 2/50 \n",
      "M step: done,  E step: done //  (in 0.03 sec)\tlogL: -2578.558\tTol1: 0.13273\tTol2: 0.08999\t\n",
      "Iter 3/50 \n",
      "M step: done,  E step: done //  (in 0.04 sec)\tlogL: -2436.941\tTol1: 0.05492\tTol2: 0.04028\t\n",
      "Iter 4/50 \n",
      "M step: done,  E step: done //  (in 0.04 sec)\tlogL: -2372.947\tTol1: 0.02626\tTol2: 0.02278\t\n",
      "Finished training\n",
      "Initializing new EM...\n",
      "Betas shape:  (8, 59, 59)\n",
      "Q estimate shape:  (1000, 8)\n",
      "Iter 1/50 \n",
      "M step: done,  E step: done //  (in 0.53 sec)\tlogL: -3123.939\t\n",
      "Iter 2/50 \n",
      "M step: done,  E step: done //  (in 0.03 sec)\tlogL: -2688.167\tTol1: 0.13949\tTol2: 0.08798\t\n",
      "Iter 3/50 \n",
      "M step: done,  E step: done //  (in 0.03 sec)\tlogL: -2523.350\tTol1: 0.06131\tTol2: 0.04363\t\n",
      "Iter 4/50 \n",
      "M step: done,  E step: done //  (in 0.03 sec)\tlogL: -2428.040\tTol1: 0.03777\tTol2: 0.02503\t\n",
      "Iter 5/50 \n",
      "M step: done,  E step: done //  (in 0.03 sec)\tlogL: -2369.265\tTol1: 0.02421\tTol2: 0.01937\t\n",
      "Finished training\n",
      "Initializing new EM...\n",
      "Betas shape:  (8, 59, 59)\n",
      "Q estimate shape:  (1000, 8)\n",
      "Iter 1/50 \n",
      "M step: done,  E step: done //  (in 0.50 sec)\tlogL: -2906.273\t\n",
      "Iter 2/50 \n",
      "M step: done,  E step: done //  (in 0.04 sec)\tlogL: -2544.188\tTol1: 0.12459\tTol2: 0.08956\t\n",
      "Iter 3/50 \n",
      "M step: done,  E step: done //  (in 0.04 sec)\tlogL: -2440.372\tTol1: 0.04081\tTol2: 0.03471\t\n",
      "Iter 4/50 \n",
      "M step: done,  E step: done //  (in 0.03 sec)\tlogL: -2385.792\tTol1: 0.02237\tTol2: 0.02187\t\n",
      "Finished training\n",
      "Initializing new EM...\n",
      "Betas shape:  (8, 59, 59)\n",
      "Q estimate shape:  (1000, 8)\n",
      "Iter 1/50 \n",
      "M step: done,  E step: done //  (in 0.50 sec)\tlogL: -3086.848\t\n",
      "Iter 2/50 \n",
      "M step: done,  E step: done //  (in 0.04 sec)\tlogL: -2674.488\tTol1: 0.13359\tTol2: 0.08668\t\n",
      "Iter 3/50 \n",
      "M step: done,  E step: done //  (in 0.04 sec)\tlogL: -2505.700\tTol1: 0.06311\tTol2: 0.05494\t\n",
      "Iter 4/50 \n",
      "M step: done,  E step: done //  (in 0.03 sec)\tlogL: -2426.704\tTol1: 0.03153\tTol2: 0.02467\t\n",
      "Iter 5/50 \n",
      "M step: done,  E step: done //  (in 0.03 sec)\tlogL: -2380.910\tTol1: 0.01887\tTol2: 0.01871\t\n",
      "Finished training\n",
      "Initializing new EM...\n",
      "Betas shape:  (8, 59, 59)\n",
      "Q estimate shape:  (1000, 8)\n",
      "Iter 1/50 \n",
      "M step: done,  E step: done //  (in 0.49 sec)\tlogL: -2969.681\t\n",
      "Iter 2/50 \n",
      "M step: done,  E step: done //  (in 0.03 sec)\tlogL: -2644.876\tTol1: 0.10937\tTol2: 0.09411\t\n",
      "Iter 3/50 \n",
      "M step: done,  E step: done //  (in 0.05 sec)\tlogL: -2499.577\tTol1: 0.05494\tTol2: 0.03833\t\n",
      "Iter 4/50 \n",
      "M step: done,  E step: done //  (in 0.03 sec)\tlogL: -2429.193\tTol1: 0.02816\tTol2: 0.02794\t\n",
      "Finished training\n",
      "Initializing new EM...\n",
      "Betas shape:  (8, 59, 59)\n",
      "Q estimate shape:  (1000, 8)\n",
      "Iter 1/50 \n",
      "M step: done,  E step: done //  (in 0.47 sec)\tlogL: -3004.267\t\n",
      "Iter 2/50 \n",
      "M step: done,  E step: done //  (in 0.03 sec)\tlogL: -2616.105\tTol1: 0.12920\tTol2: 0.08752\t\n",
      "Iter 3/50 \n",
      "M step: done,  E step: done //  (in 0.03 sec)\tlogL: -2469.490\tTol1: 0.05604\tTol2: 0.03408\t\n",
      "Iter 4/50 \n",
      "M step: done,  E step: done //  (in 0.04 sec)\tlogL: -2399.288\tTol1: 0.02843\tTol2: 0.02202\t\n",
      "Finished training\n",
      "Initializing new EM...\n",
      "Betas shape:  (8, 59, 59)\n",
      "Q estimate shape:  (1000, 8)\n",
      "Iter 1/50 \n",
      "M step: done,  E step: done //  (in 0.51 sec)\tlogL: -3085.827\t\n",
      "Iter 2/50 \n",
      "M step: done,  E step: done //  (in 0.03 sec)\tlogL: -2705.898\tTol1: 0.12312\tTol2: 0.09482\t\n",
      "Iter 3/50 \n",
      "M step: done,  E step: done //  (in 0.03 sec)\tlogL: -2563.598\tTol1: 0.05259\tTol2: 0.04572\t\n",
      "Iter 4/50 \n",
      "M step: done,  E step: done //  (in 0.03 sec)\tlogL: -2484.191\tTol1: 0.03097\tTol2: 0.03343\t\n",
      "Iter 5/50 \n",
      "M step: done,  E step: done //  (in 0.03 sec)\tlogL: -2429.426\tTol1: 0.02205\tTol2: 0.01851\t\n",
      "Finished training\n",
      "Initializing new EM...\n",
      "Betas shape:  (8, 59, 59)\n",
      "Q estimate shape:  (1000, 8)\n",
      "Iter 1/50 \n",
      "M step: done,  E step: done //  (in 0.51 sec)\tlogL: -3033.609\t\n",
      "Iter 2/50 \n",
      "M step: done,  E step: done //  (in 0.03 sec)\tlogL: -2637.500\tTol1: 0.13057\tTol2: 0.08354\t\n",
      "Iter 3/50 \n",
      "M step: done,  E step: done //  (in 0.04 sec)\tlogL: -2508.581\tTol1: 0.04888\tTol2: 0.03734\t\n",
      "Iter 4/50 \n",
      "M step: done,  E step: done //  (in 0.03 sec)\tlogL: -2444.226\tTol1: 0.02565\tTol2: 0.02468\t\n",
      "Finished training\n",
      "Initializing new EM...\n",
      "Betas shape:  (8, 59, 59)\n",
      "Q estimate shape:  (1000, 8)\n",
      "Iter 1/50 \n",
      "M step: done,  E step: done //  (in 0.52 sec)\tlogL: -2993.687\t\n",
      "Iter 2/50 \n",
      "M step: done,  E step: done //  (in 0.03 sec)\tlogL: -2625.305\tTol1: 0.12305\tTol2: 0.09203\t\n",
      "Iter 3/50 \n",
      "M step: done,  E step: done //  (in 0.03 sec)\tlogL: -2473.583\tTol1: 0.05779\tTol2: 0.03400\t\n",
      "Iter 4/50 \n",
      "M step: done,  E step: done //  (in 0.04 sec)\tlogL: -2405.237\tTol1: 0.02763\tTol2: 0.02116\t\n",
      "Finished training\n",
      "Initializing new EM...\n",
      "Betas shape:  (8, 59, 59)\n",
      "Q estimate shape:  (1000, 8)\n",
      "Iter 1/50 \n",
      "M step: done,  E step: done //  (in 0.49 sec)\tlogL: -2983.554\t\n",
      "Iter 2/50 \n",
      "M step: done,  E step: done //  (in 0.04 sec)\tlogL: -2611.974\tTol1: 0.12454\tTol2: 0.09813\t\n",
      "Iter 3/50 \n",
      "M step: done,  E step: done //  (in 0.03 sec)\tlogL: -2447.334\tTol1: 0.06303\tTol2: 0.05134\t\n",
      "Iter 4/50 \n",
      "M step: done,  E step: done //  (in 0.03 sec)\tlogL: -2370.297\tTol1: 0.03148\tTol2: 0.02851\t\n",
      "Iter 5/50 \n",
      "M step: done,  E step: done //  (in 0.03 sec)\tlogL: -2330.441\tTol1: 0.01681\tTol2: 0.01621\t\n",
      "Finished training\n",
      "Initializing new EM...\n",
      "Betas shape:  (8, 59, 59)\n",
      "Q estimate shape:  (1000, 8)\n",
      "Iter 1/50 \n",
      "M step: done,  E step: done //  (in 0.49 sec)\tlogL: -2929.625\t\n",
      "Iter 2/50 \n",
      "M step: done,  E step: done //  (in 0.03 sec)\tlogL: -2558.335\tTol1: 0.12674\tTol2: 0.08357\t\n",
      "Iter 3/50 \n",
      "M step: done,  E step: done //  (in 0.03 sec)\tlogL: -2441.130\tTol1: 0.04581\tTol2: 0.03314\t\n",
      "Iter 4/50 \n",
      "M step: done,  E step: done //  (in 0.04 sec)\tlogL: -2389.617\tTol1: 0.02110\tTol2: 0.01762\t\n",
      "Finished training\n",
      "Initializing new EM...\n",
      "Betas shape:  (8, 59, 59)\n",
      "Q estimate shape:  (1000, 8)\n",
      "Iter 1/50 \n"
     ]
    },
    {
     "name": "stdout",
     "output_type": "stream",
     "text": [
      "M step: done,  E step: done //  (in 0.48 sec)\tlogL: -3013.940\t\n",
      "Iter 2/50 \n",
      "M step: done,  E step: done //  (in 0.04 sec)\tlogL: -2670.188\tTol1: 0.11405\tTol2: 0.10552\t\n",
      "Iter 3/50 \n",
      "M step: done,  E step: done //  (in 0.04 sec)\tlogL: -2517.361\tTol1: 0.05723\tTol2: 0.03864\t\n",
      "Iter 4/50 \n",
      "M step: done,  E step: done //  (in 0.04 sec)\tlogL: -2439.370\tTol1: 0.03098\tTol2: 0.02416\t\n",
      "Iter 5/50 \n",
      "M step: done,  E step: done //  (in 0.03 sec)\tlogL: -2396.999\tTol1: 0.01737\tTol2: 0.01634\t\n",
      "Finished training\n",
      "Initializing new EM...\n",
      "Betas shape:  (8, 59, 59)\n",
      "Q estimate shape:  (1000, 8)\n",
      "Iter 1/50 \n",
      "M step: done,  E step: done //  (in 0.49 sec)\tlogL: -2987.934\t\n",
      "Iter 2/50 \n",
      "M step: done,  E step: done //  (in 0.03 sec)\tlogL: -2655.784\tTol1: 0.11116\tTol2: 0.10854\t\n",
      "Iter 3/50 \n",
      "M step: done,  E step: done //  (in 0.03 sec)\tlogL: -2510.992\tTol1: 0.05452\tTol2: 0.04189\t\n",
      "Iter 4/50 \n",
      "M step: done,  E step: done //  (in 0.04 sec)\tlogL: -2444.876\tTol1: 0.02633\tTol2: 0.02089\t\n",
      "Finished training\n",
      "Initializing new EM...\n",
      "Betas shape:  (8, 59, 59)\n",
      "Q estimate shape:  (1000, 8)\n",
      "Iter 1/50 \n",
      "M step: done,  E step: done //  (in 0.50 sec)\tlogL: -2938.385\t\n",
      "Iter 2/50 \n",
      "M step: done,  E step: done //  (in 0.03 sec)\tlogL: -2538.153\tTol1: 0.13621\tTol2: 0.08848\t\n",
      "Iter 3/50 \n",
      "M step: done,  E step: done //  (in 0.03 sec)\tlogL: -2403.270\tTol1: 0.05314\tTol2: 0.04596\t\n",
      "Iter 4/50 \n",
      "M step: done,  E step: done //  (in 0.03 sec)\tlogL: -2346.026\tTol1: 0.02382\tTol2: 0.02567\t\n",
      "Finished training\n",
      "Initializing new EM...\n",
      "Betas shape:  (8, 59, 59)\n",
      "Q estimate shape:  (1000, 8)\n",
      "Iter 1/50 \n",
      "M step: done,  E step: done //  (in 0.50 sec)\tlogL: -3064.950\t\n",
      "Iter 2/50 \n",
      "M step: done,  E step: done //  (in 0.03 sec)\tlogL: -2664.240\tTol1: 0.13074\tTol2: 0.08512\t\n",
      "Iter 3/50 \n",
      "M step: done,  E step: done //  (in 0.03 sec)\tlogL: -2503.596\tTol1: 0.06030\tTol2: 0.04070\t\n",
      "Iter 4/50 \n",
      "M step: done,  E step: done //  (in 0.03 sec)\tlogL: -2410.817\tTol1: 0.03706\tTol2: 0.02871\t\n",
      "Iter 5/50 \n",
      "M step: done,  E step: done //  (in 0.04 sec)\tlogL: -2353.732\tTol1: 0.02368\tTol2: 0.01797\t\n",
      "Finished training\n",
      "20  runs over Raykar, Epochs to converge=  4.4\n"
     ]
    },
    {
     "data": {
      "text/plain": [
       "([[-2927.0117, -2568.4849, -2447.4863, -2393.0115],\n",
       "  [-2902.0156, -2546.0195, -2431.8765, -2372.0674],\n",
       "  [-3016.9204, -2574.7585, -2444.6716, -2375.87, -2337.3857],\n",
       "  [-3112.3953, -2711.8135, -2565.9678, -2479.4326, -2421.9072],\n",
       "  [-2956.8262, -2598.021, -2474.233, -2402.3252],\n",
       "  [-2973.1938, -2578.558, -2436.9414, -2372.9473],\n",
       "  [-3123.9395, -2688.1665, -2523.35, -2428.0396, -2369.2651],\n",
       "  [-2906.273, -2544.1885, -2440.3716, -2385.7915],\n",
       "  [-3086.8477, -2674.4883, -2505.7002, -2426.704, -2380.9104],\n",
       "  [-2969.6807, -2644.8765, -2499.5767, -2429.1929],\n",
       "  [-3004.267, -2616.1052, -2469.4902, -2399.2876],\n",
       "  [-3085.8271, -2705.898, -2563.5977, -2484.191, -2429.4263],\n",
       "  [-3033.6091, -2637.5002, -2508.581, -2444.226],\n",
       "  [-2993.6868, -2625.305, -2473.5835, -2405.2368],\n",
       "  [-2983.5542, -2611.9739, -2447.334, -2370.2974, -2330.4414],\n",
       "  [-2929.625, -2558.3354, -2441.1301, -2389.6167],\n",
       "  [-3013.94, -2670.1885, -2517.3608, -2439.3696, -2396.9985],\n",
       "  [-2987.934, -2655.7842, -2510.992, -2444.8765],\n",
       "  [-2938.3848, -2538.1533, -2403.2695, -2346.0256],\n",
       "  [-3064.9497, -2664.2402, -2503.5957, -2410.817, -2353.7322]],\n",
       " 14)"
      ]
     },
     "execution_count": 70,
     "metadata": {},
     "output_type": "execute_result"
    }
   ],
   "source": [
    "#logL_hists,i_r = raykarMC.multiples_run(20, Xstd_train,y_obs_categorical,\n",
    "#                                        max_iter=EPOCHS_BASE, tolerance=TOL)\n",
    "\n",
    "raykarMC.fit(Xstd_train, y_obs_categorical, runs=20, max_iter=EPOCHS_BASE, tolerance=TOL)"
   ]
  },
  {
   "cell_type": "code",
   "execution_count": 59,
   "metadata": {},
   "outputs": [
    {
     "data": {
      "image/png": "[encoded data removed]",
      "text/plain": [
       "<Figure size 1080x504 with 1 Axes>"
      ]
     },
     "metadata": {
      "needs_background": "light"
     },
     "output_type": "display_data"
    }
   ],
   "source": [
    "plt.figure(figsize=(15,7))\n",
    "for a, value in enumerate(logL_hists): #logL_hists\n",
    "    if a != i_r:\n",
    "        plt.plot(range(len(value)),value,'.-')\n",
    "plt.plot(range(len(logL_hists[i_r])),logL_hists[i_r],'o-',markersize=10,label=\"Selected run\")\n",
    "plt.legend()\n",
    "plt.show()"
   ]
  },
  {
   "cell_type": "code",
   "execution_count": 69,
   "metadata": {},
   "outputs": [
    {
     "name": "stdout",
     "output_type": "stream",
     "text": [
      "Train accuracy of model = 0.82\n",
      "Test accuracy of model = 0.8164983164983165\n"
     ]
    }
   ],
   "source": [
    "raykar_fx = raykarMC.get_basemodel()\n",
    "\n",
    "from codeE.evaluation import accuracy_model\n",
    "print(\"Train accuracy of model =\", accuracy_model(raykar_fx, Xstd_train, Z_train))\n",
    "print(\"Test accuracy of model =\", accuracy_model(raykar_fx, Xstd_test, Z_test))"
   ]
  },
  {
   "cell_type": "markdown",
   "metadata": {},
   "source": [
    "## Our Proposed - CMM"
   ]
  },
  {
   "cell_type": "code",
   "execution_count": 15,
   "metadata": {},
   "outputs": [],
   "source": [
    "M_seted = 3"
   ]
  },
  {
   "cell_type": "code",
   "execution_count": 16,
   "metadata": {
    "scrolled": true
   },
   "outputs": [
    {
     "name": "stdout",
     "output_type": "stream",
     "text": [
      "Model: \"predictive_model\"\n",
      "_________________________________________________________________\n",
      "Layer (type)                 Output Shape              Param #   \n",
      "=================================================================\n",
      "dense_1 (Dense)              (None, 128)               65664     \n",
      "_________________________________________________________________\n",
      "dropout_1 (Dropout)          (None, 128)               0         \n",
      "_________________________________________________________________\n",
      "dense_2 (Dense)              (None, 8)                 1032      \n",
      "_________________________________________________________________\n",
      "activation_1 (Activation)    (None, 8)                 0         \n",
      "=================================================================\n",
      "Total params: 66,696\n",
      "Trainable params: 66,696\n",
      "Non-trainable params: 0\n",
      "_________________________________________________________________\n"
     ]
    }
   ],
   "source": [
    "from codeE.MixtureofGroups import CMM\n",
    "N,K = r_obs.shape\n",
    "gMixture_Global = CMM(Xstd_train.shape[1:],K=K,M=M_seted, init_Z='softmv',\n",
    "                      epochs=1,optimizer=OPT,dtype_op=DTYPE_OP) \n",
    "\n",
    "#gMixture_Global.define_model(\"mlp\",start_units=128,deep=1,BatchN=False,drop=0.5)\n",
    "gMixture_Global.define_model(\"keras_import\", clone_UB.get_model())    \n",
    "gMixture_Global.get_basemodel().summary()"
   ]
  },
  {
   "cell_type": "code",
   "execution_count": 30,
   "metadata": {},
   "outputs": [
    {
     "name": "stdout",
     "output_type": "stream",
     "text": [
      "Initializing new EM...\n",
      "Doing clustering...Done!\n",
      "Get init alphas in 0.005732 mins\n",
      "Alphas:  (3,)\n",
      "Betas:  (3, 8, 8)\n",
      "Q estimate:  (1000, 8, 3, 8)\n"
     ]
    }
   ],
   "source": [
    "gMixture_Global.init_E(Xstd_train,r_obs, method='softmv')"
   ]
  },
  {
   "cell_type": "code",
   "execution_count": 33,
   "metadata": {
    "scrolled": true
   },
   "outputs": [
    {
     "name": "stdout",
     "output_type": "stream",
     "text": [
      "Initializing new EM...\n",
      "Doing clustering...Done!\n",
      "Get init alphas in 0.006301 mins\n",
      "Alphas:  (3,)\n",
      "Betas:  (3, 8, 8)\n",
      "Q estimate:  (1000, 8, 3, 8)\n",
      "Iter 1/50\n",
      "M step: done,  E step: done //  (in 0.77 sec)\tlogL: -1967.816\t\n",
      "Iter 2/50\n",
      "M step: done,  E step: done //  (in 0.11 sec)\tlogL: -1733.139\tTol1: 0.11926\tTol2: 0.24525\tTol3: 0.26373\t\n",
      "Iter 3/50\n",
      "M step: done,  E step: done //  (in 0.11 sec)\tlogL: -1655.695\tTol1: 0.04468\tTol2: 0.09767\tTol3: 0.25450\t\n",
      "Iter 4/50\n",
      "M step: done,  E step: done //  (in 0.10 sec)\tlogL: -1581.100\tTol1: 0.04505\tTol2: 0.06204\tTol3: 0.24269\t\n",
      "Iter 5/50\n",
      "M step: done,  E step: done //  (in 0.11 sec)\tlogL: -1524.705\tTol1: 0.03567\tTol2: 0.04121\tTol3: 0.21040\t\n",
      "Iter 6/50\n",
      "M step: done,  E step: done //  (in 0.10 sec)\tlogL: -1494.199\tTol1: 0.02001\tTol2: 0.02847\tTol3: 0.18577\t\n",
      "Finished training!\n",
      "Initializing new EM...\n",
      "Doing clustering...Done!\n",
      "Get init alphas in 0.005701 mins\n",
      "Alphas:  (3,)\n",
      "Betas:  (3, 8, 8)\n",
      "Q estimate:  (1000, 8, 3, 8)\n",
      "Iter 1/50\n",
      "M step: done,  E step: done //  (in 0.62 sec)\tlogL: -2007.803\t\n",
      "Iter 2/50\n",
      "M step: done,  E step: done //  (in 0.10 sec)\tlogL: -1790.664\tTol1: 0.10815\tTol2: 0.24603\tTol3: 0.27182\t\n",
      "Iter 3/50\n",
      "M step: done,  E step: done //  (in 0.10 sec)\tlogL: -1666.754\tTol1: 0.06920\tTol2: 0.10228\tTol3: 0.27703\t\n",
      "Iter 4/50\n",
      "M step: done,  E step: done //  (in 0.10 sec)\tlogL: -1608.071\tTol1: 0.03521\tTol2: 0.05857\tTol3: 0.25486\t\n",
      "Iter 5/50\n",
      "M step: done,  E step: done //  (in 0.10 sec)\tlogL: -1554.621\tTol1: 0.03324\tTol2: 0.03875\tTol3: 0.21354\t\n",
      "Iter 6/50\n",
      "M step: done,  E step: done //  (in 0.09 sec)\tlogL: -1491.535\tTol1: 0.04058\tTol2: 0.03282\tTol3: 0.17456\t\n",
      "Iter 7/50\n",
      "M step: done,  E step: done //  (in 0.10 sec)\tlogL: -1466.066\tTol1: 0.01708\tTol2: 0.01795\tTol3: 0.13094\t\n",
      "Finished training!\n",
      "Initializing new EM...\n",
      "Doing clustering...Done!\n",
      "Get init alphas in 0.005970 mins\n",
      "Alphas:  (3,)\n",
      "Betas:  (3, 8, 8)\n",
      "Q estimate:  (1000, 8, 3, 8)\n",
      "Iter 1/50\n",
      "M step: done,  E step: done //  (in 0.56 sec)\tlogL: -2071.021\t\n",
      "Iter 2/50\n",
      "M step: done,  E step: done //  (in 0.11 sec)\tlogL: -1772.380\tTol1: 0.14420\tTol2: 0.24785\tTol3: 0.21904\t\n",
      "Iter 3/50\n",
      "M step: done,  E step: done //  (in 0.13 sec)\tlogL: -1641.236\tTol1: 0.07399\tTol2: 0.10691\tTol3: 0.26576\t\n",
      "Iter 4/50\n",
      "M step: done,  E step: done //  (in 0.13 sec)\tlogL: -1558.713\tTol1: 0.05028\tTol2: 0.06191\tTol3: 0.24881\t\n",
      "Iter 5/50\n",
      "M step: done,  E step: done //  (in 0.10 sec)\tlogL: -1505.790\tTol1: 0.03395\tTol2: 0.03957\tTol3: 0.23250\t\n",
      "Iter 6/50\n",
      "M step: done,  E step: done //  (in 0.10 sec)\tlogL: -1471.396\tTol1: 0.02284\tTol2: 0.02981\tTol3: 0.18126\t\n",
      "Finished training!\n",
      "Initializing new EM...\n",
      "Doing clustering...Done!\n",
      "Get init alphas in 0.005862 mins\n",
      "Alphas:  (3,)\n",
      "Betas:  (3, 8, 8)\n",
      "Q estimate:  (1000, 8, 3, 8)\n",
      "Iter 1/50\n",
      "M step: done,  E step: done //  (in 0.59 sec)\tlogL: -1983.019\t\n",
      "Iter 2/50\n",
      "M step: done,  E step: done //  (in 0.09 sec)\tlogL: -1762.868\tTol1: 0.11102\tTol2: 0.24306\tTol3: 0.25946\t\n",
      "Iter 3/50\n",
      "M step: done,  E step: done //  (in 0.10 sec)\tlogL: -1668.465\tTol1: 0.05355\tTol2: 0.09076\tTol3: 0.25068\t\n",
      "Iter 4/50\n",
      "M step: done,  E step: done //  (in 0.10 sec)\tlogL: -1586.616\tTol1: 0.04906\tTol2: 0.05845\tTol3: 0.25312\t\n",
      "Iter 5/50\n",
      "M step: done,  E step: done //  (in 0.12 sec)\tlogL: -1536.272\tTol1: 0.03173\tTol2: 0.04275\tTol3: 0.22894\t\n",
      "Iter 6/50\n",
      "M step: done,  E step: done //  (in 0.11 sec)\tlogL: -1484.132\tTol1: 0.03394\tTol2: 0.04075\tTol3: 0.17885\t\n",
      "Iter 7/50\n",
      "M step: done,  E step: done //  (in 0.11 sec)\tlogL: -1447.514\tTol1: 0.02467\tTol2: 0.02582\tTol3: 0.12741\t\n",
      "Finished training!\n",
      "Initializing new EM...\n",
      "Doing clustering...Done!\n",
      "Get init alphas in 0.005843 mins\n",
      "Alphas:  (3,)\n",
      "Betas:  (3, 8, 8)\n",
      "Q estimate:  (1000, 8, 3, 8)\n",
      "Iter 1/50\n",
      "M step: done,  E step: done //  (in 0.58 sec)\tlogL: -2042.106\t\n",
      "Iter 2/50\n",
      "M step: done,  E step: done //  (in 0.11 sec)\tlogL: -1804.722\tTol1: 0.11624\tTol2: 0.22627\tTol3: 0.25928\t\n",
      "Iter 3/50\n",
      "M step: done,  E step: done //  (in 0.11 sec)\tlogL: -1669.885\tTol1: 0.07471\tTol2: 0.09711\tTol3: 0.26369\t\n",
      "Iter 4/50\n",
      "M step: done,  E step: done //  (in 0.10 sec)\tlogL: -1584.202\tTol1: 0.05131\tTol2: 0.06603\tTol3: 0.24663\t\n",
      "Iter 5/50\n",
      "M step: done,  E step: done //  (in 0.10 sec)\tlogL: -1521.855\tTol1: 0.03936\tTol2: 0.04536\tTol3: 0.20757\t\n",
      "Iter 6/50\n",
      "M step: done,  E step: done //  (in 0.09 sec)\tlogL: -1482.569\tTol1: 0.02581\tTol2: 0.03436\tTol3: 0.18065\t\n",
      "Iter 7/50\n",
      "M step: done,  E step: done //  (in 0.11 sec)\tlogL: -1466.619\tTol1: 0.01076\tTol2: 0.02494\tTol3: 0.14605\t\n",
      "Finished training!\n",
      "Initializing new EM...\n",
      "Doing clustering...Done!\n",
      "Get init alphas in 0.006002 mins\n",
      "Alphas:  (3,)\n",
      "Betas:  (3, 8, 8)\n",
      "Q estimate:  (1000, 8, 3, 8)\n",
      "Iter 1/50\n",
      "M step: done,  E step: done //  (in 0.55 sec)\tlogL: -1989.724\t\n",
      "Iter 2/50\n",
      "M step: done,  E step: done //  (in 0.11 sec)\tlogL: -1788.197\tTol1: 0.10128\tTol2: 0.23714\tTol3: 0.24363\t\n",
      "Iter 3/50\n",
      "M step: done,  E step: done //  (in 0.10 sec)\tlogL: -1684.113\tTol1: 0.05821\tTol2: 0.09342\tTol3: 0.25695\t\n",
      "Iter 4/50\n",
      "M step: done,  E step: done //  (in 0.10 sec)\tlogL: -1612.571\tTol1: 0.04248\tTol2: 0.05292\tTol3: 0.23966\t\n",
      "Iter 5/50\n",
      "M step: done,  E step: done //  (in 0.10 sec)\tlogL: -1550.362\tTol1: 0.03858\tTol2: 0.03504\tTol3: 0.21371\t\n",
      "Iter 6/50\n",
      "M step: done,  E step: done //  (in 0.09 sec)\tlogL: -1513.283\tTol1: 0.02392\tTol2: 0.02510\tTol3: 0.18164\t\n",
      "Finished training!\n",
      "Initializing new EM...\n",
      "Doing clustering...Done!\n",
      "Get init alphas in 0.005800 mins\n",
      "Alphas:  (3,)\n",
      "Betas:  (3, 8, 8)\n",
      "Q estimate:  (1000, 8, 3, 8)\n",
      "Iter 1/50\n",
      "M step: done,  E step: done //  (in 0.59 sec)\tlogL: -2107.883\t\n",
      "Iter 2/50\n",
      "M step: done,  E step: done //  (in 0.10 sec)\tlogL: -1825.572\tTol1: 0.13393\tTol2: 0.24189\tTol3: 0.23388\t\n",
      "Iter 3/50\n",
      "M step: done,  E step: done //  (in 0.09 sec)\tlogL: -1689.418\tTol1: 0.07458\tTol2: 0.10452\tTol3: 0.27077\t\n",
      "Iter 4/50\n",
      "M step: done,  E step: done //  (in 0.10 sec)\tlogL: -1608.118\tTol1: 0.04812\tTol2: 0.06321\tTol3: 0.25808\t\n",
      "Iter 5/50\n",
      "M step: done,  E step: done //  (in 0.09 sec)\tlogL: -1550.505\tTol1: 0.03583\tTol2: 0.04763\tTol3: 0.23176\t\n",
      "Iter 6/50\n",
      "M step: done,  E step: done //  (in 0.10 sec)\tlogL: -1483.163\tTol1: 0.04343\tTol2: 0.03033\tTol3: 0.18331\t\n",
      "Iter 7/50\n",
      "M step: done,  E step: done //  (in 0.10 sec)\tlogL: -1452.286\tTol1: 0.02082\tTol2: 0.02184\tTol3: 0.15093\t\n",
      "Finished training!\n",
      "Initializing new EM...\n",
      "Doing clustering...Done!\n",
      "Get init alphas in 0.006005 mins\n",
      "Alphas:  (3,)\n",
      "Betas:  (3, 8, 8)\n",
      "Q estimate:  (1000, 8, 3, 8)\n",
      "Iter 1/50\n",
      "M step: done,  E step: done //  (in 0.57 sec)\tlogL: -2002.661\t\n",
      "Iter 2/50\n",
      "M step: done,  E step: done //  (in 0.11 sec)\tlogL: -1737.693\tTol1: 0.13231\tTol2: 0.23380\tTol3: 0.26134\t\n",
      "Iter 3/50\n",
      "M step: done,  E step: done //  (in 0.11 sec)\tlogL: -1639.865\tTol1: 0.05630\tTol2: 0.10192\tTol3: 0.26857\t\n",
      "Iter 4/50\n",
      "M step: done,  E step: done //  (in 0.10 sec)\tlogL: -1564.690\tTol1: 0.04584\tTol2: 0.05941\tTol3: 0.25089\t\n",
      "Iter 5/50\n",
      "M step: done,  E step: done //  (in 0.09 sec)\tlogL: -1513.776\tTol1: 0.03254\tTol2: 0.03616\tTol3: 0.22886\t\n",
      "Iter 6/50\n",
      "M step: done,  E step: done //  (in 0.11 sec)\tlogL: -1469.847\tTol1: 0.02902\tTol2: 0.03321\tTol3: 0.17128\t\n",
      "Iter 7/50\n",
      "M step: done,  E step: done //  (in 0.10 sec)\tlogL: -1455.382\tTol1: 0.00984\tTol2: 0.01847\tTol3: 0.12988\t\n",
      "Finished training!\n",
      "Initializing new EM...\n",
      "Doing clustering...Done!\n",
      "Get init alphas in 0.005807 mins\n",
      "Alphas:  (3,)\n",
      "Betas:  (3, 8, 8)\n",
      "Q estimate:  (1000, 8, 3, 8)\n",
      "Iter 1/50\n",
      "M step: done,  E step: done //  (in 0.56 sec)\tlogL: -2029.794\t\n",
      "Iter 2/50\n",
      "M step: done,  E step: done //  (in 0.10 sec)\tlogL: -1765.545\tTol1: 0.13019\tTol2: 0.22934\tTol3: 0.25444\t\n",
      "Iter 3/50\n",
      "M step: done,  E step: done //  (in 0.10 sec)\tlogL: -1653.536\tTol1: 0.06344\tTol2: 0.09936\tTol3: 0.26361\t\n",
      "Iter 4/50\n",
      "M step: done,  E step: done //  (in 0.09 sec)\tlogL: -1576.722\tTol1: 0.04645\tTol2: 0.05896\tTol3: 0.25551\t\n",
      "Iter 5/50\n",
      "M step: done,  E step: done //  (in 0.10 sec)\tlogL: -1525.560\tTol1: 0.03245\tTol2: 0.03986\tTol3: 0.21213\t\n",
      "Iter 6/50\n",
      "M step: done,  E step: done //  (in 0.10 sec)\tlogL: -1482.260\tTol1: 0.02838\tTol2: 0.02836\tTol3: 0.17410\t\n",
      "Finished training!\n",
      "Initializing new EM...\n",
      "Doing clustering...Done!\n",
      "Get init alphas in 0.006417 mins\n",
      "Alphas:  (3,)\n",
      "Betas:  (3, 8, 8)\n",
      "Q estimate:  (1000, 8, 3, 8)\n",
      "Iter 1/50\n",
      "M step: done,  E step: done //  (in 0.60 sec)\tlogL: -1994.591\t\n",
      "Iter 2/50\n",
      "M step: done,  E step: done //  (in 0.10 sec)\tlogL: -1747.990\tTol1: 0.12363\tTol2: 0.23443\tTol3: 0.26106\t\n",
      "Iter 3/50\n"
     ]
    },
    {
     "name": "stdout",
     "output_type": "stream",
     "text": [
      "M step: done,  E step: done //  (in 0.10 sec)\tlogL: -1641.867\tTol1: 0.06071\tTol2: 0.09820\tTol3: 0.24656\t\n",
      "Iter 4/50\n",
      "M step: done,  E step: done //  (in 0.10 sec)\tlogL: -1581.644\tTol1: 0.03668\tTol2: 0.05853\tTol3: 0.23372\t\n",
      "Iter 5/50\n",
      "M step: done,  E step: done //  (in 0.09 sec)\tlogL: -1536.961\tTol1: 0.02825\tTol2: 0.03799\tTol3: 0.21116\t\n",
      "Iter 6/50\n",
      "M step: done,  E step: done //  (in 0.11 sec)\tlogL: -1507.857\tTol1: 0.01894\tTol2: 0.03464\tTol3: 0.17028\t\n",
      "Iter 7/50\n",
      "M step: done,  E step: done //  (in 0.09 sec)\tlogL: -1456.589\tTol1: 0.03400\tTol2: 0.02559\tTol3: 0.14159\t\n",
      "Iter 8/50\n",
      "M step: done,  E step: done //  (in 0.10 sec)\tlogL: -1428.431\tTol1: 0.01933\tTol2: 0.02385\tTol3: 0.11325\t\n",
      "Finished training!\n",
      "Initializing new EM...\n",
      "Doing clustering...Done!\n",
      "Get init alphas in 0.005870 mins\n",
      "Alphas:  (3,)\n",
      "Betas:  (3, 8, 8)\n",
      "Q estimate:  (1000, 8, 3, 8)\n",
      "Iter 1/50\n",
      "M step: done,  E step: done //  (in 0.58 sec)\tlogL: -2027.701\t\n",
      "Iter 2/50\n",
      "M step: done,  E step: done //  (in 0.11 sec)\tlogL: -1768.588\tTol1: 0.12779\tTol2: 0.22982\tTol3: 0.27276\t\n",
      "Iter 3/50\n",
      "M step: done,  E step: done //  (in 0.10 sec)\tlogL: -1656.252\tTol1: 0.06352\tTol2: 0.10380\tTol3: 0.27454\t\n",
      "Iter 4/50\n",
      "M step: done,  E step: done //  (in 0.09 sec)\tlogL: -1574.598\tTol1: 0.04930\tTol2: 0.06070\tTol3: 0.26244\t\n",
      "Iter 5/50\n",
      "M step: done,  E step: done //  (in 0.10 sec)\tlogL: -1510.090\tTol1: 0.04097\tTol2: 0.03865\tTol3: 0.23036\t\n",
      "Iter 6/50\n",
      "M step: done,  E step: done //  (in 0.09 sec)\tlogL: -1466.504\tTol1: 0.02886\tTol2: 0.02710\tTol3: 0.17992\t\n",
      "Finished training!\n",
      "Initializing new EM...\n",
      "Doing clustering...Done!\n",
      "Get init alphas in 0.005781 mins\n",
      "Alphas:  (3,)\n",
      "Betas:  (3, 8, 8)\n",
      "Q estimate:  (1000, 8, 3, 8)\n",
      "Iter 1/50\n",
      "M step: done,  E step: done //  (in 0.57 sec)\tlogL: -2090.351\t\n",
      "Iter 2/50\n",
      "M step: done,  E step: done //  (in 0.11 sec)\tlogL: -1783.483\tTol1: 0.14680\tTol2: 0.23732\tTol3: 0.22328\t\n",
      "Iter 3/50\n",
      "M step: done,  E step: done //  (in 0.11 sec)\tlogL: -1662.079\tTol1: 0.06807\tTol2: 0.10436\tTol3: 0.25474\t\n",
      "Iter 4/50\n",
      "M step: done,  E step: done //  (in 0.11 sec)\tlogL: -1577.381\tTol1: 0.05096\tTol2: 0.06186\tTol3: 0.24219\t\n",
      "Iter 5/50\n",
      "M step: done,  E step: done //  (in 0.10 sec)\tlogL: -1511.412\tTol1: 0.04182\tTol2: 0.04789\tTol3: 0.21440\t\n",
      "Iter 6/50\n",
      "M step: done,  E step: done //  (in 0.09 sec)\tlogL: -1481.162\tTol1: 0.02001\tTol2: 0.02868\tTol3: 0.19109\t\n",
      "Finished training!\n",
      "Initializing new EM...\n",
      "Doing clustering...Done!\n",
      "Get init alphas in 0.005719 mins\n",
      "Alphas:  (3,)\n",
      "Betas:  (3, 8, 8)\n",
      "Q estimate:  (1000, 8, 3, 8)\n",
      "Iter 1/50\n",
      "M step: done,  E step: done //  (in 0.57 sec)\tlogL: -2101.825\t\n",
      "Iter 2/50\n",
      "M step: done,  E step: done //  (in 0.09 sec)\tlogL: -1782.831\tTol1: 0.15177\tTol2: 0.22955\tTol3: 0.23495\t\n",
      "Iter 3/50\n",
      "M step: done,  E step: done //  (in 0.10 sec)\tlogL: -1675.763\tTol1: 0.06005\tTol2: 0.11235\tTol3: 0.24375\t\n",
      "Iter 4/50\n",
      "M step: done,  E step: done //  (in 0.09 sec)\tlogL: -1594.526\tTol1: 0.04848\tTol2: 0.06272\tTol3: 0.24325\t\n",
      "Iter 5/50\n",
      "M step: done,  E step: done //  (in 0.10 sec)\tlogL: -1545.239\tTol1: 0.03091\tTol2: 0.03890\tTol3: 0.21624\t\n",
      "Iter 6/50\n",
      "M step: done,  E step: done //  (in 0.10 sec)\tlogL: -1516.991\tTol1: 0.01828\tTol2: 0.03357\tTol3: 0.19348\t\n",
      "Iter 7/50\n",
      "M step: done,  E step: done //  (in 0.09 sec)\tlogL: -1481.178\tTol1: 0.02361\tTol2: 0.02328\tTol3: 0.14251\t\n",
      "Finished training!\n",
      "Initializing new EM...\n",
      "Doing clustering...Done!\n",
      "Get init alphas in 0.005840 mins\n",
      "Alphas:  (3,)\n",
      "Betas:  (3, 8, 8)\n",
      "Q estimate:  (1000, 8, 3, 8)\n",
      "Iter 1/50\n",
      "M step: done,  E step: done //  (in 0.56 sec)\tlogL: -2067.708\t\n",
      "Iter 2/50\n",
      "M step: done,  E step: done //  (in 0.11 sec)\tlogL: -1793.880\tTol1: 0.13243\tTol2: 0.23085\tTol3: 0.25541\t\n",
      "Iter 3/50\n",
      "M step: done,  E step: done //  (in 0.11 sec)\tlogL: -1656.022\tTol1: 0.07685\tTol2: 0.10413\tTol3: 0.26824\t\n",
      "Iter 4/50\n",
      "M step: done,  E step: done //  (in 0.10 sec)\tlogL: -1600.940\tTol1: 0.03326\tTol2: 0.06374\tTol3: 0.25632\t\n",
      "Iter 5/50\n",
      "M step: done,  E step: done //  (in 0.10 sec)\tlogL: -1544.610\tTol1: 0.03519\tTol2: 0.04018\tTol3: 0.21411\t\n",
      "Iter 6/50\n",
      "M step: done,  E step: done //  (in 0.10 sec)\tlogL: -1510.109\tTol1: 0.02234\tTol2: 0.02507\tTol3: 0.17977\t\n",
      "Finished training!\n",
      "Initializing new EM...\n",
      "Doing clustering...Done!\n",
      "Get init alphas in 0.005991 mins\n",
      "Alphas:  (3,)\n",
      "Betas:  (3, 8, 8)\n",
      "Q estimate:  (1000, 8, 3, 8)\n",
      "Iter 1/50\n",
      "M step: done,  E step: done //  (in 0.57 sec)\tlogL: -1990.593\t\n",
      "Iter 2/50\n",
      "M step: done,  E step: done //  (in 0.10 sec)\tlogL: -1767.154\tTol1: 0.11225\tTol2: 0.22264\tTol3: 0.23552\t\n",
      "Iter 3/50\n",
      "M step: done,  E step: done //  (in 0.13 sec)\tlogL: -1648.650\tTol1: 0.06706\tTol2: 0.10258\tTol3: 0.25881\t\n",
      "Iter 4/50\n",
      "M step: done,  E step: done //  (in 0.09 sec)\tlogL: -1584.954\tTol1: 0.03863\tTol2: 0.06347\tTol3: 0.23508\t\n",
      "Iter 5/50\n",
      "M step: done,  E step: done //  (in 0.10 sec)\tlogL: -1541.579\tTol1: 0.02737\tTol2: 0.03812\tTol3: 0.21760\t\n",
      "Iter 6/50\n",
      "M step: done,  E step: done //  (in 0.09 sec)\tlogL: -1490.153\tTol1: 0.03336\tTol2: 0.03173\tTol3: 0.18470\t\n",
      "Iter 7/50\n",
      "M step: done,  E step: done //  (in 0.10 sec)\tlogL: -1458.344\tTol1: 0.02135\tTol2: 0.02645\tTol3: 0.15953\t\n",
      "Finished training!\n",
      "Initializing new EM...\n",
      "Doing clustering...Done!\n",
      "Get init alphas in 0.005995 mins\n",
      "Alphas:  (3,)\n",
      "Betas:  (3, 8, 8)\n",
      "Q estimate:  (1000, 8, 3, 8)\n",
      "Iter 1/50\n",
      "M step: done,  E step: done //  (in 0.57 sec)\tlogL: -2000.963\t\n",
      "Iter 2/50\n",
      "M step: done,  E step: done //  (in 0.11 sec)\tlogL: -1750.520\tTol1: 0.12516\tTol2: 0.23425\tTol3: 0.27518\t\n",
      "Iter 3/50\n",
      "M step: done,  E step: done //  (in 0.10 sec)\tlogL: -1628.031\tTol1: 0.06997\tTol2: 0.10582\tTol3: 0.26234\t\n",
      "Iter 4/50\n",
      "M step: done,  E step: done //  (in 0.10 sec)\tlogL: -1542.614\tTol1: 0.05247\tTol2: 0.05692\tTol3: 0.25049\t\n",
      "Iter 5/50\n",
      "M step: done,  E step: done //  (in 0.10 sec)\tlogL: -1484.473\tTol1: 0.03769\tTol2: 0.04022\tTol3: 0.21025\t\n",
      "Iter 6/50\n",
      "M step: done,  E step: done //  (in 0.10 sec)\tlogL: -1437.083\tTol1: 0.03192\tTol2: 0.02785\tTol3: 0.17726\t\n",
      "Iter 7/50\n",
      "M step: done,  E step: done //  (in 0.10 sec)\tlogL: -1409.492\tTol1: 0.01920\tTol2: 0.01924\tTol3: 0.13756\t\n",
      "Finished training!\n",
      "Initializing new EM...\n",
      "Doing clustering...Done!\n",
      "Get init alphas in 0.005896 mins\n",
      "Alphas:  (3,)\n",
      "Betas:  (3, 8, 8)\n",
      "Q estimate:  (1000, 8, 3, 8)\n",
      "Iter 1/50\n",
      "M step: done,  E step: done //  (in 0.59 sec)\tlogL: -2130.228\t\n",
      "Iter 2/50\n",
      "M step: done,  E step: done //  (in 0.10 sec)\tlogL: -1865.958\tTol1: 0.12406\tTol2: 0.23210\tTol3: 0.22807\t\n",
      "Iter 3/50\n",
      "M step: done,  E step: done //  (in 0.09 sec)\tlogL: -1718.746\tTol1: 0.07889\tTol2: 0.09695\tTol3: 0.25616\t\n",
      "Iter 4/50\n",
      "M step: done,  E step: done //  (in 0.09 sec)\tlogL: -1616.788\tTol1: 0.05932\tTol2: 0.06043\tTol3: 0.23212\t\n",
      "Iter 5/50\n",
      "M step: done,  E step: done //  (in 0.10 sec)\tlogL: -1565.105\tTol1: 0.03197\tTol2: 0.04129\tTol3: 0.22195\t\n",
      "Iter 6/50\n",
      "M step: done,  E step: done //  (in 0.10 sec)\tlogL: -1505.485\tTol1: 0.03809\tTol2: 0.03034\tTol3: 0.18372\t\n",
      "Iter 7/50\n",
      "M step: done,  E step: done //  (in 0.09 sec)\tlogL: -1470.685\tTol1: 0.02312\tTol2: 0.02901\tTol3: 0.14213\t\n",
      "Finished training!\n",
      "Initializing new EM...\n",
      "Doing clustering...Done!\n",
      "Get init alphas in 0.005978 mins\n",
      "Alphas:  (3,)\n",
      "Betas:  (3, 8, 8)\n",
      "Q estimate:  (1000, 8, 3, 8)\n",
      "Iter 1/50\n",
      "M step: done,  E step: done //  (in 0.57 sec)\tlogL: -1968.717\t\n",
      "Iter 2/50\n",
      "M step: done,  E step: done //  (in 0.10 sec)\tlogL: -1758.370\tTol1: 0.10684\tTol2: 0.24483\tTol3: 0.24864\t\n",
      "Iter 3/50\n",
      "M step: done,  E step: done //  (in 0.10 sec)\tlogL: -1680.918\tTol1: 0.04405\tTol2: 0.10231\tTol3: 0.24587\t\n",
      "Iter 4/50\n",
      "M step: done,  E step: done //  (in 0.09 sec)\tlogL: -1608.271\tTol1: 0.04322\tTol2: 0.05562\tTol3: 0.23879\t\n",
      "Iter 5/50\n",
      "M step: done,  E step: done //  (in 0.09 sec)\tlogL: -1552.396\tTol1: 0.03474\tTol2: 0.03893\tTol3: 0.22079\t\n",
      "Iter 6/50\n",
      "M step: done,  E step: done //  (in 0.09 sec)\tlogL: -1518.644\tTol1: 0.02174\tTol2: 0.02911\tTol3: 0.18690\t\n",
      "Finished training!\n",
      "Initializing new EM...\n",
      "Doing clustering...Done!\n",
      "Get init alphas in 0.005691 mins\n",
      "Alphas:  (3,)\n",
      "Betas:  (3, 8, 8)\n",
      "Q estimate:  (1000, 8, 3, 8)\n",
      "Iter 1/50\n",
      "M step: done,  E step: done //  (in 0.57 sec)\tlogL: -1943.916\t\n",
      "Iter 2/50\n",
      "M step: done,  E step: done //  (in 0.10 sec)\tlogL: -1764.201\tTol1: 0.09245\tTol2: 0.24927\tTol3: 0.27305\t\n",
      "Iter 3/50\n",
      "M step: done,  E step: done //  (in 0.11 sec)\tlogL: -1643.035\tTol1: 0.06868\tTol2: 0.09876\tTol3: 0.25433\t\n",
      "Iter 4/50\n",
      "M step: done,  E step: done //  (in 0.10 sec)\tlogL: -1562.666\tTol1: 0.04891\tTol2: 0.05795\tTol3: 0.24083\t\n",
      "Iter 5/50\n"
     ]
    },
    {
     "name": "stdout",
     "output_type": "stream",
     "text": [
      "M step: done,  E step: done //  (in 0.09 sec)\tlogL: -1514.397\tTol1: 0.03089\tTol2: 0.03813\tTol3: 0.21231\t\n",
      "Iter 6/50\n",
      "M step: done,  E step: done //  (in 0.10 sec)\tlogL: -1475.872\tTol1: 0.02544\tTol2: 0.03279\tTol3: 0.18701\t\n",
      "Iter 7/50\n",
      "M step: done,  E step: done //  (in 0.10 sec)\tlogL: -1455.353\tTol1: 0.01390\tTol2: 0.02123\tTol3: 0.13858\t\n",
      "Finished training!\n",
      "Initializing new EM...\n",
      "Doing clustering...Done!\n",
      "Get init alphas in 0.006220 mins\n",
      "Alphas:  (3,)\n",
      "Betas:  (3, 8, 8)\n",
      "Q estimate:  (1000, 8, 3, 8)\n",
      "Iter 1/50\n",
      "M step: done,  E step: done //  (in 0.57 sec)\tlogL: -2001.591\t\n",
      "Iter 2/50\n",
      "M step: done,  E step: done //  (in 0.10 sec)\tlogL: -1766.451\tTol1: 0.11748\tTol2: 0.23931\tTol3: 0.26013\t\n",
      "Iter 3/50\n",
      "M step: done,  E step: done //  (in 0.10 sec)\tlogL: -1686.059\tTol1: 0.04551\tTol2: 0.09772\tTol3: 0.26113\t\n",
      "Iter 4/50\n",
      "M step: done,  E step: done //  (in 0.10 sec)\tlogL: -1589.499\tTol1: 0.05727\tTol2: 0.06295\tTol3: 0.22883\t\n",
      "Iter 5/50\n",
      "M step: done,  E step: done //  (in 0.09 sec)\tlogL: -1525.045\tTol1: 0.04055\tTol2: 0.03535\tTol3: 0.21367\t\n",
      "Iter 6/50\n",
      "M step: done,  E step: done //  (in 0.09 sec)\tlogL: -1494.340\tTol1: 0.02013\tTol2: 0.02320\tTol3: 0.16873\t\n",
      "Finished training!\n",
      "Multiples runs over Ours Global, Epochs to converge=  6.6\n"
     ]
    },
    {
     "data": {
      "text/plain": [
       "([array([-1967.81621304, -1733.13866274, -1655.69537448, -1581.09997639,\n",
       "         -1524.70506243, -1494.1992088 ]),\n",
       "  array([-2007.8029274 , -1790.66386915, -1666.75399255, -1608.07063577,\n",
       "         -1554.62118596, -1491.53467566, -1466.06564319]),\n",
       "  array([-2071.02089156, -1772.38025812, -1641.23592427, -1558.71312501,\n",
       "         -1505.78982601, -1471.39608636]),\n",
       "  array([-1983.0193229 , -1762.86840757, -1668.46499295, -1586.61631829,\n",
       "         -1536.27216534, -1484.13229385, -1447.51368925]),\n",
       "  array([-2042.10620581, -1804.7222455 , -1669.88492029, -1584.2016908 ,\n",
       "         -1521.85485904, -1482.56857769, -1466.61918407]),\n",
       "  array([-1989.72415478, -1788.19678873, -1684.11281674, -1612.57099428,\n",
       "         -1550.36198635, -1513.28291785]),\n",
       "  array([-2107.88306369, -1825.57207165, -1689.41755641, -1608.11789789,\n",
       "         -1550.50489243, -1483.16330821, -1452.285767  ]),\n",
       "  array([-2002.66148766, -1737.69300941, -1639.86465443, -1564.69037793,\n",
       "         -1513.77593278, -1469.84708467, -1455.38168371]),\n",
       "  array([-2029.79387805, -1765.54500805, -1653.53585319, -1576.72233496,\n",
       "         -1525.56042404, -1482.25968689]),\n",
       "  array([-1994.5909348 , -1747.99009291, -1641.86668248, -1581.64407224,\n",
       "         -1536.96101753, -1507.85670104, -1456.58935604, -1428.43148975]),\n",
       "  array([-2027.70103738, -1768.58808301, -1656.25162355, -1574.59823459,\n",
       "         -1510.08992533, -1466.50423307]),\n",
       "  array([-2090.35142132, -1783.48253916, -1662.07941691, -1577.38070323,\n",
       "         -1511.41230508, -1481.1621624 ]),\n",
       "  array([-2101.82493184, -1782.83054725, -1675.76338921, -1594.52563445,\n",
       "         -1545.23934504, -1516.99093976, -1481.17799458]),\n",
       "  array([-2067.70843505, -1793.87959928, -1656.02180377, -1600.93980023,\n",
       "         -1544.61021816, -1510.10901314]),\n",
       "  array([-1990.5932066 , -1767.15350753, -1648.64973132, -1584.95437907,\n",
       "         -1541.57905706, -1490.15250466, -1458.34357469]),\n",
       "  array([-2000.96254921, -1750.52021547, -1628.03139325, -1542.61432983,\n",
       "         -1484.4732995 , -1437.0830875 , -1409.4923026 ]),\n",
       "  array([-2130.22794925, -1865.95841133, -1718.74553945, -1616.78794286,\n",
       "         -1565.10514042, -1505.48527431, -1470.68513297]),\n",
       "  array([-1968.71699033, -1758.37035057, -1680.91836933, -1608.27065691,\n",
       "         -1552.39590204, -1518.64444753]),\n",
       "  array([-1943.91550992, -1764.20125775, -1643.03452784, -1562.66603977,\n",
       "         -1514.39726851, -1475.87176172, -1455.35309921]),\n",
       "  array([-2001.59076617, -1766.45061743, -1686.0593442 , -1589.49878033,\n",
       "         -1525.04531748, -1494.34036578])],\n",
       " 15)"
      ]
     },
     "execution_count": 33,
     "metadata": {},
     "output_type": "execute_result"
    }
   ],
   "source": [
    "#logL_hists,i_r = gMixture_Global.multiples_run(20,Xstd_train,r_obs,\n",
    "#                                               max_iter=EPOCHS_BASE,tolerance=TOL)\n",
    "\n",
    "gMixture_Global.fit(Xstd_train,r_obs, runs =20,\n",
    "                        max_iter=EPOCHS_BASE,tolerance=TOL)"
   ]
  },
  {
   "cell_type": "code",
   "execution_count": 24,
   "metadata": {},
   "outputs": [
    {
     "data": {
      "image/png": "[encoded data removed]",
      "text/plain": [
       "<Figure size 1080x504 with 1 Axes>"
      ]
     },
     "metadata": {
      "needs_background": "light"
     },
     "output_type": "display_data"
    }
   ],
   "source": [
    "plt.figure(figsize=(15,7))\n",
    "for a, value in enumerate(logL_hists): #logL_hists\n",
    "    if a != i_r:\n",
    "        plt.plot(range(len(value)),value,'.-')\n",
    "plt.plot(range(len(logL_hists[i_r])),logL_hists[i_r],'o-',markersize=10,label=\"Selected run\")\n",
    "plt.legend()\n",
    "plt.show()"
   ]
  },
  {
   "cell_type": "code",
   "execution_count": 34,
   "metadata": {},
   "outputs": [
    {
     "name": "stdout",
     "output_type": "stream",
     "text": [
      "Train accuracy of model = 0.841\n",
      "Test accuracy of model = 0.8148148148148148\n"
     ]
    }
   ],
   "source": [
    "cmm_fx = gMixture_Global.get_basemodel()\n",
    "\n",
    "from codeE.evaluation import accuracy_model\n",
    "print(\"Train accuracy of model =\", accuracy_model(cmm_fx, Xstd_train, Z_train))\n",
    "print(\"Test accuracy of model =\", accuracy_model(cmm_fx, Xstd_test, Z_test))"
   ]
  },
  {
   "cell_type": "code",
   "execution_count": null,
   "metadata": {
    "collapsed": true
   },
   "outputs": [],
   "source": []
  },
  {
   "cell_type": "markdown",
   "metadata": {},
   "source": [
    "## Our Proposed - C-MoA"
   ]
  },
  {
   "cell_type": "markdown",
   "metadata": {},
   "source": [
    "#### Auxiliar representation with variable number of annotations per annotator and identity"
   ]
  },
  {
   "cell_type": "code",
   "execution_count": 17,
   "metadata": {},
   "outputs": [],
   "source": [
    "Y_ann_train, T_idx = set_representation(y_obs,\"onehotvar\")\n",
    "T_idx_unique = np.arange(T).reshape(-1,1)"
   ]
  },
  {
   "cell_type": "markdown",
   "metadata": {},
   "source": [
    "#### Annotators representation"
   ]
  },
  {
   "cell_type": "code",
   "execution_count": 18,
   "metadata": {},
   "outputs": [
    {
     "name": "stdout",
     "output_type": "stream",
     "text": [
      "shape of annotator representation (T, R_t)= (59, 8)\n"
     ]
    }
   ],
   "source": [
    "A_rep = np.zeros((T, K))\n",
    "for i in range(N):\n",
    "    for l, t_idx in enumerate(T_idx[i]):\n",
    "        obs_t = Y_ann_train[i][l].argmax(axis=-1)\n",
    "        A_rep[t_idx, obs_t] += 1\n",
    "print(\"shape of annotator representation (T, R_t)=\", A_rep.shape)"
   ]
  },
  {
   "cell_type": "code",
   "execution_count": 19,
   "metadata": {},
   "outputs": [
    {
     "name": "stdout",
     "output_type": "stream",
     "text": [
      "Model: \"sequential_2\"\n",
      "_________________________________________________________________\n",
      "Layer (type)                 Output Shape              Param #   \n",
      "=================================================================\n",
      "embedding_1 (Embedding)      (None, 1, 8)              472       \n",
      "_________________________________________________________________\n",
      "reshape_1 (Reshape)          (None, 8)                 0         \n",
      "_________________________________________________________________\n",
      "dense_3 (Dense)              (None, 24)                216       \n",
      "_________________________________________________________________\n",
      "dense_4 (Dense)              (None, 3)                 75        \n",
      "=================================================================\n",
      "Total params: 763\n",
      "Trainable params: 291\n",
      "Non-trainable params: 472\n",
      "_________________________________________________________________\n"
     ]
    }
   ],
   "source": [
    "from keras.models import Sequential\n",
    "from keras.layers import *\n",
    "group_model = Sequential()\n",
    "group_model.add(Embedding(T, K,input_length=1, \n",
    "                         trainable=False,weights=[A_rep]))\n",
    "#                         trainable=True))\n",
    "group_model.add(Reshape([K]))\n",
    "group_model.add(Dense(K*M_seted, activation='relu'))\n",
    "group_model.add(Dense(M_seted, activation='softmax'))\n",
    "group_model.summary()"
   ]
  },
  {
   "cell_type": "code",
   "execution_count": 25,
   "metadata": {
    "scrolled": true
   },
   "outputs": [
    {
     "name": "stdout",
     "output_type": "stream",
     "text": [
      "Model: \"predictive_model\"\n",
      "_________________________________________________________________\n",
      "Layer (type)                 Output Shape              Param #   \n",
      "=================================================================\n",
      "dense_1 (Dense)              (None, 128)               65664     \n",
      "_________________________________________________________________\n",
      "dropout_1 (Dropout)          (None, 128)               0         \n",
      "_________________________________________________________________\n",
      "dense_2 (Dense)              (None, 8)                 1032      \n",
      "_________________________________________________________________\n",
      "activation_1 (Activation)    (None, 8)                 0         \n",
      "=================================================================\n",
      "Total params: 66,696\n",
      "Trainable params: 66,696\n",
      "Non-trainable params: 0\n",
      "_________________________________________________________________\n",
      "Model: \"group_model\"\n",
      "_________________________________________________________________\n",
      "Layer (type)                 Output Shape              Param #   \n",
      "=================================================================\n",
      "embedding_1 (Embedding)      (None, 1, 8)              472       \n",
      "_________________________________________________________________\n",
      "reshape_1 (Reshape)          (None, 8)                 0         \n",
      "_________________________________________________________________\n",
      "dense_1 (Dense)              (None, 24)                216       \n",
      "_________________________________________________________________\n",
      "dense_2 (Dense)              (None, 3)                 75        \n",
      "=================================================================\n",
      "Total params: 763\n",
      "Trainable params: 763\n",
      "Non-trainable params: 0\n",
      "_________________________________________________________________\n"
     ]
    }
   ],
   "source": [
    "from codeE.MixtureofGroups import CMOA\n",
    "gMixture_Ind = CMOA(Xstd_train.shape[1:],K=K,M=M_seted,init_Z=\"softmv\", pre_init_z=3,\n",
    "                                epochs=1,optimizer=OPT,dtype_op=DTYPE_OP) \n",
    "\n",
    "gMixture_Ind.define_model(\"keras_import\", clone_UB.get_model())\n",
    "gMixture_Ind.get_basemodel().summary()\n",
    "\n",
    "gMixture_Ind.define_model_group(\"keras_import\",model=group_model)\n",
    "gMixture_Ind.get_groupmodel().summary()"
   ]
  },
  {
   "cell_type": "code",
   "execution_count": 43,
   "metadata": {},
   "outputs": [
    {
     "name": "stdout",
     "output_type": "stream",
     "text": [
      "Initializing new EM...\n",
      "Doing clustering...Done!\n",
      "Pre-train networks over *z* on 3 epochs... Done!\n",
      "Betas:  (3, 8, 8)\n",
      "Q estimate:  (2547, 3, 8)\n"
     ]
    }
   ],
   "source": [
    "gMixture_Ind.init_E(Xstd_train,Y_ann_train, T_idx, method='softmv')"
   ]
  },
  {
   "cell_type": "code",
   "execution_count": 26,
   "metadata": {
    "scrolled": true
   },
   "outputs": [
    {
     "name": "stdout",
     "output_type": "stream",
     "text": [
      "Initializing new EM...\n",
      "Doing clustering...Done!\n",
      "Pre-train networks over *z* on 3 epochs... Done!\n",
      "Betas:  (3, 8, 8)\n",
      "Q estimate:  (2547, 3, 8)\n",
      "Iter 1/50\n",
      "M step: done,  E step: done //  (in 1.48 sec)\tlogL: -1760.276\t\n",
      "Iter 2/50\n",
      "M step: done,  E step: done //  (in 0.22 sec)\tlogL: -1565.589\tTol1: 0.11060\tTol2: 0.26133\t\n",
      "Iter 3/50\n",
      "M step: done,  E step: done //  (in 0.21 sec)\tlogL: -1483.264\tTol1: 0.05258\tTol2: 0.08645\t\n",
      "Iter 4/50\n",
      "M step: done,  E step: done //  (in 0.23 sec)\tlogL: -1423.879\tTol1: 0.04004\tTol2: 0.06683\t\n",
      "Iter 5/50\n",
      "M step: done,  E step: done //  (in 0.22 sec)\tlogL: -1383.101\tTol1: 0.02864\tTol2: 0.04238\t\n",
      "Iter 6/50\n",
      "M step: done,  E step: done //  (in 0.23 sec)\tlogL: -1349.021\tTol1: 0.02464\tTol2: 0.03041\t\n",
      "Iter 7/50\n",
      "M step: done,  E step: done //  (in 0.21 sec)\tlogL: -1319.295\tTol1: 0.02204\tTol2: 0.03350\t\n",
      "Iter 8/50\n",
      "M step: done,  E step: done //  (in 0.23 sec)\tlogL: -1297.957\tTol1: 0.01617\tTol2: 0.03181\t\n",
      "Iter 9/50\n",
      "M step: done,  E step: done //  (in 0.25 sec)\tlogL: -1284.180\tTol1: 0.01061\tTol2: 0.03799\t\n",
      "Iter 10/50\n",
      "M step: done,  E step: done //  (in 0.22 sec)\tlogL: -1242.280\tTol1: 0.03263\tTol2: 0.04059\t\n",
      "Iter 11/50\n",
      "M step: done,  E step: done //  (in 0.23 sec)\tlogL: -1221.395\tTol1: 0.01681\tTol2: 0.03113\t\n",
      "Iter 12/50\n",
      "M step: done,  E step: done //  (in 0.26 sec)\tlogL: -1206.441\tTol1: 0.01224\tTol2: 0.03018\t\n",
      "Iter 13/50\n",
      "M step: done,  E step: done //  (in 0.21 sec)\tlogL: -1190.142\tTol1: 0.01351\tTol2: 0.02986\t\n",
      "Finished training!\n",
      "Initializing new EM...\n",
      "Doing clustering...Done!\n",
      "Pre-train networks over *z* on 3 epochs... Done!\n",
      "Betas:  (3, 8, 8)\n",
      "Q estimate:  (2547, 3, 8)\n",
      "Iter 1/50\n",
      "M step: done,  E step: done //  (in 1.24 sec)\tlogL: -1760.430\t\n",
      "Iter 2/50\n",
      "M step: done,  E step: done //  (in 0.21 sec)\tlogL: -1544.262\tTol1: 0.12279\tTol2: 0.26156\t\n",
      "Iter 3/50\n",
      "M step: done,  E step: done //  (in 0.18 sec)\tlogL: -1482.243\tTol1: 0.04016\tTol2: 0.09329\t\n",
      "Iter 4/50\n",
      "M step: done,  E step: done //  (in 0.18 sec)\tlogL: -1434.381\tTol1: 0.03229\tTol2: 0.04823\t\n",
      "Iter 5/50\n",
      "M step: done,  E step: done //  (in 0.17 sec)\tlogL: -1389.985\tTol1: 0.03095\tTol2: 0.04987\t\n",
      "Iter 6/50\n",
      "M step: done,  E step: done //  (in 0.18 sec)\tlogL: -1350.965\tTol1: 0.02807\tTol2: 0.04965\t\n",
      "Iter 7/50\n",
      "M step: done,  E step: done //  (in 0.19 sec)\tlogL: -1351.952\tTol1: 0.00073\tTol2: 0.04030\t\n",
      "Iter 8/50\n",
      "M step: done,  E step: done //  (in 0.19 sec)\tlogL: -1301.222\tTol1: 0.03752\tTol2: 0.03903\t\n",
      "Iter 9/50\n",
      "M step: done,  E step: done //  (in 0.18 sec)\tlogL: -1269.042\tTol1: 0.02473\tTol2: 0.02928\t\n",
      "Finished training!\n",
      "Initializing new EM...\n",
      "Doing clustering...Done!\n",
      "Pre-train networks over *z* on 3 epochs... Done!\n",
      "Betas:  (3, 8, 8)\n",
      "Q estimate:  (2547, 3, 8)\n",
      "Iter 1/50\n",
      "M step: done,  E step: done //  (in 1.27 sec)\tlogL: -1777.868\t\n",
      "Iter 2/50\n",
      "M step: done,  E step: done //  (in 0.19 sec)\tlogL: -1566.490\tTol1: 0.11889\tTol2: 0.22610\t\n",
      "Iter 3/50\n",
      "M step: done,  E step: done //  (in 0.21 sec)\tlogL: -1542.021\tTol1: 0.01562\tTol2: 0.08743\t\n",
      "Iter 4/50\n",
      "M step: done,  E step: done //  (in 0.20 sec)\tlogL: -1466.344\tTol1: 0.04908\tTol2: 0.05930\t\n",
      "Iter 5/50\n",
      "M step: done,  E step: done //  (in 0.20 sec)\tlogL: -1437.835\tTol1: 0.01944\tTol2: 0.04933\t\n",
      "Iter 6/50\n",
      "M step: done,  E step: done //  (in 0.20 sec)\tlogL: -1394.608\tTol1: 0.03006\tTol2: 0.04029\t\n",
      "Iter 7/50\n",
      "M step: done,  E step: done //  (in 0.19 sec)\tlogL: -1365.987\tTol1: 0.02052\tTol2: 0.04150\t\n",
      "Iter 8/50\n",
      "M step: done,  E step: done //  (in 0.20 sec)\tlogL: -1334.186\tTol1: 0.02328\tTol2: 0.03536\t\n",
      "Iter 9/50\n",
      "M step: done,  E step: done //  (in 0.20 sec)\tlogL: -1360.007\tTol1: 0.01935\tTol2: 0.04069\t\n",
      "Iter 10/50\n",
      "M step: done,  E step: done //  (in 0.20 sec)\tlogL: -1295.689\tTol1: 0.04729\tTol2: 0.06154\t\n",
      "Iter 11/50\n",
      "M step: done,  E step: done //  (in 0.20 sec)\tlogL: -1263.160\tTol1: 0.02511\tTol2: 0.04166\t\n",
      "Iter 12/50\n",
      "M step: done,  E step: done //  (in 0.19 sec)\tlogL: -1250.089\tTol1: 0.01035\tTol2: 0.02558\t\n",
      "Finished training!\n",
      "Initializing new EM...\n",
      "Doing clustering...Done!\n",
      "Pre-train networks over *z* on 3 epochs... Done!\n",
      "Betas:  (3, 8, 8)\n",
      "Q estimate:  (2547, 3, 8)\n",
      "Iter 1/50\n",
      "M step: done,  E step: done //  (in 1.27 sec)\tlogL: -1784.109\t\n",
      "Iter 2/50\n",
      "M step: done,  E step: done //  (in 0.18 sec)\tlogL: -1565.579\tTol1: 0.12249\tTol2: 0.24674\t\n",
      "Iter 3/50\n",
      "M step: done,  E step: done //  (in 0.19 sec)\tlogL: -1486.980\tTol1: 0.05020\tTol2: 0.08713\t\n",
      "Iter 4/50\n",
      "M step: done,  E step: done //  (in 0.19 sec)\tlogL: -1431.189\tTol1: 0.03752\tTol2: 0.05408\t\n",
      "Iter 5/50\n",
      "M step: done,  E step: done //  (in 0.20 sec)\tlogL: -1389.242\tTol1: 0.02931\tTol2: 0.03647\t\n",
      "Iter 6/50\n",
      "M step: done,  E step: done //  (in 0.20 sec)\tlogL: -1350.367\tTol1: 0.02798\tTol2: 0.04122\t\n",
      "Iter 7/50\n",
      "M step: done,  E step: done //  (in 0.20 sec)\tlogL: -1327.146\tTol1: 0.01720\tTol2: 0.03426\t\n",
      "Iter 8/50\n",
      "M step: done,  E step: done //  (in 0.20 sec)\tlogL: -1295.138\tTol1: 0.02412\tTol2: 0.03946\t\n",
      "Iter 9/50\n",
      "M step: done,  E step: done //  (in 0.19 sec)\tlogL: -1283.827\tTol1: 0.00873\tTol2: 0.02917\t\n",
      "Finished training!\n",
      "Initializing new EM...\n",
      "Doing clustering...Done!\n",
      "Pre-train networks over *z* on 3 epochs... Done!\n",
      "Betas:  (3, 8, 8)\n",
      "Q estimate:  (2547, 3, 8)\n",
      "Iter 1/50\n",
      "M step: done,  E step: done //  (in 1.22 sec)\tlogL: -1755.471\t\n",
      "Iter 2/50\n",
      "M step: done,  E step: done //  (in 0.17 sec)\tlogL: -1553.959\tTol1: 0.11479\tTol2: 0.23359\t\n",
      "Iter 3/50\n",
      "M step: done,  E step: done //  (in 0.18 sec)\tlogL: -1485.095\tTol1: 0.04432\tTol2: 0.08653\t\n",
      "Iter 4/50\n",
      "M step: done,  E step: done //  (in 0.18 sec)\tlogL: -1434.365\tTol1: 0.03416\tTol2: 0.06708\t\n",
      "Iter 5/50\n",
      "M step: done,  E step: done //  (in 0.17 sec)\tlogL: -1398.555\tTol1: 0.02497\tTol2: 0.05504\t\n",
      "Iter 6/50\n",
      "M step: done,  E step: done //  (in 0.18 sec)\tlogL: -1369.438\tTol1: 0.02082\tTol2: 0.03539\t\n",
      "Iter 7/50\n",
      "M step: done,  E step: done //  (in 0.19 sec)\tlogL: -1330.744\tTol1: 0.02826\tTol2: 0.04024\t\n",
      "Iter 8/50\n",
      "M step: done,  E step: done //  (in 0.18 sec)\tlogL: -1306.638\tTol1: 0.01811\tTol2: 0.04082\t\n",
      "Iter 9/50\n",
      "M step: done,  E step: done //  (in 0.18 sec)\tlogL: -1290.958\tTol1: 0.01200\tTol2: 0.03406\t\n",
      "Iter 10/50\n",
      "M step: done,  E step: done //  (in 0.18 sec)\tlogL: -1266.625\tTol1: 0.01885\tTol2: 0.02871\t\n",
      "Finished training!\n",
      "Initializing new EM...\n",
      "Doing clustering...Done!\n",
      "Pre-train networks over *z* on 3 epochs... Done!\n",
      "Betas:  (3, 8, 8)\n",
      "Q estimate:  (2547, 3, 8)\n",
      "Iter 1/50\n",
      "M step: done,  E step: done //  (in 1.29 sec)\tlogL: -1716.774\t\n",
      "Iter 2/50\n",
      "M step: done,  E step: done //  (in 0.19 sec)\tlogL: -1529.280\tTol1: 0.10921\tTol2: 0.22955\t\n",
      "Iter 3/50\n",
      "M step: done,  E step: done //  (in 0.19 sec)\tlogL: -1473.514\tTol1: 0.03647\tTol2: 0.07773\t\n",
      "Iter 4/50\n",
      "M step: done,  E step: done //  (in 0.18 sec)\tlogL: -1445.975\tTol1: 0.01869\tTol2: 0.04144\t\n",
      "Iter 5/50\n",
      "M step: done,  E step: done //  (in 0.18 sec)\tlogL: -1396.978\tTol1: 0.03389\tTol2: 0.05333\t\n",
      "Iter 6/50\n",
      "M step: done,  E step: done //  (in 0.19 sec)\tlogL: -1356.510\tTol1: 0.02897\tTol2: 0.05249\t\n",
      "Iter 7/50\n",
      "M step: done,  E step: done //  (in 0.18 sec)\tlogL: -1329.389\tTol1: 0.01999\tTol2: 0.04473\t\n",
      "Iter 8/50\n",
      "M step: done,  E step: done //  (in 0.21 sec)\tlogL: -1303.850\tTol1: 0.01921\tTol2: 0.03556\t\n",
      "Iter 9/50\n",
      "M step: done,  E step: done //  (in 0.19 sec)\tlogL: -1284.232\tTol1: 0.01505\tTol2: 0.03484\t\n",
      "Iter 10/50\n",
      "M step: done,  E step: done //  (in 0.18 sec)\tlogL: -1254.731\tTol1: 0.02297\tTol2: 0.04354\t\n",
      "Iter 11/50\n",
      "M step: done,  E step: done //  (in 0.18 sec)\tlogL: -1240.449\tTol1: 0.01138\tTol2: 0.03413\t\n",
      "Iter 12/50\n",
      "M step: done,  E step: done //  (in 0.19 sec)\tlogL: -1227.624\tTol1: 0.01034\tTol2: 0.04073\t\n",
      "Iter 13/50\n",
      "M step: done,  E step: done //  (in 0.18 sec)\tlogL: -1208.278\tTol1: 0.01576\tTol2: 0.03173\t\n",
      "Iter 14/50\n",
      "M step: done,  E step: done //  (in 0.18 sec)\tlogL: -1187.453\tTol1: 0.01723\tTol2: 0.03364\t\n",
      "Iter 15/50\n",
      "M step: done,  E step: done //  (in 0.19 sec)\tlogL: -1164.735\tTol1: 0.01913\tTol2: 0.03245\t\n",
      "Iter 16/50\n",
      "M step: done,  E step: done //  (in 0.20 sec)\tlogL: -1157.585\tTol1: 0.00614\tTol2: 0.02279\t\n",
      "Finished training!\n",
      "Initializing new EM...\n",
      "Doing clustering...Done!\n",
      "Pre-train networks over *z* on 3 epochs... Done!\n",
      "Betas:  (3, 8, 8)\n",
      "Q estimate:  (2547, 3, 8)\n",
      "Iter 1/50\n",
      "M step: done,  E step: done //  (in 1.26 sec)\tlogL: -1728.484\t\n",
      "Iter 2/50\n",
      "M step: done,  E step: done //  (in 0.16 sec)\tlogL: -1540.017\tTol1: 0.10904\tTol2: 0.21532\t\n",
      "Iter 3/50\n",
      "M step: done,  E step: done //  (in 0.17 sec)\tlogL: -1472.305\tTol1: 0.04397\tTol2: 0.08962\t\n",
      "Iter 4/50\n"
     ]
    },
    {
     "name": "stdout",
     "output_type": "stream",
     "text": [
      "M step: done,  E step: done //  (in 0.20 sec)\tlogL: -1422.482\tTol1: 0.03384\tTol2: 0.06380\t\n",
      "Iter 5/50\n",
      "M step: done,  E step: done //  (in 0.28 sec)\tlogL: -1404.220\tTol1: 0.01284\tTol2: 0.03840\t\n",
      "Iter 6/50\n",
      "M step: done,  E step: done //  (in 0.23 sec)\tlogL: -1357.126\tTol1: 0.03354\tTol2: 0.03986\t\n",
      "Iter 7/50\n",
      "M step: done,  E step: done //  (in 0.22 sec)\tlogL: -1326.864\tTol1: 0.02230\tTol2: 0.04233\t\n",
      "Iter 8/50\n",
      "M step: done,  E step: done //  (in 0.24 sec)\tlogL: -1296.392\tTol1: 0.02297\tTol2: 0.03604\t\n",
      "Iter 9/50\n",
      "M step: done,  E step: done //  (in 0.25 sec)\tlogL: -1270.431\tTol1: 0.02003\tTol2: 0.03543\t\n",
      "Iter 10/50\n",
      "M step: done,  E step: done //  (in 0.23 sec)\tlogL: -1257.960\tTol1: 0.00982\tTol2: 0.02153\t\n",
      "Finished training!\n",
      "Initializing new EM...\n",
      "Doing clustering...Done!\n",
      "Pre-train networks over *z* on 3 epochs... Done!\n",
      "Betas:  (3, 8, 8)\n",
      "Q estimate:  (2547, 3, 8)\n",
      "Iter 1/50\n",
      "M step: done,  E step: done //  (in 1.39 sec)\tlogL: -1734.304\t\n",
      "Iter 2/50\n",
      "M step: done,  E step: done //  (in 0.20 sec)\tlogL: -1549.452\tTol1: 0.10659\tTol2: 0.23542\t\n",
      "Iter 3/50\n",
      "M step: done,  E step: done //  (in 0.20 sec)\tlogL: -1470.931\tTol1: 0.05068\tTol2: 0.08887\t\n",
      "Iter 4/50\n",
      "M step: done,  E step: done //  (in 0.21 sec)\tlogL: -1429.490\tTol1: 0.02817\tTol2: 0.04543\t\n",
      "Iter 5/50\n",
      "M step: done,  E step: done //  (in 0.20 sec)\tlogL: -1389.604\tTol1: 0.02790\tTol2: 0.05249\t\n",
      "Iter 6/50\n",
      "M step: done,  E step: done //  (in 0.19 sec)\tlogL: -1377.657\tTol1: 0.00860\tTol2: 0.03284\t\n",
      "Iter 7/50\n",
      "M step: done,  E step: done //  (in 0.19 sec)\tlogL: -1336.875\tTol1: 0.02960\tTol2: 0.05165\t\n",
      "Iter 8/50\n",
      "M step: done,  E step: done //  (in 0.20 sec)\tlogL: -1304.802\tTol1: 0.02399\tTol2: 0.03012\t\n",
      "Iter 9/50\n",
      "M step: done,  E step: done //  (in 0.18 sec)\tlogL: -1288.814\tTol1: 0.01225\tTol2: 0.03361\t\n",
      "Iter 10/50\n",
      "M step: done,  E step: done //  (in 0.19 sec)\tlogL: -1257.867\tTol1: 0.02401\tTol2: 0.03793\t\n",
      "Iter 11/50\n",
      "M step: done,  E step: done //  (in 0.19 sec)\tlogL: -1254.425\tTol1: 0.00274\tTol2: 0.04183\t\n",
      "Iter 12/50\n",
      "M step: done,  E step: done //  (in 0.19 sec)\tlogL: -1226.766\tTol1: 0.02205\tTol2: 0.04184\t\n",
      "Iter 13/50\n",
      "M step: done,  E step: done //  (in 0.19 sec)\tlogL: -1188.706\tTol1: 0.03103\tTol2: 0.03379\t\n",
      "Iter 14/50\n",
      "M step: done,  E step: done //  (in 0.20 sec)\tlogL: -1174.153\tTol1: 0.01224\tTol2: 0.03224\t\n",
      "Iter 15/50\n",
      "M step: done,  E step: done //  (in 0.18 sec)\tlogL: -1165.542\tTol1: 0.00733\tTol2: 0.02856\t\n",
      "Finished training!\n",
      "Initializing new EM...\n",
      "Doing clustering...Done!\n",
      "Pre-train networks over *z* on 3 epochs... Done!\n",
      "Betas:  (3, 8, 8)\n",
      "Q estimate:  (2547, 3, 8)\n",
      "Iter 1/50\n",
      "M step: done,  E step: done //  (in 1.22 sec)\tlogL: -1812.747\t\n",
      "Iter 2/50\n",
      "M step: done,  E step: done //  (in 0.19 sec)\tlogL: -1598.611\tTol1: 0.11813\tTol2: 0.21900\t\n",
      "Iter 3/50\n",
      "M step: done,  E step: done //  (in 0.20 sec)\tlogL: -1506.979\tTol1: 0.05732\tTol2: 0.09106\t\n",
      "Iter 4/50\n",
      "M step: done,  E step: done //  (in 0.20 sec)\tlogL: -1457.376\tTol1: 0.03292\tTol2: 0.06281\t\n",
      "Iter 5/50\n",
      "M step: done,  E step: done //  (in 0.19 sec)\tlogL: -1406.341\tTol1: 0.03502\tTol2: 0.04493\t\n",
      "Iter 6/50\n",
      "M step: done,  E step: done //  (in 0.19 sec)\tlogL: -1359.573\tTol1: 0.03325\tTol2: 0.04547\t\n",
      "Iter 7/50\n",
      "M step: done,  E step: done //  (in 0.19 sec)\tlogL: -1346.091\tTol1: 0.00992\tTol2: 0.03261\t\n",
      "Iter 8/50\n",
      "M step: done,  E step: done //  (in 0.18 sec)\tlogL: -1305.988\tTol1: 0.02979\tTol2: 0.04183\t\n",
      "Iter 9/50\n",
      "M step: done,  E step: done //  (in 0.18 sec)\tlogL: -1299.000\tTol1: 0.00535\tTol2: 0.03365\t\n",
      "Iter 10/50\n",
      "M step: done,  E step: done //  (in 0.17 sec)\tlogL: -1276.125\tTol1: 0.01761\tTol2: 0.03753\t\n",
      "Iter 11/50\n",
      "M step: done,  E step: done //  (in 0.19 sec)\tlogL: -1245.626\tTol1: 0.02390\tTol2: 0.03991\t\n",
      "Iter 12/50\n",
      "M step: done,  E step: done //  (in 0.18 sec)\tlogL: -1235.075\tTol1: 0.00847\tTol2: 0.03048\t\n",
      "Iter 13/50\n",
      "M step: done,  E step: done //  (in 0.22 sec)\tlogL: -1224.299\tTol1: 0.00872\tTol2: 0.03737\t\n",
      "Iter 14/50\n",
      "M step: done,  E step: done //  (in 0.22 sec)\tlogL: -1184.745\tTol1: 0.03231\tTol2: 0.03501\t\n",
      "Iter 15/50\n",
      "M step: done,  E step: done //  (in 0.19 sec)\tlogL: -1180.435\tTol1: 0.00364\tTol2: 0.02485\t\n",
      "Finished training!\n",
      "Initializing new EM...\n",
      "Doing clustering...Done!\n",
      "Pre-train networks over *z* on 3 epochs... Done!\n",
      "Betas:  (3, 8, 8)\n",
      "Q estimate:  (2547, 3, 8)\n",
      "Iter 1/50\n",
      "M step: done,  E step: done //  (in 1.26 sec)\tlogL: -1765.812\t\n",
      "Iter 2/50\n",
      "M step: done,  E step: done //  (in 0.22 sec)\tlogL: -1571.735\tTol1: 0.10991\tTol2: 0.23089\t\n",
      "Iter 3/50\n",
      "M step: done,  E step: done //  (in 0.21 sec)\tlogL: -1516.954\tTol1: 0.03485\tTol2: 0.07332\t\n",
      "Iter 4/50\n",
      "M step: done,  E step: done //  (in 0.18 sec)\tlogL: -1478.276\tTol1: 0.02550\tTol2: 0.04999\t\n",
      "Iter 5/50\n",
      "M step: done,  E step: done //  (in 0.18 sec)\tlogL: -1438.576\tTol1: 0.02686\tTol2: 0.03865\t\n",
      "Iter 6/50\n",
      "M step: done,  E step: done //  (in 0.19 sec)\tlogL: -1413.616\tTol1: 0.01735\tTol2: 0.03972\t\n",
      "Iter 7/50\n",
      "M step: done,  E step: done //  (in 0.20 sec)\tlogL: -1365.666\tTol1: 0.03392\tTol2: 0.03840\t\n",
      "Iter 8/50\n",
      "M step: done,  E step: done //  (in 0.20 sec)\tlogL: -1346.401\tTol1: 0.01411\tTol2: 0.04742\t\n",
      "Iter 9/50\n",
      "M step: done,  E step: done //  (in 0.19 sec)\tlogL: -1315.931\tTol1: 0.02263\tTol2: 0.03717\t\n",
      "Iter 10/50\n",
      "M step: done,  E step: done //  (in 0.19 sec)\tlogL: -1297.823\tTol1: 0.01376\tTol2: 0.02920\t\n",
      "Finished training!\n",
      "Initializing new EM...\n",
      "Doing clustering...Done!\n",
      "Pre-train networks over *z* on 3 epochs... Done!\n",
      "Betas:  (3, 8, 8)\n",
      "Q estimate:  (2547, 3, 8)\n",
      "Iter 1/50\n",
      "M step: done,  E step: done //  (in 1.24 sec)\tlogL: -1792.955\t\n",
      "Iter 2/50\n",
      "M step: done,  E step: done //  (in 0.18 sec)\tlogL: -1592.283\tTol1: 0.11192\tTol2: 0.23600\t\n",
      "Iter 3/50\n",
      "M step: done,  E step: done //  (in 0.22 sec)\tlogL: -1509.039\tTol1: 0.05228\tTol2: 0.07979\t\n",
      "Iter 4/50\n",
      "M step: done,  E step: done //  (in 0.21 sec)\tlogL: -1452.995\tTol1: 0.03714\tTol2: 0.05239\t\n",
      "Iter 5/50\n",
      "M step: done,  E step: done //  (in 0.22 sec)\tlogL: -1421.503\tTol1: 0.02167\tTol2: 0.05180\t\n",
      "Iter 6/50\n",
      "M step: done,  E step: done //  (in 0.18 sec)\tlogL: -1397.592\tTol1: 0.01682\tTol2: 0.03436\t\n",
      "Iter 7/50\n",
      "M step: done,  E step: done //  (in 0.19 sec)\tlogL: -1346.728\tTol1: 0.03639\tTol2: 0.04977\t\n",
      "Iter 8/50\n",
      "M step: done,  E step: done //  (in 0.20 sec)\tlogL: -1334.167\tTol1: 0.00933\tTol2: 0.03614\t\n",
      "Iter 9/50\n",
      "M step: done,  E step: done //  (in 0.20 sec)\tlogL: -1304.569\tTol1: 0.02218\tTol2: 0.03889\t\n",
      "Iter 10/50\n",
      "M step: done,  E step: done //  (in 0.22 sec)\tlogL: -1280.493\tTol1: 0.01845\tTol2: 0.02534\t\n",
      "Finished training!\n",
      "Initializing new EM...\n",
      "Doing clustering...Done!\n",
      "Pre-train networks over *z* on 3 epochs... Done!\n",
      "Betas:  (3, 8, 8)\n",
      "Q estimate:  (2547, 3, 8)\n",
      "Iter 1/50\n",
      "M step: done,  E step: done //  (in 1.31 sec)\tlogL: -1722.304\t\n",
      "Iter 2/50\n",
      "M step: done,  E step: done //  (in 0.22 sec)\tlogL: -1501.504\tTol1: 0.12820\tTol2: 0.23233\t\n",
      "Iter 3/50\n",
      "M step: done,  E step: done //  (in 0.20 sec)\tlogL: -1451.201\tTol1: 0.03350\tTol2: 0.07544\t\n",
      "Iter 4/50\n",
      "M step: done,  E step: done //  (in 0.21 sec)\tlogL: -1428.025\tTol1: 0.01597\tTol2: 0.04793\t\n",
      "Iter 5/50\n",
      "M step: done,  E step: done //  (in 0.20 sec)\tlogL: -1388.097\tTol1: 0.02796\tTol2: 0.04967\t\n",
      "Iter 6/50\n",
      "M step: done,  E step: done //  (in 0.19 sec)\tlogL: -1369.246\tTol1: 0.01358\tTol2: 0.02777\t\n",
      "Finished training!\n",
      "Initializing new EM...\n",
      "Doing clustering...Done!\n",
      "Pre-train networks over *z* on 3 epochs... Done!\n",
      "Betas:  (3, 8, 8)\n",
      "Q estimate:  (2547, 3, 8)\n",
      "Iter 1/50\n",
      "M step: done,  E step: done //  (in 1.31 sec)\tlogL: -1748.574\t\n",
      "Iter 2/50\n",
      "M step: done,  E step: done //  (in 0.20 sec)\tlogL: -1573.054\tTol1: 0.10038\tTol2: 0.20307\t\n",
      "Iter 3/50\n",
      "M step: done,  E step: done //  (in 0.19 sec)\tlogL: -1503.457\tTol1: 0.04424\tTol2: 0.08144\t\n",
      "Iter 4/50\n",
      "M step: done,  E step: done //  (in 0.21 sec)\tlogL: -1439.180\tTol1: 0.04275\tTol2: 0.06096\t\n",
      "Iter 5/50\n",
      "M step: done,  E step: done //  (in 0.21 sec)\tlogL: -1393.827\tTol1: 0.03151\tTol2: 0.04203\t\n",
      "Iter 6/50\n",
      "M step: done,  E step: done //  (in 0.19 sec)\tlogL: -1381.234\tTol1: 0.00903\tTol2: 0.04931\t\n",
      "Iter 7/50\n",
      "M step: done,  E step: done //  (in 0.18 sec)\tlogL: -1346.417\tTol1: 0.02521\tTol2: 0.04693\t\n",
      "Iter 8/50\n",
      "M step: done,  E step: done //  (in 0.18 sec)\tlogL: -1311.831\tTol1: 0.02569\tTol2: 0.03622\t\n",
      "Iter 9/50\n",
      "M step: done,  E step: done //  (in 0.21 sec)\tlogL: -1290.366\tTol1: 0.01636\tTol2: 0.02934\t\n",
      "Finished training!\n",
      "Initializing new EM...\n",
      "Doing clustering...Done!\n",
      "Pre-train networks over *z* on 3 epochs... Done!\n",
      "Betas:  (3, 8, 8)\n",
      "Q estimate:  (2547, 3, 8)\n",
      "Iter 1/50\n"
     ]
    },
    {
     "name": "stdout",
     "output_type": "stream",
     "text": [
      "M step: done,  E step: done //  (in 1.34 sec)\tlogL: -1740.961\t\n",
      "Iter 2/50\n",
      "M step: done,  E step: done //  (in 0.23 sec)\tlogL: -1538.272\tTol1: 0.11642\tTol2: 0.27420\t\n",
      "Iter 3/50\n",
      "M step: done,  E step: done //  (in 0.22 sec)\tlogL: -1464.373\tTol1: 0.04804\tTol2: 0.07460\t\n",
      "Iter 4/50\n",
      "M step: done,  E step: done //  (in 0.21 sec)\tlogL: -1424.663\tTol1: 0.02712\tTol2: 0.05999\t\n",
      "Iter 5/50\n",
      "M step: done,  E step: done //  (in 0.21 sec)\tlogL: -1395.462\tTol1: 0.02050\tTol2: 0.04282\t\n",
      "Iter 6/50\n",
      "M step: done,  E step: done //  (in 0.23 sec)\tlogL: -1374.620\tTol1: 0.01494\tTol2: 0.04999\t\n",
      "Iter 7/50\n",
      "M step: done,  E step: done //  (in 0.19 sec)\tlogL: -1319.026\tTol1: 0.04044\tTol2: 0.03236\t\n",
      "Iter 8/50\n",
      "M step: done,  E step: done //  (in 0.18 sec)\tlogL: -1292.551\tTol1: 0.02007\tTol2: 0.03750\t\n",
      "Iter 9/50\n",
      "M step: done,  E step: done //  (in 0.20 sec)\tlogL: -1280.421\tTol1: 0.00938\tTol2: 0.02967\t\n",
      "Finished training!\n",
      "Initializing new EM...\n",
      "Doing clustering...Done!\n",
      "Pre-train networks over *z* on 3 epochs... Done!\n",
      "Betas:  (3, 8, 8)\n",
      "Q estimate:  (2547, 3, 8)\n",
      "Iter 1/50\n",
      "M step: done,  E step: done //  (in 1.33 sec)\tlogL: -1768.469\t\n",
      "Iter 2/50\n",
      "M step: done,  E step: done //  (in 0.19 sec)\tlogL: -1542.504\tTol1: 0.12777\tTol2: 0.25466\t\n",
      "Iter 3/50\n",
      "M step: done,  E step: done //  (in 0.23 sec)\tlogL: -1486.185\tTol1: 0.03651\tTol2: 0.08417\t\n",
      "Iter 4/50\n",
      "M step: done,  E step: done //  (in 0.21 sec)\tlogL: -1437.521\tTol1: 0.03274\tTol2: 0.06379\t\n",
      "Iter 5/50\n",
      "M step: done,  E step: done //  (in 0.18 sec)\tlogL: -1391.394\tTol1: 0.03209\tTol2: 0.03761\t\n",
      "Iter 6/50\n",
      "M step: done,  E step: done //  (in 0.19 sec)\tlogL: -1362.127\tTol1: 0.02103\tTol2: 0.04298\t\n",
      "Iter 7/50\n",
      "M step: done,  E step: done //  (in 0.18 sec)\tlogL: -1329.213\tTol1: 0.02416\tTol2: 0.04517\t\n",
      "Iter 8/50\n",
      "M step: done,  E step: done //  (in 0.19 sec)\tlogL: -1298.794\tTol1: 0.02288\tTol2: 0.03463\t\n",
      "Iter 9/50\n",
      "M step: done,  E step: done //  (in 0.20 sec)\tlogL: -1279.326\tTol1: 0.01499\tTol2: 0.03920\t\n",
      "Iter 10/50\n",
      "M step: done,  E step: done //  (in 0.20 sec)\tlogL: -1262.388\tTol1: 0.01324\tTol2: 0.03441\t\n",
      "Iter 11/50\n",
      "M step: done,  E step: done //  (in 0.18 sec)\tlogL: -1224.950\tTol1: 0.02966\tTol2: 0.03206\t\n",
      "Iter 12/50\n",
      "M step: done,  E step: done //  (in 0.20 sec)\tlogL: -1217.220\tTol1: 0.00631\tTol2: 0.03564\t\n",
      "Iter 13/50\n",
      "M step: done,  E step: done //  (in 0.21 sec)\tlogL: -1189.897\tTol1: 0.02245\tTol2: 0.02990\t\n",
      "Finished training!\n",
      "Initializing new EM...\n",
      "Doing clustering...Done!\n",
      "Pre-train networks over *z* on 3 epochs... Done!\n",
      "Betas:  (3, 8, 8)\n",
      "Q estimate:  (2547, 3, 8)\n",
      "Iter 1/50\n",
      "M step: done,  E step: done //  (in 1.28 sec)\tlogL: -1807.619\t\n",
      "Iter 2/50\n",
      "M step: done,  E step: done //  (in 0.18 sec)\tlogL: -1580.076\tTol1: 0.12588\tTol2: 0.29082\t\n",
      "Iter 3/50\n",
      "M step: done,  E step: done //  (in 0.18 sec)\tlogL: -1493.453\tTol1: 0.05482\tTol2: 0.08605\t\n",
      "Iter 4/50\n",
      "M step: done,  E step: done //  (in 0.19 sec)\tlogL: -1459.367\tTol1: 0.02282\tTol2: 0.04933\t\n",
      "Iter 5/50\n",
      "M step: done,  E step: done //  (in 0.18 sec)\tlogL: -1411.444\tTol1: 0.03284\tTol2: 0.03976\t\n",
      "Iter 6/50\n",
      "M step: done,  E step: done //  (in 0.21 sec)\tlogL: -1375.316\tTol1: 0.02560\tTol2: 0.05095\t\n",
      "Iter 7/50\n",
      "M step: done,  E step: done //  (in 0.22 sec)\tlogL: -1358.409\tTol1: 0.01229\tTol2: 0.03606\t\n",
      "Iter 8/50\n",
      "M step: done,  E step: done //  (in 0.20 sec)\tlogL: -1327.034\tTol1: 0.02310\tTol2: 0.03447\t\n",
      "Iter 9/50\n",
      "M step: done,  E step: done //  (in 0.19 sec)\tlogL: -1298.167\tTol1: 0.02175\tTol2: 0.03043\t\n",
      "Iter 10/50\n",
      "M step: done,  E step: done //  (in 0.21 sec)\tlogL: -1289.456\tTol1: 0.00671\tTol2: 0.03410\t\n",
      "Iter 11/50\n",
      "M step: done,  E step: done //  (in 0.20 sec)\tlogL: -1275.117\tTol1: 0.01112\tTol2: 0.03263\t\n",
      "Iter 12/50\n",
      "M step: done,  E step: done //  (in 0.20 sec)\tlogL: -1240.666\tTol1: 0.02702\tTol2: 0.04579\t\n",
      "Iter 13/50\n",
      "M step: done,  E step: done //  (in 0.19 sec)\tlogL: -1223.309\tTol1: 0.01399\tTol2: 0.02347\t\n",
      "Finished training!\n",
      "Initializing new EM...\n",
      "Doing clustering...Done!\n",
      "Pre-train networks over *z* on 3 epochs... Done!\n",
      "Betas:  (3, 8, 8)\n",
      "Q estimate:  (2547, 3, 8)\n",
      "Iter 1/50\n",
      "M step: done,  E step: done //  (in 1.25 sec)\tlogL: -1758.949\t\n",
      "Iter 2/50\n",
      "M step: done,  E step: done //  (in 0.21 sec)\tlogL: -1540.108\tTol1: 0.12442\tTol2: 0.24186\t\n",
      "Iter 3/50\n",
      "M step: done,  E step: done //  (in 0.19 sec)\tlogL: -1476.009\tTol1: 0.04162\tTol2: 0.09011\t\n",
      "Iter 4/50\n",
      "M step: done,  E step: done //  (in 0.20 sec)\tlogL: -1419.998\tTol1: 0.03795\tTol2: 0.06042\t\n",
      "Iter 5/50\n",
      "M step: done,  E step: done //  (in 0.21 sec)\tlogL: -1383.563\tTol1: 0.02566\tTol2: 0.03991\t\n",
      "Iter 6/50\n",
      "M step: done,  E step: done //  (in 0.19 sec)\tlogL: -1342.532\tTol1: 0.02966\tTol2: 0.03809\t\n",
      "Iter 7/50\n",
      "M step: done,  E step: done //  (in 0.18 sec)\tlogL: -1316.090\tTol1: 0.01970\tTol2: 0.04305\t\n",
      "Iter 8/50\n",
      "M step: done,  E step: done //  (in 0.20 sec)\tlogL: -1286.790\tTol1: 0.02226\tTol2: 0.03404\t\n",
      "Iter 9/50\n",
      "M step: done,  E step: done //  (in 0.18 sec)\tlogL: -1272.593\tTol1: 0.01103\tTol2: 0.03377\t\n",
      "Iter 10/50\n",
      "M step: done,  E step: done //  (in 0.23 sec)\tlogL: -1244.438\tTol1: 0.02212\tTol2: 0.03217\t\n",
      "Iter 11/50\n",
      "M step: done,  E step: done //  (in 0.20 sec)\tlogL: -1225.735\tTol1: 0.01503\tTol2: 0.03639\t\n",
      "Iter 12/50\n",
      "M step: done,  E step: done //  (in 0.18 sec)\tlogL: -1193.667\tTol1: 0.02616\tTol2: 0.02945\t\n",
      "Finished training!\n",
      "Initializing new EM...\n",
      "Doing clustering...Done!\n",
      "Pre-train networks over *z* on 3 epochs... Done!\n",
      "Betas:  (3, 8, 8)\n",
      "Q estimate:  (2547, 3, 8)\n",
      "Iter 1/50\n",
      "M step: done,  E step: done //  (in 1.28 sec)\tlogL: -1782.218\t\n",
      "Iter 2/50\n",
      "M step: done,  E step: done //  (in 0.20 sec)\tlogL: -1549.907\tTol1: 0.13035\tTol2: 0.21918\t\n",
      "Iter 3/50\n",
      "M step: done,  E step: done //  (in 0.19 sec)\tlogL: -1486.668\tTol1: 0.04080\tTol2: 0.08793\t\n",
      "Iter 4/50\n",
      "M step: done,  E step: done //  (in 0.19 sec)\tlogL: -1434.227\tTol1: 0.03527\tTol2: 0.04424\t\n",
      "Iter 5/50\n",
      "M step: done,  E step: done //  (in 0.20 sec)\tlogL: -1393.363\tTol1: 0.02849\tTol2: 0.04415\t\n",
      "Iter 6/50\n",
      "M step: done,  E step: done //  (in 0.21 sec)\tlogL: -1341.460\tTol1: 0.03725\tTol2: 0.03611\t\n",
      "Iter 7/50\n",
      "M step: done,  E step: done //  (in 0.21 sec)\tlogL: -1311.811\tTol1: 0.02210\tTol2: 0.03090\t\n",
      "Iter 8/50\n",
      "M step: done,  E step: done //  (in 0.19 sec)\tlogL: -1295.646\tTol1: 0.01232\tTol2: 0.03234\t\n",
      "Iter 9/50\n",
      "M step: done,  E step: done //  (in 0.20 sec)\tlogL: -1270.076\tTol1: 0.01974\tTol2: 0.03251\t\n",
      "Iter 10/50\n",
      "M step: done,  E step: done //  (in 0.20 sec)\tlogL: -1248.121\tTol1: 0.01729\tTol2: 0.03554\t\n",
      "Iter 11/50\n",
      "M step: done,  E step: done //  (in 0.21 sec)\tlogL: -1217.455\tTol1: 0.02457\tTol2: 0.02633\t\n",
      "Finished training!\n",
      "Initializing new EM...\n",
      "Doing clustering...Done!\n",
      "Pre-train networks over *z* on 3 epochs... Done!\n",
      "Betas:  (3, 8, 8)\n",
      "Q estimate:  (2547, 3, 8)\n",
      "Iter 1/50\n",
      "M step: done,  E step: done //  (in 1.28 sec)\tlogL: -1733.805\t\n",
      "Iter 2/50\n",
      "M step: done,  E step: done //  (in 0.23 sec)\tlogL: -1518.476\tTol1: 0.12419\tTol2: 0.29747\t\n",
      "Iter 3/50\n",
      "M step: done,  E step: done //  (in 0.19 sec)\tlogL: -1475.793\tTol1: 0.02811\tTol2: 0.08599\t\n",
      "Iter 4/50\n",
      "M step: done,  E step: done //  (in 0.19 sec)\tlogL: -1431.072\tTol1: 0.03030\tTol2: 0.06362\t\n",
      "Iter 5/50\n",
      "M step: done,  E step: done //  (in 0.20 sec)\tlogL: -1371.518\tTol1: 0.04162\tTol2: 0.04708\t\n",
      "Iter 6/50\n",
      "M step: done,  E step: done //  (in 0.18 sec)\tlogL: -1334.778\tTol1: 0.02679\tTol2: 0.04471\t\n",
      "Iter 7/50\n",
      "M step: done,  E step: done //  (in 0.19 sec)\tlogL: -1307.447\tTol1: 0.02048\tTol2: 0.02888\t\n",
      "Finished training!\n",
      "Initializing new EM...\n",
      "Doing clustering...Done!\n",
      "Pre-train networks over *z* on 3 epochs... Done!\n",
      "Betas:  (3, 8, 8)\n",
      "Q estimate:  (2547, 3, 8)\n",
      "Iter 1/50\n",
      "M step: done,  E step: done //  (in 1.26 sec)\tlogL: -1808.136\t\n",
      "Iter 2/50\n",
      "M step: done,  E step: done //  (in 0.16 sec)\tlogL: -1549.217\tTol1: 0.14320\tTol2: 0.26778\t\n",
      "Iter 3/50\n",
      "M step: done,  E step: done //  (in 0.20 sec)\tlogL: -1482.998\tTol1: 0.04274\tTol2: 0.08224\t\n",
      "Iter 4/50\n",
      "M step: done,  E step: done //  (in 0.22 sec)\tlogL: -1437.256\tTol1: 0.03084\tTol2: 0.03890\t\n",
      "Iter 5/50\n",
      "M step: done,  E step: done //  (in 0.21 sec)\tlogL: -1419.466\tTol1: 0.01238\tTol2: 0.04053\t\n",
      "Iter 6/50\n",
      "M step: done,  E step: done //  (in 0.21 sec)\tlogL: -1378.003\tTol1: 0.02921\tTol2: 0.04065\t\n",
      "Iter 7/50\n",
      "M step: done,  E step: done //  (in 0.21 sec)\tlogL: -1355.150\tTol1: 0.01658\tTol2: 0.04503\t\n",
      "Iter 8/50\n",
      "M step: done,  E step: done //  (in 0.22 sec)\tlogL: -1337.137\tTol1: 0.01329\tTol2: 0.04313\t\n",
      "Iter 9/50\n"
     ]
    },
    {
     "name": "stdout",
     "output_type": "stream",
     "text": [
      "M step: done,  E step: done //  (in 0.19 sec)\tlogL: -1307.957\tTol1: 0.02182\tTol2: 0.03475\t\n",
      "Iter 10/50\n",
      "M step: done,  E step: done //  (in 0.20 sec)\tlogL: -1288.705\tTol1: 0.01472\tTol2: 0.02645\t\n",
      "Finished training!\n",
      "20  runs over C-MoA, Epochs to converge=  10.95\n"
     ]
    }
   ],
   "source": [
    "#logL_hists,i_r = gMixture_Ind.multiples_run(20,Xstd_train,Y_ann_train, T_idx, \n",
    "#                                   max_iter=EPOCHS_BASE,tolerance=TOL) \n",
    "\n",
    "gMixture_Ind.fit(Xstd_train,Y_ann_train, T_idx, runs = 20, \n",
    "                                   max_iter=EPOCHS_BASE,tolerance=TOL) "
   ]
  },
  {
   "cell_type": "code",
   "execution_count": 27,
   "metadata": {},
   "outputs": [
    {
     "data": {
      "image/png": "[encoded data removed]",
      "text/plain": [
       "<Figure size 1080x504 with 1 Axes>"
      ]
     },
     "metadata": {
      "needs_background": "light"
     },
     "output_type": "display_data"
    }
   ],
   "source": [
    "plt.figure(figsize=(15,7))\n",
    "for a, value in enumerate(logL_hists): #logL_hists\n",
    "    if a != i_r:\n",
    "        plt.plot(range(len(value)),value,'.-')\n",
    "plt.plot(range(len(logL_hists[i_r])),logL_hists[i_r],'o-',markersize=10,label=\"Selected run\")\n",
    "plt.legend()\n",
    "plt.show()"
   ]
  },
  {
   "cell_type": "code",
   "execution_count": 23,
   "metadata": {},
   "outputs": [
    {
     "name": "stdout",
     "output_type": "stream",
     "text": [
      "Train accuracy of model = 0.8\n",
      "Test accuracy of model = 0.8392255892255892\n"
     ]
    }
   ],
   "source": [
    "cmoaK_fx = gMixture_Ind.get_basemodel()\n",
    "\n",
    "from codeE.evaluation import accuracy_model\n",
    "print(\"Train accuracy of model =\", accuracy_model(cmoaK_fx, Xstd_train, Z_train))\n",
    "print(\"Test accuracy of model =\", accuracy_model(cmoaK_fx, Xstd_test, Z_test))"
   ]
  },
  {
   "cell_type": "code",
   "execution_count": null,
   "metadata": {},
   "outputs": [],
   "source": []
  },
  {
   "cell_type": "code",
   "execution_count": null,
   "metadata": {},
   "outputs": [],
   "source": []
  },
  {
   "cell_type": "markdown",
   "metadata": {},
   "source": [
    "### Compare trained models"
   ]
  },
  {
   "cell_type": "code",
   "execution_count": 29,
   "metadata": {},
   "outputs": [],
   "source": [
    "#Import it:\n",
    "from codeE.evaluation import Evaluation_metrics\n",
    "\n",
    "colors = {0: 'b', 1:'r' ,2:'g'}\n",
    "marker_s = {0: 'X', 1:'o', 2:'P'}\n",
    "\n",
    "def plot_alphas(alphas_training):\n",
    "    values = np.asarray(alphas_training)\n",
    "    if len(values.shape) == 3:\n",
    "        group_f = values[-1].argmax(axis=-1) #coloreado por el grupo del final..\n",
    "        \n",
    "        for m in range(M_seted):\n",
    "            plt.figure(figsize=(15,7))\n",
    "            for t in range(values.shape[1]):\n",
    "                plt.plot(values[:,t,m], color=colors[group_f[t]], markersize=5)\n",
    "            plt.title(\"Group \"+str(m))\n",
    "            plt.show()\n",
    "\n",
    "        plt.figure(figsize=(15,10))\n",
    "        for t in range(values.shape[1]):\n",
    "            grupos_t_train = values[:,t,:].argmax(axis=-1)+t/values.shape[1]\n",
    "            plt.plot(grupos_t_train, markersize=5, color=colors[group_f[t]])\n",
    "            #plt.plot(grupos_t_train, markersize=5, marker=marker_s[group_f[t]])\n",
    "\n",
    "        for m in range(M_seted+1):\n",
    "            plt.hlines(m, 0,values.shape[0], linestyles=\"dashed\")\n",
    "        plt.show()\n",
    "        \n",
    "    else:\n",
    "        plt.figure(figsize=(15,7))\n",
    "        for m in range(M_seted):\n",
    "            plt.plot(values[:,m], color=colors[m], markersize=5, label=\"Group \"+str(m))\n",
    "        plt.legend()\n",
    "        plt.show()"
   ]
  },
  {
   "cell_type": "code",
   "execution_count": 29,
   "metadata": {
    "scrolled": true
   },
   "outputs": [
    {
     "name": "stdout",
     "output_type": "stream",
     "text": [
      "Epochs:  11.55\n"
     ]
    },
    {
     "data": {
      "text/html": [
       "<div>\n",
       "<style scoped>\n",
       "    .dataframe tbody tr th:only-of-type {\n",
       "        vertical-align: middle;\n",
       "    }\n",
       "\n",
       "    .dataframe tbody tr th {\n",
       "        vertical-align: top;\n",
       "    }\n",
       "\n",
       "    .dataframe thead th {\n",
       "        text-align: right;\n",
       "    }\n",
       "</style>\n",
       "<table border=\"1\" class=\"dataframe\">\n",
       "  <thead>\n",
       "    <tr style=\"text-align: right;\">\n",
       "      <th></th>\n",
       "      <th></th>\n",
       "      <th>Accuracy_x</th>\n",
       "      <th>F1 (micro)_x</th>\n",
       "      <th>F1 (macro)_x</th>\n",
       "      <th>Accuracy_y</th>\n",
       "      <th>F1 (micro)_y</th>\n",
       "      <th>F1 (macro)_y</th>\n",
       "    </tr>\n",
       "  </thead>\n",
       "  <tbody>\n",
       "    <tr>\n",
       "      <th>0</th>\n",
       "      <td>All</td>\n",
       "      <td>0.97315</td>\n",
       "      <td>0.97315</td>\n",
       "      <td>0.974759</td>\n",
       "      <td>0.012285</td>\n",
       "      <td>0.012285</td>\n",
       "      <td>0.012054</td>\n",
       "    </tr>\n",
       "  </tbody>\n",
       "</table>\n",
       "</div>"
      ],
      "text/plain": [
       "        Accuracy_x  F1 (micro)_x  F1 (macro)_x  Accuracy_y  F1 (micro)_y  \\\n",
       "0  All     0.97315       0.97315      0.974759    0.012285      0.012285   \n",
       "\n",
       "   F1 (macro)_y  \n",
       "0      0.012054  "
      ]
     },
     "execution_count": 29,
     "metadata": {},
     "output_type": "execute_result"
    }
   ],
   "source": [
    "aux_tr = []\n",
    "aux_te = []\n",
    "eps = []\n",
    "for _ in range(20):\n",
    "    model_UB = clone_UB.get_model()\n",
    "    model_UB.compile(loss='categorical_crossentropy',optimizer=OPT)\n",
    "    hist = model_UB.fit(Xstd_train,Z_train_onehot,epochs=EPOCHS_BASE,batch_size=BATCH_SIZE,verbose=0,callbacks=[ourCallback])\n",
    "    Z_train_pred = model_UB.predict_classes(Xstd_train)\n",
    "    Z_test_pred = model_UB.predict_classes(Xstd_test)\n",
    "\n",
    "    evaluate = Evaluation_metrics(model_UB,'keras',Xstd_train.shape[0], plot=False)\n",
    "    aux_tr += evaluate.calculate_metrics(Z=Z_train,Z_pred=Z_train_pred)\n",
    "    aux_te += evaluate.calculate_metrics(Z=Z_test,Z_pred=Z_test_pred)\n",
    "    eps.append(len(hist.epoch))\n",
    "    \n",
    "print(\"Epochs: \",np.mean(eps))\n",
    "final_tr_m = get_mean_dataframes(aux_tr)#.to_csv(\"LabelMe_Ideal_train.csv\",index=False)\n",
    "final_tr_std = get_mean_dataframes(aux_tr, mean_std=False)#.to_csv(\"LabelMe_Ideal_train_std.csv\",index=False)\n",
    "final_te_m = get_mean_dataframes(aux_te)#.to_csv(\"LabelMe_Ideal_test.csv\",index=False)\n",
    "final_te_std = get_mean_dataframes(aux_te, mean_std=False)#.to_csv(\"LabelMe_Ideal_test_std.csv\",index=False)\n",
    "final_tr_m.merge(final_tr_std.iloc[:,1:], left_index=True, right_index=True)"
   ]
  },
  {
   "cell_type": "code",
   "execution_count": 17,
   "metadata": {},
   "outputs": [
    {
     "data": {
      "text/html": [
       "<div>\n",
       "<style scoped>\n",
       "    .dataframe tbody tr th:only-of-type {\n",
       "        vertical-align: middle;\n",
       "    }\n",
       "\n",
       "    .dataframe tbody tr th {\n",
       "        vertical-align: top;\n",
       "    }\n",
       "\n",
       "    .dataframe thead th {\n",
       "        text-align: right;\n",
       "    }\n",
       "</style>\n",
       "<table border=\"1\" class=\"dataframe\">\n",
       "  <thead>\n",
       "    <tr style=\"text-align: right;\">\n",
       "      <th></th>\n",
       "      <th></th>\n",
       "      <th>Accuracy_x</th>\n",
       "      <th>F1 (micro)_x</th>\n",
       "      <th>F1 (macro)_x</th>\n",
       "      <th>Accuracy_y</th>\n",
       "      <th>F1 (micro)_y</th>\n",
       "      <th>F1 (macro)_y</th>\n",
       "    </tr>\n",
       "  </thead>\n",
       "  <tbody>\n",
       "    <tr>\n",
       "      <th>0</th>\n",
       "      <td>All</td>\n",
       "      <td>0.924285</td>\n",
       "      <td>0.924285</td>\n",
       "      <td>0.925649</td>\n",
       "      <td>0.005386</td>\n",
       "      <td>0.005386</td>\n",
       "      <td>0.005658</td>\n",
       "    </tr>\n",
       "  </tbody>\n",
       "</table>\n",
       "</div>"
      ],
      "text/plain": [
       "        Accuracy_x  F1 (micro)_x  F1 (macro)_x  Accuracy_y  F1 (micro)_y  \\\n",
       "0  All    0.924285      0.924285      0.925649    0.005386      0.005386   \n",
       "\n",
       "   F1 (macro)_y  \n",
       "0      0.005658  "
      ]
     },
     "execution_count": 17,
     "metadata": {},
     "output_type": "execute_result"
    }
   ],
   "source": [
    "final_te_m.merge(final_te_std.iloc[:,1:], left_index=True, right_index=True)"
   ]
  },
  {
   "cell_type": "code",
   "execution_count": null,
   "metadata": {},
   "outputs": [],
   "source": []
  },
  {
   "cell_type": "code",
   "execution_count": null,
   "metadata": {
    "collapsed": true
   },
   "outputs": [],
   "source": [
    "evaluate = Evaluation_metrics(model_mvsoft,'keras',Xstd_train.shape[0])\n",
    "evaluate.set_T_weights(T_weights)\n",
    "print(\"*** Soft-Majority (Train with softMV) ***\")\n",
    "\n",
    "print(\"Train\")\n",
    "prob_Yzt = np.tile( mv_conf_probas, (T,1,1) )\n",
    "results1 = evaluate.calculate_metrics(Z=Z_train,Z_pred=Z_train_pred,conf_pred=prob_Yzt,conf_true=confe_matrix_R,\n",
    "                                     conf_true_G =confe_matrix_G, conf_pred_G = mv_conf_probas)\n",
    "\n",
    "print(\"Test\")\n",
    "results2 = evaluate.calculate_metrics(Z=Z_test,Z_pred=Z_test_pred)"
   ]
  },
  {
   "cell_type": "code",
   "execution_count": null,
   "metadata": {},
   "outputs": [],
   "source": [
    "evaluate = Evaluation_metrics(model_ds,'keras',Xstd_train.shape[0])\n",
    "evaluate.set_T_weights(T_weights)\n",
    "print(\"*** Dawid and Skene model (Train with D&S) ***\")\n",
    "\n",
    "print(\"Train\")\n",
    "results1 = evaluate.calculate_metrics(Z=Z_train,Z_pred=Z_train_pred,conf_pred=ds_conf,conf_true=confe_matrix_R,\n",
    "                                     conf_true_G =confe_matrix_G, conf_pred_G = ds_conf.mean(axis=0))\n",
    "\n",
    "print(\"Test\")\n",
    "results2 = evaluate.calculate_metrics(Z=Z_test,Z_pred=Z_test_pred)"
   ]
  },
  {
   "cell_type": "code",
   "execution_count": null,
   "metadata": {},
   "outputs": [],
   "source": [
    "Z_train_p = raykarMC.get_predictions(Xstd_train)\n",
    "Z_train_pred =Z_train_p.argmax(axis=-1)\n",
    "Z_test_pred = raykarMC.get_predictions(Xstd_test).argmax(axis=-1)"
   ]
  },
  {
   "cell_type": "code",
   "execution_count": null,
   "metadata": {},
   "outputs": [],
   "source": [
    "evaluate = Evaluation_metrics(raykarMC,'raykar')\n",
    "print(\"*** Raykar model multiples runs***\")\n",
    "\n",
    "print(\"Train\")\n",
    "prob_Yzt = raykarMC.get_confusionM()\n",
    "prob_Yxt = raykarMC.get_predictions_annot(Xstd_train,data=Z_train_p)\n",
    "results = evaluate.calculate_metrics(Z=Z_train,Z_pred=Z_train_pred,conf_pred=prob_Yzt,conf_true=confe_matrix_R,\n",
    "                                     y_o=y_obs,yo_pred=prob_Yxt,conf_true_G =confe_matrix_G, conf_pred_G = prob_Yzt.mean(axis=0))\n",
    "\n",
    "results = evaluate.calculate_metrics(y_o=y_obs,yo_pred=prob_Yxt)\n",
    "\n",
    "print(\"Test\")\n",
    "results2 = evaluate.calculate_metrics(Z=Z_test,Z_pred=Z_test_pred)"
   ]
  },
  {
   "cell_type": "code",
   "execution_count": null,
   "metadata": {},
   "outputs": [],
   "source": [
    "Z_train_p = gMixture_Global.get_predictions(Xstd_train)\n",
    "Z_train_pred = Z_train_p.argmax(axis=-1)\n",
    "Z_test_p = gMixture_Global.get_predictions(Xstd_test)\n",
    "Z_test_pred = Z_test_p.argmax(axis=-1)"
   ]
  },
  {
   "cell_type": "code",
   "execution_count": null,
   "metadata": {},
   "outputs": [],
   "source": [
    "evaluate = Evaluation_metrics(gMixture_Global,'our1') \n",
    "aux = gMixture_Global.calculate_extra_components(Xstd_train,y_obs,T=T,calculate_pred_annotator=True,p_z=Z_train_p)\n",
    "predictions_m,prob_Gt,prob_Yzt,prob_Yxt =  aux #to evaluate...\n",
    "prob_Yz = gMixture_Global.calculate_Yz()\n",
    "evaluate.set_Gt(prob_Gt)\n",
    "print(\"*** Ours Global multiples runs***\") #lambda = random\n",
    "\n",
    "print(\"Train\")\n",
    "y_o_groups = predictions_m.argmax(axis=-1)\n",
    "results = evaluate.calculate_metrics(Z=Z_train,Z_pred=Z_train_pred,conf_pred=prob_Yzt,conf_true=confe_matrix_R,\n",
    "                                     y_o=y_obs,yo_pred=prob_Yxt, y_o_groups=y_o_groups,\n",
    "                                    conf_true_G =confe_matrix_G, conf_pred_G = prob_Yz)\n",
    "\n",
    "results = evaluate.calculate_metrics(y_o=y_obs,yo_pred=prob_Yxt)\n",
    "\n",
    "print(\"Test\")\n",
    "c_M = gMixture_Global.get_confusionM()\n",
    "y_o_groups = gMixture_Global.get_predictions_groups(Xstd_test,data=Z_test_p).argmax(axis=-1) #obtain p(y^o|x,g=m) and then argmax\n",
    "results = evaluate.calculate_metrics(Z=Z_test,Z_pred=Z_test_pred,conf_pred=c_M, y_o_groups=y_o_groups)"
   ]
  },
  {
   "cell_type": "code",
   "execution_count": null,
   "metadata": {
    "collapsed": true
   },
   "outputs": [],
   "source": [
    "Z_train_p = gMixture_Ind1.get_predictions_z(Xstd_train)\n",
    "Z_train_pred = Z_train_p.argmax(axis=-1)\n",
    "Z_test_p = gMixture_Ind1.get_predictions_z(Xstd_test)\n",
    "Z_test_pred = Z_test_p.argmax(axis=-1)\n",
    "prob_Gt = gMixture_Ind1.get_predictions_g(T_idx_unique) "
   ]
  },
  {
   "cell_type": "code",
   "execution_count": null,
   "metadata": {},
   "outputs": [],
   "source": [
    "evaluate = Evaluation_metrics(gMixture_Ind1,'our1') \n",
    "aux = gMixture_Ind1.calculate_extra_components(Xstd_train, A,calculate_pred_annotator=True,p_z=Z_train_p,p_g=prob_Gt)\n",
    "predictions_m,prob_Gt,prob_Yzt,prob_Yxt =  aux #to evaluate...\n",
    "prob_Yz = gMixture_Ind1.calculate_Yz(prob_Gt)\n",
    "evaluate.set_Gt(prob_Gt)\n",
    "print(\"*** Ours Individual1 multiples runs***\") #lambda = 1\n",
    "\n",
    "print(\"Train\")\n",
    "y_o_groups = predictions_m.argmax(axis=-1)\n",
    "results = evaluate.calculate_metrics(Z=Z_train,Z_pred=Z_train_pred,conf_pred=prob_Yzt,conf_true=confe_matrix_R,\n",
    "                                     y_o=y_obs,yo_pred=prob_Yxt, y_o_groups=y_o_groups,\n",
    "                                    conf_true_G =confe_matrix_G, conf_pred_G = prob_Yz)\n",
    "results = evaluate.calculate_metrics(y_o=y_obs,yo_pred=prob_Yxt)\n",
    "\n",
    "print(\"Test\")\n",
    "c_M = gMixture_Ind1.get_confusionM()\n",
    "y_o_groups = gMixture_Ind1.get_predictions_groups(Xstd_test,data=Z_test_p).argmax(axis=-1) #obtain p(y^o|x,g=m) and then argmax\n",
    "results = evaluate.calculate_metrics(Z=Z_test,Z_pred=Z_test_pred,conf_pred=c_M, y_o_groups=y_o_groups)"
   ]
  },
  {
   "cell_type": "code",
   "execution_count": null,
   "metadata": {},
   "outputs": [],
   "source": [
    "Z_train_p = gMixture_Ind3.get_predictions_z(Xstd_train)\n",
    "Z_train_pred = Z_train_p.argmax(axis=-1)\n",
    "Z_test_p = gMixture_Ind3.get_predictions_z(Xstd_test)\n",
    "Z_test_pred = Z_test_p.argmax(axis=-1)\n",
    "prob_Gt = gMixture_Ind3.get_predictions_g(T_idx_unique)  ########"
   ]
  },
  {
   "cell_type": "code",
   "execution_count": null,
   "metadata": {},
   "outputs": [],
   "source": [
    "evaluate = Evaluation_metrics(gMixture_Ind3,'our1') \n",
    "aux = gMixture_Ind3.calculate_extra_components(Xstd_train, A,calculate_pred_annotator=True,p_z=Z_train_p,p_g=prob_Gt)\n",
    "predictions_m,prob_Gt,prob_Yzt,prob_Yxt =  aux #to evaluate...\n",
    "prob_Yz = gMixture_Ind3.calculate_Yz(prob_Gt)\n",
    "evaluate.set_Gt(prob_Gt)\n",
    "print(\"*** Ours Individual3 multiples runs***\") #lambda = 1\n",
    "\n",
    "print(\"Train\")\n",
    "y_o_groups = predictions_m.argmax(axis=-1)\n",
    "results = evaluate.calculate_metrics(Z=Z_train,Z_pred=Z_train_pred,conf_pred=prob_Yzt,conf_true=confe_matrix_R,\n",
    "                                     y_o=y_obs,yo_pred=prob_Yxt, y_o_groups=y_o_groups,\n",
    "                                    conf_true_G =confe_matrix_G, conf_pred_G = prob_Yz)\n",
    "results = evaluate.calculate_metrics(y_o=y_obs,yo_pred=prob_Yxt)\n",
    "\n",
    "print(\"Test\")\n",
    "c_M = gMixture_Ind3.get_confusionM()\n",
    "y_o_groups = gMixture_Ind3.get_predictions_groups(Xstd_test,data=Z_test_p).argmax(axis=-1) #obtain p(y^o|x,g=m) and then argmax\n",
    "results = evaluate.calculate_metrics(Z=Z_test,Z_pred=Z_test_pred,conf_pred=c_M, y_o_groups=y_o_groups)"
   ]
  },
  {
   "cell_type": "markdown",
   "metadata": {
    "collapsed": true
   },
   "source": [
    "### project confusion matrices"
   ]
  },
  {
   "cell_type": "code",
   "execution_count": null,
   "metadata": {},
   "outputs": [],
   "source": []
  },
  {
   "cell_type": "code",
   "execution_count": 66,
   "metadata": {
    "collapsed": true
   },
   "outputs": [],
   "source": [
    "def flatten_conf(m):\n",
    "    return m.reshape(m.shape[0], np.prod(m.shape[1:]))\n",
    "\n",
    "to_plot = flatten_conf(confe_matrix_R)\n",
    "\n",
    "centroids_plot_G = flatten_conf(gMixture_Global.get_confusionM())\n",
    "centroids_plot_IT = flatten_conf(gMixture_Ind1.get_confusionM())\n",
    "centroids_plot_IK = flatten_conf(gMixture_Ind3.get_confusionM())\n",
    "global_plot = (confe_matrix_G.flatten()).reshape(1,-1)\n",
    "\n",
    "from sklearn.decomposition import PCA\n",
    "model = PCA(2)\n",
    "model.fit(to_plot) \n",
    "\n",
    "to_plot = model.transform(to_plot) \n",
    "centroids_plot_G = model.transform(centroids_plot_G)\n",
    "centroids_plot_IT = model.transform(centroids_plot_IT)\n",
    "centroids_plot_IK = model.transform(centroids_plot_IK)\n",
    "global_plot = model.transform(global_plot)"
   ]
  },
  {
   "cell_type": "code",
   "execution_count": 67,
   "metadata": {},
   "outputs": [
    {
     "data": {
      "image/png": "[encoded data removed]",
      "text/plain": [
       "<Figure size 720x504 with 1 Axes>"
      ]
     },
     "metadata": {},
     "output_type": "display_data"
    }
   ],
   "source": [
    "plt.figure(figsize=(10,7))\n",
    "plt.scatter(to_plot[:,0], to_plot[:,1], label=\"Annotators\")\n",
    "plt.scatter(centroids_plot_G[:,0], centroids_plot_G[:,1], s=150,marker=\"*\", color='g',label=\"Groups Global\", edgecolor='black')\n",
    "plt.scatter(centroids_plot_IT[:,0], centroids_plot_IT[:,1],s=150, marker=\"X\", color='purple',label=\"Groups Indiv model-T\", edgecolor='black')\n",
    "plt.scatter(centroids_plot_IK[:,0], centroids_plot_IK[:,1], s=150, marker=\"X\", color='hotpink',label=\"Groups Indiv model-K\", edgecolor='black')\n",
    "#plt.scatter(global_plot[:,0], global_plot[:,1],label=\"Global\")\n",
    "\n",
    "plt.legend()\n",
    "plt.show()#nuevo"
   ]
  }
 ],
 "metadata": {
  "anaconda-cloud": {},
  "kernelspec": {
   "display_name": "Python [conda env:newpy3_tf1]",
   "language": "python",
   "name": "conda-env-newpy3_tf1-py"
  },
  "language_info": {
   "codemirror_mode": {
    "name": "ipython",
    "version": 3
   },
   "file_extension": ".py",
   "mimetype": "text/x-python",
   "name": "python",
   "nbconvert_exporter": "python",
   "pygments_lexer": "ipython3",
   "version": "3.6.10"
  }
 },
 "nbformat": 4,
 "nbformat_minor": 2
}
