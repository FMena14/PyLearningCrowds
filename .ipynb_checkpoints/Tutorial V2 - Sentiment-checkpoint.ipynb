{
 "cells": [
  {
   "cell_type": "markdown",
   "metadata": {},
   "source": [
    "# Movie Reviews Dataset\n",
    "* Input patterns: movie reviews in natural language.\n",
    "* Labels: sentiment analysis of the text\n",
    "    * Classes: *negative, positive*\n",
    "* Ground truth: What the person thought when writing the review\n",
    "* Annotations: re-collected from Amazon Mechanical Turk (AMT).\n",
    "    * Number of annotators (T) = 203  "
   ]
  },
  {
   "cell_type": "code",
   "execution_count": 1,
   "metadata": {
    "scrolled": true
   },
   "outputs": [
    {
     "name": "stderr",
     "output_type": "stream",
     "text": [
      "Using TensorFlow backend.\n",
      "/home/casapanshop/anaconda2/envs/newpy3_tf1/lib/python3.6/site-packages/tensorflow/python/framework/dtypes.py:516: FutureWarning: Passing (type, 1) or '1type' as a synonym of type is deprecated; in a future version of numpy, it will be understood as (type, (1,)) / '(1,)type'.\n",
      "  _np_qint8 = np.dtype([(\"qint8\", np.int8, 1)])\n",
      "/home/casapanshop/anaconda2/envs/newpy3_tf1/lib/python3.6/site-packages/tensorflow/python/framework/dtypes.py:517: FutureWarning: Passing (type, 1) or '1type' as a synonym of type is deprecated; in a future version of numpy, it will be understood as (type, (1,)) / '(1,)type'.\n",
      "  _np_quint8 = np.dtype([(\"quint8\", np.uint8, 1)])\n",
      "/home/casapanshop/anaconda2/envs/newpy3_tf1/lib/python3.6/site-packages/tensorflow/python/framework/dtypes.py:518: FutureWarning: Passing (type, 1) or '1type' as a synonym of type is deprecated; in a future version of numpy, it will be understood as (type, (1,)) / '(1,)type'.\n",
      "  _np_qint16 = np.dtype([(\"qint16\", np.int16, 1)])\n",
      "/home/casapanshop/anaconda2/envs/newpy3_tf1/lib/python3.6/site-packages/tensorflow/python/framework/dtypes.py:519: FutureWarning: Passing (type, 1) or '1type' as a synonym of type is deprecated; in a future version of numpy, it will be understood as (type, (1,)) / '(1,)type'.\n",
      "  _np_quint16 = np.dtype([(\"quint16\", np.uint16, 1)])\n",
      "/home/casapanshop/anaconda2/envs/newpy3_tf1/lib/python3.6/site-packages/tensorflow/python/framework/dtypes.py:520: FutureWarning: Passing (type, 1) or '1type' as a synonym of type is deprecated; in a future version of numpy, it will be understood as (type, (1,)) / '(1,)type'.\n",
      "  _np_qint32 = np.dtype([(\"qint32\", np.int32, 1)])\n",
      "/home/casapanshop/anaconda2/envs/newpy3_tf1/lib/python3.6/site-packages/tensorflow/python/framework/dtypes.py:525: FutureWarning: Passing (type, 1) or '1type' as a synonym of type is deprecated; in a future version of numpy, it will be understood as (type, (1,)) / '(1,)type'.\n",
      "  np_resource = np.dtype([(\"resource\", np.ubyte, 1)])\n",
      "/home/casapanshop/anaconda2/envs/newpy3_tf1/lib/python3.6/site-packages/tensorboard/compat/tensorflow_stub/dtypes.py:541: FutureWarning: Passing (type, 1) or '1type' as a synonym of type is deprecated; in a future version of numpy, it will be understood as (type, (1,)) / '(1,)type'.\n",
      "  _np_qint8 = np.dtype([(\"qint8\", np.int8, 1)])\n",
      "/home/casapanshop/anaconda2/envs/newpy3_tf1/lib/python3.6/site-packages/tensorboard/compat/tensorflow_stub/dtypes.py:542: FutureWarning: Passing (type, 1) or '1type' as a synonym of type is deprecated; in a future version of numpy, it will be understood as (type, (1,)) / '(1,)type'.\n",
      "  _np_quint8 = np.dtype([(\"quint8\", np.uint8, 1)])\n",
      "/home/casapanshop/anaconda2/envs/newpy3_tf1/lib/python3.6/site-packages/tensorboard/compat/tensorflow_stub/dtypes.py:543: FutureWarning: Passing (type, 1) or '1type' as a synonym of type is deprecated; in a future version of numpy, it will be understood as (type, (1,)) / '(1,)type'.\n",
      "  _np_qint16 = np.dtype([(\"qint16\", np.int16, 1)])\n",
      "/home/casapanshop/anaconda2/envs/newpy3_tf1/lib/python3.6/site-packages/tensorboard/compat/tensorflow_stub/dtypes.py:544: FutureWarning: Passing (type, 1) or '1type' as a synonym of type is deprecated; in a future version of numpy, it will be understood as (type, (1,)) / '(1,)type'.\n",
      "  _np_quint16 = np.dtype([(\"quint16\", np.uint16, 1)])\n",
      "/home/casapanshop/anaconda2/envs/newpy3_tf1/lib/python3.6/site-packages/tensorboard/compat/tensorflow_stub/dtypes.py:545: FutureWarning: Passing (type, 1) or '1type' as a synonym of type is deprecated; in a future version of numpy, it will be understood as (type, (1,)) / '(1,)type'.\n",
      "  _np_qint32 = np.dtype([(\"qint32\", np.int32, 1)])\n",
      "/home/casapanshop/anaconda2/envs/newpy3_tf1/lib/python3.6/site-packages/tensorboard/compat/tensorflow_stub/dtypes.py:550: FutureWarning: Passing (type, 1) or '1type' as a synonym of type is deprecated; in a future version of numpy, it will be understood as (type, (1,)) / '(1,)type'.\n",
      "  np_resource = np.dtype([(\"resource\", np.ubyte, 1)])\n"
     ]
    }
   ],
   "source": [
    "import numpy as np\n",
    "import pandas as pd\n",
    "import matplotlib.pyplot as plt\n",
    "import seaborn as sns\n",
    "import keras, time, sys, os, gc\n",
    "np.set_printoptions(precision=4, suppress=True)"
   ]
  },
  {
   "cell_type": "code",
   "execution_count": 2,
   "metadata": {},
   "outputs": [],
   "source": [
    "#GLOBAL Variables\n",
    "BATCH_SIZE = 128 #rodrigues = BATCH_SIZE = 64\n",
    "EPOCHS_BASE = 50\n",
    "OPT = 'adam' #optimizer for neural network \n",
    "TOL = 1e-2"
   ]
  },
  {
   "cell_type": "code",
   "execution_count": 3,
   "metadata": {},
   "outputs": [],
   "source": [
    "folder = \"./data/Sentiment/\""
   ]
  },
  {
   "cell_type": "markdown",
   "metadata": {},
   "source": [
    "### Load Data and preprocess"
   ]
  },
  {
   "cell_type": "code",
   "execution_count": 4,
   "metadata": {},
   "outputs": [
    {
     "name": "stdout",
     "output_type": "stream",
     "text": [
      "Num. train texts: 4999\n",
      "Num. test texts:  3999\n"
     ]
    }
   ],
   "source": [
    "from codeE.utils import read_texts\n",
    "texts_train = read_texts(folder+\"Sentiment_text_train.txt\")\n",
    "texts_test  = read_texts(folder+\"Sentiment_text_test.txt\")\n",
    "\n",
    "Z_train = np.loadtxt(folder+\"Sentiment_Z_train.txt\", dtype='int')\n",
    "Z_test  = np.loadtxt(folder+\"Sentiment_Z_test.txt\", dtype='int')\n",
    "\n",
    "print(\"Num. train texts: %d\" % len(texts_train))\n",
    "print(\"Num. test texts:  %d\" % len(texts_test))"
   ]
  },
  {
   "cell_type": "code",
   "execution_count": 5,
   "metadata": {},
   "outputs": [
    {
     "name": "stdout",
     "output_type": "stream",
     "text": [
      "Found 14096 unique tokens.\n"
     ]
    }
   ],
   "source": [
    "from keras import preprocessing\n",
    "MAX_NB_WORDS = 14000\n",
    "tokenizer = preprocessing.text.Tokenizer(num_words=MAX_NB_WORDS)\n",
    "tokenizer.fit_on_texts(texts_train+texts_test)\n",
    "sequences_train = tokenizer.texts_to_sequences(texts_train)\n",
    "sequences_test = tokenizer.texts_to_sequences(texts_test)\n",
    "print('Found %s unique tokens.' % len(tokenizer.word_index))"
   ]
  },
  {
   "cell_type": "code",
   "execution_count": 6,
   "metadata": {},
   "outputs": [
    {
     "name": "stdout",
     "output_type": "stream",
     "text": [
      "Real max:  51\n",
      "Used max:  50\n",
      "Shape of train tensor: (4999, 50)\n"
     ]
    }
   ],
   "source": [
    "lens = list(map(len,sequences_train))\n",
    "max_L = np.max(lens)\n",
    "print(\"Real max: \",max_L)\n",
    "max_L = 50 \n",
    "print(\"Used max: \",max_L)\n",
    "\n",
    "X_train = preprocessing.sequence.pad_sequences(sequences_train, maxlen=max_L,dtype='int32', value=0,padding='pre')\n",
    "X_test = preprocessing.sequence.pad_sequences(sequences_test, maxlen=max_L,dtype='int32', value=0,padding='pre')\n",
    "print('Shape of train tensor:', X_train.shape)"
   ]
  },
  {
   "cell_type": "code",
   "execution_count": 7,
   "metadata": {},
   "outputs": [
    {
     "name": "stdout",
     "output_type": "stream",
     "text": [
      "Preparing embedding matrix.\n",
      "Words found on glove:  12935\n"
     ]
    }
   ],
   "source": [
    "EMBEDDING_DIM = 300\n",
    "GLOVE_FILE = \"../GLOVE/glove.6B.%dd.txt\"%(EMBEDDING_DIM)\n",
    "\n",
    "embeddings_index = {}\n",
    "with open(GLOVE_FILE) as file:\n",
    "    for line in file:\n",
    "        values = line.split()\n",
    "        coefs = np.asarray(values[1:], dtype='float32')\n",
    "        embeddings_index[values[0]] = coefs\n",
    "print('Preparing embedding matrix.')\n",
    "sorted_x = sorted(tokenizer.word_counts.items(), key=lambda kv: kv[1], reverse=True)\n",
    "vocab = {value[0]:tokenizer.word_index[value[0]] for i, value in enumerate(sorted_x) if i < MAX_NB_WORDS}\n",
    "embedding_matrix = np.zeros((len(vocab)+1, EMBEDDING_DIM))\n",
    "v=0\n",
    "for word, i in vocab.items():\n",
    "    embedding_vector = embeddings_index.get(word)\n",
    "    if embedding_vector is not None:\n",
    "        embedding_matrix[i] = embedding_vector # words not found in embedding index will be all-zeros.\n",
    "        v+=1\n",
    "del embeddings_index, sorted_x, tokenizer\n",
    "gc.collect()\n",
    "print(\"Words found on glove: \",v)"
   ]
  },
  {
   "cell_type": "markdown",
   "metadata": {},
   "source": [
    "### Load annotations "
   ]
  },
  {
   "cell_type": "code",
   "execution_count": 8,
   "metadata": {},
   "outputs": [
    {
     "name": "stdout",
     "output_type": "stream",
     "text": [
      "Loading AMT data...\n",
      "Shape (data,annotators):  (4999, 203)\n",
      "Classes:  2\n"
     ]
    }
   ],
   "source": [
    "print(\"Loading AMT data...\")\n",
    "y_obs = np.loadtxt(folder+\"answers.txt\",dtype='int16') #not annotation symbol ==-1\n",
    "\n",
    "N,T = y_obs.shape\n",
    "print(\"Shape (data,annotators): \",(N,T))\n",
    "print(\"Classes: \", np.max(y_obs)+1)"
   ]
  },
  {
   "cell_type": "markdown",
   "metadata": {},
   "source": [
    "### Upper Bound Model -- ideal"
   ]
  },
  {
   "cell_type": "code",
   "execution_count": 9,
   "metadata": {
    "scrolled": true
   },
   "outputs": [],
   "source": [
    "#### Delta Convergence criteria\n",
    "from codeE.learning_models import default_RNN_text, Clonable_Model\n",
    "from codeE.utils import EarlyStopRelative\n",
    "ourCallback = EarlyStopRelative(monitor='loss',patience=1,min_delta=TOL)"
   ]
  },
  {
   "cell_type": "code",
   "execution_count": 10,
   "metadata": {
    "scrolled": true
   },
   "outputs": [
    {
     "name": "stdout",
     "output_type": "stream",
     "text": [
      "WARNING:tensorflow:From /home/casapanshop/anaconda2/envs/newpy3_tf1/lib/python3.6/site-packages/keras/backend/tensorflow_backend.py:66: The name tf.get_default_graph is deprecated. Please use tf.compat.v1.get_default_graph instead.\n",
      "\n",
      "WARNING:tensorflow:From /home/casapanshop/anaconda2/envs/newpy3_tf1/lib/python3.6/site-packages/keras/backend/tensorflow_backend.py:541: The name tf.placeholder is deprecated. Please use tf.compat.v1.placeholder instead.\n",
      "\n",
      "WARNING:tensorflow:From /home/casapanshop/anaconda2/envs/newpy3_tf1/lib/python3.6/site-packages/keras/backend/tensorflow_backend.py:4432: The name tf.random_uniform is deprecated. Please use tf.random.uniform instead.\n",
      "\n",
      "WARNING:tensorflow:From /home/casapanshop/anaconda2/envs/newpy3_tf1/lib/python3.6/site-packages/keras/backend/tensorflow_backend.py:190: The name tf.get_default_session is deprecated. Please use tf.compat.v1.get_default_session instead.\n",
      "\n",
      "WARNING:tensorflow:From /home/casapanshop/anaconda2/envs/newpy3_tf1/lib/python3.6/site-packages/keras/backend/tensorflow_backend.py:197: The name tf.ConfigProto is deprecated. Please use tf.compat.v1.ConfigProto instead.\n",
      "\n",
      "WARNING:tensorflow:From /home/casapanshop/anaconda2/envs/newpy3_tf1/lib/python3.6/site-packages/keras/backend/tensorflow_backend.py:3733: calling dropout (from tensorflow.python.ops.nn_ops) with keep_prob is deprecated and will be removed in a future version.\n",
      "Instructions for updating:\n",
      "Please use `rate` instead of `keep_prob`. Rate should be set to `rate = 1 - keep_prob`.\n",
      "WARNING:tensorflow:From /home/casapanshop/anaconda2/envs/newpy3_tf1/lib/python3.6/site-packages/keras/optimizers.py:793: The name tf.train.Optimizer is deprecated. Please use tf.compat.v1.train.Optimizer instead.\n",
      "\n",
      "WARNING:tensorflow:From /home/casapanshop/anaconda2/envs/newpy3_tf1/lib/python3.6/site-packages/tensorflow/python/ops/math_grad.py:1250: add_dispatch_support.<locals>.wrapper (from tensorflow.python.ops.array_ops) is deprecated and will be removed in a future version.\n",
      "Instructions for updating:\n",
      "Use tf.where in 2.0, which has the same broadcast rule as np.where\n",
      "Trained IDeal Model, Epochs to converge = 50\n"
     ]
    }
   ],
   "source": [
    "Z_train_onehot = keras.utils.to_categorical(Z_train)\n",
    "\n",
    "model_UB = default_RNN_text(max_L, Z_train_onehot.shape[1], embed_M=embedding_matrix)\n",
    "model_UB.compile(loss='categorical_crossentropy',optimizer=OPT)\n",
    "hist = model_UB.fit(X_train,Z_train_onehot,epochs=EPOCHS_BASE,batch_size=BATCH_SIZE,verbose=0,callbacks=[ourCallback])\n",
    "print(\"Trained IDeal Model, Epochs to converge =\",len(hist.epoch))\n",
    "clone_UB = Clonable_Model(model_UB)"
   ]
  },
  {
   "cell_type": "code",
   "execution_count": 11,
   "metadata": {},
   "outputs": [
    {
     "name": "stdout",
     "output_type": "stream",
     "text": [
      "Train accuracy of model = 1.0\n",
      "Test accuracy of model = 0.7214303575893973\n"
     ]
    }
   ],
   "source": [
    "from codeE.evaluation import accuracy_model\n",
    "print(\"Train accuracy of model =\", accuracy_model(model_UB, X_train, Z_train))\n",
    "print(\"Test accuracy of model =\", accuracy_model(model_UB, X_test, Z_test))"
   ]
  },
  {
   "cell_type": "markdown",
   "metadata": {},
   "source": [
    "### Generate Matrix representation of both scenarios"
   ]
  },
  {
   "cell_type": "code",
   "execution_count": 12,
   "metadata": {},
   "outputs": [
    {
     "name": "stdout",
     "output_type": "stream",
     "text": [
      "Individual representation shape (N,T,K)=  (4999, 203, 2)\n",
      "Global representation shape (N,K)=  (4999, 2)\n"
     ]
    }
   ],
   "source": [
    "from codeE.representation import set_representation\n",
    "\n",
    "y_obs_categorical = set_representation(y_obs,'onehot') \n",
    "print(\"Individual representation shape (N,T,K)= \",y_obs_categorical.shape)\n",
    "\n",
    "r_obs = set_representation(y_obs,\"global\")\n",
    "print(\"Global representation shape (N,K)= \",r_obs.shape)"
   ]
  },
  {
   "cell_type": "markdown",
   "metadata": {},
   "source": [
    "## Rodrigues 18' (Raykar without EM)"
   ]
  },
  {
   "cell_type": "code",
   "execution_count": 27,
   "metadata": {},
   "outputs": [
    {
     "name": "stdout",
     "output_type": "stream",
     "text": [
      "Model: \"sequential_1\"\n",
      "_________________________________________________________________\n",
      "Layer (type)                 Output Shape              Param #   \n",
      "=================================================================\n",
      "embedding_1 (Embedding)      (None, 50, 300)           4200300   \n",
      "_________________________________________________________________\n",
      "cu_dnngru_1 (CuDNNGRU)       (None, 50, 128)           165120    \n",
      "_________________________________________________________________\n",
      "dropout_1 (Dropout)          (None, 50, 128)           0         \n",
      "_________________________________________________________________\n",
      "cu_dnngru_2 (CuDNNGRU)       (None, 64)                37248     \n",
      "_________________________________________________________________\n",
      "dropout_2 (Dropout)          (None, 64)                0         \n",
      "_________________________________________________________________\n",
      "dense_1 (Dense)              (None, 2)                 130       \n",
      "=================================================================\n",
      "Total params: 4,402,798\n",
      "Trainable params: 202,498\n",
      "Non-trainable params: 4,200,300\n",
      "_________________________________________________________________\n"
     ]
    }
   ],
   "source": [
    "model_R = clone_UB.get_model()\n",
    "model_R.summary()"
   ]
  },
  {
   "cell_type": "code",
   "execution_count": 28,
   "metadata": {
    "scrolled": true
   },
   "outputs": [
    {
     "name": "stdout",
     "output_type": "stream",
     "text": [
      "Initializing...\n",
      "Pre-train network base_model_z on 3 epochs... Done!\n",
      "Epoch 1/50\n",
      "4999/4999 [==============================] - 1s 183us/step - loss: 3.0843\n",
      "Epoch 2/50\n",
      "4999/4999 [==============================] - 0s 83us/step - loss: 2.9889\n",
      "Epoch 3/50\n",
      "4999/4999 [==============================] - 0s 83us/step - loss: 2.9190\n",
      "Epoch 4/50\n",
      "4999/4999 [==============================] - 0s 82us/step - loss: 2.8742\n",
      "Epoch 5/50\n",
      "4999/4999 [==============================] - 0s 81us/step - loss: 2.8273\n",
      "Epoch 6/50\n",
      "4999/4999 [==============================] - 0s 83us/step - loss: 2.7489\n",
      "Epoch 7/50\n",
      "4999/4999 [==============================] - 0s 83us/step - loss: 2.6997\n",
      "Epoch 8/50\n",
      "4999/4999 [==============================] - 0s 84us/step - loss: 2.6528\n",
      "Epoch 9/50\n",
      "4999/4999 [==============================] - 0s 83us/step - loss: 2.6021\n",
      "Epoch 10/50\n",
      "4999/4999 [==============================] - 0s 82us/step - loss: 2.5673\n",
      "Epoch 11/50\n",
      "4999/4999 [==============================] - 0s 83us/step - loss: 2.5194\n",
      "Epoch 12/50\n",
      "4999/4999 [==============================] - 0s 85us/step - loss: 2.5114\n",
      "Finished training\n",
      "Initializing...\n",
      "Pre-train network base_model_z on 3 epochs... Done!\n",
      "Epoch 1/50\n",
      "4999/4999 [==============================] - 1s 169us/step - loss: 3.1174\n",
      "Epoch 2/50\n",
      "4999/4999 [==============================] - 0s 82us/step - loss: 3.0127\n",
      "Epoch 3/50\n",
      "4999/4999 [==============================] - 0s 83us/step - loss: 2.9235\n",
      "Epoch 4/50\n",
      "4999/4999 [==============================] - 0s 85us/step - loss: 2.8705\n",
      "Epoch 5/50\n",
      "4999/4999 [==============================] - 0s 83us/step - loss: 2.8112\n",
      "Epoch 6/50\n",
      "4999/4999 [==============================] - 0s 83us/step - loss: 2.7763\n",
      "Epoch 7/50\n",
      "4999/4999 [==============================] - 0s 82us/step - loss: 2.7216\n",
      "Epoch 8/50\n",
      "4999/4999 [==============================] - 0s 84us/step - loss: 2.6709\n",
      "Epoch 9/50\n",
      "4999/4999 [==============================] - 0s 84us/step - loss: 2.6295\n",
      "Epoch 10/50\n",
      "4999/4999 [==============================] - 0s 84us/step - loss: 2.5840\n",
      "Epoch 11/50\n",
      "4999/4999 [==============================] - 0s 83us/step - loss: 2.5222\n",
      "Epoch 12/50\n",
      "4999/4999 [==============================] - 0s 83us/step - loss: 2.5074\n",
      "Finished training\n",
      "Initializing...\n",
      "Pre-train network base_model_z on 3 epochs... Done!\n",
      "Epoch 1/50\n",
      "4999/4999 [==============================] - 1s 166us/step - loss: 3.0710\n",
      "Epoch 2/50\n",
      "4999/4999 [==============================] - 0s 83us/step - loss: 2.9744\n",
      "Epoch 3/50\n",
      "4999/4999 [==============================] - 0s 79us/step - loss: 2.8975\n",
      "Epoch 4/50\n",
      "4999/4999 [==============================] - 0s 81us/step - loss: 2.8177\n",
      "Epoch 5/50\n",
      "4999/4999 [==============================] - 0s 83us/step - loss: 2.7582\n",
      "Epoch 6/50\n",
      "4999/4999 [==============================] - 0s 82us/step - loss: 2.6986\n",
      "Epoch 7/50\n",
      "4999/4999 [==============================] - 0s 83us/step - loss: 2.6798\n",
      "Finished training\n",
      "Initializing...\n",
      "Pre-train network base_model_z on 3 epochs... Done!\n",
      "Epoch 1/50\n",
      "4999/4999 [==============================] - 1s 169us/step - loss: 3.1509\n",
      "Epoch 2/50\n",
      "4999/4999 [==============================] - 0s 82us/step - loss: 3.0189\n",
      "Epoch 3/50\n",
      "4999/4999 [==============================] - 0s 81us/step - loss: 2.9422\n",
      "Epoch 4/50\n",
      "4999/4999 [==============================] - 0s 83us/step - loss: 2.9717\n",
      "Epoch 5/50\n",
      "4999/4999 [==============================] - 0s 81us/step - loss: 2.8640\n",
      "Epoch 6/50\n",
      "4999/4999 [==============================] - 0s 80us/step - loss: 2.7815\n",
      "Epoch 7/50\n",
      "4999/4999 [==============================] - 0s 80us/step - loss: 2.7208\n",
      "Epoch 8/50\n",
      "4999/4999 [==============================] - 0s 81us/step - loss: 2.7110\n",
      "Finished training\n",
      "Initializing...\n",
      "Pre-train network base_model_z on 3 epochs... Done!\n",
      "Epoch 1/50\n",
      "4999/4999 [==============================] - 1s 169us/step - loss: 3.1002\n",
      "Epoch 2/50\n",
      "4999/4999 [==============================] - 0s 80us/step - loss: 2.9963\n",
      "Epoch 3/50\n",
      "4999/4999 [==============================] - 0s 80us/step - loss: 2.9487\n",
      "Epoch 4/50\n",
      "4999/4999 [==============================] - 0s 82us/step - loss: 2.8880\n",
      "Epoch 5/50\n",
      "4999/4999 [==============================] - 0s 82us/step - loss: 2.8268\n",
      "Epoch 6/50\n",
      "4999/4999 [==============================] - 0s 81us/step - loss: 2.7898\n",
      "Epoch 7/50\n",
      "4999/4999 [==============================] - 0s 80us/step - loss: 2.7563\n",
      "Epoch 8/50\n",
      "4999/4999 [==============================] - 0s 81us/step - loss: 2.6881\n",
      "Epoch 9/50\n",
      "4999/4999 [==============================] - 0s 80us/step - loss: 2.6371\n",
      "Epoch 10/50\n",
      "4999/4999 [==============================] - 0s 81us/step - loss: 2.5917\n",
      "Epoch 11/50\n",
      "4999/4999 [==============================] - 0s 82us/step - loss: 2.6286\n",
      "Epoch 12/50\n",
      "4999/4999 [==============================] - 0s 81us/step - loss: 2.5509\n",
      "Epoch 13/50\n",
      "4999/4999 [==============================] - 0s 82us/step - loss: 2.5264\n",
      "Finished training\n",
      "Initializing...\n",
      "Pre-train network base_model_z on 3 epochs... Done!\n",
      "Epoch 1/50\n",
      "4999/4999 [==============================] - 1s 171us/step - loss: 3.1698\n",
      "Epoch 2/50\n",
      "4999/4999 [==============================] - 0s 82us/step - loss: 3.0350\n",
      "Epoch 3/50\n",
      "4999/4999 [==============================] - 0s 81us/step - loss: 2.9895\n",
      "Epoch 4/50\n",
      "4999/4999 [==============================] - 0s 84us/step - loss: 2.9461\n",
      "Epoch 5/50\n",
      "4999/4999 [==============================] - 0s 83us/step - loss: 2.8565\n",
      "Epoch 6/50\n",
      "4999/4999 [==============================] - 0s 85us/step - loss: 2.8220\n",
      "Epoch 7/50\n",
      "4999/4999 [==============================] - 0s 86us/step - loss: 2.7620\n",
      "Epoch 8/50\n",
      "4999/4999 [==============================] - 0s 83us/step - loss: 2.7121\n",
      "Epoch 9/50\n",
      "4999/4999 [==============================] - 0s 83us/step - loss: 2.6492\n",
      "Epoch 10/50\n",
      "4999/4999 [==============================] - 0s 83us/step - loss: 2.6106\n",
      "Epoch 11/50\n",
      "4999/4999 [==============================] - 0s 81us/step - loss: 2.5456\n",
      "Epoch 12/50\n",
      "4999/4999 [==============================] - 0s 82us/step - loss: 2.5055\n",
      "Epoch 13/50\n",
      "4999/4999 [==============================] - 0s 83us/step - loss: 2.4878\n",
      "Finished training\n",
      "Initializing...\n",
      "Pre-train network base_model_z on 3 epochs... Done!\n",
      "Epoch 1/50\n",
      "4999/4999 [==============================] - 1s 173us/step - loss: 3.1481\n",
      "Epoch 2/50\n",
      "4999/4999 [==============================] - 0s 84us/step - loss: 3.0352\n",
      "Epoch 3/50\n",
      "4999/4999 [==============================] - 0s 84us/step - loss: 2.9242\n",
      "Epoch 4/50\n",
      "4999/4999 [==============================] - 0s 83us/step - loss: 2.8914\n",
      "Epoch 5/50\n",
      "4999/4999 [==============================] - 0s 82us/step - loss: 2.8747\n",
      "Finished training\n",
      "Initializing...\n",
      "Pre-train network base_model_z on 3 epochs... Done!\n",
      "Epoch 1/50\n",
      "4999/4999 [==============================] - 1s 167us/step - loss: 3.1001\n",
      "Epoch 2/50\n",
      "4999/4999 [==============================] - 0s 81us/step - loss: 2.9791\n",
      "Epoch 3/50\n",
      "4999/4999 [==============================] - 0s 81us/step - loss: 2.9236\n",
      "Epoch 4/50\n",
      "4999/4999 [==============================] - 0s 82us/step - loss: 2.8591\n",
      "Epoch 5/50\n",
      "4999/4999 [==============================] - 0s 82us/step - loss: 2.7940\n",
      "Epoch 6/50\n",
      "4999/4999 [==============================] - 0s 84us/step - loss: 2.7374\n",
      "Epoch 7/50\n",
      "4999/4999 [==============================] - 0s 84us/step - loss: 2.6926\n",
      "Epoch 8/50\n",
      "4999/4999 [==============================] - 0s 83us/step - loss: 2.6378\n",
      "Epoch 9/50\n",
      "4999/4999 [==============================] - 0s 83us/step - loss: 2.6149\n",
      "Finished training\n",
      "Initializing...\n",
      "Pre-train network base_model_z on 3 epochs... Done!\n",
      "Epoch 1/50\n",
      "4999/4999 [==============================] - 1s 170us/step - loss: 3.1390\n",
      "Epoch 2/50\n",
      "4999/4999 [==============================] - 0s 84us/step - loss: 3.0396\n",
      "Epoch 3/50\n",
      "4999/4999 [==============================] - 0s 84us/step - loss: 2.9614\n",
      "Epoch 4/50\n",
      "4999/4999 [==============================] - 0s 84us/step - loss: 2.9240\n",
      "Epoch 5/50\n",
      "4999/4999 [==============================] - 0s 83us/step - loss: 2.8514\n",
      "Epoch 6/50\n",
      "4999/4999 [==============================] - 0s 82us/step - loss: 2.7990\n",
      "Epoch 7/50\n",
      "4999/4999 [==============================] - 0s 81us/step - loss: 2.7395\n",
      "Epoch 8/50\n",
      "4999/4999 [==============================] - 0s 83us/step - loss: 2.6878\n",
      "Epoch 9/50\n",
      "4999/4999 [==============================] - 0s 83us/step - loss: 2.7482\n",
      "Epoch 10/50\n"
     ]
    },
    {
     "name": "stdout",
     "output_type": "stream",
     "text": [
      "4999/4999 [==============================] - 0s 82us/step - loss: 2.6147\n",
      "Epoch 11/50\n",
      "4999/4999 [==============================] - 0s 81us/step - loss: 2.5806\n",
      "Epoch 12/50\n",
      "4999/4999 [==============================] - 0s 83us/step - loss: 2.5361\n",
      "Epoch 13/50\n",
      "4999/4999 [==============================] - 0s 85us/step - loss: 2.4905\n",
      "Epoch 14/50\n",
      "4999/4999 [==============================] - 0s 86us/step - loss: 2.4602\n",
      "Epoch 15/50\n",
      "4999/4999 [==============================] - 0s 86us/step - loss: 2.4300\n",
      "Epoch 16/50\n",
      "4999/4999 [==============================] - 0s 83us/step - loss: 2.4065\n",
      "Finished training\n",
      "Initializing...\n",
      "Pre-train network base_model_z on 3 epochs... Done!\n",
      "Epoch 1/50\n",
      "4999/4999 [==============================] - 1s 170us/step - loss: 3.1693\n",
      "Epoch 2/50\n",
      "4999/4999 [==============================] - 0s 82us/step - loss: 3.0128\n",
      "Epoch 3/50\n",
      "4999/4999 [==============================] - 0s 81us/step - loss: 2.9510\n",
      "Epoch 4/50\n",
      "4999/4999 [==============================] - 0s 82us/step - loss: 2.8863\n",
      "Epoch 5/50\n",
      "4999/4999 [==============================] - 0s 82us/step - loss: 2.8616\n",
      "Finished training\n",
      "10 runs over Rodrigues 18', Epochs to converge=  10.0\n"
     ]
    }
   ],
   "source": [
    "from codeE.methods import ModelInf_BP as Rodrigues18\n",
    "#Ro_model = Rodrigues18(init_conf=\"default\",\n",
    "Ro_model = Rodrigues18(init_Z=\"softmv\", n_init_Z= 3, init_conf=\"model\",\n",
    "                       prior_lamb = 0) #prior on lambda KL restriction on MV\n",
    "args = {'batch_size':BATCH_SIZE, 'optimizer':OPT} \n",
    "Ro_model.set_model(model_R, **args)\n",
    "\n",
    "logL_hists, i_r = Ro_model.fit(X_train, y_obs_categorical, runs=10, max_iter=EPOCHS_BASE, tolerance=TOL)"
   ]
  },
  {
   "cell_type": "code",
   "execution_count": 29,
   "metadata": {},
   "outputs": [
    {
     "data": {
      "image/png": "[encoded data removed]",
      "text/plain": [
       "<Figure size 1080x504 with 1 Axes>"
      ]
     },
     "metadata": {
      "needs_background": "light"
     },
     "output_type": "display_data"
    }
   ],
   "source": [
    "plt.figure(figsize=(15,7))\n",
    "for a, value in enumerate(logL_hists): \n",
    "    if a != i_r:\n",
    "        plt.plot(range(len(value)),value,'.-')\n",
    "plt.plot(range(len(logL_hists[i_r])),logL_hists[i_r],'o-',markersize=10,label=\"Selected run\")\n",
    "plt.legend()\n",
    "plt.show()"
   ]
  },
  {
   "cell_type": "code",
   "execution_count": 30,
   "metadata": {},
   "outputs": [
    {
     "name": "stdout",
     "output_type": "stream",
     "text": [
      "Train accuracy of model = 0.885377075415083\n",
      "Test accuracy of model = 0.75743935983996\n"
     ]
    }
   ],
   "source": [
    "raykar_fx = Ro_model.get_basemodel()\n",
    "\n",
    "from codeE.evaluation import accuracy_model\n",
    "print(\"Train accuracy of model =\", accuracy_model(raykar_fx, X_train, Z_train))\n",
    "print(\"Test accuracy of model =\", accuracy_model(raykar_fx, X_test, Z_test))"
   ]
  },
  {
   "cell_type": "markdown",
   "metadata": {},
   "source": [
    "## Global Behavior - Label Noise\n",
    "Based on Noise Channel of Bekker and Goldberg"
   ]
  },
  {
   "cell_type": "code",
   "execution_count": 18,
   "metadata": {},
   "outputs": [
    {
     "name": "stdout",
     "output_type": "stream",
     "text": [
      "Model: \"sequential_1\"\n",
      "_________________________________________________________________\n",
      "Layer (type)                 Output Shape              Param #   \n",
      "=================================================================\n",
      "embedding_1 (Embedding)      (None, 50, 300)           4200300   \n",
      "_________________________________________________________________\n",
      "cu_dnngru_1 (CuDNNGRU)       (None, 50, 128)           165120    \n",
      "_________________________________________________________________\n",
      "dropout_1 (Dropout)          (None, 50, 128)           0         \n",
      "_________________________________________________________________\n",
      "cu_dnngru_2 (CuDNNGRU)       (None, 64)                37248     \n",
      "_________________________________________________________________\n",
      "dropout_2 (Dropout)          (None, 64)                0         \n",
      "_________________________________________________________________\n",
      "dense_1 (Dense)              (None, 2)                 130       \n",
      "=================================================================\n",
      "Total params: 4,402,798\n",
      "Trainable params: 202,498\n",
      "Non-trainable params: 4,200,300\n",
      "_________________________________________________________________\n"
     ]
    }
   ],
   "source": [
    "aux_model = clone_UB.get_model()\n",
    "aux_model.summary()"
   ]
  },
  {
   "cell_type": "code",
   "execution_count": 19,
   "metadata": {
    "scrolled": true
   },
   "outputs": [
    {
     "name": "stdout",
     "output_type": "stream",
     "text": [
      "Initializing...\n",
      "Pre-train network base_model_z on 3 epochs... Done!\n",
      "Epoch 1/50\n",
      "4999/4999 [==============================] - 1s 197us/step - loss: 3.2668\n",
      "Epoch 2/50\n",
      "4999/4999 [==============================] - 0s 82us/step - loss: 3.1630\n",
      "Epoch 3/50\n",
      "4999/4999 [==============================] - 0s 84us/step - loss: 3.1130\n",
      "Epoch 4/50\n",
      "4999/4999 [==============================] - 0s 86us/step - loss: 3.0587\n",
      "Epoch 5/50\n",
      "4999/4999 [==============================] - 0s 85us/step - loss: 2.9722\n",
      "Epoch 6/50\n",
      "4999/4999 [==============================] - 0s 85us/step - loss: 2.9350\n",
      "Epoch 7/50\n",
      "4999/4999 [==============================] - 0s 81us/step - loss: 2.9004\n",
      "Epoch 8/50\n",
      "4999/4999 [==============================] - 0s 81us/step - loss: 2.8169\n",
      "Epoch 9/50\n",
      "4999/4999 [==============================] - 0s 82us/step - loss: 2.8202\n",
      "Finished training\n",
      "Initializing...\n",
      "Pre-train network base_model_z on 3 epochs... Done!\n",
      "Epoch 1/50\n",
      "4999/4999 [==============================] - 1s 169us/step - loss: 3.3109\n",
      "Epoch 2/50\n",
      "4999/4999 [==============================] - 0s 79us/step - loss: 3.2080\n",
      "Epoch 3/50\n",
      "4999/4999 [==============================] - 0s 78us/step - loss: 3.1526\n",
      "Epoch 4/50\n",
      "4999/4999 [==============================] - 0s 78us/step - loss: 3.1086\n",
      "Epoch 5/50\n",
      "4999/4999 [==============================] - 0s 77us/step - loss: 3.0387\n",
      "Epoch 6/50\n",
      "4999/4999 [==============================] - 0s 79us/step - loss: 2.9753\n",
      "Epoch 7/50\n",
      "4999/4999 [==============================] - 0s 80us/step - loss: 2.9373\n",
      "Epoch 8/50\n",
      "4999/4999 [==============================] - 0s 79us/step - loss: 2.8877\n",
      "Epoch 9/50\n",
      "4999/4999 [==============================] - 0s 81us/step - loss: 2.8297\n",
      "Epoch 10/50\n",
      "4999/4999 [==============================] - 0s 78us/step - loss: 2.7797\n",
      "Epoch 11/50\n",
      "4999/4999 [==============================] - 0s 79us/step - loss: 2.7377\n",
      "Epoch 12/50\n",
      "4999/4999 [==============================] - 0s 80us/step - loss: 2.6890\n",
      "Epoch 13/50\n",
      "4999/4999 [==============================] - 0s 81us/step - loss: 2.6671\n",
      "Finished training\n",
      "Initializing...\n",
      "Pre-train network base_model_z on 3 epochs... Done!\n",
      "Epoch 1/50\n",
      "4999/4999 [==============================] - 1s 177us/step - loss: 3.2102\n",
      "Epoch 2/50\n",
      "4999/4999 [==============================] - 0s 81us/step - loss: 3.1124\n",
      "Epoch 3/50\n",
      "4999/4999 [==============================] - 0s 83us/step - loss: 3.0675\n",
      "Epoch 4/50\n",
      "4999/4999 [==============================] - 0s 80us/step - loss: 2.9986\n",
      "Epoch 5/50\n",
      "4999/4999 [==============================] - 0s 82us/step - loss: 2.9588\n",
      "Epoch 6/50\n",
      "4999/4999 [==============================] - 0s 81us/step - loss: 2.9903\n",
      "Epoch 7/50\n",
      "4999/4999 [==============================] - 0s 82us/step - loss: 2.8464\n",
      "Epoch 8/50\n",
      "4999/4999 [==============================] - 0s 81us/step - loss: 2.8084\n",
      "Epoch 9/50\n",
      "4999/4999 [==============================] - 0s 83us/step - loss: 2.7413\n",
      "Epoch 10/50\n",
      "4999/4999 [==============================] - 0s 84us/step - loss: 2.7054\n",
      "Epoch 11/50\n",
      "4999/4999 [==============================] - 0s 84us/step - loss: 2.6550\n",
      "Epoch 12/50\n",
      "4999/4999 [==============================] - 0s 83us/step - loss: 2.6780\n",
      "Finished training\n",
      "Initializing...\n",
      "Pre-train network base_model_z on 3 epochs... Done!\n",
      "Epoch 1/50\n",
      "4999/4999 [==============================] - 1s 177us/step - loss: 3.2573\n",
      "Epoch 2/50\n",
      "4999/4999 [==============================] - 0s 82us/step - loss: 3.1577\n",
      "Epoch 3/50\n",
      "4999/4999 [==============================] - 0s 82us/step - loss: 3.0801\n",
      "Epoch 4/50\n",
      "4999/4999 [==============================] - 0s 83us/step - loss: 3.0979\n",
      "Finished training\n",
      "Initializing...\n",
      "Pre-train network base_model_z on 3 epochs... Done!\n",
      "Epoch 1/50\n",
      "4999/4999 [==============================] - 1s 168us/step - loss: 3.2558\n",
      "Epoch 2/50\n",
      "4999/4999 [==============================] - 0s 80us/step - loss: 3.1546\n",
      "Epoch 3/50\n",
      "4999/4999 [==============================] - 0s 83us/step - loss: 3.0878\n",
      "Epoch 4/50\n",
      "4999/4999 [==============================] - 0s 81us/step - loss: 3.0235\n",
      "Epoch 5/50\n",
      "4999/4999 [==============================] - 0s 81us/step - loss: 2.9846\n",
      "Epoch 6/50\n",
      "4999/4999 [==============================] - 0s 78us/step - loss: 2.9331\n",
      "Epoch 7/50\n",
      "4999/4999 [==============================] - 0s 78us/step - loss: 2.9098\n",
      "Finished training\n",
      "Initializing...\n",
      "Pre-train network base_model_z on 3 epochs... Done!\n",
      "Epoch 1/50\n",
      "4999/4999 [==============================] - 1s 172us/step - loss: 3.2682\n",
      "Epoch 2/50\n",
      "4999/4999 [==============================] - 0s 83us/step - loss: 3.1409\n",
      "Epoch 3/50\n",
      "4999/4999 [==============================] - 0s 82us/step - loss: 3.0797\n",
      "Epoch 4/50\n",
      "4999/4999 [==============================] - 0s 83us/step - loss: 3.0370\n",
      "Epoch 5/50\n",
      "4999/4999 [==============================] - 0s 83us/step - loss: 2.9666\n",
      "Epoch 6/50\n",
      "4999/4999 [==============================] - 0s 82us/step - loss: 2.9381\n",
      "Finished training\n",
      "Initializing...\n",
      "Pre-train network base_model_z on 3 epochs... Done!\n",
      "Epoch 1/50\n",
      "4999/4999 [==============================] - 1s 171us/step - loss: 3.2726\n",
      "Epoch 2/50\n",
      "4999/4999 [==============================] - 0s 82us/step - loss: 3.1745\n",
      "Epoch 3/50\n",
      "4999/4999 [==============================] - 0s 82us/step - loss: 3.0912\n",
      "Epoch 4/50\n",
      "4999/4999 [==============================] - 0s 81us/step - loss: 3.0402\n",
      "Epoch 5/50\n",
      "4999/4999 [==============================] - 0s 84us/step - loss: 2.9890\n",
      "Epoch 6/50\n",
      "4999/4999 [==============================] - 0s 81us/step - loss: 2.9180\n",
      "Epoch 7/50\n",
      "4999/4999 [==============================] - 0s 83us/step - loss: 2.8461\n",
      "Epoch 8/50\n",
      "4999/4999 [==============================] - 0s 81us/step - loss: 2.8162\n",
      "Epoch 9/50\n",
      "4999/4999 [==============================] - 0s 81us/step - loss: 2.7617\n",
      "Epoch 10/50\n",
      "4999/4999 [==============================] - 0s 83us/step - loss: 2.7134\n",
      "Epoch 11/50\n",
      "4999/4999 [==============================] - 0s 82us/step - loss: 2.6653\n",
      "Epoch 12/50\n",
      "4999/4999 [==============================] - 0s 81us/step - loss: 2.6513\n",
      "Finished training\n",
      "Initializing...\n",
      "Pre-train network base_model_z on 3 epochs... Done!\n",
      "Epoch 1/50\n",
      "4999/4999 [==============================] - 1s 167us/step - loss: 3.2479\n",
      "Epoch 2/50\n",
      "4999/4999 [==============================] - 0s 83us/step - loss: 3.1489\n",
      "Epoch 3/50\n",
      "4999/4999 [==============================] - 0s 83us/step - loss: 3.1036\n",
      "Epoch 4/50\n",
      "4999/4999 [==============================] - 0s 83us/step - loss: 3.0552\n",
      "Epoch 5/50\n",
      "4999/4999 [==============================] - 0s 81us/step - loss: 2.9689\n",
      "Epoch 6/50\n",
      "4999/4999 [==============================] - 0s 83us/step - loss: 2.9394\n",
      "Finished training\n",
      "Initializing...\n",
      "Pre-train network base_model_z on 3 epochs... Done!\n",
      "Epoch 1/50\n",
      "4999/4999 [==============================] - 1s 169us/step - loss: 3.2308\n",
      "Epoch 2/50\n",
      "4999/4999 [==============================] - 0s 80us/step - loss: 3.1286\n",
      "Epoch 3/50\n",
      "4999/4999 [==============================] - 0s 81us/step - loss: 3.0533\n",
      "Epoch 4/50\n",
      "4999/4999 [==============================] - 0s 79us/step - loss: 3.0195\n",
      "Epoch 5/50\n",
      "4999/4999 [==============================] - 0s 80us/step - loss: 2.9550\n",
      "Epoch 6/50\n",
      "4999/4999 [==============================] - 0s 79us/step - loss: 2.8901\n",
      "Epoch 7/50\n",
      "4999/4999 [==============================] - 0s 80us/step - loss: 2.8513\n",
      "Epoch 8/50\n",
      "4999/4999 [==============================] - 0s 81us/step - loss: 2.7953\n",
      "Epoch 9/50\n",
      "4999/4999 [==============================] - 0s 84us/step - loss: 2.7381\n",
      "Epoch 10/50\n",
      "4999/4999 [==============================] - 0s 80us/step - loss: 2.7025\n",
      "Epoch 11/50\n",
      "4999/4999 [==============================] - 0s 79us/step - loss: 2.6597\n",
      "Epoch 12/50\n",
      "4999/4999 [==============================] - 0s 80us/step - loss: 2.6618\n",
      "Finished training\n",
      "Initializing...\n",
      "Pre-train network base_model_z on 3 epochs... Done!\n",
      "Epoch 1/50\n",
      "4999/4999 [==============================] - 1s 169us/step - loss: 3.2476\n",
      "Epoch 2/50\n",
      "4999/4999 [==============================] - 0s 82us/step - loss: 3.1476\n",
      "Epoch 3/50\n",
      "4999/4999 [==============================] - 0s 82us/step - loss: 3.0979\n",
      "Epoch 4/50\n",
      "4999/4999 [==============================] - 0s 82us/step - loss: 3.0403\n",
      "Epoch 5/50\n",
      "4999/4999 [==============================] - 0s 82us/step - loss: 2.9733\n",
      "Epoch 6/50\n",
      "4999/4999 [==============================] - 0s 84us/step - loss: 2.9627\n",
      "Finished training\n",
      "10 runs, Epochs to converge=  8.7\n"
     ]
    }
   ],
   "source": [
    "from codeE.methods import ModelInf_BP_G as G_Noise_BP\n",
    "#GNoise_model = G_Noise_BP(init_conf = \"default\") \n",
    "GNoise_model = G_Noise_BP(init_Z='softmv', n_init_Z=3, init_conf = \"model\") \n",
    "args = {'batch_size':BATCH_SIZE, 'optimizer':OPT}\n",
    "GNoise_model.set_model(aux_model, **args)\n",
    "\n",
    "loss_hists,i_r = GNoise_model.fit(X_train, r_obs, runs =10, max_iter=EPOCHS_BASE,tolerance=TOL)"
   ]
  },
  {
   "cell_type": "code",
   "execution_count": 20,
   "metadata": {},
   "outputs": [
    {
     "name": "stdout",
     "output_type": "stream",
     "text": [
      "Train accuracy of model = 0.8709741948389678\n",
      "Test accuracy of model = 0.7549387346836709\n"
     ]
    }
   ],
   "source": [
    "G_fx = GNoise_model.get_basemodel()\n",
    "\n",
    "from codeE.evaluation import accuracy_model\n",
    "print(\"Train accuracy of model =\", accuracy_model(G_fx, X_train, Z_train))\n",
    "print(\"Test accuracy of model =\", accuracy_model(G_fx, X_test, Z_test))"
   ]
  },
  {
   "cell_type": "markdown",
   "metadata": {},
   "source": [
    "## Confusion Matrices Visualization"
   ]
  },
  {
   "cell_type": "code",
   "execution_count": 21,
   "metadata": {},
   "outputs": [],
   "source": [
    "from codeE.utils import generate_confusionM\n",
    "from codeE.utils import plot_confusion_matrix, compare_conf_ma, compare_set_conf_ma\n",
    "from codeE.evaluation import Individual_D, D_JS, D_NormF"
   ]
  },
  {
   "cell_type": "markdown",
   "metadata": {},
   "source": [
    "### Real Confusion matrices\n",
    "Generate the individual and global confusion matrices based on the sampled annotations."
   ]
  },
  {
   "cell_type": "code",
   "execution_count": 22,
   "metadata": {},
   "outputs": [
    {
     "name": "stdout",
     "output_type": "stream",
     "text": [
      "Individual matrix shape (T,K,K)=  (203, 2, 2)\n",
      "Global matrix shape (K,K)=  (2, 2)\n"
     ]
    }
   ],
   "source": [
    "from codeE.utils import generate_Individual_conf, generate_Global_conf\n",
    "\n",
    "conf_matrix_I = generate_Individual_conf(Z_train, y_obs_categorical)\n",
    "print(\"Individual matrix shape (T,K,K)= \",conf_matrix_I.shape)\n",
    "\n",
    "confe_matrix_G = generate_Global_conf(Z_train, r_obs)\n",
    "print(\"Global matrix shape (K,K)= \",confe_matrix_G.shape)"
   ]
  },
  {
   "cell_type": "markdown",
   "metadata": {},
   "source": [
    "> ### Global scenario"
   ]
  },
  {
   "cell_type": "markdown",
   "metadata": {},
   "source": [
    "#### Global - Label Noise (with predictive model)"
   ]
  },
  {
   "cell_type": "code",
   "execution_count": 23,
   "metadata": {},
   "outputs": [
    {
     "data": {
      "image/png": "[encoded data removed]",
      "text/plain": [
       "<Figure size 432x288 with 2 Axes>"
      ]
     },
     "metadata": {
      "needs_background": "light"
     },
     "output_type": "display_data"
    },
    {
     "name": "stdout",
     "output_type": "stream",
     "text": [
      "Global D (based on Jensen Shannon) = 0.0021100736181346226\n",
      "Global D (based on normalized Frobenius) = 0.04427885264158249\n"
     ]
    }
   ],
   "source": [
    "prob_Yz = GNoise_model.get_global_confusionM()\n",
    "compare_conf_ma(prob_Yz, true_conf_mat = confe_matrix_G, text=True)\n",
    "\n",
    "print(\"Global D (based on Jensen Shannon) =\",D_JS(confe_matrix_G, prob_Yz))\n",
    "print(\"Global D (based on normalized Frobenius) =\",D_NormF(confe_matrix_G, prob_Yz))"
   ]
  },
  {
   "cell_type": "markdown",
   "metadata": {},
   "source": [
    ">### Individual scenario\n",
    "#### Rodrigues"
   ]
  },
  {
   "cell_type": "code",
   "execution_count": 24,
   "metadata": {
    "scrolled": true
   },
   "outputs": [
    {
     "name": "stdout",
     "output_type": "stream",
     "text": [
      "Plot 5 random matrices from the set\n"
     ]
    },
    {
     "data": {
      "image/png": "[encoded data removed]",
      "text/plain": [
       "<Figure size 432x288 with 2 Axes>"
      ]
     },
     "metadata": {
      "needs_background": "light"
     },
     "output_type": "display_data"
    },
    {
     "name": "stdout",
     "output_type": "stream",
     "text": [
      "D (based on Jensen Shannon) = 1.2466980225295536\n",
      "D (based on normalized Frobenius) = 0.33042216300964355\n"
     ]
    },
    {
     "data": {
      "image/png": "[encoded data removed]",
      "text/plain": [
       "<Figure size 432x288 with 2 Axes>"
      ]
     },
     "metadata": {
      "needs_background": "light"
     },
     "output_type": "display_data"
    },
    {
     "name": "stdout",
     "output_type": "stream",
     "text": [
      "D (based on Jensen Shannon) = 0.6246232737206822\n",
      "D (based on normalized Frobenius) = 0.8145655393600464\n"
     ]
    },
    {
     "data": {
      "image/png": "[encoded data removed]",
      "text/plain": [
       "<Figure size 432x288 with 2 Axes>"
      ]
     },
     "metadata": {
      "needs_background": "light"
     },
     "output_type": "display_data"
    },
    {
     "name": "stdout",
     "output_type": "stream",
     "text": [
      "D (based on Jensen Shannon) = 0.0\n",
      "D (based on normalized Frobenius) = 0.16061894595623016\n"
     ]
    },
    {
     "data": {
      "image/png": "[encoded data removed]",
      "text/plain": [
       "<Figure size 432x288 with 2 Axes>"
      ]
     },
     "metadata": {
      "needs_background": "light"
     },
     "output_type": "display_data"
    },
    {
     "name": "stdout",
     "output_type": "stream",
     "text": [
      "D (based on Jensen Shannon) = 0.9345358385928124\n",
      "D (based on normalized Frobenius) = 0.3255375027656555\n"
     ]
    },
    {
     "data": {
      "image/png": "[encoded data removed]",
      "text/plain": [
       "<Figure size 432x288 with 2 Axes>"
      ]
     },
     "metadata": {
      "needs_background": "light"
     },
     "output_type": "display_data"
    },
    {
     "name": "stdout",
     "output_type": "stream",
     "text": [
      "D (based on Jensen Shannon) = 0.20216560608923156\n",
      "D (based on normalized Frobenius) = 0.40779227018356323\n"
     ]
    }
   ],
   "source": [
    "prob_Yzt = Ro_model.get_ann_confusionM() # estimate of conf_matrix_I\n",
    "\n",
    "compare_set_conf_ma(prob_Yzt, true_set_conf_ma = conf_matrix_I, text=True, n_samp=5)"
   ]
  },
  {
   "cell_type": "code",
   "execution_count": 26,
   "metadata": {},
   "outputs": [
    {
     "name": "stdout",
     "output_type": "stream",
     "text": [
      "Individual D_JS =  0.09656336411544873\n",
      "Individual D_NormF =  0.2345352100180875\n"
     ]
    }
   ],
   "source": [
    "print(\"Individual D_JS = \",Individual_D(conf_matrix_I, prob_Yzt, D=D_JS))\n",
    "print(\"Individual D_NormF = \",Individual_D(conf_matrix_I, prob_Yzt, D=D_NormF))"
   ]
  },
  {
   "cell_type": "markdown",
   "metadata": {},
   "source": [
    "Negatives values on confusion matrix?\n",
    "> Because the Rodrigues implementation does not consider a probabilistic confusion matrix\n",
    "\n",
    "The model with pre-init over confusion matrices:"
   ]
  },
  {
   "cell_type": "code",
   "execution_count": 35,
   "metadata": {
    "scrolled": true
   },
   "outputs": [
    {
     "name": "stdout",
     "output_type": "stream",
     "text": [
      "Plot 5 random matrices from the set\n"
     ]
    },
    {
     "data": {
      "image/png": "[encoded data removed]",
      "text/plain": [
       "<Figure size 432x288 with 2 Axes>"
      ]
     },
     "metadata": {
      "needs_background": "light"
     },
     "output_type": "display_data"
    },
    {
     "name": "stdout",
     "output_type": "stream",
     "text": [
      "D (based on Jensen Shannon) = 0.015766279759775344\n",
      "D (based on normalized Frobenius) = 0.10996438562870026\n"
     ]
    },
    {
     "data": {
      "image/png": "[encoded data removed]",
      "text/plain": [
       "<Figure size 432x288 with 2 Axes>"
      ]
     },
     "metadata": {
      "needs_background": "light"
     },
     "output_type": "display_data"
    },
    {
     "name": "stdout",
     "output_type": "stream",
     "text": [
      "D (based on Jensen Shannon) = 0.002616200756732275\n",
      "D (based on normalized Frobenius) = 0.04727362096309662\n"
     ]
    },
    {
     "data": {
      "image/png": "[encoded data removed]",
      "text/plain": [
       "<Figure size 432x288 with 2 Axes>"
      ]
     },
     "metadata": {
      "needs_background": "light"
     },
     "output_type": "display_data"
    },
    {
     "name": "stdout",
     "output_type": "stream",
     "text": [
      "D (based on Jensen Shannon) = 0.00214831019843348\n",
      "D (based on normalized Frobenius) = 0.04796246811747551\n"
     ]
    },
    {
     "data": {
      "image/png": "[encoded data removed]",
      "text/plain": [
       "<Figure size 432x288 with 2 Axes>"
      ]
     },
     "metadata": {
      "needs_background": "light"
     },
     "output_type": "display_data"
    },
    {
     "name": "stdout",
     "output_type": "stream",
     "text": [
      "D (based on Jensen Shannon) = 0.006215842650375265\n",
      "D (based on normalized Frobenius) = 0.0627715066075325\n"
     ]
    },
    {
     "data": {
      "image/png": "[encoded data removed]",
      "text/plain": [
       "<Figure size 432x288 with 2 Axes>"
      ]
     },
     "metadata": {
      "needs_background": "light"
     },
     "output_type": "display_data"
    },
    {
     "name": "stdout",
     "output_type": "stream",
     "text": [
      "D (based on Jensen Shannon) = 1.0668088871574245e-06\n",
      "D (based on normalized Frobenius) = 0.0011573313968256116\n"
     ]
    }
   ],
   "source": [
    "prob_Yzt = Ro_model.get_ann_confusionM(norm=\"softmax\") \n",
    "\n",
    "compare_set_conf_ma(prob_Yzt, true_set_conf_ma = conf_matrix_I, text=True, n_samp=5)"
   ]
  },
  {
   "cell_type": "code",
   "execution_count": 37,
   "metadata": {},
   "outputs": [
    {
     "name": "stdout",
     "output_type": "stream",
     "text": [
      "Individual D_JS =  0.0417849964771893\n",
      "Individual D_NormF =  0.12607141418814438\n"
     ]
    }
   ],
   "source": [
    "print(\"Individual D_JS = \",Individual_D(conf_matrix_I, prob_Yzt, D=D_JS))\n",
    "print(\"Individual D_NormF = \",Individual_D(conf_matrix_I, prob_Yzt, D=D_NormF))"
   ]
  }
 ],
 "metadata": {
  "anaconda-cloud": {},
  "kernelspec": {
   "display_name": "Python [conda env:newpy3_tf1]",
   "language": "python",
   "name": "conda-env-newpy3_tf1-py"
  },
  "language_info": {
   "codemirror_mode": {
    "name": "ipython",
    "version": 3
   },
   "file_extension": ".py",
   "mimetype": "text/x-python",
   "name": "python",
   "nbconvert_exporter": "python",
   "pygments_lexer": "ipython3",
   "version": "3.6.10"
  }
 },
 "nbformat": 4,
 "nbformat_minor": 2
}
