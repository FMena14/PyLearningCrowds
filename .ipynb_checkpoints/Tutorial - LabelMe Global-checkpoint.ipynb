{
 "cells": [
  {
   "cell_type": "markdown",
   "metadata": {},
   "source": [
    "# LabelMe Dataset\n",
    "\n",
    "* Input patterns: $256\\times256$ real RGB images of landscapes.\n",
    "* Labels: Mutually exclusive types of landscape.\n",
    "    * Classes: *highway, insidecity, tallbuilding, street, forest, coast, mountain, opencountry*\n",
    "* Ground truth: The original/real image landscape.\n",
    "* Annotations: re-collected from Amazon Mechanical Turk (AMT).\n",
    "    \n",
    "\n",
    "### What if each annotation comes from a different annotator?\n",
    "> Global scenario"
   ]
  },
  {
   "cell_type": "code",
   "execution_count": 1,
   "metadata": {
    "scrolled": true
   },
   "outputs": [
    {
     "name": "stderr",
     "output_type": "stream",
     "text": [
      "Using TensorFlow backend.\n",
      "/home/casapanshop/anaconda2/envs/newpy3_tf1/lib/python3.6/site-packages/tensorflow/python/framework/dtypes.py:516: FutureWarning: Passing (type, 1) or '1type' as a synonym of type is deprecated; in a future version of numpy, it will be understood as (type, (1,)) / '(1,)type'.\n",
      "  _np_qint8 = np.dtype([(\"qint8\", np.int8, 1)])\n",
      "/home/casapanshop/anaconda2/envs/newpy3_tf1/lib/python3.6/site-packages/tensorflow/python/framework/dtypes.py:517: FutureWarning: Passing (type, 1) or '1type' as a synonym of type is deprecated; in a future version of numpy, it will be understood as (type, (1,)) / '(1,)type'.\n",
      "  _np_quint8 = np.dtype([(\"quint8\", np.uint8, 1)])\n",
      "/home/casapanshop/anaconda2/envs/newpy3_tf1/lib/python3.6/site-packages/tensorflow/python/framework/dtypes.py:518: FutureWarning: Passing (type, 1) or '1type' as a synonym of type is deprecated; in a future version of numpy, it will be understood as (type, (1,)) / '(1,)type'.\n",
      "  _np_qint16 = np.dtype([(\"qint16\", np.int16, 1)])\n",
      "/home/casapanshop/anaconda2/envs/newpy3_tf1/lib/python3.6/site-packages/tensorflow/python/framework/dtypes.py:519: FutureWarning: Passing (type, 1) or '1type' as a synonym of type is deprecated; in a future version of numpy, it will be understood as (type, (1,)) / '(1,)type'.\n",
      "  _np_quint16 = np.dtype([(\"quint16\", np.uint16, 1)])\n",
      "/home/casapanshop/anaconda2/envs/newpy3_tf1/lib/python3.6/site-packages/tensorflow/python/framework/dtypes.py:520: FutureWarning: Passing (type, 1) or '1type' as a synonym of type is deprecated; in a future version of numpy, it will be understood as (type, (1,)) / '(1,)type'.\n",
      "  _np_qint32 = np.dtype([(\"qint32\", np.int32, 1)])\n",
      "/home/casapanshop/anaconda2/envs/newpy3_tf1/lib/python3.6/site-packages/tensorflow/python/framework/dtypes.py:525: FutureWarning: Passing (type, 1) or '1type' as a synonym of type is deprecated; in a future version of numpy, it will be understood as (type, (1,)) / '(1,)type'.\n",
      "  np_resource = np.dtype([(\"resource\", np.ubyte, 1)])\n",
      "/home/casapanshop/anaconda2/envs/newpy3_tf1/lib/python3.6/site-packages/tensorboard/compat/tensorflow_stub/dtypes.py:541: FutureWarning: Passing (type, 1) or '1type' as a synonym of type is deprecated; in a future version of numpy, it will be understood as (type, (1,)) / '(1,)type'.\n",
      "  _np_qint8 = np.dtype([(\"qint8\", np.int8, 1)])\n",
      "/home/casapanshop/anaconda2/envs/newpy3_tf1/lib/python3.6/site-packages/tensorboard/compat/tensorflow_stub/dtypes.py:542: FutureWarning: Passing (type, 1) or '1type' as a synonym of type is deprecated; in a future version of numpy, it will be understood as (type, (1,)) / '(1,)type'.\n",
      "  _np_quint8 = np.dtype([(\"quint8\", np.uint8, 1)])\n",
      "/home/casapanshop/anaconda2/envs/newpy3_tf1/lib/python3.6/site-packages/tensorboard/compat/tensorflow_stub/dtypes.py:543: FutureWarning: Passing (type, 1) or '1type' as a synonym of type is deprecated; in a future version of numpy, it will be understood as (type, (1,)) / '(1,)type'.\n",
      "  _np_qint16 = np.dtype([(\"qint16\", np.int16, 1)])\n",
      "/home/casapanshop/anaconda2/envs/newpy3_tf1/lib/python3.6/site-packages/tensorboard/compat/tensorflow_stub/dtypes.py:544: FutureWarning: Passing (type, 1) or '1type' as a synonym of type is deprecated; in a future version of numpy, it will be understood as (type, (1,)) / '(1,)type'.\n",
      "  _np_quint16 = np.dtype([(\"quint16\", np.uint16, 1)])\n",
      "/home/casapanshop/anaconda2/envs/newpy3_tf1/lib/python3.6/site-packages/tensorboard/compat/tensorflow_stub/dtypes.py:545: FutureWarning: Passing (type, 1) or '1type' as a synonym of type is deprecated; in a future version of numpy, it will be understood as (type, (1,)) / '(1,)type'.\n",
      "  _np_qint32 = np.dtype([(\"qint32\", np.int32, 1)])\n",
      "/home/casapanshop/anaconda2/envs/newpy3_tf1/lib/python3.6/site-packages/tensorboard/compat/tensorflow_stub/dtypes.py:550: FutureWarning: Passing (type, 1) or '1type' as a synonym of type is deprecated; in a future version of numpy, it will be understood as (type, (1,)) / '(1,)type'.\n",
      "  np_resource = np.dtype([(\"resource\", np.ubyte, 1)])\n"
     ]
    }
   ],
   "source": [
    "import numpy as np\n",
    "import pandas as pd\n",
    "import matplotlib.pyplot as plt\n",
    "import seaborn as sns\n",
    "import keras, time, sys, os, gc\n",
    "\n",
    "DTYPE_OP = 'float32'\n",
    "keras.backend.set_floatx(DTYPE_OP)\n",
    "\n",
    "if DTYPE_OP == 'float64':\n",
    "    keras.backend.set_epsilon(np.finfo(np.float64).eps)\n",
    "elif DTYPE_OP == 'float32':\n",
    "    keras.backend.set_epsilon(np.finfo(np.float32).eps)\n",
    "    \n",
    "np.set_printoptions(precision=4, suppress=True)"
   ]
  },
  {
   "cell_type": "code",
   "execution_count": 2,
   "metadata": {},
   "outputs": [],
   "source": [
    "#GLOBAL Variables\n",
    "BATCH_SIZE = 128 #rodrigues = BATCH_SIZE = 64\n",
    "EPOCHS_BASE = 50\n",
    "OPT = 'adam' #optimizer for neural network \n",
    "TOL = 3e-2"
   ]
  },
  {
   "cell_type": "code",
   "execution_count": 3,
   "metadata": {},
   "outputs": [],
   "source": [
    "folder = \"./data/LabelMe/\""
   ]
  },
  {
   "cell_type": "markdown",
   "metadata": {},
   "source": [
    "### Load Data and preprocess"
   ]
  },
  {
   "cell_type": "code",
   "execution_count": 4,
   "metadata": {},
   "outputs": [
    {
     "name": "stdout",
     "output_type": "stream",
     "text": [
      "Input shape: (1000, 512)\n",
      "Label shape: (1000,)\n"
     ]
    }
   ],
   "source": [
    "Xstd_train = np.load(folder+\"LabelMe_VGG_avg_train.npy\")\n",
    "Z_train = np.loadtxt(folder+\"LabelMe_Z_train.txt\",dtype='int')\n",
    "\n",
    "Xstd_val = np.load(folder+\"LabelMe_VGG_avg_valid.npy\")\n",
    "Z_val = np.loadtxt(folder+\"LabelMe_Z_valid.txt\",dtype='int')\n",
    "\n",
    "Xstd_test = np.load(folder+\"LabelMe_VGG_avg_test.npy\")\n",
    "Z_test = np.loadtxt(folder+\"LabelMe_Z_test.txt\",dtype='int')\n",
    "\n",
    "print(\"Input shape:\",Xstd_train.shape)\n",
    "print(\"Label shape:\",Z_train.shape)"
   ]
  },
  {
   "cell_type": "code",
   "execution_count": 5,
   "metadata": {},
   "outputs": [
    {
     "data": {
      "image/png": "[encoded data removed]",
      "text/plain": [
       "<Figure size 432x288 with 1 Axes>"
      ]
     },
     "metadata": {
      "needs_background": "light"
     },
     "output_type": "display_data"
    }
   ],
   "source": [
    "sns.countplot(Z_train)\n",
    "plt.show()"
   ]
  },
  {
   "cell_type": "markdown",
   "metadata": {},
   "source": [
    "### Load annotations "
   ]
  },
  {
   "cell_type": "code",
   "execution_count": 6,
   "metadata": {},
   "outputs": [
    {
     "name": "stdout",
     "output_type": "stream",
     "text": [
      "Loading AMT data...\n",
      "Shape (data,annotators):  (1000, 2547)\n",
      "Classes:  8\n"
     ]
    }
   ],
   "source": [
    "print(\"Loading AMT data...\")\n",
    "y_obs = np.loadtxt(folder+\"answers_GLOBAL.txt\",dtype='int16') \n",
    "\n",
    "N,T = y_obs.shape\n",
    "print(\"Shape (data,annotators): \",(N,T))\n",
    "print(\"Classes: \",np.max(y_obs)+1)"
   ]
  },
  {
   "cell_type": "code",
   "execution_count": 7,
   "metadata": {
    "scrolled": true
   },
   "outputs": [
    {
     "data": {
      "image/png": "[encoded data removed]",
      "text/plain": [
       "<Figure size 432x288 with 1 Axes>"
      ]
     },
     "metadata": {
      "needs_background": "light"
     },
     "output_type": "display_data"
    },
    {
     "name": "stdout",
     "output_type": "stream",
     "text": [
      "Minimum annotations in a example:  1\n",
      "Maximum annotations in a example:  3\n",
      "T data (expected value):  2.547\n",
      "Graphics of T weights\n"
     ]
    },
    {
     "data": {
      "image/png": "[encoded data removed]",
      "text/plain": [
       "<Figure size 432x288 with 1 Axes>"
      ]
     },
     "metadata": {
      "needs_background": "light"
     },
     "output_type": "display_data"
    },
    {
     "data": {
      "image/png": "[encoded data removed]",
      "text/plain": [
       "<Figure size 432x288 with 1 Axes>"
      ]
     },
     "metadata": {
      "needs_background": "light"
     },
     "output_type": "display_data"
    },
    {
     "name": "stdout",
     "output_type": "stream",
     "text": [
      "Minimum annotations by an annotator:  1\n",
      "Maximum annotations by an annotator:  1\n",
      "Mean annotations by an annotator:  1.0\n"
     ]
    }
   ],
   "source": [
    "#graphics and distribution? what is T_data\n",
    "N_ann = np.sum(y_obs != -1,axis=1) #distribucion de anotaciones con este valor\n",
    "\n",
    "sns.countplot(N_ann)\n",
    "plt.show()\n",
    "print(\"Minimum annotations in a example: \",N_ann.min())\n",
    "print(\"Maximum annotations in a example: \",N_ann.max())\n",
    "print(\"T data (expected value): \",N_ann.mean())\n",
    "\n",
    "T_weights = np.sum(y_obs != -1,axis=0) \n",
    "print(\"Graphics of T weights\")\n",
    "plt.hist(T_weights)\n",
    "plt.show()\n",
    "\n",
    "plt.boxplot(T_weights)\n",
    "plt.show()\n",
    "print(\"Minimum annotations by an annotator: \",T_weights.min())\n",
    "print(\"Maximum annotations by an annotator: \",T_weights.max())\n",
    "print(\"Mean annotations by an annotator: \",T_weights.mean())"
   ]
  },
  {
   "cell_type": "markdown",
   "metadata": {},
   "source": [
    "### Upper Bound Model -- ideal"
   ]
  },
  {
   "cell_type": "code",
   "execution_count": 8,
   "metadata": {
    "scrolled": true
   },
   "outputs": [],
   "source": [
    "#### Delta Convergence criteria\n",
    "from codeE.learning_models import MLP_Keras, Clonable_Model\n",
    "from codeE.utils import EarlyStopRelative\n",
    "ourCallback = EarlyStopRelative(monitor='loss',patience=1,min_delta=TOL)"
   ]
  },
  {
   "cell_type": "code",
   "execution_count": 9,
   "metadata": {
    "scrolled": true
   },
   "outputs": [
    {
     "name": "stdout",
     "output_type": "stream",
     "text": [
      "WARNING:tensorflow:From /home/casapanshop/anaconda2/envs/newpy3_tf1/lib/python3.6/site-packages/keras/backend/tensorflow_backend.py:66: The name tf.get_default_graph is deprecated. Please use tf.compat.v1.get_default_graph instead.\n",
      "\n",
      "WARNING:tensorflow:From /home/casapanshop/anaconda2/envs/newpy3_tf1/lib/python3.6/site-packages/keras/backend/tensorflow_backend.py:541: The name tf.placeholder is deprecated. Please use tf.compat.v1.placeholder instead.\n",
      "\n",
      "WARNING:tensorflow:From /home/casapanshop/anaconda2/envs/newpy3_tf1/lib/python3.6/site-packages/keras/backend/tensorflow_backend.py:4432: The name tf.random_uniform is deprecated. Please use tf.random.uniform instead.\n",
      "\n",
      "WARNING:tensorflow:From /home/casapanshop/anaconda2/envs/newpy3_tf1/lib/python3.6/site-packages/keras/backend/tensorflow_backend.py:148: The name tf.placeholder_with_default is deprecated. Please use tf.compat.v1.placeholder_with_default instead.\n",
      "\n",
      "WARNING:tensorflow:From /home/casapanshop/anaconda2/envs/newpy3_tf1/lib/python3.6/site-packages/keras/backend/tensorflow_backend.py:3733: calling dropout (from tensorflow.python.ops.nn_ops) with keep_prob is deprecated and will be removed in a future version.\n",
      "Instructions for updating:\n",
      "Please use `rate` instead of `keep_prob`. Rate should be set to `rate = 1 - keep_prob`.\n",
      "WARNING:tensorflow:From /home/casapanshop/anaconda2/envs/newpy3_tf1/lib/python3.6/site-packages/keras/optimizers.py:793: The name tf.train.Optimizer is deprecated. Please use tf.compat.v1.train.Optimizer instead.\n",
      "\n",
      "WARNING:tensorflow:From /home/casapanshop/anaconda2/envs/newpy3_tf1/lib/python3.6/site-packages/keras/backend/tensorflow_backend.py:3576: The name tf.log is deprecated. Please use tf.math.log instead.\n",
      "\n",
      "WARNING:tensorflow:From /home/casapanshop/anaconda2/envs/newpy3_tf1/lib/python3.6/site-packages/tensorflow/python/ops/math_grad.py:1250: add_dispatch_support.<locals>.wrapper (from tensorflow.python.ops.array_ops) is deprecated and will be removed in a future version.\n",
      "Instructions for updating:\n",
      "Use tf.where in 2.0, which has the same broadcast rule as np.where\n",
      "Trained IDeal Model, Epochs to converge = 6\n"
     ]
    }
   ],
   "source": [
    "Z_train_onehot = keras.utils.to_categorical(Z_train)\n",
    "Z_val_onehot = keras.utils.to_categorical(Z_val)\n",
    "\n",
    "model_UB = MLP_Keras(Xstd_train.shape[1:],Z_train_onehot.shape[1],128,1,BN=False,drop=0.5) #true bn?\n",
    "model_UB.compile(loss='categorical_crossentropy',optimizer=OPT)\n",
    "hist=model_UB.fit(Xstd_train,Z_train_onehot,epochs=EPOCHS_BASE,batch_size=BATCH_SIZE,verbose=0,callbacks=[ourCallback]\n",
    "                  ,validation_data=(Xstd_val,Z_val_onehot))\n",
    "clone_UB = Clonable_Model(model_UB, model_UB.input)\n",
    "print(\"Trained IDeal Model, Epochs to converge =\",len(hist.epoch))"
   ]
  },
  {
   "cell_type": "code",
   "execution_count": 10,
   "metadata": {},
   "outputs": [
    {
     "data": {
      "text/plain": [
       "<matplotlib.legend.Legend at 0x7f3d544eb160>"
      ]
     },
     "execution_count": 10,
     "metadata": {},
     "output_type": "execute_result"
    },
    {
     "data": {
      "image/png": "[encoded data removed]",
      "text/plain": [
       "<Figure size 432x288 with 1 Axes>"
      ]
     },
     "metadata": {
      "needs_background": "light"
     },
     "output_type": "display_data"
    }
   ],
   "source": [
    "plt.plot(hist.history[\"loss\"],label=\"train\")\n",
    "plt.plot(hist.history[\"val_loss\"])\n",
    "plt.legend()"
   ]
  },
  {
   "cell_type": "code",
   "execution_count": 11,
   "metadata": {
    "scrolled": false
   },
   "outputs": [
    {
     "name": "stdout",
     "output_type": "stream",
     "text": [
      "Train accuracy of model = 0.9595174436553562\n",
      "Test accuracy of model = 0.9240807160286907\n"
     ]
    }
   ],
   "source": [
    "from codeE.evaluation import f1score_model\n",
    "print(\"Train accuracy of model =\", f1score_model(model_UB, Xstd_train, Z_train))\n",
    "print(\"Test accuracy of model =\", f1score_model(model_UB, Xstd_test, Z_test))"
   ]
  },
  {
   "cell_type": "markdown",
   "metadata": {},
   "source": [
    "### Generate Matrix representation of both scenarios"
   ]
  },
  {
   "cell_type": "code",
   "execution_count": 12,
   "metadata": {},
   "outputs": [
    {
     "name": "stdout",
     "output_type": "stream",
     "text": [
      "Individual representation shape (N,T,K)=  (1000, 2547, 8)\n",
      "Global representation shape (N,K)=  (1000, 8)\n"
     ]
    }
   ],
   "source": [
    "from codeE.representation import set_representation\n",
    "\n",
    "y_obs_categorical = set_representation(y_obs,'onehot') \n",
    "print(\"Individual representation shape (N,T,K)= \",y_obs_categorical.shape)\n",
    "\n",
    "r_obs = set_representation(y_obs,\"global\")\n",
    "print(\"Global representation shape (N,K)= \",r_obs.shape)"
   ]
  },
  {
   "cell_type": "markdown",
   "metadata": {
    "collapsed": true
   },
   "source": [
    "### Real Confusion matrices\n",
    "Generate the individual and global confusion matrices based on the sampled annotations."
   ]
  },
  {
   "cell_type": "code",
   "execution_count": 13,
   "metadata": {
    "scrolled": true
   },
   "outputs": [
    {
     "name": "stdout",
     "output_type": "stream",
     "text": [
      "Individual matrix shape (T,K,K)=  (2547, 8, 8)\n"
     ]
    },
    {
     "data": {
      "text/plain": [
       "array([[[0.125, 0.125, 0.125, ..., 0.125, 0.125, 0.125],\n",
       "        [0.125, 0.125, 0.125, ..., 0.125, 0.125, 0.125],\n",
       "        [0.125, 0.125, 0.125, ..., 0.125, 0.125, 0.125],\n",
       "        ...,\n",
       "        [0.125, 0.125, 0.125, ..., 0.125, 0.125, 0.125],\n",
       "        [0.125, 0.125, 0.125, ..., 0.125, 0.125, 0.125],\n",
       "        [0.125, 0.125, 0.125, ..., 0.125, 0.125, 0.125]],\n",
       "\n",
       "       [[0.125, 0.125, 0.125, ..., 0.125, 0.125, 0.125],\n",
       "        [0.125, 0.125, 0.125, ..., 0.125, 0.125, 0.125],\n",
       "        [0.125, 0.125, 0.125, ..., 0.125, 0.125, 0.125],\n",
       "        ...,\n",
       "        [0.125, 0.125, 0.125, ..., 0.125, 0.125, 0.125],\n",
       "        [0.125, 0.125, 0.125, ..., 0.125, 0.125, 0.125],\n",
       "        [0.125, 0.125, 0.125, ..., 0.125, 0.125, 0.125]],\n",
       "\n",
       "       [[0.125, 0.125, 0.125, ..., 0.125, 0.125, 0.125],\n",
       "        [0.125, 0.125, 0.125, ..., 0.125, 0.125, 0.125],\n",
       "        [0.125, 0.125, 0.125, ..., 0.125, 0.125, 0.125],\n",
       "        ...,\n",
       "        [0.125, 0.125, 0.125, ..., 0.125, 0.125, 0.125],\n",
       "        [0.125, 0.125, 0.125, ..., 0.125, 0.125, 0.125],\n",
       "        [0.125, 0.125, 0.125, ..., 0.125, 0.125, 0.125]],\n",
       "\n",
       "       ...,\n",
       "\n",
       "       [[0.125, 0.125, 0.125, ..., 0.125, 0.125, 0.125],\n",
       "        [0.125, 0.125, 0.125, ..., 0.125, 0.125, 0.125],\n",
       "        [0.   , 0.   , 1.   , ..., 0.   , 0.   , 0.   ],\n",
       "        ...,\n",
       "        [0.125, 0.125, 0.125, ..., 0.125, 0.125, 0.125],\n",
       "        [0.125, 0.125, 0.125, ..., 0.125, 0.125, 0.125],\n",
       "        [0.125, 0.125, 0.125, ..., 0.125, 0.125, 0.125]],\n",
       "\n",
       "       [[0.125, 0.125, 0.125, ..., 0.125, 0.125, 0.125],\n",
       "        [0.125, 0.125, 0.125, ..., 0.125, 0.125, 0.125],\n",
       "        [0.125, 0.125, 0.125, ..., 0.125, 0.125, 0.125],\n",
       "        ...,\n",
       "        [0.125, 0.125, 0.125, ..., 0.125, 0.125, 0.125],\n",
       "        [0.125, 0.125, 0.125, ..., 0.125, 0.125, 0.125],\n",
       "        [0.   , 0.   , 0.   , ..., 0.   , 0.   , 1.   ]],\n",
       "\n",
       "       [[0.125, 0.125, 0.125, ..., 0.125, 0.125, 0.125],\n",
       "        [0.125, 0.125, 0.125, ..., 0.125, 0.125, 0.125],\n",
       "        [0.125, 0.125, 0.125, ..., 0.125, 0.125, 0.125],\n",
       "        ...,\n",
       "        [0.125, 0.125, 0.125, ..., 0.125, 0.125, 0.125],\n",
       "        [0.125, 0.125, 0.125, ..., 0.125, 0.125, 0.125],\n",
       "        [0.   , 0.   , 0.   , ..., 0.   , 0.   , 1.   ]]], dtype=float32)"
      ]
     },
     "execution_count": 13,
     "metadata": {},
     "output_type": "execute_result"
    }
   ],
   "source": [
    "from codeE.utils import generate_Individual_conf\n",
    "\n",
    "conf_matrix_I = generate_Individual_conf(Z_train, y_obs_categorical)\n",
    "print(\"Individual matrix shape (T,K,K)= \",conf_matrix_I.shape)\n",
    "conf_matrix_I"
   ]
  },
  {
   "cell_type": "code",
   "execution_count": 14,
   "metadata": {},
   "outputs": [
    {
     "name": "stdout",
     "output_type": "stream",
     "text": [
      "Global matrix shape (K,K)=  (8, 8)\n"
     ]
    },
    {
     "data": {
      "image/png": "[encoded data removed]",
      "text/plain": [
       "<Figure size 432x288 with 2 Axes>"
      ]
     },
     "metadata": {
      "needs_background": "light"
     },
     "output_type": "display_data"
    }
   ],
   "source": [
    "from codeE.utils import generate_Global_conf\n",
    "\n",
    "#confe_matrix_G = generate_Global_conf(Z_train, y_obs_categorical)\n",
    "confe_matrix_G = generate_Global_conf(Z_train, r_obs)\n",
    "print(\"Global matrix shape (K,K)= \",confe_matrix_G.shape)\n",
    "\n",
    "from codeE.utils import plot_confusion_matrix\n",
    "plot_confusion_matrix(confe_matrix_G, np.arange(8), title= \"Global Matrix\")"
   ]
  },
  {
   "cell_type": "markdown",
   "metadata": {},
   "source": [
    "## Aggregation methods (without predictive model)\n",
    "* Majority Voting (MV)\n",
    "* Weighted Majority Voting\n",
    "* Dawid and Skene (DS): with inference"
   ]
  },
  {
   "cell_type": "code",
   "execution_count": 15,
   "metadata": {
    "scrolled": true
   },
   "outputs": [
    {
     "data": {
      "text/plain": [
       "array([1, 2, 1, 4, 5, 2, 0, 4, 2, 5, 0, 1, 2, 3, 1, 3, 6, 4, 7, 4, 1, 1,\n",
       "       2, 1, 3, 6, 0, 4, 6, 2, 4, 3, 6, 6, 5, 7, 4, 0, 5, 4, 5, 5, 2, 0,\n",
       "       4, 2, 1, 5, 1, 6, 1, 7, 1, 0, 1, 6, 6, 7, 4, 4, 2, 3, 0, 5, 1, 1,\n",
       "       4, 5, 2, 6, 4, 1, 7, 6, 6, 1, 5, 6, 6, 4, 1, 3, 6, 5, 4, 5, 6, 4,\n",
       "       0, 4, 7, 0, 3, 3, 5, 5, 7, 4, 1, 3, 5, 4, 4, 1, 7, 7, 6, 2, 4, 2,\n",
       "       2, 1, 7, 4, 0, 7, 7, 4, 0, 1, 6, 4, 7, 7, 2, 2, 2, 4, 1, 3, 1, 6,\n",
       "       0, 6, 6, 1, 6, 0, 4, 6, 0, 3, 0, 5, 7, 0, 4, 3, 2, 3, 4, 0, 5, 6,\n",
       "       4, 3, 0, 6, 1, 7, 3, 1, 7, 2, 1, 7, 0, 3, 5, 5, 1, 0, 5, 2, 6, 2,\n",
       "       5, 4, 2, 5, 5, 2, 5, 4, 3, 3, 6, 4, 0, 1, 0, 4, 7, 2, 5, 0, 7, 4,\n",
       "       1, 0, 0, 5, 0, 3, 6, 4, 1, 7, 1, 1, 1, 4, 6, 5, 5, 4, 1, 6, 1, 2,\n",
       "       1, 5, 5, 4, 4, 7, 2, 0, 2, 0, 1, 5, 2, 4, 3, 5, 6, 6, 1, 1, 4, 1,\n",
       "       6, 4, 2, 6, 2, 7, 5, 4, 3, 4, 2, 7, 6, 4, 2, 1, 5, 7, 3, 3, 5, 6,\n",
       "       1, 6, 6, 1, 7, 3, 5, 2, 6, 5, 1, 1, 6, 1, 1, 5, 1, 4, 4, 1, 5, 3,\n",
       "       6, 2, 6, 4, 3, 6, 1, 4, 1, 3, 6, 0, 2, 6, 0, 4, 0, 2, 5, 1, 1, 1,\n",
       "       1, 1, 0, 6, 5, 5, 4, 0, 0, 0, 1, 6, 4, 6, 6, 1, 2, 7, 2, 3, 0, 2,\n",
       "       1, 4, 0, 1, 6, 0, 1, 5, 5, 1, 1, 0, 6, 7, 0, 2, 7, 1, 6, 1, 3, 6,\n",
       "       6, 5, 4, 5, 4, 5, 6, 1, 5, 1, 4, 5, 1, 1, 6, 4, 5, 2, 6, 7, 5, 5,\n",
       "       5, 5, 1, 6, 1, 6, 7, 3, 4, 4, 2, 0, 4, 6, 1, 1, 6, 2, 2, 4, 6, 1,\n",
       "       3, 6, 5, 2, 5, 5, 5, 3, 3, 7, 4, 6, 2, 5, 4, 3, 5, 0, 4, 4, 1, 6,\n",
       "       6, 6, 4, 6, 5, 4, 4, 6, 5, 5, 7, 2, 4, 5, 4, 4, 5, 7, 0, 1, 4, 4,\n",
       "       6, 6, 1, 4, 1, 5, 6, 3, 4, 7, 5, 3, 4, 2, 3, 5, 4, 2, 5, 1, 7, 7,\n",
       "       5, 2, 1, 1, 3, 3, 4, 7, 6, 0, 6, 0, 5, 0, 5, 3, 3, 2, 5, 2, 6, 1,\n",
       "       2, 1, 2, 5, 4, 1, 2, 1, 3, 7, 1, 2, 6, 0, 3, 6, 0, 2, 6, 6, 2, 4,\n",
       "       5, 1, 2, 7, 1, 7, 5, 3, 6, 1, 1, 1, 5, 6, 4, 2, 5, 5, 6, 6, 4, 2,\n",
       "       2, 7, 5, 4, 0, 0, 5, 1, 1, 1, 0, 4, 4, 1, 1, 7, 2, 0, 4, 2, 5, 5,\n",
       "       4, 3, 2, 4, 4, 4, 1, 7, 1, 1, 3, 1, 0, 1, 3, 0, 3, 3, 1, 4, 4, 6,\n",
       "       3, 5, 2, 6, 5, 7, 5, 1, 2, 6, 0, 4, 7, 7, 7, 2, 5, 6, 5, 4, 1, 6,\n",
       "       6, 3, 6, 7, 6, 1, 2, 4, 1, 0, 2, 7, 6, 5, 5, 2, 0, 5, 7, 6, 2, 5,\n",
       "       1, 1, 4, 2, 5, 0, 2, 5, 6, 7, 6, 5, 4, 6, 4, 6, 5, 7, 5, 2, 2, 5,\n",
       "       2, 4, 1, 4, 4, 5, 0, 3, 5, 5, 3, 4, 1, 5, 1, 5, 3, 7, 4, 1, 1, 6,\n",
       "       3, 5, 5, 6, 1, 3, 0, 6, 2, 4, 2, 4, 5, 4, 2, 5, 6, 6, 2, 1, 0, 6,\n",
       "       3, 7, 3, 1, 6, 2, 5, 3, 2, 5, 3, 7, 1, 2, 3, 4, 0, 7, 0, 6, 6, 2,\n",
       "       4, 1, 5, 5, 2, 2, 4, 5, 1, 2, 4, 4, 6, 4, 4, 6, 6, 3, 0, 6, 1, 6,\n",
       "       6, 4, 5, 3, 5, 0, 2, 6, 1, 6, 6, 6, 6, 1, 2, 2, 4, 7, 7, 3, 4, 4,\n",
       "       7, 4, 4, 2, 1, 1, 5, 2, 1, 2, 1, 2, 4, 1, 0, 5, 5, 3, 2, 5, 6, 0,\n",
       "       6, 7, 6, 1, 6, 5, 6, 6, 5, 5, 0, 2, 3, 1, 6, 2, 1, 3, 4, 3, 6, 2,\n",
       "       2, 0, 1, 5, 6, 6, 4, 2, 5, 4, 1, 0, 7, 5, 1, 3, 6, 4, 1, 2, 5, 2,\n",
       "       3, 2, 1, 6, 2, 4, 6, 6, 4, 6, 0, 4, 6, 4, 4, 7, 0, 3, 7, 4, 4, 4,\n",
       "       4, 4, 6, 3, 2, 5, 4, 5, 6, 5, 0, 4, 2, 6, 6, 5, 5, 1, 1, 5, 6, 1,\n",
       "       3, 2, 4, 4, 6, 6, 5, 6, 6, 3, 4, 2, 4, 1, 7, 1, 6, 4, 7, 6, 6, 6,\n",
       "       0, 5, 4, 2, 5, 5, 4, 2, 4, 1, 6, 5, 3, 4, 5, 5, 6, 3, 6, 5, 6, 4,\n",
       "       4, 5, 4, 7, 1, 2, 4, 6, 6, 1, 1, 4, 4, 6, 0, 6, 1, 4, 6, 3, 3, 1,\n",
       "       6, 7, 5, 3, 5, 7, 4, 6, 1, 6, 0, 5, 2, 2, 2, 4, 6, 5, 2, 1, 6, 1,\n",
       "       0, 4, 3, 3, 0, 7, 2, 1, 0, 6, 1, 3, 3, 5, 1, 6, 1, 2, 5, 3, 6, 6,\n",
       "       2, 1, 6, 2, 6, 4, 6, 7, 3, 3, 7, 1, 6, 6, 2, 0, 5, 2, 1, 2, 3, 2,\n",
       "       6, 7, 6, 0, 2, 7, 5, 3, 2, 7])"
      ]
     },
     "execution_count": 15,
     "metadata": {},
     "output_type": "execute_result"
    }
   ],
   "source": [
    "from codeE.methods import LabelAgg\n",
    "label_A = LabelAgg(scenario=\"global\")\n",
    "\n",
    "mv_soft = label_A.infer(  r_obs, 'softMV')\n",
    "mv_hard = label_A.predict(r_obs, 'hardMV')\n",
    "mv_hard"
   ]
  },
  {
   "cell_type": "code",
   "execution_count": 16,
   "metadata": {
    "scrolled": true
   },
   "outputs": [
    {
     "data": {
      "text/plain": [
       "array([[0.    , 0.6667, 0.    , ..., 0.    , 0.    , 0.    ],\n",
       "       [0.    , 0.3333, 0.6667, ..., 0.    , 0.    , 0.    ],\n",
       "       [0.    , 0.3333, 0.3333, ..., 0.    , 0.    , 0.    ],\n",
       "       ...,\n",
       "       [0.    , 0.3333, 0.    , ..., 0.    , 0.    , 0.    ],\n",
       "       [0.    , 0.    , 1.    , ..., 0.    , 0.    , 0.    ],\n",
       "       [0.    , 0.    , 0.    , ..., 0.    , 0.    , 1.    ]],\n",
       "      dtype=float32)"
      ]
     },
     "execution_count": 16,
     "metadata": {},
     "output_type": "execute_result"
    }
   ],
   "source": [
    "from codeE.methods import LabelAgg\n",
    "label_A = LabelAgg(scenario=\"individual\")\n",
    "\n",
    "mv_soft = label_A.infer(  y_obs_categorical, 'softMV')\n",
    "mv_hard = label_A.predict(y_obs_categorical, 'hardMV')\n",
    "mv_soft"
   ]
  },
  {
   "cell_type": "code",
   "execution_count": 17,
   "metadata": {},
   "outputs": [
    {
     "name": "stdout",
     "output_type": "stream",
     "text": [
      "ACC MV on train: 0.769\n"
     ]
    }
   ],
   "source": [
    "print(\"ACC MV on train:\",np.mean(mv_hard==Z_train))"
   ]
  },
  {
   "cell_type": "markdown",
   "metadata": {},
   "source": [
    "### generate confusion matrix to understand MV"
   ]
  },
  {
   "cell_type": "code",
   "execution_count": 19,
   "metadata": {
    "scrolled": true
   },
   "outputs": [
    {
     "data": {
      "image/png": "[encoded data removed]",
      "text/plain": [
       "<Figure size 432x288 with 2 Axes>"
      ]
     },
     "metadata": {
      "needs_background": "light"
     },
     "output_type": "display_data"
    }
   ],
   "source": [
    "from codeE.utils import generate_confusionM\n",
    "prob_Yz = generate_confusionM(mv_hard, r_obs) #confusion matrix of all annotators\n",
    "plot_confusion_matrix(prob_Yz, np.arange(8), title= \"hard-MV confusion matrix\")"
   ]
  },
  {
   "cell_type": "markdown",
   "metadata": {},
   "source": [
    "### Metrics to compare the estimation of confusion matrix"
   ]
  },
  {
   "cell_type": "code",
   "execution_count": 20,
   "metadata": {},
   "outputs": [
    {
     "data": {
      "image/png": "[encoded data removed]",
      "text/plain": [
       "<Figure size 432x288 with 2 Axes>"
      ]
     },
     "metadata": {
      "needs_background": "light"
     },
     "output_type": "display_data"
    }
   ],
   "source": [
    "from codeE.utils import compare_conf_ma\n",
    "compare_conf_ma(prob_Yz, true_conf_mat=confe_matrix_G, text=True)"
   ]
  },
  {
   "cell_type": "code",
   "execution_count": 21,
   "metadata": {},
   "outputs": [
    {
     "name": "stdout",
     "output_type": "stream",
     "text": [
      "Global D (based on Jensen Shannon) = 0.03469416227325334\n",
      "Global D (based on normalized Frobenius) = 0.07360906898975372\n"
     ]
    }
   ],
   "source": [
    "from codeE.evaluation import D_JS, D_KL, D_NormF\n",
    "print(\"Global D (based on Jensen Shannon) =\",D_JS(confe_matrix_G, prob_Yz))\n",
    "print(\"Global D (based on normalized Frobenius) =\",D_NormF(confe_matrix_G, prob_Yz))"
   ]
  },
  {
   "cell_type": "markdown",
   "metadata": {},
   "source": [
    "##### Weighted"
   ]
  },
  {
   "cell_type": "code",
   "execution_count": 22,
   "metadata": {},
   "outputs": [
    {
     "data": {
      "text/plain": [
       "array([[0.    , 0.6667, 0.    , ..., 0.    , 0.    , 0.    ],\n",
       "       [0.    , 0.3333, 0.6667, ..., 0.    , 0.    , 0.    ],\n",
       "       [0.    , 0.3333, 0.3333, ..., 0.    , 0.    , 0.    ],\n",
       "       ...,\n",
       "       [0.    , 0.3333, 0.    , ..., 0.    , 0.    , 0.    ],\n",
       "       [0.    , 0.    , 1.    , ..., 0.    , 0.    , 0.    ],\n",
       "       [0.    , 0.    , 0.    , ..., 0.    , 0.    , 1.    ]],\n",
       "      dtype=float32)"
      ]
     },
     "execution_count": 22,
     "metadata": {},
     "output_type": "execute_result"
    }
   ],
   "source": [
    "from codeE.methods import LabelAgg\n",
    "label_A = LabelAgg(scenario=\"individual\")\n",
    "\n",
    "Wmv_soft = label_A.infer(y_obs_categorical, 'softMV', weights=T_weights)\n",
    "Wmv_soft"
   ]
  },
  {
   "cell_type": "code",
   "execution_count": 23,
   "metadata": {},
   "outputs": [
    {
     "name": "stdout",
     "output_type": "stream",
     "text": [
      "ACC MV on train: 0.769\n"
     ]
    }
   ],
   "source": [
    "print(\"ACC MV on train:\",np.mean(Wmv_soft.argmax(axis=-1)==Z_train))"
   ]
  },
  {
   "cell_type": "markdown",
   "metadata": {},
   "source": [
    "### Dawid and Skene model"
   ]
  },
  {
   "cell_type": "code",
   "execution_count": 24,
   "metadata": {
    "scrolled": true
   },
   "outputs": [
    {
     "name": "stdout",
     "output_type": "stream",
     "text": [
      "Initializing new EM...\n",
      "Z marginal shape (8,)\n",
      "Betas shape:  (2547, 8, 8)\n",
      "Q estimate shape:  (1000, 8)\n",
      "Iter 1/50 \n",
      "M step: done,  E step: done //  (in 0.05 sec)\tlogL: -1736.469\t\n",
      "Iter 2/50 \n",
      "M step: done,  E step: done //  (in 0.05 sec)\tlogL: 0.001\tTol1: 1.00000\tTol2: 1.44588\t\n",
      "Iter 3/50 \n",
      "M step: done,  E step: done //  (in 0.05 sec)\tlogL: 0.003\tTol1: 1.85504\tTol2: 0.00000\t\n",
      "Iter 4/50 \n",
      "M step: done,  E step: done //  (in 0.05 sec)\tlogL: 0.001\tTol1: 0.77185\tTol2: 0.00000\t\n",
      "Iter 5/50 \n",
      "M step: done,  E step: done //  (in 0.05 sec)\tlogL: 0.000\tTol1: 0.40683\tTol2: 0.00000\t\n",
      "Iter 6/50 \n",
      "M step: done,  E step: done //  (in 0.05 sec)\tlogL: 0.000\tTol1: 0.00000\tTol2: 0.00000\t\n",
      "Finished training\n"
     ]
    }
   ],
   "source": [
    "from codeE.methods import LabelInf_EM as DS\n",
    "\n",
    "DS_model = DS(init_Z='softmv') \n",
    "#DS_model = DS(init_Z='softmv', priors=\"None\", fast=False) \n",
    "    \n",
    "# if you want you can initialize step E forcing some method\n",
    "#DS_model.init_E(y_obs_categorical)\n",
    "#DS_model.get_qestimation()\n",
    "\n",
    "hist = DS_model.fit(y_obs_categorical, max_iter=EPOCHS_BASE, tolerance=TOL)"
   ]
  },
  {
   "cell_type": "code",
   "execution_count": 25,
   "metadata": {},
   "outputs": [
    {
     "name": "stdout",
     "output_type": "stream",
     "text": [
      "p(z) =  [0.0628 0.1393 0.1319 0.1116 0.1416 0.1437 0.1834 0.0856]\n"
     ]
    },
    {
     "data": {
      "text/plain": [
       "array([[0.0628, 0.1393, 0.1319, ..., 0.1437, 0.1834, 0.0856],\n",
       "       [0.0628, 0.1393, 0.1319, ..., 0.1437, 0.1834, 0.0856],\n",
       "       [0.0628, 0.1393, 0.1319, ..., 0.1437, 0.1834, 0.0856],\n",
       "       ...,\n",
       "       [0.0628, 0.1393, 0.1319, ..., 0.1437, 0.1834, 0.0856],\n",
       "       [0.0628, 0.1393, 0.1319, ..., 0.1437, 0.1834, 0.0856],\n",
       "       [0.0628, 0.1393, 0.1319, ..., 0.1437, 0.1834, 0.0856]],\n",
       "      dtype=float32)"
      ]
     },
     "execution_count": 25,
     "metadata": {},
     "output_type": "execute_result"
    }
   ],
   "source": [
    "print(\"p(z) = \",DS_model.get_marginalZ())\n",
    "\n",
    "ds_labels = DS_model.infer() #could infer/predict on the trainint set only\n",
    "ds_labels"
   ]
  },
  {
   "cell_type": "code",
   "execution_count": 26,
   "metadata": {},
   "outputs": [
    {
     "name": "stdout",
     "output_type": "stream",
     "text": [
      "ACC D&S on train: 0.128\n"
     ]
    }
   ],
   "source": [
    "print(\"ACC D&S on train:\",np.mean(ds_labels.argmax(axis=1)==Z_train))"
   ]
  },
  {
   "cell_type": "markdown",
   "metadata": {},
   "source": [
    "### Second Phase\n",
    "train a predictive model over the inference/aggregation label"
   ]
  },
  {
   "cell_type": "code",
   "execution_count": 27,
   "metadata": {},
   "outputs": [],
   "source": [
    "from codeE.evaluation import accuracy_model"
   ]
  },
  {
   "cell_type": "code",
   "execution_count": 28,
   "metadata": {},
   "outputs": [
    {
     "name": "stdout",
     "output_type": "stream",
     "text": [
      "Trained model over soft-MV, Epochs to converge = 11\n",
      "Train accuracy of model = 0.832\n",
      "Test accuracy of model = 0.8013468013468014\n"
     ]
    }
   ],
   "source": [
    "model_mvsoft = clone_UB.get_model()\n",
    "model_mvsoft.compile(loss='categorical_crossentropy',optimizer=OPT)\n",
    "hist=model_mvsoft.fit(Xstd_train, mv_soft, epochs=EPOCHS_BASE,batch_size=BATCH_SIZE,verbose=0,callbacks=[ourCallback])\n",
    "print(\"Trained model over soft-MV, Epochs to converge =\",len(hist.epoch))\n",
    "\n",
    "print(\"Train accuracy of model =\", accuracy_model(model_mvsoft, Xstd_train, Z_train))\n",
    "print(\"Test accuracy of model =\", accuracy_model(model_mvsoft, Xstd_test, Z_test))"
   ]
  },
  {
   "cell_type": "code",
   "execution_count": 29,
   "metadata": {},
   "outputs": [
    {
     "data": {
      "text/plain": [
       "array([[0., 1., 0., ..., 0., 0., 0.],\n",
       "       [0., 0., 1., ..., 0., 0., 0.],\n",
       "       [0., 1., 0., ..., 0., 0., 0.],\n",
       "       ...,\n",
       "       [0., 0., 0., ..., 0., 0., 0.],\n",
       "       [0., 0., 1., ..., 0., 0., 0.],\n",
       "       [0., 0., 0., ..., 0., 0., 1.]], dtype=float32)"
      ]
     },
     "execution_count": 29,
     "metadata": {},
     "output_type": "execute_result"
    }
   ],
   "source": [
    "mv_hard_onehot = keras.utils.to_categorical(mv_hard)\n",
    "mv_hard_onehot"
   ]
  },
  {
   "cell_type": "code",
   "execution_count": 30,
   "metadata": {},
   "outputs": [
    {
     "name": "stdout",
     "output_type": "stream",
     "text": [
      "Trained model over hard-MV, Epochs to converge = 10\n",
      "Train accuracy of model = 0.804\n",
      "Test accuracy of model = 0.7811447811447811\n"
     ]
    }
   ],
   "source": [
    "model_mvhard = clone_UB.get_model()\n",
    "model_mvhard.compile(loss='categorical_crossentropy',optimizer=OPT)\n",
    "hist=model_mvhard.fit(Xstd_train, mv_hard_onehot, epochs=EPOCHS_BASE,batch_size=BATCH_SIZE,verbose=0,callbacks=[ourCallback])\n",
    "print(\"Trained model over hard-MV, Epochs to converge =\",len(hist.epoch))\n",
    "\n",
    "print(\"Train accuracy of model =\", accuracy_model(model_mvhard, Xstd_train, Z_train))\n",
    "print(\"Test accuracy of model =\", accuracy_model(model_mvhard, Xstd_test, Z_test))"
   ]
  },
  {
   "cell_type": "code",
   "execution_count": 31,
   "metadata": {
    "scrolled": true
   },
   "outputs": [
    {
     "name": "stdout",
     "output_type": "stream",
     "text": [
      "Trained model over D&S, Epochs to converge = 6\n",
      "Train accuracy of model = 0.114\n",
      "Test accuracy of model = 0.11952861952861953\n"
     ]
    }
   ],
   "source": [
    "model_ds = clone_UB.get_model()\n",
    "model_ds.compile(loss='categorical_crossentropy',optimizer=OPT)\n",
    "hist=model_ds.fit(Xstd_train, ds_labels, epochs=EPOCHS_BASE,batch_size=BATCH_SIZE,verbose=0,callbacks=[ourCallback])\n",
    "print(\"Trained model over D&S, Epochs to converge =\",len(hist.epoch))\n",
    "\n",
    "print(\"Train accuracy of model =\", accuracy_model(model_ds, Xstd_train, Z_train))\n",
    "print(\"Test accuracy of model =\", accuracy_model(model_ds, Xstd_test, Z_test))"
   ]
  },
  {
   "cell_type": "markdown",
   "metadata": {},
   "source": [
    "## Raykar Model (joint predict model)"
   ]
  },
  {
   "cell_type": "code",
   "execution_count": 32,
   "metadata": {},
   "outputs": [
    {
     "name": "stdout",
     "output_type": "stream",
     "text": [
      "Model: \"sequential_1\"\n",
      "_________________________________________________________________\n",
      "Layer (type)                 Output Shape              Param #   \n",
      "=================================================================\n",
      "dense_1 (Dense)              (None, 128)               65664     \n",
      "_________________________________________________________________\n",
      "dropout_1 (Dropout)          (None, 128)               0         \n",
      "_________________________________________________________________\n",
      "dense_2 (Dense)              (None, 8)                 1032      \n",
      "_________________________________________________________________\n",
      "activation_1 (Activation)    (None, 8)                 0         \n",
      "=================================================================\n",
      "Total params: 66,696\n",
      "Trainable params: 66,696\n",
      "Non-trainable params: 0\n",
      "_________________________________________________________________\n"
     ]
    }
   ],
   "source": [
    "model_R = clone_UB.get_model()\n",
    "model_R.summary()"
   ]
  },
  {
   "cell_type": "code",
   "execution_count": 33,
   "metadata": {
    "scrolled": true
   },
   "outputs": [],
   "source": [
    "from codeE.methods import ModelInf_EM as Raykar\n",
    "R_model = Raykar(init_Z=\"softmv\")\n",
    "#R_model = Raykar(init_Z=\"softmv\", priors='laplace', n_init_Z=3)\n",
    "\n",
    "args = {'epochs':1, 'batch_size':BATCH_SIZE, 'optimizer':OPT}\n",
    "R_model.set_model(model_R, **args)\n",
    "R_model.fit(Xstd_train, y_obs_categorical, runs=20, max_iter=EPOCHS_BASE, tolerance=TOL)"
   ]
  },
  {
   "cell_type": "code",
   "execution_count": 36,
   "metadata": {},
   "outputs": [
    {
     "name": "stdout",
     "output_type": "stream",
     "text": [
      "Train accuracy of model = 0.729\n",
      "Test accuracy of model = 0.7011784511784511\n"
     ]
    }
   ],
   "source": [
    "raykar_fx = R_model.get_basemodel()\n",
    "\n",
    "from codeE.evaluation import accuracy_model\n",
    "print(\"Train accuracy of model =\", accuracy_model(raykar_fx, Xstd_train, Z_train))\n",
    "print(\"Test accuracy of model =\", accuracy_model(raykar_fx, Xstd_test, Z_test))"
   ]
  },
  {
   "cell_type": "markdown",
   "metadata": {},
   "source": [
    "## Our Proposed - CMM"
   ]
  },
  {
   "cell_type": "code",
   "execution_count": 37,
   "metadata": {},
   "outputs": [
    {
     "name": "stdout",
     "output_type": "stream",
     "text": [
      "Model: \"sequential_1\"\n",
      "_________________________________________________________________\n",
      "Layer (type)                 Output Shape              Param #   \n",
      "=================================================================\n",
      "dense_1 (Dense)              (None, 128)               65664     \n",
      "_________________________________________________________________\n",
      "dropout_1 (Dropout)          (None, 128)               0         \n",
      "_________________________________________________________________\n",
      "dense_2 (Dense)              (None, 8)                 1032      \n",
      "_________________________________________________________________\n",
      "activation_1 (Activation)    (None, 8)                 0         \n",
      "=================================================================\n",
      "Total params: 66,696\n",
      "Trainable params: 66,696\n",
      "Non-trainable params: 0\n",
      "_________________________________________________________________\n"
     ]
    }
   ],
   "source": [
    "M_seted = 3\n",
    "\n",
    "aux_model = clone_UB.get_model()\n",
    "aux_model.summary()"
   ]
  },
  {
   "cell_type": "code",
   "execution_count": null,
   "metadata": {
    "scrolled": true
   },
   "outputs": [
    {
     "name": "stdout",
     "output_type": "stream",
     "text": [
      "Initializing new EM...\n",
      "Doing clustering...Done!\n",
      "Alphas:  (3,)\n",
      "Betas:  (3, 8, 8)\n",
      "Q estimate:  (1000, 8, 3, 8)\n",
      "Iter 1/50\n",
      "M step: done,  E step: done //  (in 0.47 sec)\tlogL: -2620.192\t\n",
      "Iter 2/50\n",
      "M step: done,  E step: done //  (in 0.04 sec)\tlogL: -2002.164\tTol1: 0.23587\tTol2: 0.59934\tTol3: 0.07921\t\n",
      "Iter 3/50\n",
      "M step: done,  E step: done //  (in 0.03 sec)\tlogL: -1881.545\tTol1: 0.06024\tTol2: 0.34754\tTol3: 0.01700\t\n",
      "Iter 4/50\n",
      "M step: done,  E step: done //  (in 0.03 sec)\tlogL: -1803.254\tTol1: 0.04161\tTol2: 0.23868\tTol3: 0.02197\t\n",
      "Iter 5/50\n",
      "M step: done,  E step: done //  (in 0.03 sec)\tlogL: -1725.468\tTol1: 0.04314\tTol2: 0.22128\tTol3: 0.02834\t\n",
      "Iter 6/50\n",
      "M step: done,  E step: done //  (in 0.03 sec)\tlogL: -1660.474\tTol1: 0.03767\tTol2: 0.21248\tTol3: 0.02352\t\n",
      "Iter 7/50\n",
      "M step: done,  E step: done //  (in 0.03 sec)\tlogL: -1609.159\tTol1: 0.03090\tTol2: 0.20834\tTol3: 0.02554\t\n",
      "Iter 8/50\n",
      "M step: done,  E step: done //  (in 0.04 sec)\tlogL: -1571.866\tTol1: 0.02318\tTol2: 0.15769\tTol3: 0.02123\t\n",
      "Iter 9/50\n",
      "M step: done,  E step: done //  (in 0.03 sec)\tlogL: -1531.541\tTol1: 0.02565\tTol2: 0.12054\tTol3: 0.01841\t\n",
      "Iter 10/50\n",
      "M step: done,  E step: done //  (in 0.04 sec)\tlogL: -1501.203\tTol1: 0.01981\tTol2: 0.10919\tTol3: 0.02009\t\n",
      "Iter 11/50\n",
      "M step: done,  E step: done //  (in 0.03 sec)\tlogL: -1478.733\tTol1: 0.01497\tTol2: 0.09976\tTol3: 0.01622\t\n",
      "Iter 12/50\n",
      "M step: done,  E step: done //  (in 0.03 sec)\tlogL: -1445.542\tTol1: 0.02245\tTol2: 0.09691\tTol3: 0.01775\t\n",
      "Iter 13/50\n",
      "M step: done,  E step: done //  (in 0.03 sec)\tlogL: -1414.275\tTol1: 0.02163\tTol2: 0.08536\tTol3: 0.01781\t\n",
      "Iter 14/50\n",
      "M step: done,  E step: done //  (in 0.03 sec)\tlogL: -1398.285\tTol1: 0.01131\tTol2: 0.09929\tTol3: 0.02637\t\n",
      "Iter 15/50\n",
      "M step: done,  E step: done //  (in 0.03 sec)\tlogL: -1385.798\tTol1: 0.00893\tTol2: 0.07574\tTol3: 0.02472\t\n",
      "Iter 16/50\n",
      "M step: done,  E step: done //  (in 0.04 sec)\tlogL: -1362.622\tTol1: 0.01672\tTol2: 0.05869\tTol3: 0.01194\t\n",
      "Iter 17/50\n",
      "M step: done,  E step: done //  (in 0.03 sec)\tlogL: -1342.792\tTol1: 0.01455\tTol2: 0.05915\tTol3: 0.01804\t\n",
      "Iter 18/50\n",
      "M step: done,  E step: done //  (in 0.03 sec)\tlogL: -1325.807\tTol1: 0.01265\tTol2: 0.06249\tTol3: 0.02242\t\n",
      "Iter 19/50\n",
      "M step: done,  E step: done //  (in 0.03 sec)\tlogL: -1312.461\tTol1: 0.01007\tTol2: 0.06368\tTol3: 0.02718\t\n",
      "Iter 20/50\n",
      "M step: done,  E step: done //  (in 0.03 sec)\tlogL: -1292.099\tTol1: 0.01551\tTol2: 0.05536\tTol3: 0.01825\t\n",
      "Iter 21/50\n",
      "M step: done,  E step: done //  (in 0.03 sec)\tlogL: -1281.049\tTol1: 0.00855\tTol2: 0.05862\tTol3: 0.01561\t\n",
      "Iter 22/50\n",
      "M step: done,  E step: done //  (in 0.03 sec)\tlogL: -1273.257\tTol1: 0.00608\tTol2: 0.05493\tTol3: 0.01947\t\n",
      "Iter 23/50\n",
      "M step: done,  E step: done //  (in 0.03 sec)\tlogL: -1262.115\tTol1: 0.00875\tTol2: 0.05452\tTol3: 0.02076\t\n",
      "Iter 24/50\n",
      "M step: done,  E step: done //  (in 0.03 sec)\tlogL: -1248.751\tTol1: 0.01059\tTol2: 0.06095\tTol3: 0.02526\t\n",
      "Iter 25/50\n",
      "M step: done,  E step: done //  (in 0.03 sec)\tlogL: -1238.606\tTol1: 0.00812\tTol2: 0.04980\tTol3: 0.01760\t\n",
      "Iter 26/50\n",
      "M step: done,  E step: done //  (in 0.03 sec)\tlogL: -1226.516\tTol1: 0.00976\tTol2: 0.04812\tTol3: 0.01320\t\n",
      "Iter 27/50\n",
      "M step: done,  E step: done //  (in 0.03 sec)\tlogL: -1217.526\tTol1: 0.00733\tTol2: 0.04192\tTol3: 0.01293\t\n",
      "Iter 28/50\n",
      "M step: done,  E step: done //  (in 0.03 sec)\tlogL: -1202.722\tTol1: 0.01216\tTol2: 0.05050\tTol3: 0.01842\t\n",
      "Iter 29/50\n",
      "M step: done,  E step: done //  (in 0.03 sec)\tlogL: -1193.013\tTol1: 0.00807\tTol2: 0.04628\tTol3: 0.01798\t\n",
      "Iter 30/50\n",
      "M step: done,  E step: done //  (in 0.03 sec)\tlogL: -1183.932\tTol1: 0.00761\tTol2: 0.04888\tTol3: 0.01129\t\n",
      "Iter 31/50\n",
      "M step: done,  E step: done //  (in 0.03 sec)\tlogL: -1173.742\tTol1: 0.00861\tTol2: 0.04412\tTol3: 0.02038\t\n",
      "Iter 32/50\n",
      "M step: done,  E step: done //  (in 0.03 sec)\tlogL: -1167.724\tTol1: 0.00513\tTol2: 0.04031\tTol3: 0.02315\t\n",
      "Iter 33/50\n",
      "M step: done,  E step: done //  (in 0.03 sec)\tlogL: -1161.327\tTol1: 0.00548\tTol2: 0.03953\tTol3: 0.01818\t\n",
      "Iter 34/50\n",
      "M step: done,  E step: done //  (in 0.03 sec)\tlogL: -1151.820\tTol1: 0.00819\tTol2: 0.03802\tTol3: 0.01865\t\n",
      "Iter 35/50\n",
      "M step: done,  E step: done //  (in 0.03 sec)\tlogL: -1143.328\tTol1: 0.00737\tTol2: 0.03676\tTol3: 0.02681\t\n",
      "Iter 36/50\n",
      "M step: done,  E step: done //  (in 0.03 sec)\tlogL: -1136.536\tTol1: 0.00594\tTol2: 0.02800\tTol3: 0.02811\t\n",
      "Finished training!\n",
      "Initializing new EM...\n",
      "Doing clustering...Done!\n",
      "Alphas:  (3,)\n",
      "Betas:  (3, 8, 8)\n",
      "Q estimate:  (1000, 8, 3, 8)\n",
      "Iter 1/50\n",
      "M step: done,  E step: done //  (in 0.43 sec)\tlogL: -2802.338\t\n",
      "Iter 2/50\n",
      "M step: done,  E step: done //  (in 0.03 sec)\tlogL: -2059.503\tTol1: 0.26508\tTol2: 0.67318\tTol3: 0.08080\t\n",
      "Iter 3/50\n",
      "M step: done,  E step: done //  (in 0.03 sec)\tlogL: -1895.591\tTol1: 0.07959\tTol2: 0.46283\tTol3: 0.05152\t\n",
      "Iter 4/50\n",
      "M step: done,  E step: done //  (in 0.03 sec)\tlogL: -1816.118\tTol1: 0.04193\tTol2: 0.27749\tTol3: 0.01998\t\n",
      "Iter 5/50\n",
      "M step: done,  E step: done //  (in 0.03 sec)\tlogL: -1743.571\tTol1: 0.03995\tTol2: 0.19671\tTol3: 0.01601\t\n",
      "Iter 6/50\n",
      "M step: done,  E step: done //  (in 0.03 sec)\tlogL: -1680.589\tTol1: 0.03612\tTol2: 0.17309\tTol3: 0.01244\t\n",
      "Iter 7/50\n",
      "M step: done,  E step: done //  (in 0.03 sec)\tlogL: -1627.642\tTol1: 0.03150\tTol2: 0.15110\tTol3: 0.00683\t\n",
      "Iter 8/50\n",
      "M step: done,  E step: done //  (in 0.03 sec)\tlogL: -1581.609\tTol1: 0.02828\tTol2: 0.13169\tTol3: 0.01685\t\n",
      "Iter 9/50\n",
      "M step: done,  E step: done //  (in 0.03 sec)\tlogL: -1548.850\tTol1: 0.02071\tTol2: 0.11182\tTol3: 0.01747\t\n",
      "Iter 10/50\n",
      "M step: done,  E step: done //  (in 0.03 sec)\tlogL: -1524.081\tTol1: 0.01599\tTol2: 0.09265\tTol3: 0.01686\t\n",
      "Iter 11/50\n",
      "M step: done,  E step: done //  (in 0.03 sec)\tlogL: -1497.075\tTol1: 0.01772\tTol2: 0.07857\tTol3: 0.00800\t\n",
      "Iter 12/50\n",
      "M step: done,  E step: done //  (in 0.04 sec)\tlogL: -1470.868\tTol1: 0.01751\tTol2: 0.06995\tTol3: 0.00867\t\n",
      "Iter 13/50\n",
      "M step: done,  E step: done //  (in 0.03 sec)\tlogL: -1448.364\tTol1: 0.01530\tTol2: 0.06552\tTol3: 0.01382\t\n",
      "Iter 14/50\n",
      "M step: done,  E step: done //  (in 0.03 sec)\tlogL: -1422.921\tTol1: 0.01757\tTol2: 0.06484\tTol3: 0.01168\t\n",
      "Iter 15/50\n",
      "M step: done,  E step: done //  (in 0.03 sec)\tlogL: -1397.820\tTol1: 0.01764\tTol2: 0.06101\tTol3: 0.01686\t\n",
      "Iter 16/50\n",
      "M step: done,  E step: done //  (in 0.03 sec)\tlogL: -1382.225\tTol1: 0.01116\tTol2: 0.06648\tTol3: 0.02025\t\n",
      "Iter 17/50\n",
      "M step: done,  E step: done //  (in 0.03 sec)\tlogL: -1363.314\tTol1: 0.01368\tTol2: 0.07448\tTol3: 0.01647\t\n",
      "Iter 18/50\n",
      "M step: done,  E step: done //  (in 0.03 sec)\tlogL: -1344.382\tTol1: 0.01389\tTol2: 0.06293\tTol3: 0.01527\t\n",
      "Iter 19/50\n",
      "M step: done,  E step: done //  (in 0.03 sec)\tlogL: -1328.644\tTol1: 0.01171\tTol2: 0.05738\tTol3: 0.00899\t\n",
      "Iter 20/50\n",
      "M step: done,  E step: done //  (in 0.03 sec)\tlogL: -1312.389\tTol1: 0.01223\tTol2: 0.04666\tTol3: 0.01066\t\n",
      "Iter 21/50\n",
      "M step: done,  E step: done //  (in 0.03 sec)\tlogL: -1297.992\tTol1: 0.01097\tTol2: 0.05071\tTol3: 0.01488\t\n",
      "Iter 22/50\n",
      "M step: done,  E step: done //  (in 0.03 sec)\tlogL: -1280.318\tTol1: 0.01362\tTol2: 0.05443\tTol3: 0.02046\t\n",
      "Iter 23/50\n",
      "M step: done,  E step: done //  (in 0.03 sec)\tlogL: -1268.855\tTol1: 0.00895\tTol2: 0.05223\tTol3: 0.01830\t\n",
      "Iter 24/50\n",
      "M step: done,  E step: done //  (in 0.03 sec)\tlogL: -1257.004\tTol1: 0.00934\tTol2: 0.04637\tTol3: 0.01450\t\n",
      "Iter 25/50\n",
      "M step: done,  E step: done //  (in 0.03 sec)\tlogL: -1246.635\tTol1: 0.00825\tTol2: 0.04533\tTol3: 0.01526\t\n",
      "Iter 26/50\n",
      "M step: done,  E step: done //  (in 0.03 sec)\tlogL: -1237.247\tTol1: 0.00753\tTol2: 0.04105\tTol3: 0.01793\t\n",
      "Iter 27/50\n",
      "M step: done,  E step: done //  (in 0.03 sec)\tlogL: -1229.037\tTol1: 0.00664\tTol2: 0.03781\tTol3: 0.01524\t\n",
      "Iter 28/50\n",
      "M step: done,  E step: done //  (in 0.03 sec)\tlogL: -1217.087\tTol1: 0.00972\tTol2: 0.03477\tTol3: 0.01502\t\n",
      "Iter 29/50\n",
      "M step: done,  E step: done //  (in 0.03 sec)\tlogL: -1206.247\tTol1: 0.00891\tTol2: 0.03665\tTol3: 0.01380\t\n",
      "Iter 30/50\n",
      "M step: done,  E step: done //  (in 0.03 sec)\tlogL: -1197.749\tTol1: 0.00705\tTol2: 0.03190\tTol3: 0.00941\t\n",
      "Iter 31/50\n",
      "M step: done,  E step: done //  (in 0.03 sec)\tlogL: -1193.208\tTol1: 0.00379\tTol2: 0.03437\tTol3: 0.00765\t\n",
      "Iter 32/50\n",
      "M step: done,  E step: done //  (in 0.03 sec)\tlogL: -1183.646\tTol1: 0.00801\tTol2: 0.03167\tTol3: 0.00372\t\n",
      "Iter 33/50\n",
      "M step: done,  E step: done //  (in 0.03 sec)\tlogL: -1176.861\tTol1: 0.00573\tTol2: 0.02256\tTol3: 0.00475\t\n",
      "Finished training!\n",
      "Initializing new EM...\n"
     ]
    },
    {
     "name": "stdout",
     "output_type": "stream",
     "text": [
      "Doing clustering...Done!\n",
      "Alphas:  (3,)\n",
      "Betas:  (3, 8, 8)\n",
      "Q estimate:  (1000, 8, 3, 8)\n",
      "Iter 1/50\n",
      "M step: done,  E step: done //  (in 0.46 sec)\tlogL: -2971.413\t\n",
      "Iter 2/50\n",
      "M step: done,  E step: done //  (in 0.04 sec)\tlogL: -2159.136\tTol1: 0.27336\tTol2: 0.79268\tTol3: 0.10524\t\n",
      "Iter 3/50\n",
      "M step: done,  E step: done //  (in 0.04 sec)\tlogL: -1952.561\tTol1: 0.09567\tTol2: 0.34751\tTol3: 0.04180\t\n",
      "Iter 4/50\n",
      "M step: done,  E step: done //  (in 0.04 sec)\tlogL: -1815.544\tTol1: 0.07017\tTol2: 0.26037\tTol3: 0.03358\t\n",
      "Iter 5/50\n",
      "M step: done,  E step: done //  (in 0.03 sec)\tlogL: -1735.320\tTol1: 0.04419\tTol2: 0.22328\tTol3: 0.03729\t\n",
      "Iter 6/50\n",
      "M step: done,  E step: done //  (in 0.03 sec)\tlogL: -1670.415\tTol1: 0.03740\tTol2: 0.18903\tTol3: 0.03474\t\n",
      "Iter 7/50\n",
      "M step: done,  E step: done //  (in 0.03 sec)\tlogL: -1606.099\tTol1: 0.03850\tTol2: 0.16650\tTol3: 0.03412\t\n",
      "Iter 8/50\n",
      "M step: done,  E step: done //  (in 0.03 sec)\tlogL: -1557.750\tTol1: 0.03010\tTol2: 0.14607\tTol3: 0.03508\t\n",
      "Iter 9/50\n",
      "M step: done,  E step: done //  (in 0.03 sec)\tlogL: -1516.813\tTol1: 0.02628\tTol2: 0.13763\tTol3: 0.03867\t\n",
      "Iter 10/50\n",
      "M step: done,  E step: done //  (in 0.03 sec)\tlogL: -1483.383\tTol1: 0.02204\tTol2: 0.11270\tTol3: 0.03193\t\n",
      "Iter 11/50\n",
      "M step: done,  E step: done //  (in 0.03 sec)\tlogL: -1452.965\tTol1: 0.02051\tTol2: 0.10647\tTol3: 0.02567\t\n",
      "Iter 12/50\n",
      "M step: done,  E step: done //  (in 0.04 sec)\tlogL: -1424.713\tTol1: 0.01944\tTol2: 0.09922\tTol3: 0.02000\t\n",
      "Iter 13/50\n",
      "M step: done,  E step: done //  (in 0.03 sec)\tlogL: -1402.604\tTol1: 0.01552\tTol2: 0.08324\tTol3: 0.02013\t\n",
      "Iter 14/50\n",
      "M step: done,  E step: done //  (in 0.03 sec)\tlogL: -1375.918\tTol1: 0.01903\tTol2: 0.07370\tTol3: 0.01950\t\n",
      "Iter 15/50\n",
      "M step: done,  E step: done //  (in 0.03 sec)\tlogL: -1366.384\tTol1: 0.00693\tTol2: 0.08019\tTol3: 0.02631\t\n",
      "Iter 16/50\n",
      "M step: done,  E step: done //  (in 0.04 sec)\tlogL: -1346.664\tTol1: 0.01443\tTol2: 0.07714\tTol3: 0.02731\t\n",
      "Iter 17/50\n",
      "M step: done,  E step: done //  (in 0.03 sec)\tlogL: -1328.681\tTol1: 0.01335\tTol2: 0.06566\tTol3: 0.02512\t\n",
      "Iter 18/50\n",
      "M step: done,  E step: done //  (in 0.03 sec)\tlogL: -1313.269\tTol1: 0.01160\tTol2: 0.06172\tTol3: 0.01123\t\n",
      "Iter 19/50\n",
      "M step: done,  E step: done //  (in 0.03 sec)\tlogL: -1297.483\tTol1: 0.01202\tTol2: 0.05399\tTol3: 0.01418\t\n",
      "Iter 20/50\n",
      "M step: done,  E step: done //  (in 0.03 sec)\tlogL: -1282.087\tTol1: 0.01187\tTol2: 0.04641\tTol3: 0.02097\t\n",
      "Iter 21/50\n",
      "M step: done,  E step: done //  (in 0.03 sec)\tlogL: -1265.641\tTol1: 0.01283\tTol2: 0.04229\tTol3: 0.01781\t\n",
      "Iter 22/50\n",
      "M step: done,  E step: done //  (in 0.03 sec)\tlogL: -1255.740\tTol1: 0.00782\tTol2: 0.05326\tTol3: 0.01374\t\n",
      "Iter 23/50\n",
      "M step: done,  E step: done //  (in 0.03 sec)\tlogL: -1241.068\tTol1: 0.01168\tTol2: 0.03808\tTol3: 0.01906\t\n",
      "Iter 24/50\n",
      "M step: done,  E step: done //  (in 0.03 sec)\tlogL: -1230.324\tTol1: 0.00866\tTol2: 0.03827\tTol3: 0.02488\t\n",
      "Iter 25/50\n",
      "M step: done,  E step: done //  (in 0.03 sec)\tlogL: -1220.693\tTol1: 0.00783\tTol2: 0.03468\tTol3: 0.01690\t\n",
      "Iter 26/50\n",
      "M step: done,  E step: done //  (in 0.03 sec)\tlogL: -1209.443\tTol1: 0.00922\tTol2: 0.02831\tTol3: 0.01003\t\n",
      "Finished training!\n",
      "Initializing new EM...\n",
      "Doing clustering...Done!\n",
      "Alphas:  (3,)\n",
      "Betas:  (3, 8, 8)\n",
      "Q estimate:  (1000, 8, 3, 8)\n",
      "Iter 1/50\n",
      "M step: done,  E step: done //  (in 0.45 sec)\tlogL: -2702.426\t\n",
      "Iter 2/50\n",
      "M step: done,  E step: done //  (in 0.04 sec)\tlogL: -2102.239\tTol1: 0.22209\tTol2: 0.65364\tTol3: 0.04475\t\n",
      "Iter 3/50\n",
      "M step: done,  E step: done //  (in 0.03 sec)\tlogL: -1886.780\tTol1: 0.10249\tTol2: 0.35510\tTol3: 0.04088\t\n",
      "Iter 4/50\n",
      "M step: done,  E step: done //  (in 0.03 sec)\tlogL: -1806.423\tTol1: 0.04259\tTol2: 0.24431\tTol3: 0.01543\t\n",
      "Iter 5/50\n",
      "M step: done,  E step: done //  (in 0.03 sec)\tlogL: -1758.033\tTol1: 0.02679\tTol2: 0.20732\tTol3: 0.01755\t\n",
      "Iter 6/50\n",
      "M step: done,  E step: done //  (in 0.04 sec)\tlogL: -1708.574\tTol1: 0.02813\tTol2: 0.24112\tTol3: 0.01827\t\n",
      "Iter 7/50\n",
      "M step: done,  E step: done //  (in 0.03 sec)\tlogL: -1657.009\tTol1: 0.03018\tTol2: 0.23912\tTol3: 0.01723\t\n",
      "Iter 8/50\n",
      "M step: done,  E step: done //  (in 0.03 sec)\tlogL: -1624.264\tTol1: 0.01976\tTol2: 0.18530\tTol3: 0.00824\t\n",
      "Iter 9/50\n",
      "M step: done,  E step: done //  (in 0.03 sec)\tlogL: -1593.641\tTol1: 0.01885\tTol2: 0.11307\tTol3: 0.00355\t\n",
      "Iter 10/50\n",
      "M step: done,  E step: done //  (in 0.03 sec)\tlogL: -1573.416\tTol1: 0.01269\tTol2: 0.07514\tTol3: 0.00859\t\n",
      "Iter 11/50\n",
      "M step: done,  E step: done //  (in 0.03 sec)\tlogL: -1549.328\tTol1: 0.01531\tTol2: 0.07046\tTol3: 0.00524\t\n",
      "Iter 12/50\n",
      "M step: done,  E step: done //  (in 0.03 sec)\tlogL: -1531.882\tTol1: 0.01126\tTol2: 0.07351\tTol3: 0.00717\t\n",
      "Iter 13/50\n",
      "M step: done,  E step: done //  (in 0.03 sec)\tlogL: -1508.622\tTol1: 0.01518\tTol2: 0.07475\tTol3: 0.00571\t\n",
      "Iter 14/50\n",
      "M step: done,  E step: done //  (in 0.04 sec)\tlogL: -1498.696\tTol1: 0.00658\tTol2: 0.06406\tTol3: 0.00658\t\n",
      "Iter 15/50\n",
      "M step: done,  E step: done //  (in 0.03 sec)\tlogL: -1490.489\tTol1: 0.00548\tTol2: 0.06792\tTol3: 0.00901\t\n",
      "Iter 16/50\n",
      "M step: done,  E step: done //  (in 0.03 sec)\tlogL: -1477.660\tTol1: 0.00861\tTol2: 0.06140\tTol3: 0.00178\t\n",
      "Iter 17/50\n",
      "M step: done,  E step: done //  (in 0.03 sec)\tlogL: -1466.509\tTol1: 0.00755\tTol2: 0.08046\tTol3: 0.00513\t\n",
      "Iter 18/50\n",
      "M step: done,  E step: done //  (in 0.03 sec)\tlogL: -1452.038\tTol1: 0.00987\tTol2: 0.05596\tTol3: 0.00432\t\n",
      "Iter 19/50\n",
      "M step: done,  E step: done //  (in 0.04 sec)\tlogL: -1445.242\tTol1: 0.00468\tTol2: 0.05901\tTol3: 0.00784\t\n",
      "Iter 20/50\n",
      "M step: done,  E step: done //  (in 0.03 sec)\tlogL: -1435.713\tTol1: 0.00659\tTol2: 0.05232\tTol3: 0.00893\t\n",
      "Iter 21/50\n",
      "M step: done,  E step: done //  (in 0.04 sec)\tlogL: -1422.883\tTol1: 0.00894\tTol2: 0.04499\tTol3: 0.00512\t\n",
      "Iter 22/50\n",
      "M step: done,  E step: done //  (in 0.03 sec)\tlogL: -1415.936\tTol1: 0.00488\tTol2: 0.03516\tTol3: 0.00676\t\n",
      "Iter 23/50\n",
      "M step: done,  E step: done //  (in 0.03 sec)\tlogL: -1403.317\tTol1: 0.00891\tTol2: 0.04023\tTol3: 0.01174\t\n",
      "Iter 24/50\n",
      "M step: done,  E step: done //  (in 0.03 sec)\tlogL: -1395.519\tTol1: 0.00556\tTol2: 0.03551\tTol3: 0.01054\t\n",
      "Iter 25/50\n",
      "M step: done,  E step: done //  (in 0.03 sec)\tlogL: -1385.290\tTol1: 0.00733\tTol2: 0.03163\tTol3: 0.01293\t\n",
      "Iter 26/50\n",
      "M step: done,  E step: done //  (in 0.03 sec)\tlogL: -1379.410\tTol1: 0.00424\tTol2: 0.03234\tTol3: 0.00665\t\n",
      "Iter 27/50\n",
      "M step: done,  E step: done //  (in 0.03 sec)\tlogL: -1372.420\tTol1: 0.00507\tTol2: 0.02540\tTol3: 0.00785\t\n",
      "Finished training!\n",
      "Initializing new EM...\n",
      "Doing clustering...Done!\n",
      "Alphas:  (3,)\n",
      "Betas:  (3, 8, 8)\n",
      "Q estimate:  (1000, 8, 3, 8)\n",
      "Iter 1/50\n",
      "M step: done,  E step: done //  (in 0.44 sec)\tlogL: -2765.578\t\n",
      "Iter 2/50\n",
      "M step: done,  E step: done //  (in 0.03 sec)\tlogL: -2028.308\tTol1: 0.26659\tTol2: 0.59315\tTol3: 0.01680\t\n",
      "Iter 3/50\n",
      "M step: done,  E step: done //  (in 0.03 sec)\tlogL: -1836.446\tTol1: 0.09459\tTol2: 0.29095\tTol3: 0.02719\t\n",
      "Iter 4/50\n",
      "M step: done,  E step: done //  (in 0.03 sec)\tlogL: -1755.398\tTol1: 0.04413\tTol2: 0.20213\tTol3: 0.02600\t\n",
      "Iter 5/50\n",
      "M step: done,  E step: done //  (in 0.03 sec)\tlogL: -1675.518\tTol1: 0.04551\tTol2: 0.17316\tTol3: 0.02693\t\n",
      "Iter 6/50\n",
      "M step: done,  E step: done //  (in 0.03 sec)\tlogL: -1617.225\tTol1: 0.03479\tTol2: 0.16262\tTol3: 0.02130\t\n",
      "Iter 7/50\n",
      "M step: done,  E step: done //  (in 0.03 sec)\tlogL: -1574.701\tTol1: 0.02629\tTol2: 0.14830\tTol3: 0.02378\t\n",
      "Iter 8/50\n",
      "M step: done,  E step: done //  (in 0.03 sec)\tlogL: -1537.018\tTol1: 0.02393\tTol2: 0.13219\tTol3: 0.03137\t\n",
      "Iter 9/50\n",
      "M step: done,  E step: done //  (in 0.03 sec)\tlogL: -1503.197\tTol1: 0.02200\tTol2: 0.12833\tTol3: 0.02927\t\n",
      "Iter 10/50\n",
      "M step: done,  E step: done //  (in 0.03 sec)\tlogL: -1473.066\tTol1: 0.02004\tTol2: 0.10168\tTol3: 0.01515\t\n",
      "Iter 11/50\n",
      "M step: done,  E step: done //  (in 0.03 sec)\tlogL: -1446.801\tTol1: 0.01783\tTol2: 0.09146\tTol3: 0.02056\t\n",
      "Iter 12/50\n",
      "M step: done,  E step: done //  (in 0.03 sec)\tlogL: -1419.945\tTol1: 0.01856\tTol2: 0.07720\tTol3: 0.01998\t\n",
      "Iter 13/50\n",
      "M step: done,  E step: done //  (in 0.03 sec)\tlogL: -1401.142\tTol1: 0.01324\tTol2: 0.05940\tTol3: 0.01271\t\n",
      "Iter 14/50\n",
      "M step: done,  E step: done //  (in 0.03 sec)\tlogL: -1381.305\tTol1: 0.01416\tTol2: 0.05612\tTol3: 0.01176\t\n",
      "Iter 15/50\n",
      "M step: done,  E step: done //  (in 0.03 sec)\tlogL: -1365.118\tTol1: 0.01172\tTol2: 0.05577\tTol3: 0.01643\t\n",
      "Iter 16/50\n",
      "M step: done,  E step: done //  (in 0.03 sec)\tlogL: -1346.512\tTol1: 0.01363\tTol2: 0.08055\tTol3: 0.02635\t\n",
      "Iter 17/50\n"
     ]
    },
    {
     "name": "stdout",
     "output_type": "stream",
     "text": [
      "M step: done,  E step: done //  (in 0.03 sec)\tlogL: -1329.719\tTol1: 0.01247\tTol2: 0.06855\tTol3: 0.02019\t\n",
      "Iter 18/50\n",
      "M step: done,  E step: done //  (in 0.03 sec)\tlogL: -1308.928\tTol1: 0.01564\tTol2: 0.07017\tTol3: 0.02036\t\n",
      "Iter 19/50\n",
      "M step: done,  E step: done //  (in 0.03 sec)\tlogL: -1292.255\tTol1: 0.01274\tTol2: 0.06601\tTol3: 0.01611\t\n",
      "Iter 20/50\n",
      "M step: done,  E step: done //  (in 0.03 sec)\tlogL: -1279.845\tTol1: 0.00960\tTol2: 0.06455\tTol3: 0.01662\t\n",
      "Iter 21/50\n",
      "M step: done,  E step: done //  (in 0.03 sec)\tlogL: -1265.425\tTol1: 0.01127\tTol2: 0.06662\tTol3: 0.01119\t\n",
      "Iter 22/50\n",
      "M step: done,  E step: done //  (in 0.03 sec)\tlogL: -1252.238\tTol1: 0.01042\tTol2: 0.06978\tTol3: 0.01692\t\n",
      "Iter 23/50\n",
      "M step: done,  E step: done //  (in 0.03 sec)\tlogL: -1236.361\tTol1: 0.01268\tTol2: 0.07399\tTol3: 0.01991\t\n",
      "Iter 24/50\n",
      "M step: done,  E step: done //  (in 0.03 sec)\tlogL: -1223.660\tTol1: 0.01027\tTol2: 0.07493\tTol3: 0.02166\t\n",
      "Iter 25/50\n",
      "M step: done,  E step: done //  (in 0.03 sec)\tlogL: -1217.690\tTol1: 0.00488\tTol2: 0.05838\tTol3: 0.01919\t\n",
      "Iter 26/50\n",
      "M step: done,  E step: done //  (in 0.03 sec)\tlogL: -1204.738\tTol1: 0.01064\tTol2: 0.05808\tTol3: 0.01921\t\n",
      "Iter 27/50\n",
      "M step: done,  E step: done //  (in 0.03 sec)\tlogL: -1197.184\tTol1: 0.00627\tTol2: 0.05571\tTol3: 0.02168\t\n",
      "Iter 28/50\n",
      "M step: done,  E step: done //  (in 0.03 sec)\tlogL: -1182.575\tTol1: 0.01220\tTol2: 0.04940\tTol3: 0.02440\t\n",
      "Iter 29/50\n",
      "M step: done,  E step: done //  (in 0.03 sec)\tlogL: -1176.042\tTol1: 0.00552\tTol2: 0.05141\tTol3: 0.01716\t\n",
      "Iter 30/50\n",
      "M step: done,  E step: done //  (in 0.03 sec)\tlogL: -1165.968\tTol1: 0.00857\tTol2: 0.03882\tTol3: 0.01416\t\n",
      "Iter 31/50\n",
      "M step: done,  E step: done //  (in 0.03 sec)\tlogL: -1162.777\tTol1: 0.00274\tTol2: 0.03862\tTol3: 0.01440\t\n",
      "Iter 32/50\n",
      "M step: done,  E step: done //  (in 0.03 sec)\tlogL: -1155.964\tTol1: 0.00586\tTol2: 0.03489\tTol3: 0.01613\t\n",
      "Iter 33/50\n",
      "M step: done,  E step: done //  (in 0.03 sec)\tlogL: -1144.478\tTol1: 0.00994\tTol2: 0.03727\tTol3: 0.01028\t\n",
      "Iter 34/50\n",
      "M step: done,  E step: done //  (in 0.03 sec)\tlogL: -1135.173\tTol1: 0.00813\tTol2: 0.03537\tTol3: 0.01123\t\n",
      "Iter 35/50\n",
      "M step: done,  E step: done //  (in 0.03 sec)\tlogL: -1127.873\tTol1: 0.00643\tTol2: 0.02643\tTol3: 0.01222\t\n",
      "Finished training!\n",
      "Initializing new EM...\n",
      "Doing clustering...Done!\n",
      "Alphas:  (3,)\n",
      "Betas:  (3, 8, 8)\n",
      "Q estimate:  (1000, 8, 3, 8)\n",
      "Iter 1/50\n",
      "M step: done,  E step: done //  (in 0.43 sec)\tlogL: -2854.939\t\n",
      "Iter 2/50\n",
      "M step: done,  E step: done //  (in 0.03 sec)\tlogL: -2062.002\tTol1: 0.27774\tTol2: 0.73579\tTol3: 0.10389\t\n",
      "Iter 3/50\n",
      "M step: done,  E step: done //  (in 0.03 sec)\tlogL: -1906.621\tTol1: 0.07535\tTol2: 0.45410\tTol3: 0.02795\t\n",
      "Iter 4/50\n",
      "M step: done,  E step: done //  (in 0.03 sec)\tlogL: -1815.591\tTol1: 0.04774\tTol2: 0.24143\tTol3: 0.00620\t\n",
      "Iter 5/50\n",
      "M step: done,  E step: done //  (in 0.03 sec)\tlogL: -1741.922\tTol1: 0.04058\tTol2: 0.15836\tTol3: 0.00952\t\n",
      "Iter 6/50\n",
      "M step: done,  E step: done //  (in 0.03 sec)\tlogL: -1692.124\tTol1: 0.02859\tTol2: 0.16474\tTol3: 0.02207\t\n",
      "Iter 7/50\n",
      "M step: done,  E step: done //  (in 0.03 sec)\tlogL: -1652.121\tTol1: 0.02364\tTol2: 0.14621\tTol3: 0.02424\t\n",
      "Iter 8/50\n",
      "M step: done,  E step: done //  (in 0.03 sec)\tlogL: -1612.296\tTol1: 0.02411\tTol2: 0.11858\tTol3: 0.02203\t\n",
      "Iter 9/50\n",
      "M step: done,  E step: done //  (in 0.03 sec)\tlogL: -1584.743\tTol1: 0.01709\tTol2: 0.10668\tTol3: 0.02099\t\n",
      "Iter 10/50\n",
      "M step: done,  E step: done //  (in 0.03 sec)\tlogL: -1550.488\tTol1: 0.02162\tTol2: 0.08974\tTol3: 0.01086\t\n",
      "Iter 11/50\n",
      "M step: done,  E step: done //  (in 0.03 sec)\tlogL: -1519.995\tTol1: 0.01967\tTol2: 0.07123\tTol3: 0.00527\t\n",
      "Iter 12/50\n",
      "M step: done,  E step: done //  (in 0.03 sec)\tlogL: -1495.546\tTol1: 0.01608\tTol2: 0.05933\tTol3: 0.01002\t\n",
      "Iter 13/50\n",
      "M step: done,  E step: done //  (in 0.03 sec)\tlogL: -1477.102\tTol1: 0.01233\tTol2: 0.05715\tTol3: 0.01497\t\n",
      "Iter 14/50\n",
      "M step: done,  E step: done //  (in 0.03 sec)\tlogL: -1459.444\tTol1: 0.01195\tTol2: 0.05465\tTol3: 0.00995\t\n",
      "Iter 15/50\n",
      "M step: done,  E step: done //  (in 0.03 sec)\tlogL: -1435.733\tTol1: 0.01625\tTol2: 0.06165\tTol3: 0.00674\t\n",
      "Iter 16/50\n",
      "M step: done,  E step: done //  (in 0.03 sec)\tlogL: -1415.295\tTol1: 0.01424\tTol2: 0.08905\tTol3: 0.00964\t\n",
      "Iter 17/50\n",
      "M step: done,  E step: done //  (in 0.03 sec)\tlogL: -1396.083\tTol1: 0.01357\tTol2: 0.07006\tTol3: 0.01081\t\n",
      "Iter 18/50\n",
      "M step: done,  E step: done //  (in 0.03 sec)\tlogL: -1377.425\tTol1: 0.01336\tTol2: 0.06178\tTol3: 0.01066\t\n",
      "Iter 19/50\n",
      "M step: done,  E step: done //  (in 0.03 sec)\tlogL: -1361.982\tTol1: 0.01121\tTol2: 0.05708\tTol3: 0.00801\t\n",
      "Iter 20/50\n",
      "M step: done,  E step: done //  (in 0.03 sec)\tlogL: -1351.946\tTol1: 0.00737\tTol2: 0.05934\tTol3: 0.00638\t\n",
      "Iter 21/50\n",
      "M step: done,  E step: done //  (in 0.03 sec)\tlogL: -1338.521\tTol1: 0.00993\tTol2: 0.05453\tTol3: 0.00346\t\n",
      "Iter 22/50\n",
      "M step: done,  E step: done //  (in 0.03 sec)\tlogL: -1325.639\tTol1: 0.00962\tTol2: 0.05539\tTol3: 0.00675\t\n",
      "Iter 23/50\n",
      "M step: done,  E step: done //  (in 0.03 sec)\tlogL: -1317.016\tTol1: 0.00650\tTol2: 0.05608\tTol3: 0.00504\t\n",
      "Iter 24/50\n",
      "M step: done,  E step: done //  (in 0.03 sec)\tlogL: -1301.880\tTol1: 0.01149\tTol2: 0.05414\tTol3: 0.00620\t\n",
      "Iter 25/50\n",
      "M step: done,  E step: done //  (in 0.03 sec)\tlogL: -1290.350\tTol1: 0.00886\tTol2: 0.04673\tTol3: 0.00409\t\n",
      "Iter 26/50\n",
      "M step: done,  E step: done //  (in 0.03 sec)\tlogL: -1278.823\tTol1: 0.00893\tTol2: 0.04461\tTol3: 0.00645\t\n",
      "Iter 27/50\n",
      "M step: done,  E step: done //  (in 0.03 sec)\tlogL: -1272.056\tTol1: 0.00529\tTol2: 0.03590\tTol3: 0.00531\t\n",
      "Iter 28/50\n",
      "M step: done,  E step: done //  (in 0.03 sec)\tlogL: -1264.168\tTol1: 0.00620\tTol2: 0.03629\tTol3: 0.00379\t\n",
      "Iter 29/50\n",
      "M step: done,  E step: done //  (in 0.03 sec)\tlogL: -1256.317\tTol1: 0.00621\tTol2: 0.03310\tTol3: 0.00474\t\n",
      "Iter 30/50\n",
      "M step: done,  E step: done //  (in 0.03 sec)\tlogL: -1249.027\tTol1: 0.00580\tTol2: 0.03460\tTol3: 0.00444\t\n",
      "Iter 31/50\n",
      "M step: done,  E step: done //  (in 0.04 sec)\tlogL: -1237.968\tTol1: 0.00885\tTol2: 0.04406\tTol3: 0.00688\t\n",
      "Iter 32/50\n",
      "M step: done,  E step: done //  (in 0.03 sec)\tlogL: -1229.901\tTol1: 0.00652\tTol2: 0.04650\tTol3: 0.00852\t\n",
      "Iter 33/50\n",
      "M step: done,  E step: done //  (in 0.03 sec)\tlogL: -1221.079\tTol1: 0.00717\tTol2: 0.04360\tTol3: 0.00507\t\n",
      "Iter 34/50\n",
      "M step: done,  E step: done //  (in 0.03 sec)\tlogL: -1214.849\tTol1: 0.00510\tTol2: 0.04167\tTol3: 0.00844\t\n",
      "Iter 35/50\n",
      "M step: done,  E step: done //  (in 0.03 sec)\tlogL: -1211.870\tTol1: 0.00245\tTol2: 0.04605\tTol3: 0.01174\t\n",
      "Iter 36/50\n",
      "M step: done,  E step: done //  (in 0.03 sec)\tlogL: -1205.277\tTol1: 0.00544\tTol2: 0.04667\tTol3: 0.00934\t\n",
      "Iter 37/50\n",
      "M step: done,  E step: done //  (in 0.03 sec)\tlogL: -1196.775\tTol1: 0.00705\tTol2: 0.04011\tTol3: 0.00830\t\n",
      "Iter 38/50\n",
      "M step: done,  E step: done //  (in 0.03 sec)\tlogL: -1189.370\tTol1: 0.00619\tTol2: 0.04358\tTol3: 0.00965\t\n",
      "Iter 39/50\n",
      "M step: done,  E step: done //  (in 0.03 sec)\tlogL: -1182.696\tTol1: 0.00561\tTol2: 0.04608\tTol3: 0.00844\t\n",
      "Iter 40/50\n",
      "M step: done,  E step: done //  (in 0.03 sec)\tlogL: -1179.852\tTol1: 0.00240\tTol2: 0.04300\tTol3: 0.00713\t\n",
      "Iter 41/50\n",
      "M step: done,  E step: done //  (in 0.03 sec)\tlogL: -1171.871\tTol1: 0.00676\tTol2: 0.03631\tTol3: 0.00767\t\n",
      "Iter 42/50\n",
      "M step: done,  E step: done //  (in 0.03 sec)\tlogL: -1166.098\tTol1: 0.00493\tTol2: 0.02782\tTol3: 0.00447\t\n",
      "Finished training!\n",
      "Initializing new EM...\n",
      "Doing clustering...Done!\n",
      "Alphas:  (3,)\n",
      "Betas:  (3, 8, 8)\n",
      "Q estimate:  (1000, 8, 3, 8)\n",
      "Iter 1/50\n",
      "M step: done,  E step: done //  (in 0.45 sec)\tlogL: -2739.075\t\n",
      "Iter 2/50\n",
      "M step: done,  E step: done //  (in 0.04 sec)\tlogL: -2031.825\tTol1: 0.25821\tTol2: 0.62852\tTol3: 0.03408\t\n",
      "Iter 3/50\n",
      "M step: done,  E step: done //  (in 0.03 sec)\tlogL: -1870.090\tTol1: 0.07960\tTol2: 0.35701\tTol3: 0.02404\t\n",
      "Iter 4/50\n",
      "M step: done,  E step: done //  (in 0.03 sec)\tlogL: -1774.072\tTol1: 0.05134\tTol2: 0.27400\tTol3: 0.03560\t\n",
      "Iter 5/50\n",
      "M step: done,  E step: done //  (in 0.03 sec)\tlogL: -1729.089\tTol1: 0.02536\tTol2: 0.18285\tTol3: 0.00736\t\n",
      "Iter 6/50\n",
      "M step: done,  E step: done //  (in 0.04 sec)\tlogL: -1689.888\tTol1: 0.02267\tTol2: 0.15884\tTol3: 0.00948\t\n",
      "Iter 7/50\n",
      "M step: done,  E step: done //  (in 0.03 sec)\tlogL: -1665.327\tTol1: 0.01453\tTol2: 0.13690\tTol3: 0.01686\t\n",
      "Iter 8/50\n",
      "M step: done,  E step: done //  (in 0.03 sec)\tlogL: -1637.648\tTol1: 0.01662\tTol2: 0.13028\tTol3: 0.01559\t\n",
      "Iter 9/50\n"
     ]
    },
    {
     "name": "stdout",
     "output_type": "stream",
     "text": [
      "M step: done,  E step: done //  (in 0.03 sec)\tlogL: -1598.245\tTol1: 0.02406\tTol2: 0.12335\tTol3: 0.01342\t\n",
      "Iter 10/50\n",
      "M step: done,  E step: done //  (in 0.03 sec)\tlogL: -1565.150\tTol1: 0.02071\tTol2: 0.10594\tTol3: 0.00534\t\n",
      "Iter 11/50\n",
      "M step: done,  E step: done //  (in 0.03 sec)\tlogL: -1540.599\tTol1: 0.01569\tTol2: 0.09594\tTol3: 0.01972\t\n",
      "Iter 12/50\n",
      "M step: done,  E step: done //  (in 0.03 sec)\tlogL: -1519.286\tTol1: 0.01383\tTol2: 0.07589\tTol3: 0.01841\t\n",
      "Iter 13/50\n",
      "M step: done,  E step: done //  (in 0.03 sec)\tlogL: -1497.953\tTol1: 0.01404\tTol2: 0.06513\tTol3: 0.01623\t\n",
      "Iter 14/50\n",
      "M step: done,  E step: done //  (in 0.03 sec)\tlogL: -1477.476\tTol1: 0.01367\tTol2: 0.05104\tTol3: 0.01049\t\n",
      "Iter 15/50\n",
      "M step: done,  E step: done //  (in 0.03 sec)\tlogL: -1453.776\tTol1: 0.01604\tTol2: 0.05181\tTol3: 0.01678\t\n",
      "Iter 16/50\n",
      "M step: done,  E step: done //  (in 0.03 sec)\tlogL: -1429.997\tTol1: 0.01636\tTol2: 0.05178\tTol3: 0.01493\t\n",
      "Iter 17/50\n",
      "M step: done,  E step: done //  (in 0.03 sec)\tlogL: -1415.338\tTol1: 0.01025\tTol2: 0.04620\tTol3: 0.00505\t\n",
      "Iter 18/50\n",
      "M step: done,  E step: done //  (in 0.03 sec)\tlogL: -1398.168\tTol1: 0.01213\tTol2: 0.04459\tTol3: 0.00369\t\n",
      "Iter 19/50\n",
      "M step: done,  E step: done //  (in 0.03 sec)\tlogL: -1382.688\tTol1: 0.01107\tTol2: 0.04336\tTol3: 0.01351\t\n",
      "Iter 20/50\n",
      "M step: done,  E step: done //  (in 0.03 sec)\tlogL: -1370.110\tTol1: 0.00910\tTol2: 0.03947\tTol3: 0.01191\t\n",
      "Iter 21/50\n",
      "M step: done,  E step: done //  (in 0.03 sec)\tlogL: -1363.303\tTol1: 0.00497\tTol2: 0.04789\tTol3: 0.00879\t\n",
      "Iter 22/50\n",
      "M step: done,  E step: done //  (in 0.03 sec)\tlogL: -1357.463\tTol1: 0.00428\tTol2: 0.03918\tTol3: 0.00730\t\n",
      "Iter 23/50\n",
      "M step: done,  E step: done //  (in 0.03 sec)\tlogL: -1345.117\tTol1: 0.00909\tTol2: 0.04875\tTol3: 0.01116\t\n",
      "Iter 24/50\n",
      "M step: done,  E step: done //  (in 0.03 sec)\tlogL: -1330.181\tTol1: 0.01110\tTol2: 0.04240\tTol3: 0.00837\t\n",
      "Iter 25/50\n",
      "M step: done,  E step: done //  (in 0.03 sec)\tlogL: -1315.830\tTol1: 0.01079\tTol2: 0.05342\tTol3: 0.00569\t\n",
      "Iter 26/50\n",
      "M step: done,  E step: done //  (in 0.03 sec)\tlogL: -1311.145\tTol1: 0.00356\tTol2: 0.05138\tTol3: 0.00570\t\n",
      "Iter 27/50\n",
      "M step: done,  E step: done //  (in 0.03 sec)\tlogL: -1298.713\tTol1: 0.00948\tTol2: 0.04751\tTol3: 0.00382\t\n",
      "Iter 28/50\n",
      "M step: done,  E step: done //  (in 0.03 sec)\tlogL: -1292.959\tTol1: 0.00443\tTol2: 0.04344\tTol3: 0.00161\t\n",
      "Iter 29/50\n",
      "M step: done,  E step: done //  (in 0.03 sec)\tlogL: -1284.780\tTol1: 0.00633\tTol2: 0.04755\tTol3: 0.00291\t\n",
      "Iter 30/50\n",
      "M step: done,  E step: done //  (in 0.03 sec)\tlogL: -1272.940\tTol1: 0.00922\tTol2: 0.04405\tTol3: 0.00379\t\n",
      "Iter 31/50\n",
      "M step: done,  E step: done //  (in 0.03 sec)\tlogL: -1262.614\tTol1: 0.00811\tTol2: 0.03464\tTol3: 0.00291\t\n",
      "Iter 32/50\n",
      "M step: done,  E step: done //  (in 0.03 sec)\tlogL: -1253.247\tTol1: 0.00742\tTol2: 0.03875\tTol3: 0.00390\t\n",
      "Iter 33/50\n",
      "M step: done,  E step: done //  (in 0.03 sec)\tlogL: -1249.493\tTol1: 0.00300\tTol2: 0.03694\tTol3: 0.00273\t\n",
      "Iter 34/50\n",
      "M step: done,  E step: done //  (in 0.03 sec)\tlogL: -1246.066\tTol1: 0.00274\tTol2: 0.03685\tTol3: 0.00103\t\n",
      "Iter 35/50\n",
      "M step: done,  E step: done //  (in 0.03 sec)\tlogL: -1235.730\tTol1: 0.00830\tTol2: 0.03430\tTol3: 0.00354\t\n",
      "Iter 36/50\n",
      "M step: done,  E step: done //  (in 0.03 sec)\tlogL: -1230.439\tTol1: 0.00428\tTol2: 0.03844\tTol3: 0.00205\t\n",
      "Iter 37/50\n",
      "M step: done,  E step: done //  (in 0.03 sec)\tlogL: -1223.742\tTol1: 0.00544\tTol2: 0.03369\tTol3: 0.00154\t\n",
      "Iter 38/50\n",
      "M step: done,  E step: done //  (in 0.03 sec)\tlogL: -1214.558\tTol1: 0.00750\tTol2: 0.03098\tTol3: 0.00454\t\n",
      "Iter 39/50\n",
      "M step: done,  E step: done //  (in 0.03 sec)\tlogL: -1208.141\tTol1: 0.00528\tTol2: 0.02288\tTol3: 0.00196\t\n",
      "Finished training!\n",
      "Initializing new EM...\n",
      "Doing clustering...Done!\n",
      "Alphas:  (3,)\n",
      "Betas:  (3, 8, 8)\n",
      "Q estimate:  (1000, 8, 3, 8)\n",
      "Iter 1/50\n",
      "M step: done,  E step: done //  (in 0.44 sec)\tlogL: -3016.428\t\n",
      "Iter 2/50\n",
      "M step: done,  E step: done //  (in 0.03 sec)\tlogL: -2259.877\tTol1: 0.25081\tTol2: 0.71732\tTol3: 0.03477\t\n",
      "Iter 3/50\n",
      "M step: done,  E step: done //  (in 0.03 sec)\tlogL: -2083.592\tTol1: 0.07801\tTol2: 0.32962\tTol3: 0.02802\t\n",
      "Iter 4/50\n",
      "M step: done,  E step: done //  (in 0.04 sec)\tlogL: -1952.488\tTol1: 0.06292\tTol2: 0.27216\tTol3: 0.02081\t\n",
      "Iter 5/50\n",
      "M step: done,  E step: done //  (in 0.03 sec)\tlogL: -1848.828\tTol1: 0.05309\tTol2: 0.22859\tTol3: 0.02414\t\n",
      "Iter 6/50\n",
      "M step: done,  E step: done //  (in 0.03 sec)\tlogL: -1763.698\tTol1: 0.04605\tTol2: 0.17809\tTol3: 0.02359\t\n",
      "Iter 7/50\n",
      "M step: done,  E step: done //  (in 0.03 sec)\tlogL: -1702.733\tTol1: 0.03457\tTol2: 0.15640\tTol3: 0.02543\t\n",
      "Iter 8/50\n",
      "M step: done,  E step: done //  (in 0.03 sec)\tlogL: -1645.838\tTol1: 0.03341\tTol2: 0.14517\tTol3: 0.02383\t\n",
      "Iter 9/50\n",
      "M step: done,  E step: done //  (in 0.03 sec)\tlogL: -1606.692\tTol1: 0.02379\tTol2: 0.13013\tTol3: 0.01259\t\n",
      "Iter 10/50\n",
      "M step: done,  E step: done //  (in 0.03 sec)\tlogL: -1568.882\tTol1: 0.02353\tTol2: 0.10612\tTol3: 0.00777\t\n",
      "Iter 11/50\n",
      "M step: done,  E step: done //  (in 0.03 sec)\tlogL: -1537.476\tTol1: 0.02002\tTol2: 0.09535\tTol3: 0.01416\t\n",
      "Iter 12/50\n",
      "M step: done,  E step: done //  (in 0.03 sec)\tlogL: -1509.841\tTol1: 0.01797\tTol2: 0.08646\tTol3: 0.00899\t\n",
      "Iter 13/50\n",
      "M step: done,  E step: done //  (in 0.03 sec)\tlogL: -1478.761\tTol1: 0.02059\tTol2: 0.09249\tTol3: 0.00974\t\n",
      "Iter 14/50\n",
      "M step: done,  E step: done //  (in 0.03 sec)\tlogL: -1457.307\tTol1: 0.01451\tTol2: 0.07798\tTol3: 0.00910\t\n",
      "Iter 15/50\n",
      "M step: done,  E step: done //  (in 0.03 sec)\tlogL: -1436.690\tTol1: 0.01415\tTol2: 0.07212\tTol3: 0.00562\t\n",
      "Iter 16/50\n",
      "M step: done,  E step: done //  (in 0.03 sec)\tlogL: -1416.421\tTol1: 0.01411\tTol2: 0.05799\tTol3: 0.00441\t\n",
      "Iter 17/50\n",
      "M step: done,  E step: done //  (in 0.03 sec)\tlogL: -1393.311\tTol1: 0.01632\tTol2: 0.05285\tTol3: 0.00908\t\n",
      "Iter 18/50\n",
      "M step: done,  E step: done //  (in 0.03 sec)\tlogL: -1371.934\tTol1: 0.01534\tTol2: 0.04618\tTol3: 0.00349\t\n",
      "Iter 19/50\n",
      "M step: done,  E step: done //  (in 0.03 sec)\tlogL: -1353.352\tTol1: 0.01354\tTol2: 0.04131\tTol3: 0.00972\t\n",
      "Iter 20/50\n",
      "M step: done,  E step: done //  (in 0.03 sec)\tlogL: -1340.144\tTol1: 0.00976\tTol2: 0.03599\tTol3: 0.00638\t\n",
      "Iter 21/50\n",
      "M step: done,  E step: done //  (in 0.03 sec)\tlogL: -1327.127\tTol1: 0.00971\tTol2: 0.03893\tTol3: 0.00282\t\n",
      "Iter 22/50\n",
      "M step: done,  E step: done //  (in 0.03 sec)\tlogL: -1312.687\tTol1: 0.01088\tTol2: 0.03219\tTol3: 0.00112\t\n",
      "Iter 23/50\n",
      "M step: done,  E step: done //  (in 0.03 sec)\tlogL: -1296.925\tTol1: 0.01201\tTol2: 0.04116\tTol3: 0.00104\t\n",
      "Iter 24/50\n",
      "M step: done,  E step: done //  (in 0.03 sec)\tlogL: -1284.518\tTol1: 0.00957\tTol2: 0.04041\tTol3: 0.00525\t\n",
      "Iter 25/50\n",
      "M step: done,  E step: done //  (in 0.03 sec)\tlogL: -1272.698\tTol1: 0.00920\tTol2: 0.03214\tTol3: 0.00527\t\n",
      "Iter 26/50\n",
      "M step: done,  E step: done //  (in 0.03 sec)\tlogL: -1261.431\tTol1: 0.00885\tTol2: 0.03907\tTol3: 0.00995\t\n",
      "Iter 27/50\n",
      "M step: done,  E step: done //  (in 0.03 sec)\tlogL: -1250.030\tTol1: 0.00904\tTol2: 0.03873\tTol3: 0.01367\t\n",
      "Iter 28/50\n",
      "M step: done,  E step: done //  (in 0.03 sec)\tlogL: -1240.499\tTol1: 0.00763\tTol2: 0.04003\tTol3: 0.00817\t\n",
      "Iter 29/50\n",
      "M step: done,  E step: done //  (in 0.03 sec)\tlogL: -1227.126\tTol1: 0.01078\tTol2: 0.04146\tTol3: 0.00795\t\n",
      "Iter 30/50\n",
      "M step: done,  E step: done //  (in 0.03 sec)\tlogL: -1214.670\tTol1: 0.01015\tTol2: 0.03787\tTol3: 0.00335\t\n",
      "Iter 31/50\n",
      "M step: done,  E step: done //  (in 0.03 sec)\tlogL: -1206.986\tTol1: 0.00633\tTol2: 0.03223\tTol3: 0.00278\t\n",
      "Iter 32/50\n",
      "M step: done,  E step: done //  (in 0.03 sec)\tlogL: -1195.323\tTol1: 0.00966\tTol2: 0.04354\tTol3: 0.00984\t\n",
      "Iter 33/50\n",
      "M step: done,  E step: done //  (in 0.03 sec)\tlogL: -1185.649\tTol1: 0.00809\tTol2: 0.03707\tTol3: 0.01171\t\n",
      "Iter 34/50\n",
      "M step: done,  E step: done //  (in 0.03 sec)\tlogL: -1178.347\tTol1: 0.00616\tTol2: 0.03310\tTol3: 0.00860\t\n",
      "Iter 35/50\n",
      "M step: done,  E step: done //  (in 0.03 sec)\tlogL: -1171.050\tTol1: 0.00619\tTol2: 0.02770\tTol3: 0.00574\t\n",
      "Finished training!\n",
      "Initializing new EM...\n",
      "Doing clustering...Done!\n",
      "Alphas:  (3,)\n",
      "Betas:  (3, 8, 8)\n",
      "Q estimate:  (1000, 8, 3, 8)\n",
      "Iter 1/50\n",
      "M step: done,  E step: done //  (in 0.44 sec)\tlogL: -3386.846\t\n",
      "Iter 2/50\n",
      "M step: done,  E step: done //  (in 0.03 sec)\tlogL: -2320.202\tTol1: 0.31494\tTol2: 0.89693\tTol3: 0.25606\t\n",
      "Iter 3/50\n",
      "M step: done,  E step: done //  (in 0.03 sec)\tlogL: -2112.324\tTol1: 0.08959\tTol2: 0.36563\tTol3: 0.02245\t\n",
      "Iter 4/50\n"
     ]
    },
    {
     "name": "stdout",
     "output_type": "stream",
     "text": [
      "M step: done,  E step: done //  (in 0.03 sec)\tlogL: -2004.094\tTol1: 0.05124\tTol2: 0.23640\tTol3: 0.02455\t\n",
      "Iter 5/50\n",
      "M step: done,  E step: done //  (in 0.03 sec)\tlogL: -1917.676\tTol1: 0.04312\tTol2: 0.22021\tTol3: 0.03384\t\n",
      "Iter 6/50\n",
      "M step: done,  E step: done //  (in 0.03 sec)\tlogL: -1836.666\tTol1: 0.04224\tTol2: 0.20763\tTol3: 0.01909\t\n",
      "Iter 7/50\n",
      "M step: done,  E step: done //  (in 0.03 sec)\tlogL: -1772.556\tTol1: 0.03491\tTol2: 0.16103\tTol3: 0.01154\t\n",
      "Iter 8/50\n",
      "M step: done,  E step: done //  (in 0.03 sec)\tlogL: -1722.195\tTol1: 0.02841\tTol2: 0.12478\tTol3: 0.01220\t\n",
      "Iter 9/50\n",
      "M step: done,  E step: done //  (in 0.03 sec)\tlogL: -1681.469\tTol1: 0.02365\tTol2: 0.11454\tTol3: 0.01590\t\n",
      "Iter 10/50\n",
      "M step: done,  E step: done //  (in 0.03 sec)\tlogL: -1644.246\tTol1: 0.02214\tTol2: 0.10748\tTol3: 0.01652\t\n",
      "Iter 11/50\n",
      "M step: done,  E step: done //  (in 0.03 sec)\tlogL: -1610.939\tTol1: 0.02026\tTol2: 0.09522\tTol3: 0.02221\t\n",
      "Iter 12/50\n",
      "M step: done,  E step: done //  (in 0.03 sec)\tlogL: -1586.080\tTol1: 0.01543\tTol2: 0.07509\tTol3: 0.02073\t\n",
      "Iter 13/50\n",
      "M step: done,  E step: done //  (in 0.03 sec)\tlogL: -1564.711\tTol1: 0.01347\tTol2: 0.07359\tTol3: 0.01987\t\n",
      "Iter 14/50\n",
      "M step: done,  E step: done //  (in 0.03 sec)\tlogL: -1545.352\tTol1: 0.01237\tTol2: 0.06582\tTol3: 0.01888\t\n",
      "Iter 15/50\n",
      "M step: done,  E step: done //  (in 0.03 sec)\tlogL: -1528.263\tTol1: 0.01106\tTol2: 0.06460\tTol3: 0.01920\t\n",
      "Iter 16/50\n",
      "M step: done,  E step: done //  (in 0.03 sec)\tlogL: -1507.902\tTol1: 0.01332\tTol2: 0.05692\tTol3: 0.01376\t\n",
      "Iter 17/50\n",
      "M step: done,  E step: done //  (in 0.03 sec)\tlogL: -1490.464\tTol1: 0.01156\tTol2: 0.05771\tTol3: 0.01444\t\n",
      "Iter 18/50\n",
      "M step: done,  E step: done //  (in 0.03 sec)\tlogL: -1467.258\tTol1: 0.01557\tTol2: 0.04884\tTol3: 0.01471\t\n",
      "Iter 19/50\n",
      "M step: done,  E step: done //  (in 0.03 sec)\tlogL: -1448.245\tTol1: 0.01296\tTol2: 0.05467\tTol3: 0.01656\t\n",
      "Iter 20/50\n",
      "M step: done,  E step: done //  (in 0.03 sec)\tlogL: -1434.958\tTol1: 0.00917\tTol2: 0.05143\tTol3: 0.01660\t\n",
      "Iter 21/50\n",
      "M step: done,  E step: done //  (in 0.03 sec)\tlogL: -1421.502\tTol1: 0.00938\tTol2: 0.04643\tTol3: 0.00885\t\n",
      "Iter 22/50\n",
      "M step: done,  E step: done //  (in 0.03 sec)\tlogL: -1400.570\tTol1: 0.01472\tTol2: 0.04349\tTol3: 0.00737\t\n",
      "Iter 23/50\n",
      "M step: done,  E step: done //  (in 0.03 sec)\tlogL: -1392.273\tTol1: 0.00592\tTol2: 0.04726\tTol3: 0.01011\t\n",
      "Iter 24/50\n",
      "M step: done,  E step: done //  (in 0.03 sec)\tlogL: -1383.594\tTol1: 0.00623\tTol2: 0.03990\tTol3: 0.01218\t\n",
      "Iter 25/50\n",
      "M step: done,  E step: done //  (in 0.03 sec)\tlogL: -1375.226\tTol1: 0.00605\tTol2: 0.04720\tTol3: 0.01761\t\n",
      "Iter 26/50\n",
      "M step: done,  E step: done //  (in 0.03 sec)\tlogL: -1363.304\tTol1: 0.00867\tTol2: 0.03823\tTol3: 0.01320\t\n",
      "Iter 27/50\n",
      "M step: done,  E step: done //  (in 0.03 sec)\tlogL: -1352.808\tTol1: 0.00770\tTol2: 0.03722\tTol3: 0.00881\t\n",
      "Iter 28/50\n",
      "M step: done,  E step: done //  (in 0.03 sec)\tlogL: -1342.267\tTol1: 0.00779\tTol2: 0.03410\tTol3: 0.00994\t\n",
      "Iter 29/50\n",
      "M step: done,  E step: done //  (in 0.03 sec)\tlogL: -1335.806\tTol1: 0.00481\tTol2: 0.03131\tTol3: 0.01144\t\n",
      "Iter 30/50\n",
      "M step: done,  E step: done //  (in 0.03 sec)\tlogL: -1330.212\tTol1: 0.00419\tTol2: 0.03355\tTol3: 0.01226\t\n",
      "Iter 31/50\n",
      "M step: done,  E step: done //  (in 0.03 sec)\tlogL: -1321.074\tTol1: 0.00687\tTol2: 0.03463\tTol3: 0.01263\t\n",
      "Iter 32/50\n",
      "M step: done,  E step: done //  (in 0.03 sec)\tlogL: -1317.303\tTol1: 0.00285\tTol2: 0.02665\tTol3: 0.00852\t\n",
      "Finished training!\n",
      "Initializing new EM...\n",
      "Doing clustering...Done!\n",
      "Alphas:  (3,)\n",
      "Betas:  (3, 8, 8)\n",
      "Q estimate:  (1000, 8, 3, 8)\n",
      "Iter 1/50\n",
      "M step: done,  E step: done //  (in 0.42 sec)\tlogL: -2954.652\t\n",
      "Iter 2/50\n",
      "M step: done,  E step: done //  (in 0.03 sec)\tlogL: -2147.362\tTol1: 0.27323\tTol2: 1.02856\tTol3: 0.06296\t\n",
      "Iter 3/50\n",
      "M step: done,  E step: done //  (in 0.03 sec)\tlogL: -1904.442\tTol1: 0.11312\tTol2: 0.33873\tTol3: 0.05506\t\n",
      "Iter 4/50\n",
      "M step: done,  E step: done //  (in 0.03 sec)\tlogL: -1780.231\tTol1: 0.06522\tTol2: 0.26443\tTol3: 0.02449\t\n",
      "Iter 5/50\n",
      "M step: done,  E step: done //  (in 0.03 sec)\tlogL: -1707.044\tTol1: 0.04111\tTol2: 0.22304\tTol3: 0.03191\t\n",
      "Iter 6/50\n",
      "M step: done,  E step: done //  (in 0.04 sec)\tlogL: -1668.090\tTol1: 0.02282\tTol2: 0.17994\tTol3: 0.01936\t\n",
      "Iter 7/50\n",
      "M step: done,  E step: done //  (in 0.03 sec)\tlogL: -1632.302\tTol1: 0.02145\tTol2: 0.16766\tTol3: 0.02764\t\n",
      "Iter 8/50\n",
      "M step: done,  E step: done //  (in 0.03 sec)\tlogL: -1594.750\tTol1: 0.02301\tTol2: 0.14136\tTol3: 0.01302\t\n",
      "Iter 9/50\n",
      "M step: done,  E step: done //  (in 0.03 sec)\tlogL: -1563.359\tTol1: 0.01968\tTol2: 0.11336\tTol3: 0.00822\t\n",
      "Iter 10/50\n",
      "M step: done,  E step: done //  (in 0.03 sec)\tlogL: -1525.268\tTol1: 0.02437\tTol2: 0.09549\tTol3: 0.00388\t\n",
      "Iter 11/50\n",
      "M step: done,  E step: done //  (in 0.03 sec)\tlogL: -1492.617\tTol1: 0.02141\tTol2: 0.08447\tTol3: 0.01015\t\n",
      "Iter 12/50\n",
      "M step: done,  E step: done //  (in 0.04 sec)\tlogL: -1466.602\tTol1: 0.01743\tTol2: 0.07255\tTol3: 0.01527\t\n",
      "Iter 13/50\n",
      "M step: done,  E step: done //  (in 0.03 sec)\tlogL: -1443.445\tTol1: 0.01579\tTol2: 0.05703\tTol3: 0.01512\t\n",
      "Iter 14/50\n",
      "M step: done,  E step: done //  (in 0.03 sec)\tlogL: -1419.000\tTol1: 0.01694\tTol2: 0.07272\tTol3: 0.02765\t\n",
      "Iter 15/50\n",
      "M step: done,  E step: done //  (in 0.03 sec)\tlogL: -1396.864\tTol1: 0.01560\tTol2: 0.05251\tTol3: 0.02683\t\n",
      "Iter 16/50\n",
      "M step: done,  E step: done //  (in 0.03 sec)\tlogL: -1370.533\tTol1: 0.01885\tTol2: 0.06291\tTol3: 0.02057\t\n",
      "Iter 17/50\n",
      "M step: done,  E step: done //  (in 0.03 sec)\tlogL: -1348.256\tTol1: 0.01625\tTol2: 0.06296\tTol3: 0.01968\t\n",
      "Iter 18/50\n",
      "M step: done,  E step: done //  (in 0.03 sec)\tlogL: -1329.024\tTol1: 0.01426\tTol2: 0.06246\tTol3: 0.02000\t\n",
      "Iter 19/50\n",
      "M step: done,  E step: done //  (in 0.03 sec)\tlogL: -1314.080\tTol1: 0.01124\tTol2: 0.05758\tTol3: 0.01775\t\n",
      "Iter 20/50\n",
      "M step: done,  E step: done //  (in 0.03 sec)\tlogL: -1302.582\tTol1: 0.00875\tTol2: 0.06362\tTol3: 0.01933\t\n",
      "Iter 21/50\n",
      "M step: done,  E step: done //  (in 0.04 sec)\tlogL: -1286.500\tTol1: 0.01235\tTol2: 0.06741\tTol3: 0.01295\t\n",
      "Iter 22/50\n",
      "M step: done,  E step: done //  (in 0.03 sec)\tlogL: -1265.098\tTol1: 0.01664\tTol2: 0.06104\tTol3: 0.00507\t\n",
      "Iter 23/50\n",
      "M step: done,  E step: done //  (in 0.03 sec)\tlogL: -1249.544\tTol1: 0.01229\tTol2: 0.05186\tTol3: 0.01019\t\n",
      "Iter 24/50\n",
      "M step: done,  E step: done //  (in 0.03 sec)\tlogL: -1240.724\tTol1: 0.00706\tTol2: 0.04517\tTol3: 0.00636\t\n",
      "Iter 25/50\n",
      "M step: done,  E step: done //  (in 0.03 sec)\tlogL: -1227.495\tTol1: 0.01066\tTol2: 0.05298\tTol3: 0.00600\t\n",
      "Iter 26/50\n",
      "M step: done,  E step: done //  (in 0.03 sec)\tlogL: -1214.179\tTol1: 0.01085\tTol2: 0.04771\tTol3: 0.00144\t\n",
      "Iter 27/50\n",
      "M step: done,  E step: done //  (in 0.03 sec)\tlogL: -1201.936\tTol1: 0.01008\tTol2: 0.05071\tTol3: 0.00454\t\n",
      "Iter 28/50\n",
      "M step: done,  E step: done //  (in 0.03 sec)\tlogL: -1193.341\tTol1: 0.00715\tTol2: 0.04613\tTol3: 0.00355\t\n",
      "Iter 29/50\n",
      "M step: done,  E step: done //  (in 0.03 sec)\tlogL: -1182.204\tTol1: 0.00933\tTol2: 0.03918\tTol3: 0.00144\t\n",
      "Iter 30/50\n",
      "M step: done,  E step: done //  (in 0.04 sec)\tlogL: -1165.815\tTol1: 0.01386\tTol2: 0.04361\tTol3: 0.00690\t\n",
      "Iter 31/50\n",
      "M step: done,  E step: done //  (in 0.03 sec)\tlogL: -1158.795\tTol1: 0.00602\tTol2: 0.04280\tTol3: 0.00372\t\n",
      "Iter 32/50\n",
      "M step: done,  E step: done //  (in 0.03 sec)\tlogL: -1150.179\tTol1: 0.00743\tTol2: 0.04240\tTol3: 0.00424\t\n",
      "Iter 33/50\n",
      "M step: done,  E step: done //  (in 0.03 sec)\tlogL: -1141.278\tTol1: 0.00774\tTol2: 0.03274\tTol3: 0.00136\t\n",
      "Iter 34/50\n",
      "M step: done,  E step: done //  (in 0.03 sec)\tlogL: -1134.206\tTol1: 0.00620\tTol2: 0.03018\tTol3: 0.00366\t\n",
      "Iter 35/50\n",
      "M step: done,  E step: done //  (in 0.03 sec)\tlogL: -1124.428\tTol1: 0.00862\tTol2: 0.03548\tTol3: 0.00207\t\n",
      "Iter 36/50\n",
      "M step: done,  E step: done //  (in 0.04 sec)\tlogL: -1119.513\tTol1: 0.00437\tTol2: 0.03483\tTol3: 0.00621\t\n",
      "Iter 37/50\n",
      "M step: done,  E step: done //  (in 0.03 sec)\tlogL: -1107.646\tTol1: 0.01060\tTol2: 0.03302\tTol3: 0.00199\t\n",
      "Iter 38/50\n",
      "M step: done,  E step: done //  (in 0.03 sec)\tlogL: -1095.456\tTol1: 0.01101\tTol2: 0.02725\tTol3: 0.00216\t\n",
      "Finished training!\n",
      "Initializing new EM...\n",
      "Doing clustering...Done!\n",
      "Alphas:  (3,)\n",
      "Betas:  (3, 8, 8)\n",
      "Q estimate:  (1000, 8, 3, 8)\n",
      "Iter 1/50\n",
      "M step: done,  E step: done //  (in 0.43 sec)\tlogL: -2875.172\t\n",
      "Iter 2/50\n",
      "M step: done,  E step: done //  (in 0.03 sec)\tlogL: -2142.363\tTol1: 0.25487\tTol2: 0.72202\tTol3: 0.13573\t\n",
      "Iter 3/50\n"
     ]
    },
    {
     "name": "stdout",
     "output_type": "stream",
     "text": [
      "M step: done,  E step: done //  (in 0.03 sec)\tlogL: -1966.154\tTol1: 0.08225\tTol2: 0.30494\tTol3: 0.02000\t\n",
      "Iter 4/50\n",
      "M step: done,  E step: done //  (in 0.04 sec)\tlogL: -1877.814\tTol1: 0.04493\tTol2: 0.22559\tTol3: 0.02136\t\n",
      "Iter 5/50\n",
      "M step: done,  E step: done //  (in 0.03 sec)\tlogL: -1817.634\tTol1: 0.03205\tTol2: 0.18155\tTol3: 0.02088\t\n",
      "Iter 6/50\n",
      "M step: done,  E step: done //  (in 0.04 sec)\tlogL: -1766.092\tTol1: 0.02836\tTol2: 0.17190\tTol3: 0.02421\t\n",
      "Iter 7/50\n",
      "M step: done,  E step: done //  (in 0.04 sec)\tlogL: -1716.515\tTol1: 0.02807\tTol2: 0.14949\tTol3: 0.01947\t\n",
      "Iter 8/50\n",
      "M step: done,  E step: done //  (in 0.03 sec)\tlogL: -1661.598\tTol1: 0.03199\tTol2: 0.13397\tTol3: 0.02477\t\n",
      "Iter 9/50\n",
      "M step: done,  E step: done //  (in 0.04 sec)\tlogL: -1620.007\tTol1: 0.02503\tTol2: 0.10370\tTol3: 0.01360\t\n",
      "Iter 10/50\n",
      "M step: done,  E step: done //  (in 0.03 sec)\tlogL: -1580.313\tTol1: 0.02450\tTol2: 0.09874\tTol3: 0.00939\t\n",
      "Iter 11/50\n",
      "M step: done,  E step: done //  (in 0.03 sec)\tlogL: -1541.545\tTol1: 0.02453\tTol2: 0.09047\tTol3: 0.01213\t\n",
      "Iter 12/50\n",
      "M step: done,  E step: done //  (in 0.03 sec)\tlogL: -1511.845\tTol1: 0.01927\tTol2: 0.07788\tTol3: 0.01078\t\n",
      "Iter 13/50\n",
      "M step: done,  E step: done //  (in 0.03 sec)\tlogL: -1488.425\tTol1: 0.01549\tTol2: 0.07035\tTol3: 0.01007\t\n",
      "Iter 14/50\n",
      "M step: done,  E step: done //  (in 0.03 sec)\tlogL: -1464.259\tTol1: 0.01624\tTol2: 0.05762\tTol3: 0.00457\t\n",
      "Iter 15/50\n",
      "M step: done,  E step: done //  (in 0.03 sec)\tlogL: -1446.599\tTol1: 0.01206\tTol2: 0.04972\tTol3: 0.00970\t\n",
      "Iter 16/50\n",
      "M step: done,  E step: done //  (in 0.03 sec)\tlogL: -1426.180\tTol1: 0.01411\tTol2: 0.04554\tTol3: 0.00450\t\n",
      "Iter 17/50\n",
      "M step: done,  E step: done //  (in 0.03 sec)\tlogL: -1407.767\tTol1: 0.01291\tTol2: 0.04432\tTol3: 0.00802\t\n",
      "Iter 18/50\n",
      "M step: done,  E step: done //  (in 0.04 sec)\tlogL: -1399.992\tTol1: 0.00552\tTol2: 0.05328\tTol3: 0.00922\t\n",
      "Iter 19/50\n",
      "M step: done,  E step: done //  (in 0.03 sec)\tlogL: -1384.092\tTol1: 0.01136\tTol2: 0.04431\tTol3: 0.00841\t\n",
      "Iter 20/50\n",
      "M step: done,  E step: done //  (in 0.03 sec)\tlogL: -1365.823\tTol1: 0.01320\tTol2: 0.03990\tTol3: 0.00418\t\n",
      "Iter 21/50\n",
      "M step: done,  E step: done //  (in 0.03 sec)\tlogL: -1355.897\tTol1: 0.00727\tTol2: 0.05519\tTol3: 0.01102\t\n",
      "Iter 22/50\n",
      "M step: done,  E step: done //  (in 0.03 sec)\tlogL: -1341.630\tTol1: 0.01052\tTol2: 0.04192\tTol3: 0.01208\t\n",
      "Iter 23/50\n",
      "M step: done,  E step: done //  (in 0.03 sec)\tlogL: -1333.802\tTol1: 0.00583\tTol2: 0.03556\tTol3: 0.00867\t\n",
      "Iter 24/50\n",
      "M step: done,  E step: done //  (in 0.03 sec)\tlogL: -1324.572\tTol1: 0.00692\tTol2: 0.03265\tTol3: 0.01110\t\n",
      "Iter 25/50\n",
      "M step: done,  E step: done //  (in 0.03 sec)\tlogL: -1307.803\tTol1: 0.01266\tTol2: 0.03038\tTol3: 0.00445\t\n",
      "Iter 26/50\n",
      "M step: done,  E step: done //  (in 0.03 sec)\tlogL: -1298.557\tTol1: 0.00707\tTol2: 0.02912\tTol3: 0.00447\t\n",
      "Finished training!\n",
      "Initializing new EM...\n",
      "Doing clustering...Done!\n",
      "Alphas:  (3,)\n",
      "Betas:  (3, 8, 8)\n",
      "Q estimate:  (1000, 8, 3, 8)\n",
      "Iter 1/50\n",
      "M step: done,  E step: done //  (in 0.44 sec)\tlogL: -3020.093\t\n",
      "Iter 2/50\n",
      "M step: done,  E step: done //  (in 0.03 sec)\tlogL: -2141.001\tTol1: 0.29108\tTol2: 0.70634\tTol3: 0.06164\t\n",
      "Iter 3/50\n",
      "M step: done,  E step: done //  (in 0.03 sec)\tlogL: -1896.365\tTol1: 0.11426\tTol2: 0.34275\tTol3: 0.02364\t\n",
      "Iter 4/50\n",
      "M step: done,  E step: done //  (in 0.03 sec)\tlogL: -1776.859\tTol1: 0.06302\tTol2: 0.23884\tTol3: 0.02728\t\n",
      "Iter 5/50\n",
      "M step: done,  E step: done //  (in 0.03 sec)\tlogL: -1705.173\tTol1: 0.04034\tTol2: 0.18470\tTol3: 0.02204\t\n",
      "Iter 6/50\n",
      "M step: done,  E step: done //  (in 0.03 sec)\tlogL: -1656.702\tTol1: 0.02843\tTol2: 0.16238\tTol3: 0.01367\t\n",
      "Iter 7/50\n",
      "M step: done,  E step: done //  (in 0.03 sec)\tlogL: -1609.295\tTol1: 0.02862\tTol2: 0.13845\tTol3: 0.00678\t\n",
      "Iter 8/50\n",
      "M step: done,  E step: done //  (in 0.03 sec)\tlogL: -1576.520\tTol1: 0.02037\tTol2: 0.12383\tTol3: 0.02032\t\n",
      "Iter 9/50\n",
      "M step: done,  E step: done //  (in 0.03 sec)\tlogL: -1549.904\tTol1: 0.01688\tTol2: 0.10978\tTol3: 0.01872\t\n",
      "Iter 10/50\n",
      "M step: done,  E step: done //  (in 0.03 sec)\tlogL: -1523.498\tTol1: 0.01704\tTol2: 0.09523\tTol3: 0.01349\t\n",
      "Iter 11/50\n",
      "M step: done,  E step: done //  (in 0.03 sec)\tlogL: -1498.864\tTol1: 0.01617\tTol2: 0.08340\tTol3: 0.01098\t\n",
      "Iter 12/50\n",
      "M step: done,  E step: done //  (in 0.03 sec)\tlogL: -1476.216\tTol1: 0.01511\tTol2: 0.08456\tTol3: 0.01861\t\n",
      "Iter 13/50\n",
      "M step: done,  E step: done //  (in 0.03 sec)\tlogL: -1456.722\tTol1: 0.01321\tTol2: 0.07630\tTol3: 0.01114\t\n",
      "Iter 14/50\n",
      "M step: done,  E step: done //  (in 0.03 sec)\tlogL: -1435.157\tTol1: 0.01480\tTol2: 0.05957\tTol3: 0.00420\t\n",
      "Iter 15/50\n",
      "M step: done,  E step: done //  (in 0.03 sec)\tlogL: -1412.843\tTol1: 0.01555\tTol2: 0.06028\tTol3: 0.01167\t\n",
      "Iter 16/50\n",
      "M step: done,  E step: done //  (in 0.03 sec)\tlogL: -1395.971\tTol1: 0.01194\tTol2: 0.06222\tTol3: 0.01286\t\n",
      "Iter 17/50\n",
      "M step: done,  E step: done //  (in 0.03 sec)\tlogL: -1380.084\tTol1: 0.01138\tTol2: 0.05837\tTol3: 0.00794\t\n",
      "Iter 18/50\n",
      "M step: done,  E step: done //  (in 0.03 sec)\tlogL: -1362.443\tTol1: 0.01278\tTol2: 0.05704\tTol3: 0.00700\t\n",
      "Iter 19/50\n",
      "M step: done,  E step: done //  (in 0.03 sec)\tlogL: -1348.408\tTol1: 0.01030\tTol2: 0.04979\tTol3: 0.00561\t\n",
      "Iter 20/50\n",
      "M step: done,  E step: done //  (in 0.03 sec)\tlogL: -1337.709\tTol1: 0.00793\tTol2: 0.04644\tTol3: 0.00542\t\n",
      "Iter 21/50\n",
      "M step: done,  E step: done //  (in 0.03 sec)\tlogL: -1325.330\tTol1: 0.00925\tTol2: 0.05077\tTol3: 0.00167\t\n",
      "Iter 22/50\n",
      "M step: done,  E step: done //  (in 0.03 sec)\tlogL: -1310.108\tTol1: 0.01148\tTol2: 0.04045\tTol3: 0.00629\t\n",
      "Iter 23/50\n",
      "M step: done,  E step: done //  (in 0.03 sec)\tlogL: -1297.626\tTol1: 0.00953\tTol2: 0.04511\tTol3: 0.00263\t\n",
      "Iter 24/50\n",
      "M step: done,  E step: done //  (in 0.03 sec)\tlogL: -1286.937\tTol1: 0.00824\tTol2: 0.04111\tTol3: 0.00409\t\n",
      "Iter 25/50\n",
      "M step: done,  E step: done //  (in 0.03 sec)\tlogL: -1272.933\tTol1: 0.01088\tTol2: 0.04502\tTol3: 0.00389\t\n",
      "Iter 26/50\n",
      "M step: done,  E step: done //  (in 0.03 sec)\tlogL: -1260.410\tTol1: 0.00984\tTol2: 0.03739\tTol3: 0.00441\t\n",
      "Iter 27/50\n",
      "M step: done,  E step: done //  (in 0.03 sec)\tlogL: -1248.401\tTol1: 0.00953\tTol2: 0.03067\tTol3: 0.01052\t\n",
      "Iter 28/50\n",
      "M step: done,  E step: done //  (in 0.03 sec)\tlogL: -1236.869\tTol1: 0.00924\tTol2: 0.03015\tTol3: 0.00695\t\n",
      "Iter 29/50\n",
      "M step: done,  E step: done //  (in 0.03 sec)\tlogL: -1230.838\tTol1: 0.00488\tTol2: 0.03165\tTol3: 0.00522\t\n",
      "Iter 30/50\n",
      "M step: done,  E step: done //  (in 0.03 sec)\tlogL: -1218.100\tTol1: 0.01035\tTol2: 0.03372\tTol3: 0.00579\t\n",
      "Iter 31/50\n",
      "M step: done,  E step: done //  (in 0.03 sec)\tlogL: -1206.156\tTol1: 0.00981\tTol2: 0.03187\tTol3: 0.00507\t\n",
      "Iter 32/50\n",
      "M step: done,  E step: done //  (in 0.03 sec)\tlogL: -1198.965\tTol1: 0.00596\tTol2: 0.03313\tTol3: 0.00116\t\n",
      "Iter 33/50\n",
      "M step: done,  E step: done //  (in 0.03 sec)\tlogL: -1186.487\tTol1: 0.01041\tTol2: 0.04239\tTol3: 0.00259\t\n",
      "Iter 34/50\n",
      "M step: done,  E step: done //  (in 0.03 sec)\tlogL: -1176.900\tTol1: 0.00808\tTol2: 0.04063\tTol3: 0.00366\t\n",
      "Iter 35/50\n",
      "M step: done,  E step: done //  (in 0.03 sec)\tlogL: -1169.815\tTol1: 0.00602\tTol2: 0.03373\tTol3: 0.00477\t\n",
      "Iter 36/50\n",
      "M step: done,  E step: done //  (in 0.03 sec)\tlogL: -1160.917\tTol1: 0.00761\tTol2: 0.03259\tTol3: 0.00310\t\n",
      "Iter 37/50\n",
      "M step: done,  E step: done //  (in 0.03 sec)\tlogL: -1154.877\tTol1: 0.00520\tTol2: 0.02736\tTol3: 0.00291\t\n",
      "Finished training!\n",
      "Initializing new EM...\n",
      "Doing clustering...Done!\n",
      "Alphas:  (3,)\n",
      "Betas:  (3, 8, 8)\n",
      "Q estimate:  (1000, 8, 3, 8)\n",
      "Iter 1/50\n",
      "M step: done,  E step: done //  (in 0.47 sec)\tlogL: -2880.383\t\n",
      "Iter 2/50\n",
      "M step: done,  E step: done //  (in 0.03 sec)\tlogL: -2071.306\tTol1: 0.28089\tTol2: 0.58758\tTol3: 0.06690\t\n",
      "Iter 3/50\n",
      "M step: done,  E step: done //  (in 0.03 sec)\tlogL: -1876.407\tTol1: 0.09409\tTol2: 0.28797\tTol3: 0.02438\t\n",
      "Iter 4/50\n",
      "M step: done,  E step: done //  (in 0.03 sec)\tlogL: -1784.486\tTol1: 0.04899\tTol2: 0.24261\tTol3: 0.02629\t\n",
      "Iter 5/50\n",
      "M step: done,  E step: done //  (in 0.03 sec)\tlogL: -1701.370\tTol1: 0.04658\tTol2: 0.21394\tTol3: 0.03524\t\n",
      "Iter 6/50\n",
      "M step: done,  E step: done //  (in 0.03 sec)\tlogL: -1637.912\tTol1: 0.03730\tTol2: 0.20082\tTol3: 0.02608\t\n",
      "Iter 7/50\n",
      "M step: done,  E step: done //  (in 0.03 sec)\tlogL: -1592.614\tTol1: 0.02766\tTol2: 0.15786\tTol3: 0.02227\t\n",
      "Iter 8/50\n",
      "M step: done,  E step: done //  (in 0.03 sec)\tlogL: -1556.959\tTol1: 0.02239\tTol2: 0.12265\tTol3: 0.02080\t\n",
      "Iter 9/50\n"
     ]
    },
    {
     "name": "stdout",
     "output_type": "stream",
     "text": [
      "M step: done,  E step: done //  (in 0.03 sec)\tlogL: -1523.486\tTol1: 0.02150\tTol2: 0.09374\tTol3: 0.01427\t\n",
      "Iter 10/50\n",
      "M step: done,  E step: done //  (in 0.03 sec)\tlogL: -1490.928\tTol1: 0.02137\tTol2: 0.07090\tTol3: 0.00815\t\n",
      "Iter 11/50\n",
      "M step: done,  E step: done //  (in 0.03 sec)\tlogL: -1462.284\tTol1: 0.01921\tTol2: 0.08828\tTol3: 0.01662\t\n",
      "Iter 12/50\n",
      "M step: done,  E step: done //  (in 0.03 sec)\tlogL: -1442.079\tTol1: 0.01382\tTol2: 0.07766\tTol3: 0.03427\t\n",
      "Iter 13/50\n",
      "M step: done,  E step: done //  (in 0.03 sec)\tlogL: -1419.076\tTol1: 0.01595\tTol2: 0.07198\tTol3: 0.03792\t\n",
      "Iter 14/50\n",
      "M step: done,  E step: done //  (in 0.03 sec)\tlogL: -1397.979\tTol1: 0.01487\tTol2: 0.06172\tTol3: 0.02857\t\n",
      "Iter 15/50\n",
      "M step: done,  E step: done //  (in 0.03 sec)\tlogL: -1375.162\tTol1: 0.01632\tTol2: 0.04964\tTol3: 0.02585\t\n",
      "Iter 16/50\n",
      "M step: done,  E step: done //  (in 0.03 sec)\tlogL: -1357.879\tTol1: 0.01257\tTol2: 0.04066\tTol3: 0.01913\t\n",
      "Iter 17/50\n",
      "M step: done,  E step: done //  (in 0.03 sec)\tlogL: -1344.596\tTol1: 0.00978\tTol2: 0.03938\tTol3: 0.01527\t\n",
      "Iter 18/50\n",
      "M step: done,  E step: done //  (in 0.03 sec)\tlogL: -1335.393\tTol1: 0.00684\tTol2: 0.03541\tTol3: 0.01590\t\n",
      "Iter 19/50\n",
      "M step: done,  E step: done //  (in 0.03 sec)\tlogL: -1319.274\tTol1: 0.01207\tTol2: 0.04159\tTol3: 0.01932\t\n",
      "Iter 20/50\n",
      "M step: done,  E step: done //  (in 0.03 sec)\tlogL: -1302.475\tTol1: 0.01273\tTol2: 0.03230\tTol3: 0.01411\t\n",
      "Iter 21/50\n",
      "M step: done,  E step: done //  (in 0.03 sec)\tlogL: -1293.192\tTol1: 0.00713\tTol2: 0.03262\tTol3: 0.01154\t\n",
      "Iter 22/50\n",
      "M step: done,  E step: done //  (in 0.03 sec)\tlogL: -1280.954\tTol1: 0.00946\tTol2: 0.03604\tTol3: 0.00871\t\n",
      "Iter 23/50\n",
      "M step: done,  E step: done //  (in 0.03 sec)\tlogL: -1270.707\tTol1: 0.00800\tTol2: 0.03451\tTol3: 0.01240\t\n",
      "Iter 24/50\n",
      "M step: done,  E step: done //  (in 0.03 sec)\tlogL: -1261.376\tTol1: 0.00734\tTol2: 0.03084\tTol3: 0.00970\t\n",
      "Iter 25/50\n",
      "M step: done,  E step: done //  (in 0.03 sec)\tlogL: -1257.283\tTol1: 0.00324\tTol2: 0.03122\tTol3: 0.01112\t\n",
      "Iter 26/50\n",
      "M step: done,  E step: done //  (in 0.03 sec)\tlogL: -1238.181\tTol1: 0.01519\tTol2: 0.03238\tTol3: 0.01317\t\n",
      "Iter 27/50\n",
      "M step: done,  E step: done //  (in 0.03 sec)\tlogL: -1231.487\tTol1: 0.00541\tTol2: 0.03180\tTol3: 0.00765\t\n",
      "Iter 28/50\n",
      "M step: done,  E step: done //  (in 0.03 sec)\tlogL: -1222.044\tTol1: 0.00767\tTol2: 0.02497\tTol3: 0.00644\t\n",
      "Finished training!\n",
      "Initializing new EM...\n",
      "Doing clustering...Done!\n",
      "Alphas:  (3,)\n",
      "Betas:  (3, 8, 8)\n",
      "Q estimate:  (1000, 8, 3, 8)\n",
      "Iter 1/50\n",
      "M step: done,  E step: done //  (in 0.46 sec)\tlogL: -3064.715\t\n",
      "Iter 2/50\n",
      "M step: done,  E step: done //  (in 0.03 sec)\tlogL: -2150.626\tTol1: 0.29826\tTol2: 1.78591\tTol3: 0.16589\t\n",
      "Iter 3/50\n",
      "M step: done,  E step: done //  (in 0.03 sec)\tlogL: -1911.689\tTol1: 0.11110\tTol2: 0.32082\tTol3: 0.02338\t\n",
      "Iter 4/50\n",
      "M step: done,  E step: done //  (in 0.03 sec)\tlogL: -1794.893\tTol1: 0.06110\tTol2: 0.27360\tTol3: 0.04607\t\n",
      "Iter 5/50\n",
      "M step: done,  E step: done //  (in 0.03 sec)\tlogL: -1744.284\tTol1: 0.02820\tTol2: 0.20654\tTol3: 0.03483\t\n",
      "Iter 6/50\n",
      "M step: done,  E step: done //  (in 0.03 sec)\tlogL: -1686.598\tTol1: 0.03307\tTol2: 0.16394\tTol3: 0.02540\t\n",
      "Iter 7/50\n",
      "M step: done,  E step: done //  (in 0.03 sec)\tlogL: -1633.527\tTol1: 0.03147\tTol2: 0.13888\tTol3: 0.03012\t\n",
      "Iter 8/50\n",
      "M step: done,  E step: done //  (in 0.03 sec)\tlogL: -1595.028\tTol1: 0.02357\tTol2: 0.12355\tTol3: 0.02881\t\n",
      "Iter 9/50\n",
      "M step: done,  E step: done //  (in 0.03 sec)\tlogL: -1564.748\tTol1: 0.01898\tTol2: 0.09188\tTol3: 0.02744\t\n",
      "Iter 10/50\n",
      "M step: done,  E step: done //  (in 0.03 sec)\tlogL: -1535.912\tTol1: 0.01843\tTol2: 0.08197\tTol3: 0.01765\t\n",
      "Iter 11/50\n",
      "M step: done,  E step: done //  (in 0.03 sec)\tlogL: -1503.185\tTol1: 0.02131\tTol2: 0.06436\tTol3: 0.00888\t\n",
      "Iter 12/50\n",
      "M step: done,  E step: done //  (in 0.03 sec)\tlogL: -1474.178\tTol1: 0.01930\tTol2: 0.05545\tTol3: 0.00930\t\n",
      "Iter 13/50\n",
      "M step: done,  E step: done //  (in 0.03 sec)\tlogL: -1451.814\tTol1: 0.01517\tTol2: 0.05072\tTol3: 0.01314\t\n",
      "Iter 14/50\n",
      "M step: done,  E step: done //  (in 0.03 sec)\tlogL: -1428.672\tTol1: 0.01594\tTol2: 0.05062\tTol3: 0.01331\t\n",
      "Iter 15/50\n",
      "M step: done,  E step: done //  (in 0.03 sec)\tlogL: -1403.364\tTol1: 0.01771\tTol2: 0.04730\tTol3: 0.01787\t\n",
      "Iter 16/50\n",
      "M step: done,  E step: done //  (in 0.03 sec)\tlogL: -1385.538\tTol1: 0.01270\tTol2: 0.05327\tTol3: 0.01821\t\n",
      "Iter 17/50\n",
      "M step: done,  E step: done //  (in 0.03 sec)\tlogL: -1364.733\tTol1: 0.01502\tTol2: 0.05553\tTol3: 0.00511\t\n",
      "Iter 18/50\n",
      "M step: done,  E step: done //  (in 0.03 sec)\tlogL: -1343.473\tTol1: 0.01558\tTol2: 0.04873\tTol3: 0.00465\t\n",
      "Iter 19/50\n",
      "M step: done,  E step: done //  (in 0.03 sec)\tlogL: -1326.236\tTol1: 0.01283\tTol2: 0.05006\tTol3: 0.00479\t\n",
      "Iter 20/50\n",
      "M step: done,  E step: done //  (in 0.03 sec)\tlogL: -1312.743\tTol1: 0.01017\tTol2: 0.05461\tTol3: 0.00905\t\n",
      "Iter 21/50\n",
      "M step: done,  E step: done //  (in 0.03 sec)\tlogL: -1303.227\tTol1: 0.00725\tTol2: 0.05457\tTol3: 0.00735\t\n",
      "Iter 22/50\n",
      "M step: done,  E step: done //  (in 0.03 sec)\tlogL: -1296.315\tTol1: 0.00530\tTol2: 0.05531\tTol3: 0.00888\t\n",
      "Iter 23/50\n",
      "M step: done,  E step: done //  (in 0.03 sec)\tlogL: -1280.922\tTol1: 0.01187\tTol2: 0.05019\tTol3: 0.00821\t\n",
      "Iter 24/50\n",
      "M step: done,  E step: done //  (in 0.03 sec)\tlogL: -1267.560\tTol1: 0.01043\tTol2: 0.04691\tTol3: 0.00654\t\n",
      "Iter 25/50\n",
      "M step: done,  E step: done //  (in 0.03 sec)\tlogL: -1259.611\tTol1: 0.00627\tTol2: 0.04691\tTol3: 0.00249\t\n",
      "Iter 26/50\n",
      "M step: done,  E step: done //  (in 0.03 sec)\tlogL: -1250.250\tTol1: 0.00743\tTol2: 0.03434\tTol3: 0.00223\t\n",
      "Iter 27/50\n",
      "M step: done,  E step: done //  (in 0.03 sec)\tlogL: -1241.126\tTol1: 0.00730\tTol2: 0.04520\tTol3: 0.00554\t\n",
      "Iter 28/50\n",
      "M step: done,  E step: done //  (in 0.03 sec)\tlogL: -1231.140\tTol1: 0.00805\tTol2: 0.04275\tTol3: 0.01126\t\n",
      "Iter 29/50\n",
      "M step: done,  E step: done //  (in 0.03 sec)\tlogL: -1219.203\tTol1: 0.00970\tTol2: 0.03974\tTol3: 0.01099\t\n",
      "Iter 30/50\n",
      "M step: done,  E step: done //  (in 0.03 sec)\tlogL: -1208.743\tTol1: 0.00858\tTol2: 0.02839\tTol3: 0.00684\t\n",
      "Finished training!\n",
      "Initializing new EM...\n",
      "Doing clustering...Done!\n",
      "Alphas:  (3,)\n",
      "Betas:  (3, 8, 8)\n",
      "Q estimate:  (1000, 8, 3, 8)\n",
      "Iter 1/50\n",
      "M step: done,  E step: done //  (in 0.45 sec)\tlogL: -3157.004\t\n",
      "Iter 2/50\n",
      "M step: done,  E step: done //  (in 0.03 sec)\tlogL: -2183.523\tTol1: 0.30836\tTol2: 0.79616\tTol3: 0.05730\t\n",
      "Iter 3/50\n",
      "M step: done,  E step: done //  (in 0.03 sec)\tlogL: -1946.344\tTol1: 0.10862\tTol2: 0.33093\tTol3: 0.02237\t\n",
      "Iter 4/50\n",
      "M step: done,  E step: done //  (in 0.03 sec)\tlogL: -1845.784\tTol1: 0.05167\tTol2: 0.23911\tTol3: 0.03591\t\n",
      "Iter 5/50\n",
      "M step: done,  E step: done //  (in 0.03 sec)\tlogL: -1782.569\tTol1: 0.03425\tTol2: 0.18678\tTol3: 0.02893\t\n",
      "Iter 6/50\n",
      "M step: done,  E step: done //  (in 0.03 sec)\tlogL: -1738.621\tTol1: 0.02465\tTol2: 0.15244\tTol3: 0.02481\t\n",
      "Iter 7/50\n",
      "M step: done,  E step: done //  (in 0.03 sec)\tlogL: -1697.362\tTol1: 0.02373\tTol2: 0.12879\tTol3: 0.02060\t\n",
      "Iter 8/50\n",
      "M step: done,  E step: done //  (in 0.03 sec)\tlogL: -1653.023\tTol1: 0.02612\tTol2: 0.11539\tTol3: 0.02159\t\n",
      "Iter 9/50\n",
      "M step: done,  E step: done //  (in 0.03 sec)\tlogL: -1618.657\tTol1: 0.02079\tTol2: 0.10475\tTol3: 0.02266\t\n",
      "Iter 10/50\n",
      "M step: done,  E step: done //  (in 0.03 sec)\tlogL: -1594.675\tTol1: 0.01482\tTol2: 0.08096\tTol3: 0.01254\t\n",
      "Iter 11/50\n",
      "M step: done,  E step: done //  (in 0.03 sec)\tlogL: -1568.352\tTol1: 0.01651\tTol2: 0.07969\tTol3: 0.00707\t\n",
      "Iter 12/50\n",
      "M step: done,  E step: done //  (in 0.03 sec)\tlogL: -1553.482\tTol1: 0.00948\tTol2: 0.06525\tTol3: 0.00659\t\n",
      "Iter 13/50\n",
      "M step: done,  E step: done //  (in 0.03 sec)\tlogL: -1533.243\tTol1: 0.01303\tTol2: 0.07115\tTol3: 0.01630\t\n",
      "Iter 14/50\n",
      "M step: done,  E step: done //  (in 0.03 sec)\tlogL: -1509.079\tTol1: 0.01576\tTol2: 0.06613\tTol3: 0.00980\t\n",
      "Iter 15/50\n",
      "M step: done,  E step: done //  (in 0.03 sec)\tlogL: -1491.074\tTol1: 0.01193\tTol2: 0.06482\tTol3: 0.00414\t\n",
      "Iter 16/50\n",
      "M step: done,  E step: done //  (in 0.03 sec)\tlogL: -1472.794\tTol1: 0.01226\tTol2: 0.05563\tTol3: 0.00650\t\n",
      "Iter 17/50\n",
      "M step: done,  E step: done //  (in 0.03 sec)\tlogL: -1454.188\tTol1: 0.01263\tTol2: 0.05005\tTol3: 0.00963\t\n",
      "Iter 18/50\n",
      "M step: done,  E step: done //  (in 0.03 sec)\tlogL: -1436.589\tTol1: 0.01210\tTol2: 0.05736\tTol3: 0.01593\t\n",
      "Iter 19/50\n",
      "M step: done,  E step: done //  (in 0.03 sec)\tlogL: -1421.844\tTol1: 0.01026\tTol2: 0.06311\tTol3: 0.00908\t\n",
      "Iter 20/50\n"
     ]
    },
    {
     "name": "stdout",
     "output_type": "stream",
     "text": [
      "M step: done,  E step: done //  (in 0.03 sec)\tlogL: -1409.221\tTol1: 0.00888\tTol2: 0.06649\tTol3: 0.00472\t\n",
      "Iter 21/50\n",
      "M step: done,  E step: done //  (in 0.03 sec)\tlogL: -1392.541\tTol1: 0.01184\tTol2: 0.05988\tTol3: 0.00130\t\n",
      "Iter 22/50\n",
      "M step: done,  E step: done //  (in 0.03 sec)\tlogL: -1378.377\tTol1: 0.01017\tTol2: 0.06166\tTol3: 0.00679\t\n",
      "Iter 23/50\n",
      "M step: done,  E step: done //  (in 0.03 sec)\tlogL: -1366.948\tTol1: 0.00829\tTol2: 0.05549\tTol3: 0.00692\t\n",
      "Iter 24/50\n",
      "M step: done,  E step: done //  (in 0.03 sec)\tlogL: -1357.573\tTol1: 0.00686\tTol2: 0.05084\tTol3: 0.00499\t\n",
      "Iter 25/50\n",
      "M step: done,  E step: done //  (in 0.03 sec)\tlogL: -1350.879\tTol1: 0.00493\tTol2: 0.04066\tTol3: 0.00498\t\n",
      "Iter 26/50\n",
      "M step: done,  E step: done //  (in 0.03 sec)\tlogL: -1342.924\tTol1: 0.00589\tTol2: 0.04194\tTol3: 0.00829\t\n",
      "Iter 27/50\n",
      "M step: done,  E step: done //  (in 0.03 sec)\tlogL: -1332.987\tTol1: 0.00740\tTol2: 0.04703\tTol3: 0.00729\t\n",
      "Iter 28/50\n",
      "M step: done,  E step: done //  (in 0.03 sec)\tlogL: -1326.540\tTol1: 0.00484\tTol2: 0.03508\tTol3: 0.00193\t\n",
      "Iter 29/50\n",
      "M step: done,  E step: done //  (in 0.03 sec)\tlogL: -1319.700\tTol1: 0.00516\tTol2: 0.04072\tTol3: 0.00691\t\n",
      "Iter 30/50\n",
      "M step: done,  E step: done //  (in 0.03 sec)\tlogL: -1309.167\tTol1: 0.00798\tTol2: 0.03119\tTol3: 0.00643\t\n",
      "Iter 31/50\n",
      "M step: done,  E step: done //  (in 0.03 sec)\tlogL: -1300.857\tTol1: 0.00635\tTol2: 0.02333\tTol3: 0.00512\t\n",
      "Finished training!\n",
      "Initializing new EM...\n",
      "Doing clustering...Done!\n",
      "Alphas:  (3,)\n",
      "Betas:  (3, 8, 8)\n",
      "Q estimate:  (1000, 8, 3, 8)\n",
      "Iter 1/50\n",
      "M step: done,  E step: done //  (in 0.46 sec)\tlogL: -3515.472\t\n",
      "Iter 2/50\n",
      "M step: done,  E step: done //  (in 0.03 sec)\tlogL: -2227.528\tTol1: 0.36636\tTol2: 0.71769\tTol3: 0.21664\t\n",
      "Iter 3/50\n",
      "M step: done,  E step: done //  (in 0.03 sec)\tlogL: -1949.945\tTol1: 0.12461\tTol2: 0.32472\tTol3: 0.04858\t\n",
      "Iter 4/50\n",
      "M step: done,  E step: done //  (in 0.03 sec)\tlogL: -1814.555\tTol1: 0.06943\tTol2: 0.25233\tTol3: 0.02293\t\n",
      "Iter 5/50\n",
      "M step: done,  E step: done //  (in 0.03 sec)\tlogL: -1738.651\tTol1: 0.04183\tTol2: 0.19554\tTol3: 0.02184\t\n",
      "Iter 6/50\n",
      "M step: done,  E step: done //  (in 0.03 sec)\tlogL: -1671.678\tTol1: 0.03852\tTol2: 0.18356\tTol3: 0.02938\t\n",
      "Iter 7/50\n",
      "M step: done,  E step: done //  (in 0.03 sec)\tlogL: -1617.194\tTol1: 0.03259\tTol2: 0.17465\tTol3: 0.03938\t\n",
      "Iter 8/50\n",
      "M step: done,  E step: done //  (in 0.03 sec)\tlogL: -1580.200\tTol1: 0.02288\tTol2: 0.15595\tTol3: 0.03356\t\n",
      "Iter 9/50\n",
      "M step: done,  E step: done //  (in 0.03 sec)\tlogL: -1535.585\tTol1: 0.02823\tTol2: 0.14137\tTol3: 0.02535\t\n",
      "Iter 10/50\n",
      "M step: done,  E step: done //  (in 0.03 sec)\tlogL: -1501.012\tTol1: 0.02251\tTol2: 0.11617\tTol3: 0.02088\t\n",
      "Iter 11/50\n",
      "M step: done,  E step: done //  (in 0.03 sec)\tlogL: -1471.909\tTol1: 0.01939\tTol2: 0.09802\tTol3: 0.02075\t\n",
      "Iter 12/50\n",
      "M step: done,  E step: done //  (in 0.03 sec)\tlogL: -1446.311\tTol1: 0.01739\tTol2: 0.08575\tTol3: 0.02217\t\n",
      "Iter 13/50\n",
      "M step: done,  E step: done //  (in 0.03 sec)\tlogL: -1422.646\tTol1: 0.01636\tTol2: 0.08957\tTol3: 0.02904\t\n",
      "Iter 14/50\n",
      "M step: done,  E step: done //  (in 0.03 sec)\tlogL: -1396.715\tTol1: 0.01823\tTol2: 0.08923\tTol3: 0.01963\t\n",
      "Iter 15/50\n",
      "M step: done,  E step: done //  (in 0.03 sec)\tlogL: -1373.466\tTol1: 0.01665\tTol2: 0.06508\tTol3: 0.01562\t\n",
      "Iter 16/50\n",
      "M step: done,  E step: done //  (in 0.03 sec)\tlogL: -1353.053\tTol1: 0.01486\tTol2: 0.04525\tTol3: 0.01298\t\n",
      "Iter 17/50\n",
      "M step: done,  E step: done //  (in 0.03 sec)\tlogL: -1336.940\tTol1: 0.01191\tTol2: 0.04719\tTol3: 0.01781\t\n",
      "Iter 18/50\n",
      "M step: done,  E step: done //  (in 0.03 sec)\tlogL: -1319.476\tTol1: 0.01306\tTol2: 0.05100\tTol3: 0.01639\t\n",
      "Iter 19/50\n",
      "M step: done,  E step: done //  (in 0.03 sec)\tlogL: -1306.861\tTol1: 0.00956\tTol2: 0.04679\tTol3: 0.01367\t\n",
      "Iter 20/50\n",
      "M step: done,  E step: done //  (in 0.03 sec)\tlogL: -1283.508\tTol1: 0.01787\tTol2: 0.04387\tTol3: 0.01348\t\n",
      "Iter 21/50\n",
      "M step: done,  E step: done //  (in 0.03 sec)\tlogL: -1270.870\tTol1: 0.00985\tTol2: 0.04606\tTol3: 0.01230\t\n",
      "Iter 22/50\n",
      "M step: done,  E step: done //  (in 0.03 sec)\tlogL: -1255.972\tTol1: 0.01172\tTol2: 0.04065\tTol3: 0.01119\t\n",
      "Iter 23/50\n",
      "M step: done,  E step: done //  (in 0.03 sec)\tlogL: -1247.743\tTol1: 0.00655\tTol2: 0.03113\tTol3: 0.00904\t\n",
      "Iter 24/50\n",
      "M step: done,  E step: done //  (in 0.03 sec)\tlogL: -1239.621\tTol1: 0.00651\tTol2: 0.03459\tTol3: 0.00652\t\n",
      "Iter 25/50\n",
      "M step: done,  E step: done //  (in 0.03 sec)\tlogL: -1230.265\tTol1: 0.00755\tTol2: 0.02845\tTol3: 0.00722\t\n",
      "Finished training!\n",
      "Initializing new EM...\n",
      "Doing clustering...Done!\n",
      "Alphas:  (3,)\n",
      "Betas:  (3, 8, 8)\n",
      "Q estimate:  (1000, 8, 3, 8)\n",
      "Iter 1/50\n",
      "M step: done,  E step: done //  (in 0.47 sec)\tlogL: -3297.544\t\n",
      "Iter 2/50\n",
      "M step: done,  E step: done //  (in 0.03 sec)\tlogL: -2240.944\tTol1: 0.32042\tTol2: 0.96127\tTol3: 0.07659\t\n",
      "Iter 3/50\n",
      "M step: done,  E step: done //  (in 0.03 sec)\tlogL: -1992.655\tTol1: 0.11080\tTol2: 0.31976\tTol3: 0.03955\t\n",
      "Iter 4/50\n",
      "M step: done,  E step: done //  (in 0.03 sec)\tlogL: -1877.453\tTol1: 0.05781\tTol2: 0.26004\tTol3: 0.02862\t\n",
      "Iter 5/50\n",
      "M step: done,  E step: done //  (in 0.03 sec)\tlogL: -1792.770\tTol1: 0.04511\tTol2: 0.20796\tTol3: 0.02331\t\n",
      "Iter 6/50\n",
      "M step: done,  E step: done //  (in 0.03 sec)\tlogL: -1711.474\tTol1: 0.04535\tTol2: 0.18656\tTol3: 0.03178\t\n",
      "Iter 7/50\n",
      "M step: done,  E step: done //  (in 0.03 sec)\tlogL: -1655.652\tTol1: 0.03262\tTol2: 0.16612\tTol3: 0.03156\t\n",
      "Iter 8/50\n",
      "M step: done,  E step: done //  (in 0.03 sec)\tlogL: -1614.188\tTol1: 0.02504\tTol2: 0.12691\tTol3: 0.03436\t\n",
      "Iter 9/50\n",
      "M step: done,  E step: done //  (in 0.03 sec)\tlogL: -1576.688\tTol1: 0.02323\tTol2: 0.10608\tTol3: 0.02757\t\n",
      "Iter 10/50\n",
      "M step: done,  E step: done //  (in 0.03 sec)\tlogL: -1546.297\tTol1: 0.01928\tTol2: 0.07857\tTol3: 0.01189\t\n",
      "Iter 11/50\n",
      "M step: done,  E step: done //  (in 0.03 sec)\tlogL: -1523.512\tTol1: 0.01473\tTol2: 0.06067\tTol3: 0.00772\t\n",
      "Iter 12/50\n",
      "M step: done,  E step: done //  (in 0.03 sec)\tlogL: -1503.327\tTol1: 0.01325\tTol2: 0.06561\tTol3: 0.01664\t\n",
      "Iter 13/50\n",
      "M step: done,  E step: done //  (in 0.03 sec)\tlogL: -1475.706\tTol1: 0.01837\tTol2: 0.05787\tTol3: 0.01719\t\n",
      "Iter 14/50\n",
      "M step: done,  E step: done //  (in 0.03 sec)\tlogL: -1454.894\tTol1: 0.01410\tTol2: 0.06889\tTol3: 0.00975\t\n",
      "Iter 15/50\n",
      "M step: done,  E step: done //  (in 0.03 sec)\tlogL: -1437.756\tTol1: 0.01178\tTol2: 0.05187\tTol3: 0.00249\t\n",
      "Iter 16/50\n",
      "M step: done,  E step: done //  (in 0.03 sec)\tlogL: -1422.684\tTol1: 0.01048\tTol2: 0.04394\tTol3: 0.00893\t\n",
      "Iter 17/50\n",
      "M step: done,  E step: done //  (in 0.03 sec)\tlogL: -1403.874\tTol1: 0.01322\tTol2: 0.03694\tTol3: 0.00585\t\n",
      "Iter 18/50\n",
      "M step: done,  E step: done //  (in 0.03 sec)\tlogL: -1385.313\tTol1: 0.01322\tTol2: 0.04488\tTol3: 0.00627\t\n",
      "Iter 19/50\n",
      "M step: done,  E step: done //  (in 0.03 sec)\tlogL: -1366.963\tTol1: 0.01325\tTol2: 0.03844\tTol3: 0.01135\t\n",
      "Iter 20/50\n",
      "M step: done,  E step: done //  (in 0.03 sec)\tlogL: -1348.093\tTol1: 0.01380\tTol2: 0.03436\tTol3: 0.01490\t\n",
      "Iter 21/50\n",
      "M step: done,  E step: done //  (in 0.03 sec)\tlogL: -1338.147\tTol1: 0.00738\tTol2: 0.02827\tTol3: 0.00774\t\n",
      "Finished training!\n",
      "Initializing new EM...\n",
      "Doing clustering...Done!\n",
      "Alphas:  (3,)\n",
      "Betas:  (3, 8, 8)\n",
      "Q estimate:  (1000, 8, 3, 8)\n",
      "Iter 1/50\n",
      "M step: done,  E step: done //  (in 0.45 sec)\tlogL: -2827.166\t\n",
      "Iter 2/50\n",
      "M step: done,  E step: done //  (in 0.04 sec)\tlogL: -2165.109\tTol1: 0.23418\tTol2: 0.92216\tTol3: 0.03006\t\n",
      "Iter 3/50\n",
      "M step: done,  E step: done //  (in 0.03 sec)\tlogL: -1992.254\tTol1: 0.07984\tTol2: 0.30983\tTol3: 0.02845\t\n",
      "Iter 4/50\n",
      "M step: done,  E step: done //  (in 0.03 sec)\tlogL: -1891.813\tTol1: 0.05042\tTol2: 0.24082\tTol3: 0.01949\t\n",
      "Iter 5/50\n",
      "M step: done,  E step: done //  (in 0.03 sec)\tlogL: -1831.991\tTol1: 0.03162\tTol2: 0.22698\tTol3: 0.00670\t\n",
      "Iter 6/50\n",
      "M step: done,  E step: done //  (in 0.03 sec)\tlogL: -1780.990\tTol1: 0.02784\tTol2: 0.19293\tTol3: 0.01237\t\n",
      "Iter 7/50\n",
      "M step: done,  E step: done //  (in 0.03 sec)\tlogL: -1729.690\tTol1: 0.02880\tTol2: 0.17311\tTol3: 0.01876\t\n",
      "Iter 8/50\n",
      "M step: done,  E step: done //  (in 0.04 sec)\tlogL: -1677.371\tTol1: 0.03025\tTol2: 0.15277\tTol3: 0.01842\t\n",
      "Iter 9/50\n",
      "M step: done,  E step: done //  (in 0.04 sec)\tlogL: -1634.823\tTol1: 0.02537\tTol2: 0.12795\tTol3: 0.00567\t\n",
      "Iter 10/50\n",
      "M step: done,  E step: done //  (in 0.03 sec)\tlogL: -1605.833\tTol1: 0.01773\tTol2: 0.10973\tTol3: 0.00596\t\n",
      "Iter 11/50\n"
     ]
    },
    {
     "name": "stdout",
     "output_type": "stream",
     "text": [
      "M step: done,  E step: done //  (in 0.03 sec)\tlogL: -1595.528\tTol1: 0.00642\tTol2: 0.08970\tTol3: 0.00466\t\n",
      "Iter 12/50\n",
      "M step: done,  E step: done //  (in 0.03 sec)\tlogL: -1576.409\tTol1: 0.01198\tTol2: 0.08762\tTol3: 0.01255\t\n",
      "Iter 13/50\n",
      "M step: done,  E step: done //  (in 0.03 sec)\tlogL: -1559.596\tTol1: 0.01067\tTol2: 0.07404\tTol3: 0.00531\t\n",
      "Iter 14/50\n",
      "M step: done,  E step: done //  (in 0.03 sec)\tlogL: -1536.316\tTol1: 0.01493\tTol2: 0.05373\tTol3: 0.00532\t\n",
      "Iter 15/50\n",
      "M step: done,  E step: done //  (in 0.03 sec)\tlogL: -1518.226\tTol1: 0.01177\tTol2: 0.04379\tTol3: 0.00246\t\n",
      "Iter 16/50\n",
      "M step: done,  E step: done //  (in 0.04 sec)\tlogL: -1499.476\tTol1: 0.01235\tTol2: 0.03747\tTol3: 0.00376\t\n",
      "Iter 17/50\n",
      "M step: done,  E step: done //  (in 0.03 sec)\tlogL: -1483.536\tTol1: 0.01063\tTol2: 0.04075\tTol3: 0.00405\t\n",
      "Iter 18/50\n",
      "M step: done,  E step: done //  (in 0.04 sec)\tlogL: -1465.059\tTol1: 0.01245\tTol2: 0.03580\tTol3: 0.00496\t\n",
      "Iter 19/50\n",
      "M step:"
     ]
    }
   ],
   "source": [
    "from codeE.methods import ModelInf_EM_CMM as  CMM\n",
    "CMM_model = CMM(M=M_seted) \n",
    "#CMM_model = CMM(M=M_seted, init_Z='softmv', n_init_Z=3, priors=0) \n",
    "\n",
    "args = {'epochs':1, 'batch_size':BATCH_SIZE, 'optimizer':OPT}\n",
    "CMM_model.set_model(aux_model, **args)\n",
    "\n",
    "CMM_model.fit(Xstd_train, r_obs, runs =20,max_iter=EPOCHS_BASE,tolerance=TOL)"
   ]
  },
  {
   "cell_type": "code",
   "execution_count": null,
   "metadata": {
    "scrolled": true
   },
   "outputs": [],
   "source": [
    "cmm_fx = CMM_model.get_basemodel()\n",
    "\n",
    "from codeE.evaluation import accuracy_model\n",
    "print(\"Train accuracy of model =\", accuracy_model(cmm_fx, Xstd_train, Z_train))\n",
    "print(\"Test accuracy of model =\", accuracy_model(cmm_fx, Xstd_test, Z_test))"
   ]
  },
  {
   "cell_type": "markdown",
   "metadata": {},
   "source": [
    "### Groups found"
   ]
  },
  {
   "cell_type": "code",
   "execution_count": null,
   "metadata": {},
   "outputs": [],
   "source": [
    "print(\"p(g) =\",CMM_model.get_alpha())"
   ]
  },
  {
   "cell_type": "code",
   "execution_count": null,
   "metadata": {
    "scrolled": true
   },
   "outputs": [],
   "source": [
    "B = CMM_model.get_confusionM()\n",
    "for i in range(len(B)):\n",
    "    plot_confusion_matrix(B[i])"
   ]
  },
  {
   "cell_type": "markdown",
   "metadata": {},
   "source": [
    "#### With priors= \"laplace\"\n",
    "smooth confusion matrices"
   ]
  },
  {
   "cell_type": "code",
   "execution_count": null,
   "metadata": {},
   "outputs": [],
   "source": [
    "plt.figure(figsize=(15,7))\n",
    "for a, value in enumerate(logL_hists): #logL_hists\n",
    "    if a != i_r:\n",
    "        plt.plot(range(len(value)),value,'.-')\n",
    "plt.plot(range(len(logL_hists[i_r])),logL_hists[i_r],'o-',markersize=10,label=\"Selected run\")\n",
    "plt.legend()\n",
    "plt.show()"
   ]
  },
  {
   "cell_type": "code",
   "execution_count": null,
   "metadata": {},
   "outputs": [],
   "source": [
    "print(\"p(g) =\",CMM_model.get_alpha())"
   ]
  },
  {
   "cell_type": "code",
   "execution_count": null,
   "metadata": {
    "scrolled": true
   },
   "outputs": [],
   "source": [
    "B = CMM_model.get_confusionM()\n",
    "for i in range(len(B)):\n",
    "    plot_confusion_matrix(B[i])"
   ]
  },
  {
   "cell_type": "markdown",
   "metadata": {},
   "source": [
    "## Our Proposed - C-MoA"
   ]
  },
  {
   "cell_type": "markdown",
   "metadata": {},
   "source": [
    "#### Auxiliar representation with variable number of annotations per annotator and identity"
   ]
  },
  {
   "cell_type": "code",
   "execution_count": null,
   "metadata": {},
   "outputs": [],
   "source": [
    "y_cat_var, A_idx_var = set_representation(y_obs,\"onehotvar\")\n",
    "print(\"Individual sparse representation, variable shape (N,)= \",y_cat_var.shape)\n",
    "K = y_cat_var[0].shape[1]\n",
    "print(\"one-hot vectors of K-dimensions, K=\",K)\n",
    "y_cat_var"
   ]
  },
  {
   "cell_type": "code",
   "execution_count": null,
   "metadata": {},
   "outputs": [],
   "source": [
    "M_seted = 3\n",
    "\n",
    "aux_model = clone_UB.get_model()\n",
    "aux_model.summary()"
   ]
  },
  {
   "cell_type": "markdown",
   "metadata": {},
   "source": [
    "#### Fixed annotators representation (non trainable embedding)"
   ]
  },
  {
   "cell_type": "code",
   "execution_count": null,
   "metadata": {},
   "outputs": [],
   "source": [
    "T= np.concatenate(A_idx_var).max() +1\n",
    "A_rep = np.zeros((T, K))\n",
    "for i in range(N):\n",
    "    for l, t_idx in enumerate(A_idx_var[i]):\n",
    "        obs_t = y_cat_var[i][l].argmax(axis=-1)\n",
    "        A_rep[t_idx, obs_t] += 1\n",
    "print(\"shape of annotator representation (T, R_t)=\", A_rep.shape)"
   ]
  },
  {
   "cell_type": "code",
   "execution_count": null,
   "metadata": {},
   "outputs": [],
   "source": [
    "from keras.models import Sequential\n",
    "from keras.layers import *\n",
    "group_model = Sequential()\n",
    "group_model.add(Embedding(T, K, input_length=1, \n",
    "                         trainable=False,weights=[A_rep]))\n",
    "                         #trainable=True))\n",
    "group_model.add(Reshape([K]))\n",
    "group_model.add(Dense(K*M_seted, activation='relu'))\n",
    "group_model.add(Dense(M_seted, activation='softmax'))\n",
    "group_model.summary()"
   ]
  },
  {
   "cell_type": "code",
   "execution_count": null,
   "metadata": {
    "scrolled": true
   },
   "outputs": [],
   "source": [
    "from codeE.methods import ModelInf_EM_CMOA as CMOA\n",
    "CMOA_model = CMOA(M=M_seted) \n",
    "#CMOA_model = CMOA(M=M_seted, init_Z='softmv', n_init_Z=0, n_init_G=0, priors=1) \n",
    "\n",
    "args = {'epochs':1, 'batch_size':BATCH_SIZE, 'optimizer':OPT}\n",
    "CMOA_model.set_model(aux_model, ann_model=group_model, **args)\n",
    "#CMOA_model.set_model(group_model) #you also can set it manually\n",
    "\n",
    "CMOA_model.fit(Xstd_train, y_cat_var, A_idx_var, runs = 20,max_iter=EPOCHS_BASE,tolerance=TOL) "
   ]
  },
  {
   "cell_type": "code",
   "execution_count": null,
   "metadata": {},
   "outputs": [],
   "source": [
    "cmoaK_fx = CMOA_model.get_basemodel()\n",
    "\n",
    "from codeE.evaluation import accuracy_model\n",
    "print(\"Train accuracy of model =\", accuracy_model(cmoaK_fx, Xstd_train, Z_train))\n",
    "print(\"Test accuracy of model =\", accuracy_model(cmoaK_fx, Xstd_test, Z_test))"
   ]
  },
  {
   "cell_type": "code",
   "execution_count": null,
   "metadata": {
    "scrolled": true
   },
   "outputs": [],
   "source": [
    "B = CMOA_model.get_confusionM()\n",
    "for i in range(len(B)):\n",
    "    plot_confusion_matrix(B[i])"
   ]
  },
  {
   "cell_type": "markdown",
   "metadata": {},
   "source": [
    "#### With priors= \"laplace\"\n",
    "smooth confusion matrices"
   ]
  },
  {
   "cell_type": "code",
   "execution_count": null,
   "metadata": {
    "scrolled": true
   },
   "outputs": [],
   "source": [
    "B = CMOA_model.get_confusionM()\n",
    "for i in range(len(B)):\n",
    "    plot_confusion_matrix(B[i])"
   ]
  },
  {
   "cell_type": "markdown",
   "metadata": {},
   "source": [
    "## Confusion Matrices Visualization"
   ]
  },
  {
   "cell_type": "code",
   "execution_count": null,
   "metadata": {},
   "outputs": [],
   "source": [
    "from codeE.utils import generate_confusionM\n",
    "from codeE.utils import plot_confusion_matrix, compare_conf_ma, compare_set_conf_ma\n",
    "from codeE.evaluation import Individual_D, D_JS, D_NormF"
   ]
  },
  {
   "cell_type": "markdown",
   "metadata": {},
   "source": [
    "### Global scenario"
   ]
  },
  {
   "cell_type": "markdown",
   "metadata": {},
   "source": [
    "#### MV"
   ]
  },
  {
   "cell_type": "code",
   "execution_count": null,
   "metadata": {},
   "outputs": [],
   "source": [
    "### SOFT\n",
    "prob_Yz = generate_confusionM(mv_soft, r_obs) #confusion matrix of all annotations\n",
    "compare_conf_ma(prob_Yz, true_conf_mat = confe_matrix_G, text=True)\n",
    "\n",
    "print(\"Global D (based on Jensen Shannon) =\",D_JS(confe_matrix_G, prob_Yz))\n",
    "print(\"Global D (based on normalized Frobenius) =\",D_NormF(confe_matrix_G, prob_Yz))"
   ]
  },
  {
   "cell_type": "code",
   "execution_count": null,
   "metadata": {},
   "outputs": [],
   "source": [
    "### HARD\n",
    "prob_Yz = generate_confusionM(mv_hard, r_obs) \n",
    "compare_conf_ma(prob_Yz, true_conf_mat = confe_matrix_G, text=True)\n",
    "\n",
    "print(\"Global D (based on Jensen Shannon) =\",D_JS(confe_matrix_G, prob_Yz))\n",
    "print(\"Global D (based on normalized Frobenius) =\",D_NormF(confe_matrix_G, prob_Yz))"
   ]
  },
  {
   "cell_type": "markdown",
   "metadata": {},
   "source": [
    "#### CMM"
   ]
  },
  {
   "cell_type": "code",
   "execution_count": null,
   "metadata": {
    "scrolled": true
   },
   "outputs": [],
   "source": [
    "prob_Yz = CMM_model.get_global_confusionM()\n",
    "\n",
    "compare_conf_ma(prob_Yz, true_conf_mat = confe_matrix_G, text=True)\n",
    "print(\"Global D (based on Jensen Shannon) =\",D_JS(confe_matrix_G, prob_Yz))\n",
    "print(\"Global D (based on normalized Frobenius) =\",D_NormF(confe_matrix_G, prob_Yz))"
   ]
  },
  {
   "cell_type": "markdown",
   "metadata": {},
   "source": [
    "### Individual scenario"
   ]
  },
  {
   "cell_type": "markdown",
   "metadata": {},
   "source": [
    "#### DS"
   ]
  },
  {
   "cell_type": "code",
   "execution_count": null,
   "metadata": {
    "scrolled": true
   },
   "outputs": [],
   "source": [
    "prob_Yzt = DS_model.get_confusionM() # estimate of conf_matrix_I\n",
    "\n",
    "compare_set_conf_ma(prob_Yzt, true_set_conf_ma = conf_matrix_I, text=True, n_samp=5)"
   ]
  },
  {
   "cell_type": "code",
   "execution_count": null,
   "metadata": {},
   "outputs": [],
   "source": [
    "print(\"Individual D_JS = \",Individual_D(conf_matrix_I, prob_Yzt, D=D_JS))\n",
    "print(\"Individual D_NormF = \",Individual_D(conf_matrix_I, prob_Yzt, D=D_NormF))"
   ]
  },
  {
   "cell_type": "markdown",
   "metadata": {},
   "source": [
    "#### Raykar"
   ]
  },
  {
   "cell_type": "code",
   "execution_count": null,
   "metadata": {
    "scrolled": true
   },
   "outputs": [],
   "source": [
    "prob_Yzt = R_model.get_confusionM() # estimate of conf_matrix_I\n",
    "\n",
    "compare_set_conf_ma(prob_Yzt, true_set_conf_ma = conf_matrix_I, text=True, n_samp=5)"
   ]
  },
  {
   "cell_type": "code",
   "execution_count": null,
   "metadata": {},
   "outputs": [],
   "source": [
    "print(\"Individual D_JS = \",Individual_D(conf_matrix_I, prob_Yzt, D=D_JS))\n",
    "print(\"Individual D_NormF = \",Individual_D(conf_matrix_I, prob_Yzt, D=D_NormF))"
   ]
  },
  {
   "cell_type": "markdown",
   "metadata": {},
   "source": [
    "#### C-MoA"
   ]
  },
  {
   "cell_type": "code",
   "execution_count": null,
   "metadata": {
    "scrolled": true
   },
   "outputs": [],
   "source": [
    "A = np.unique(np.concatenate(A_idx_var)).reshape(-1,1)\n",
    "prob_Yzt = CMOA_model.get_ann_confusionM(A) # estimate of conf_matrix_I\n",
    "\n",
    "compare_set_conf_ma(prob_Yzt, true_set_conf_ma = conf_matrix_I, text=True, n_samp=5)"
   ]
  },
  {
   "cell_type": "code",
   "execution_count": null,
   "metadata": {},
   "outputs": [],
   "source": [
    "print(\"Individual D_JS = \",Individual_D(conf_matrix_I, prob_Yzt, D=D_JS))\n",
    "print(\"Individual D_NormF = \",Individual_D(conf_matrix_I, prob_Yzt, D=D_NormF))"
   ]
  },
  {
   "cell_type": "code",
   "execution_count": null,
   "metadata": {},
   "outputs": [],
   "source": []
  },
  {
   "cell_type": "markdown",
   "metadata": {},
   "source": [
    "#### CMM could estimates individual matrices "
   ]
  },
  {
   "cell_type": "code",
   "execution_count": null,
   "metadata": {
    "scrolled": true
   },
   "outputs": [],
   "source": [
    "prob_Yzt = []\n",
    "for t in range(y_obs.shape[1]):\n",
    "    conf = CMM_model.get_ann_confusionM(Xstd_train, y_obs[:,t])\n",
    "    \n",
    "    prob_Yzt.append(conf)\n",
    "prob_Yzt = np.asarray(prob_Yzt)\n",
    "\n",
    "compare_set_conf_ma(prob_Yzt, true_set_conf_ma = conf_matrix_I, text=True, n_samp=5)"
   ]
  },
  {
   "cell_type": "code",
   "execution_count": null,
   "metadata": {},
   "outputs": [],
   "source": [
    "print(\"Individual D_JS = \",Individual_D(conf_matrix_I, prob_Yzt, D=D_JS))\n",
    "print(\"Individual D_NormF = \",Individual_D(conf_matrix_I, prob_Yzt, D=D_NormF))"
   ]
  },
  {
   "cell_type": "markdown",
   "metadata": {},
   "source": [
    "#### C-MoA could estimates global matrices "
   ]
  },
  {
   "cell_type": "code",
   "execution_count": null,
   "metadata": {
    "scrolled": true
   },
   "outputs": [],
   "source": [
    "A = np.unique(np.concatenate(A_idx_var)).reshape(-1,1)\n",
    "prob_Gt = CMOA_model.get_predictions_g(A)\n",
    "\n",
    "prob_Yz = CMOA_model.get_global_confusionM(prob_Gt)\n",
    "\n",
    "compare_conf_ma(prob_Yz, true_conf_mat = confe_matrix_G, text=True)"
   ]
  },
  {
   "cell_type": "code",
   "execution_count": null,
   "metadata": {},
   "outputs": [],
   "source": [
    "print(\"Global D (based on Jensen Shannon) =\",D_JS(confe_matrix_G, prob_Yz))\n",
    "print(\"Global D (based on normalized Frobenius) =\",D_NormF(confe_matrix_G, prob_Yz))"
   ]
  },
  {
   "cell_type": "code",
   "execution_count": null,
   "metadata": {},
   "outputs": [],
   "source": []
  },
  {
   "cell_type": "markdown",
   "metadata": {},
   "source": [
    "### The behaviors of the groups found by CMM and CMOA"
   ]
  },
  {
   "cell_type": "code",
   "execution_count": null,
   "metadata": {},
   "outputs": [],
   "source": [
    "from codeE.evaluation import I_sim, R_score, H_conf, S_score, S_bias"
   ]
  },
  {
   "cell_type": "code",
   "execution_count": null,
   "metadata": {
    "scrolled": true
   },
   "outputs": [],
   "source": [
    "print(\"**For CMM**\")\n",
    "\n",
    "B = CMM_model.get_confusionM()\n",
    "\n",
    "for i, b in enumerate(B):\n",
    "    print(\"Group \",(i+1))\n",
    "    compare_conf_ma(b, text=True)\n",
    "\n",
    "    print(\"Expertise Identity (I_sim) =\", I_sim(b))\n",
    "    print(\"Expertise Diagonal (R_score) =\", R_score(b))\n",
    "    print(\"Randomness (H_conf) =\", H_conf(b))\n",
    "    print(\"Spammer score (S_score) =\", S_score(b))\n",
    "    print(\"Bias for class index %d with score = %f\"%(S_bias(b)))\n",
    "    print(\"-------------------------------------------------\")"
   ]
  },
  {
   "cell_type": "code",
   "execution_count": null,
   "metadata": {
    "scrolled": true
   },
   "outputs": [],
   "source": [
    "print(\"**For C-MoA**\")\n",
    "\n",
    "B = CMOA_model.get_confusionM()\n",
    "\n",
    "for i, b in enumerate(B):\n",
    "    print(\"Group \",(i+1))\n",
    "    compare_conf_ma(b, text=True)\n",
    "\n",
    "    print(\"Expertise Identity (I_sim) =\", I_sim(b))\n",
    "    print(\"Expertise Diagonal (R_score) =\", R_score(b))\n",
    "    print(\"Randomness (H_conf) =\", H_conf(b))\n",
    "    print(\"Spammer score (S_score) =\", S_score(b))\n",
    "    print(\"Bias for class index %d with score = %f\"%(S_bias(b)))\n",
    "    print(\"-------------------------------------------------\")"
   ]
  }
 ],
 "metadata": {
  "anaconda-cloud": {},
  "kernelspec": {
   "display_name": "Python [conda env:newpy3_tf1]",
   "language": "python",
   "name": "conda-env-newpy3_tf1-py"
  },
  "language_info": {
   "codemirror_mode": {
    "name": "ipython",
    "version": 3
   },
   "file_extension": ".py",
   "mimetype": "text/x-python",
   "name": "python",
   "nbconvert_exporter": "python",
   "pygments_lexer": "ipython3",
   "version": "3.6.10"
  }
 },
 "nbformat": 4,
 "nbformat_minor": 2
}
