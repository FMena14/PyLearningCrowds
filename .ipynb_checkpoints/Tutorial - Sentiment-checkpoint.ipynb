{
 "cells": [
  {
   "cell_type": "code",
   "execution_count": 6,
   "metadata": {
    "scrolled": true
   },
   "outputs": [],
   "source": [
    "import numpy as np\n",
    "import pandas as pd\n",
    "import matplotlib.pyplot as plt\n",
    "import seaborn as sns\n",
    "import keras, time, sys, os, gc\n",
    "\n",
    "DTYPE_OP = 'float32'\n",
    "keras.backend.set_floatx(DTYPE_OP)\n",
    "\n",
    "if DTYPE_OP == 'float64':\n",
    "    keras.backend.set_epsilon(np.finfo(np.float64).eps)\n",
    "elif DTYPE_OP == 'float32':\n",
    "    keras.backend.set_epsilon(np.finfo(np.float32).eps)\n",
    "    \n",
    "np.set_printoptions(precision=4, suppress=True)"
   ]
  },
  {
   "cell_type": "code",
   "execution_count": 7,
   "metadata": {},
   "outputs": [],
   "source": [
    "#GLOBAL Variables\n",
    "BATCH_SIZE = 128 #rodrigues = BATCH_SIZE = 64\n",
    "EPOCHS_BASE = 50\n",
    "OPT = 'adam' #optimizer for neural network \n",
    "TOL = 3e-2"
   ]
  },
  {
   "cell_type": "code",
   "execution_count": 13,
   "metadata": {},
   "outputs": [],
   "source": [
    "folder = \"./data/Sentiment/\""
   ]
  },
  {
   "cell_type": "markdown",
   "metadata": {},
   "source": [
    "### Load Data and preprocess"
   ]
  },
  {
   "cell_type": "code",
   "execution_count": 16,
   "metadata": {},
   "outputs": [],
   "source": [
    "def read_texts(filename):\n",
    "    f = open(filename)\n",
    "    data = [line.strip() for line in f]\n",
    "    f.close()\n",
    "    return data"
   ]
  },
  {
   "cell_type": "code",
   "execution_count": 18,
   "metadata": {},
   "outputs": [
    {
     "name": "stdout",
     "output_type": "stream",
     "text": [
      "Num. train texts: 4999\n",
      "Num. test texts:  3999\n"
     ]
    }
   ],
   "source": [
    "texts_train = read_texts(folder+\"Sentiment_text_train.txt\")\n",
    "texts_test  = read_texts(folder+\"Sentiment_text_test.txt\")\n",
    "\n",
    "Z_train = np.loadtxt(folder+\"Sentiment_Z_train.txt\", dtype='int')\n",
    "Z_test  = np.loadtxt(folder+\"Sentiment_Z_test.txt\", dtype='int')\n",
    "\n",
    "print(\"Num. train texts: %d\" % len(texts_train))\n",
    "print(\"Num. test texts:  %d\" % len(texts_test))"
   ]
  },
  {
   "cell_type": "code",
   "execution_count": 19,
   "metadata": {},
   "outputs": [
    {
     "name": "stdout",
     "output_type": "stream",
     "text": [
      "Found 14096 unique tokens.\n"
     ]
    }
   ],
   "source": [
    "from keras import preprocessing\n",
    "MAX_NB_WORDS = 14000\n",
    "tokenizer = preprocessing.text.Tokenizer(num_words=MAX_NB_WORDS)\n",
    "tokenizer.fit_on_texts(texts_train+texts_test)\n",
    "sequences_train = tokenizer.texts_to_sequences(texts_train)\n",
    "sequences_test = tokenizer.texts_to_sequences(texts_test)\n",
    "#MAX_NB_WORDS = len(tokenizer.word_index)\n",
    "print('Found %s unique tokens.' % len(tokenizer.word_index))"
   ]
  },
  {
   "cell_type": "code",
   "execution_count": null,
   "metadata": {},
   "outputs": [],
   "source": [
    "lens = list(map(len,sequences_train))\n",
    "max_L = np.max(lens)\n",
    "print(\"Real max: \",max_L)\n",
    "max_L = 50 \n",
    "print(\"Used max: \",max_L)\n",
    "\n",
    "X_train = preprocessing.sequence.pad_sequences(sequences_train, maxlen=max_L,dtype='int32', value=0,padding='pre')\n",
    "X_test = preprocessing.sequence.pad_sequences(sequences_test, maxlen=max_L,dtype='int32', value=0,padding='pre')\n",
    "print('Shape of train tensor:', X_train.shape)"
   ]
  },
  {
   "cell_type": "code",
   "execution_count": null,
   "metadata": {},
   "outputs": [],
   "source": [
    "EMBEDDING_DIM = 300\n",
    "GLOVE_FILE = \"../GLOVE/glove.6B.%dd.txt\"%(EMBEDDING_DIM)\n",
    "#GLOVE_FILE = \"../AUX_DATA/glove.twitter.27B/glove.twitter.27B.%dd.txt\"%(EMBEDDING_DIM)\n",
    "\n",
    "embeddings_index = {}\n",
    "with open(GLOVE_FILE) as file:\n",
    "    for line in file:\n",
    "        values = line.split()\n",
    "        coefs = np.asarray(values[1:], dtype='float32')\n",
    "        embeddings_index[values[0]] = coefs\n",
    "print('Preparing embedding matrix.')\n",
    "sorted_x = sorted(tokenizer.word_counts.items(), key=lambda kv: kv[1], reverse=True)\n",
    "vocab = {value[0]:tokenizer.word_index[value[0]] for i, value in enumerate(sorted_x) if i < MAX_NB_WORDS}\n",
    "embedding_matrix = np.zeros((len(vocab)+1, EMBEDDING_DIM))\n",
    "v=0\n",
    "for word, i in vocab.items():\n",
    "    embedding_vector = embeddings_index.get(word)\n",
    "    if embedding_vector is not None:\n",
    "        embedding_matrix[i] = embedding_vector # words not found in embedding index will be all-zeros.\n",
    "        v+=1\n",
    "del embeddings_index, sorted_x, tokenizer\n",
    "gc.collect()\n",
    "print(\"Words found on glove: \",v)"
   ]
  },
  {
   "cell_type": "code",
   "execution_count": null,
   "metadata": {},
   "outputs": [],
   "source": []
  },
  {
   "cell_type": "code",
   "execution_count": null,
   "metadata": {},
   "outputs": [],
   "source": [
    "sns.countplot(Z_train)\n",
    "plt.show()"
   ]
  },
  {
   "cell_type": "markdown",
   "metadata": {},
   "source": [
    "### Load annotations "
   ]
  },
  {
   "cell_type": "code",
   "execution_count": 20,
   "metadata": {},
   "outputs": [
    {
     "name": "stdout",
     "output_type": "stream",
     "text": [
      "Loading AMT data...\n",
      "Remove 0 annotators that do not annotate on this set \n",
      "Shape (data,annotators):  (4999, 203)\n",
      "Classes:  2\n"
     ]
    }
   ],
   "source": [
    "print(\"Loading AMT data...\")\n",
    "y_obs = np.loadtxt(folder+\"answers.txt\",dtype='int16') #not annotation symbol ==-1\n",
    "\n",
    "T_weights = np.sum(y_obs != -1,axis=0) #number of annotations per annotator\n",
    "print(\"Remove %d annotators that do not annotate on this set \"%(np.sum(T_weights==0)))\n",
    "y_obs = y_obs[:,T_weights!=0]\n",
    "T_weights = np.sum(y_obs != -1,axis=0) \n",
    "\n",
    "N,T = y_obs.shape\n",
    "Kl = np.max(y_obs)+1 #asumming classification scenario\n",
    "print(\"Shape (data,annotators): \",(N,T))\n",
    "print(\"Classes: \",Kl)"
   ]
  },
  {
   "cell_type": "code",
   "execution_count": 21,
   "metadata": {
    "scrolled": true
   },
   "outputs": [
    {
     "data": {
      "image/png": "[encoded data removed]",
      "text/plain": [
       "<Figure size 432x288 with 1 Axes>"
      ]
     },
     "metadata": {
      "needs_background": "light"
     },
     "output_type": "display_data"
    },
    {
     "name": "stdout",
     "output_type": "stream",
     "text": [
      "Minimum annotations in a example:  4\n",
      "Maximum annotations in a example:  10\n",
      "T data (expected value):  5.550310062012403\n",
      "Graphics of T weights\n"
     ]
    },
    {
     "data": {
      "image/png": "[encoded data removed]",
      "text/plain": [
       "<Figure size 432x288 with 1 Axes>"
      ]
     },
     "metadata": {
      "needs_background": "light"
     },
     "output_type": "display_data"
    },
    {
     "data": {
      "image/png": "[encoded data removed]",
      "text/plain": [
       "<Figure size 432x288 with 1 Axes>"
      ]
     },
     "metadata": {
      "needs_background": "light"
     },
     "output_type": "display_data"
    },
    {
     "name": "stdout",
     "output_type": "stream",
     "text": [
      "Minimum annotations by an annotator:  5\n",
      "Maximum annotations by an annotator:  3993\n",
      "Mean annotations by an annotator:  136.67980295566502\n"
     ]
    }
   ],
   "source": [
    "#graphics and distribution? what is T_data\n",
    "N_ann = np.sum(y_obs != -1,axis=1) #distribucion de anotaciones con este valor\n",
    "\n",
    "sns.countplot(N_ann)\n",
    "plt.show()\n",
    "print(\"Minimum annotations in a example: \",N_ann.min())\n",
    "print(\"Maximum annotations in a example: \",N_ann.max())\n",
    "print(\"T data (expected value): \",N_ann.mean())\n",
    "\n",
    "print(\"Graphics of T weights\")\n",
    "plt.hist(T_weights)\n",
    "plt.show()\n",
    "\n",
    "plt.boxplot(T_weights)\n",
    "plt.show()\n",
    "print(\"Minimum annotations by an annotator: \",T_weights.min())\n",
    "print(\"Maximum annotations by an annotator: \",T_weights.max())\n",
    "print(\"Mean annotations by an annotator: \",T_weights.mean())"
   ]
  },
  {
   "cell_type": "markdown",
   "metadata": {},
   "source": [
    "### Generate Matrix representation of both scenarios"
   ]
  },
  {
   "cell_type": "code",
   "execution_count": 22,
   "metadata": {},
   "outputs": [
    {
     "name": "stdout",
     "output_type": "stream",
     "text": [
      "Individual representation shape (N,T,K)=  (4999, 203, 2)\n",
      "Global representation shape (N,K)=  (4999, 2)\n"
     ]
    }
   ],
   "source": [
    "from codeE.representation import set_representation\n",
    "\n",
    "y_obs_categorical = set_representation(y_obs,'onehot') \n",
    "print(\"Individual representation shape (N,T,K)= \",y_obs_categorical.shape)\n",
    "\n",
    "r_obs = set_representation(y_obs,\"global\")\n",
    "print(\"Global representation shape (N,K)= \",r_obs.shape)"
   ]
  },
  {
   "cell_type": "code",
   "execution_count": 23,
   "metadata": {},
   "outputs": [
    {
     "data": {
      "text/plain": [
       "array([[0, 5],\n",
       "       [5, 0],\n",
       "       [4, 2],\n",
       "       ...,\n",
       "       [2, 4],\n",
       "       [1, 4],\n",
       "       [3, 2]], dtype=int32)"
      ]
     },
     "execution_count": 23,
     "metadata": {},
     "output_type": "execute_result"
    }
   ],
   "source": [
    "r_obs"
   ]
  },
  {
   "cell_type": "markdown",
   "metadata": {
    "collapsed": true
   },
   "source": [
    "### Real Confusion matrices\n",
    "Generate the individual and global confusion matrices based on the sampled annotations."
   ]
  },
  {
   "cell_type": "code",
   "execution_count": 24,
   "metadata": {
    "scrolled": true
   },
   "outputs": [
    {
     "name": "stdout",
     "output_type": "stream",
     "text": [
      "Individual matrix shape (T,K,K)=  (203, 2, 2)\n"
     ]
    },
    {
     "data": {
      "text/plain": [
       "array([[[0.7059, 0.2941],\n",
       "        [0.3333, 0.6667]],\n",
       "\n",
       "       [[0.9483, 0.0517],\n",
       "        [0.1373, 0.8627]],\n",
       "\n",
       "       [[0.9756, 0.0244],\n",
       "        [0.1053, 0.8947]],\n",
       "\n",
       "       [[0.9306, 0.0694],\n",
       "        [0.0763, 0.9237]],\n",
       "\n",
       "       [[0.9401, 0.0599],\n",
       "        [0.2284, 0.7716]],\n",
       "\n",
       "       [[0.6469, 0.3531],\n",
       "        [0.1608, 0.8392]],\n",
       "\n",
       "       [[0.9344, 0.0656],\n",
       "        [0.0792, 0.9208]],\n",
       "\n",
       "       [[0.8919, 0.1081],\n",
       "        [0.1127, 0.8873]],\n",
       "\n",
       "       [[0.625 , 0.375 ],\n",
       "        [0.381 , 0.619 ]],\n",
       "\n",
       "       [[0.8139, 0.1861],\n",
       "        [0.1332, 0.8668]],\n",
       "\n",
       "       [[0.8372, 0.1628],\n",
       "        [0.2289, 0.7711]],\n",
       "\n",
       "       [[0.8983, 0.1017],\n",
       "        [0.06  , 0.94  ]],\n",
       "\n",
       "       [[0.9123, 0.0877],\n",
       "        [0.1466, 0.8534]],\n",
       "\n",
       "       [[0.9301, 0.0699],\n",
       "        [0.1252, 0.8748]],\n",
       "\n",
       "       [[0.7703, 0.2297],\n",
       "        [0.1429, 0.8571]],\n",
       "\n",
       "       [[0.9327, 0.0673],\n",
       "        [0.1178, 0.8822]],\n",
       "\n",
       "       [[0.9286, 0.0714],\n",
       "        [0.0909, 0.9091]],\n",
       "\n",
       "       [[0.9383, 0.0617],\n",
       "        [0.0678, 0.9322]],\n",
       "\n",
       "       [[0.4615, 0.5385],\n",
       "        [0.25  , 0.75  ]],\n",
       "\n",
       "       [[0.7164, 0.2836],\n",
       "        [0.1176, 0.8824]],\n",
       "\n",
       "       [[0.7436, 0.2564],\n",
       "        [0.0779, 0.9221]],\n",
       "\n",
       "       [[0.7917, 0.2083],\n",
       "        [0.3048, 0.6952]],\n",
       "\n",
       "       [[0.7347, 0.2653],\n",
       "        [0.3084, 0.6916]],\n",
       "\n",
       "       [[0.375 , 0.625 ],\n",
       "        [0.2857, 0.7143]],\n",
       "\n",
       "       [[0.8393, 0.1607],\n",
       "        [0.0847, 0.9153]],\n",
       "\n",
       "       [[0.7292, 0.2708],\n",
       "        [0.2097, 0.7903]],\n",
       "\n",
       "       [[0.9481, 0.0519],\n",
       "        [0.1029, 0.8971]],\n",
       "\n",
       "       [[0.754 , 0.246 ],\n",
       "        [0.112 , 0.888 ]],\n",
       "\n",
       "       [[0.9167, 0.0833],\n",
       "        [0.0769, 0.9231]],\n",
       "\n",
       "       [[0.5714, 0.4286],\n",
       "        [0.1875, 0.8125]],\n",
       "\n",
       "       [[0.7742, 0.2258],\n",
       "        [0.069 , 0.931 ]],\n",
       "\n",
       "       [[0.7444, 0.2556],\n",
       "        [0.2095, 0.7905]],\n",
       "\n",
       "       [[0.92  , 0.08  ],\n",
       "        [0.25  , 0.75  ]],\n",
       "\n",
       "       [[0.8158, 0.1842],\n",
       "        [0.1622, 0.8378]],\n",
       "\n",
       "       [[0.3864, 0.6136],\n",
       "        [0.1839, 0.8161]],\n",
       "\n",
       "       [[0.4882, 0.5118],\n",
       "        [0.1429, 0.8571]],\n",
       "\n",
       "       [[0.6944, 0.3056],\n",
       "        [0.1471, 0.8529]],\n",
       "\n",
       "       [[0.913 , 0.087 ],\n",
       "        [0.0909, 0.9091]],\n",
       "\n",
       "       [[0.9478, 0.0522],\n",
       "        [0.0574, 0.9426]],\n",
       "\n",
       "       [[0.9032, 0.0968],\n",
       "        [0.1034, 0.8966]],\n",
       "\n",
       "       [[0.9394, 0.0606],\n",
       "        [0.0909, 0.9091]],\n",
       "\n",
       "       [[0.9091, 0.0909],\n",
       "        [0.2105, 0.7895]],\n",
       "\n",
       "       [[0.375 , 0.625 ],\n",
       "        [0.1429, 0.8571]],\n",
       "\n",
       "       [[0.8571, 0.1429],\n",
       "        [0.3333, 0.6667]],\n",
       "\n",
       "       [[0.7222, 0.2778],\n",
       "        [0.1111, 0.8889]],\n",
       "\n",
       "       [[0.9125, 0.0875],\n",
       "        [0.1286, 0.8714]],\n",
       "\n",
       "       [[0.6471, 0.3529],\n",
       "        [0.2222, 0.7778]],\n",
       "\n",
       "       [[0.9091, 0.0909],\n",
       "        [0.2857, 0.7143]],\n",
       "\n",
       "       [[0.8889, 0.1111],\n",
       "        [0.1084, 0.8916]],\n",
       "\n",
       "       [[0.8875, 0.1125],\n",
       "        [0.15  , 0.85  ]],\n",
       "\n",
       "       [[0.8   , 0.2   ],\n",
       "        [0.28  , 0.72  ]],\n",
       "\n",
       "       [[0.9032, 0.0968],\n",
       "        [0.2647, 0.7353]],\n",
       "\n",
       "       [[0.6667, 0.3333],\n",
       "        [0.    , 1.    ]],\n",
       "\n",
       "       [[0.8571, 0.1429],\n",
       "        [0.    , 1.    ]],\n",
       "\n",
       "       [[1.    , 0.    ],\n",
       "        [0.    , 1.    ]],\n",
       "\n",
       "       [[1.    , 0.    ],\n",
       "        [0.    , 1.    ]],\n",
       "\n",
       "       [[0.7143, 0.2857],\n",
       "        [0.    , 1.    ]],\n",
       "\n",
       "       [[0.7333, 0.2667],\n",
       "        [0.25  , 0.75  ]],\n",
       "\n",
       "       [[0.3636, 0.6364],\n",
       "        [0.375 , 0.625 ]],\n",
       "\n",
       "       [[0.6154, 0.3846],\n",
       "        [0.1364, 0.8636]],\n",
       "\n",
       "       [[0.9231, 0.0769],\n",
       "        [0.2727, 0.7273]],\n",
       "\n",
       "       [[0.    , 1.    ],\n",
       "        [0.3333, 0.6667]],\n",
       "\n",
       "       [[0.5   , 0.5   ],\n",
       "        [0.1111, 0.8889]],\n",
       "\n",
       "       [[0.6   , 0.4   ],\n",
       "        [0.4   , 0.6   ]],\n",
       "\n",
       "       [[0.6667, 0.3333],\n",
       "        [0.1579, 0.8421]],\n",
       "\n",
       "       [[0.72  , 0.28  ],\n",
       "        [0.2667, 0.7333]],\n",
       "\n",
       "       [[0.2222, 0.7778],\n",
       "        [1.    , 0.    ]],\n",
       "\n",
       "       [[1.    , 0.    ],\n",
       "        [0.0714, 0.9286]],\n",
       "\n",
       "       [[0.3333, 0.6667],\n",
       "        [0.5   , 0.5   ]],\n",
       "\n",
       "       [[1.    , 0.    ],\n",
       "        [0.3333, 0.6667]],\n",
       "\n",
       "       [[0.3333, 0.6667],\n",
       "        [1.    , 0.    ]],\n",
       "\n",
       "       [[0.8   , 0.2   ],\n",
       "        [0.2   , 0.8   ]],\n",
       "\n",
       "       [[1.    , 0.    ],\n",
       "        [0.6667, 0.3333]],\n",
       "\n",
       "       [[0.7143, 0.2857],\n",
       "        [0.    , 1.    ]],\n",
       "\n",
       "       [[0.25  , 0.75  ],\n",
       "        [0.1429, 0.8571]],\n",
       "\n",
       "       [[0.5   , 0.5   ],\n",
       "        [1.    , 0.    ]],\n",
       "\n",
       "       [[0.5   , 0.5   ],\n",
       "        [0.    , 1.    ]],\n",
       "\n",
       "       [[1.    , 0.    ],\n",
       "        [0.    , 1.    ]],\n",
       "\n",
       "       [[1.    , 0.    ],\n",
       "        [0.    , 1.    ]],\n",
       "\n",
       "       [[0.3333, 0.6667],\n",
       "        [0.    , 1.    ]],\n",
       "\n",
       "       [[1.    , 0.    ],\n",
       "        [0.    , 1.    ]],\n",
       "\n",
       "       [[1.    , 0.    ],\n",
       "        [0.3333, 0.6667]],\n",
       "\n",
       "       [[1.    , 0.    ],\n",
       "        [0.25  , 0.75  ]],\n",
       "\n",
       "       [[0.5   , 0.5   ],\n",
       "        [0.    , 1.    ]],\n",
       "\n",
       "       [[1.    , 0.    ],\n",
       "        [0.    , 1.    ]],\n",
       "\n",
       "       [[0.674 , 0.326 ],\n",
       "        [0.1571, 0.8429]],\n",
       "\n",
       "       [[0.8529, 0.1471],\n",
       "        [0.2836, 0.7164]],\n",
       "\n",
       "       [[0.7647, 0.2353],\n",
       "        [0.1111, 0.8889]],\n",
       "\n",
       "       [[0.75  , 0.25  ],\n",
       "        [0.1667, 0.8333]],\n",
       "\n",
       "       [[0.963 , 0.037 ],\n",
       "        [0.1429, 0.8571]],\n",
       "\n",
       "       [[0.4524, 0.5476],\n",
       "        [0.1772, 0.8228]],\n",
       "\n",
       "       [[0.8777, 0.1223],\n",
       "        [0.0541, 0.9459]],\n",
       "\n",
       "       [[0.471 , 0.529 ],\n",
       "        [0.2368, 0.7632]],\n",
       "\n",
       "       [[0.8841, 0.1159],\n",
       "        [0.1207, 0.8793]],\n",
       "\n",
       "       [[0.9122, 0.0878],\n",
       "        [0.1338, 0.8662]],\n",
       "\n",
       "       [[0.8276, 0.1724],\n",
       "        [0.0769, 0.9231]],\n",
       "\n",
       "       [[0.8878, 0.1122],\n",
       "        [0.1609, 0.8391]],\n",
       "\n",
       "       [[0.3192, 0.6808],\n",
       "        [0.2083, 0.7917]],\n",
       "\n",
       "       [[0.877 , 0.123 ],\n",
       "        [0.1525, 0.8475]],\n",
       "\n",
       "       [[0.6667, 0.3333],\n",
       "        [0.0667, 0.9333]],\n",
       "\n",
       "       [[0.7439, 0.2561],\n",
       "        [0.1111, 0.8889]],\n",
       "\n",
       "       [[0.9181, 0.0819],\n",
       "        [0.0798, 0.9202]],\n",
       "\n",
       "       [[0.8987, 0.1013],\n",
       "        [0.1   , 0.9   ]],\n",
       "\n",
       "       [[0.7887, 0.2113],\n",
       "        [0.1014, 0.8986]],\n",
       "\n",
       "       [[0.5102, 0.4898],\n",
       "        [0.2292, 0.7708]],\n",
       "\n",
       "       [[0.8667, 0.1333],\n",
       "        [0.1   , 0.9   ]],\n",
       "\n",
       "       [[0.9062, 0.0938],\n",
       "        [0.0741, 0.9259]],\n",
       "\n",
       "       [[0.9308, 0.0692],\n",
       "        [0.1187, 0.8813]],\n",
       "\n",
       "       [[0.9739, 0.0261],\n",
       "        [0.0837, 0.9163]],\n",
       "\n",
       "       [[0.633 , 0.367 ],\n",
       "        [0.1354, 0.8646]],\n",
       "\n",
       "       [[0.9574, 0.0426],\n",
       "        [0.0407, 0.9593]],\n",
       "\n",
       "       [[1.    , 0.    ],\n",
       "        [0.1111, 0.8889]],\n",
       "\n",
       "       [[0.9444, 0.0556],\n",
       "        [0.3529, 0.6471]],\n",
       "\n",
       "       [[0.875 , 0.125 ],\n",
       "        [0.087 , 0.913 ]],\n",
       "\n",
       "       [[0.7015, 0.2985],\n",
       "        [0.1528, 0.8472]],\n",
       "\n",
       "       [[0.9643, 0.0357],\n",
       "        [0.1875, 0.8125]],\n",
       "\n",
       "       [[0.8254, 0.1746],\n",
       "        [0.0351, 0.9649]],\n",
       "\n",
       "       [[0.96  , 0.04  ],\n",
       "        [0.1143, 0.8857]],\n",
       "\n",
       "       [[0.9383, 0.0617],\n",
       "        [0.1186, 0.8814]],\n",
       "\n",
       "       [[0.8367, 0.1633],\n",
       "        [0.0714, 0.9286]],\n",
       "\n",
       "       [[0.8913, 0.1087],\n",
       "        [0.0794, 0.9206]],\n",
       "\n",
       "       [[0.3766, 0.6234],\n",
       "        [0.3864, 0.6136]],\n",
       "\n",
       "       [[0.7969, 0.2031],\n",
       "        [0.0893, 0.9107]],\n",
       "\n",
       "       [[0.9167, 0.0833],\n",
       "        [0.2308, 0.7692]],\n",
       "\n",
       "       [[1.    , 0.    ],\n",
       "        [0.    , 1.    ]],\n",
       "\n",
       "       [[0.7941, 0.2059],\n",
       "        [0.4286, 0.5714]],\n",
       "\n",
       "       [[0.9   , 0.1   ],\n",
       "        [0.0678, 0.9322]],\n",
       "\n",
       "       [[0.5263, 0.4737],\n",
       "        [0.4375, 0.5625]],\n",
       "\n",
       "       [[1.    , 0.    ],\n",
       "        [0.125 , 0.875 ]],\n",
       "\n",
       "       [[0.9038, 0.0962],\n",
       "        [0.1235, 0.8765]],\n",
       "\n",
       "       [[0.9483, 0.0517],\n",
       "        [0.2131, 0.7869]],\n",
       "\n",
       "       [[0.8571, 0.1429],\n",
       "        [0.125 , 0.875 ]],\n",
       "\n",
       "       [[1.    , 0.    ],\n",
       "        [0.2   , 0.8   ]],\n",
       "\n",
       "       [[0.6579, 0.3421],\n",
       "        [0.1622, 0.8378]],\n",
       "\n",
       "       [[0.8889, 0.1111],\n",
       "        [0.    , 1.    ]],\n",
       "\n",
       "       [[0.875 , 0.125 ],\n",
       "        [0.2195, 0.7805]],\n",
       "\n",
       "       [[1.    , 0.    ],\n",
       "        [1.    , 0.    ]],\n",
       "\n",
       "       [[0.5   , 0.5   ],\n",
       "        [0.    , 1.    ]],\n",
       "\n",
       "       [[0.9767, 0.0233],\n",
       "        [0.1081, 0.8919]],\n",
       "\n",
       "       [[0.9474, 0.0526],\n",
       "        [0.    , 1.    ]],\n",
       "\n",
       "       [[0.8636, 0.1364],\n",
       "        [0.0714, 0.9286]],\n",
       "\n",
       "       [[0.8788, 0.1212],\n",
       "        [0.2857, 0.7143]],\n",
       "\n",
       "       [[0.75  , 0.25  ],\n",
       "        [0.    , 1.    ]],\n",
       "\n",
       "       [[1.    , 0.    ],\n",
       "        [0.0714, 0.9286]],\n",
       "\n",
       "       [[0.    , 1.    ],\n",
       "        [0.1667, 0.8333]],\n",
       "\n",
       "       [[0.7692, 0.2308],\n",
       "        [0.0909, 0.9091]],\n",
       "\n",
       "       [[0.3333, 0.6667],\n",
       "        [0.    , 1.    ]],\n",
       "\n",
       "       [[0.6667, 0.3333],\n",
       "        [0.    , 1.    ]],\n",
       "\n",
       "       [[0.8333, 0.1667],\n",
       "        [0.    , 1.    ]],\n",
       "\n",
       "       [[0.8333, 0.1667],\n",
       "        [0.1875, 0.8125]],\n",
       "\n",
       "       [[1.    , 0.    ],\n",
       "        [0.3333, 0.6667]],\n",
       "\n",
       "       [[0.7885, 0.2115],\n",
       "        [0.1061, 0.8939]],\n",
       "\n",
       "       [[0.8857, 0.1143],\n",
       "        [0.12  , 0.88  ]],\n",
       "\n",
       "       [[0.375 , 0.625 ],\n",
       "        [0.2857, 0.7143]],\n",
       "\n",
       "       [[0.8   , 0.2   ],\n",
       "        [0.4   , 0.6   ]],\n",
       "\n",
       "       [[0.8   , 0.2   ],\n",
       "        [0.2222, 0.7778]],\n",
       "\n",
       "       [[1.    , 0.    ],\n",
       "        [0.1905, 0.8095]],\n",
       "\n",
       "       [[0.7568, 0.2432],\n",
       "        [0.3478, 0.6522]],\n",
       "\n",
       "       [[1.    , 0.    ],\n",
       "        [0.2857, 0.7143]],\n",
       "\n",
       "       [[0.8   , 0.2   ],\n",
       "        [0.2   , 0.8   ]],\n",
       "\n",
       "       [[0.8   , 0.2   ],\n",
       "        [0.2   , 0.8   ]],\n",
       "\n",
       "       [[1.    , 0.    ],\n",
       "        [0.5   , 0.5   ]],\n",
       "\n",
       "       [[0.5714, 0.4286],\n",
       "        [0.5   , 0.5   ]],\n",
       "\n",
       "       [[0.3333, 0.6667],\n",
       "        [0.    , 1.    ]],\n",
       "\n",
       "       [[0.    , 1.    ],\n",
       "        [0.    , 1.    ]],\n",
       "\n",
       "       [[1.    , 0.    ],\n",
       "        [0.1111, 0.8889]],\n",
       "\n",
       "       [[0.    , 1.    ],\n",
       "        [0.5   , 0.5   ]],\n",
       "\n",
       "       [[0.4   , 0.6   ],\n",
       "        [0.2   , 0.8   ]],\n",
       "\n",
       "       [[0.5   , 0.5   ],\n",
       "        [0.3333, 0.6667]],\n",
       "\n",
       "       [[0.6667, 0.3333],\n",
       "        [0.    , 1.    ]],\n",
       "\n",
       "       [[0.8333, 0.1667],\n",
       "        [0.    , 1.    ]],\n",
       "\n",
       "       [[1.    , 0.    ],\n",
       "        [0.    , 1.    ]],\n",
       "\n",
       "       [[0.5   , 0.5   ],\n",
       "        [0.    , 1.    ]],\n",
       "\n",
       "       [[0.6667, 0.3333],\n",
       "        [0.    , 1.    ]],\n",
       "\n",
       "       [[0.5   , 0.5   ],\n",
       "        [0.    , 1.    ]],\n",
       "\n",
       "       [[0.25  , 0.75  ],\n",
       "        [1.    , 0.    ]],\n",
       "\n",
       "       [[1.    , 0.    ],\n",
       "        [1.    , 0.    ]],\n",
       "\n",
       "       [[0.6667, 0.3333],\n",
       "        [0.    , 1.    ]],\n",
       "\n",
       "       [[0.5   , 0.5   ],\n",
       "        [0.    , 1.    ]],\n",
       "\n",
       "       [[0.5   , 0.5   ],\n",
       "        [0.3333, 0.6667]],\n",
       "\n",
       "       [[0.5   , 0.5   ],\n",
       "        [0.3333, 0.6667]],\n",
       "\n",
       "       [[0.6667, 0.3333],\n",
       "        [0.    , 1.    ]],\n",
       "\n",
       "       [[1.    , 0.    ],\n",
       "        [0.3333, 0.6667]],\n",
       "\n",
       "       [[0.    , 1.    ],\n",
       "        [0.    , 1.    ]],\n",
       "\n",
       "       [[0.6   , 0.4   ],\n",
       "        [0.2   , 0.8   ]],\n",
       "\n",
       "       [[0.25  , 0.75  ],\n",
       "        [1.    , 0.    ]],\n",
       "\n",
       "       [[0.6   , 0.4   ],\n",
       "        [0.5   , 0.5   ]],\n",
       "\n",
       "       [[1.    , 0.    ],\n",
       "        [0.    , 1.    ]],\n",
       "\n",
       "       [[0.6667, 0.3333],\n",
       "        [0.25  , 0.75  ]],\n",
       "\n",
       "       [[0.3333, 0.6667],\n",
       "        [0.    , 1.    ]],\n",
       "\n",
       "       [[0.    , 1.    ],\n",
       "        [0.3333, 0.6667]],\n",
       "\n",
       "       [[0.6667, 0.3333],\n",
       "        [0.    , 1.    ]],\n",
       "\n",
       "       [[0.6667, 0.3333],\n",
       "        [0.    , 1.    ]],\n",
       "\n",
       "       [[0.4913, 0.5087],\n",
       "        [0.5183, 0.4817]],\n",
       "\n",
       "       [[0.5942, 0.4058],\n",
       "        [0.3934, 0.6066]],\n",
       "\n",
       "       [[0.5417, 0.4583],\n",
       "        [0.6265, 0.3735]],\n",
       "\n",
       "       [[0.506 , 0.494 ],\n",
       "        [0.4098, 0.5902]],\n",
       "\n",
       "       [[0.5873, 0.4127],\n",
       "        [0.4464, 0.5536]],\n",
       "\n",
       "       [[0.5424, 0.4576],\n",
       "        [0.4937, 0.5063]],\n",
       "\n",
       "       [[0.6533, 0.3467],\n",
       "        [0.3571, 0.6429]],\n",
       "\n",
       "       [[0.4194, 0.5806],\n",
       "        [0.6133, 0.3867]],\n",
       "\n",
       "       [[0.8837, 0.1163],\n",
       "        [0.0845, 0.9155]],\n",
       "\n",
       "       [[0.9367, 0.0633],\n",
       "        [0.0521, 0.9479]]], dtype=float32)"
      ]
     },
     "execution_count": 24,
     "metadata": {},
     "output_type": "execute_result"
    }
   ],
   "source": [
    "from codeE.utils import generate_Individual_conf\n",
    "\n",
    "conf_matrix_I = generate_Individual_conf(Z_train, y_obs_categorical)\n",
    "print(\"Individual matrix shape (T,K,K)= \",conf_matrix_I.shape)\n",
    "conf_matrix_I"
   ]
  },
  {
   "cell_type": "code",
   "execution_count": 26,
   "metadata": {},
   "outputs": [
    {
     "name": "stdout",
     "output_type": "stream",
     "text": [
      "Global matrix shape (K,K)=  (2, 2)\n"
     ]
    },
    {
     "data": {
      "image/png": "[encoded data removed]",
      "text/plain": [
       "<Figure size 432x288 with 2 Axes>"
      ]
     },
     "metadata": {
      "needs_background": "light"
     },
     "output_type": "display_data"
    }
   ],
   "source": [
    "from codeE.utils import generate_Global_conf\n",
    "\n",
    "#confe_matrix_G = generate_Global_conf(Z_train, y_obs_categorical)\n",
    "confe_matrix_G = generate_Global_conf(Z_train, r_obs)\n",
    "print(\"Global matrix shape (K,K)= \",confe_matrix_G.shape)\n",
    "\n",
    "from codeE.utils import plot_confusion_matrix\n",
    "plot_confusion_matrix(confe_matrix_G, [\"negative\", \"positive\"], title= \"Global Matrix\")"
   ]
  },
  {
   "cell_type": "markdown",
   "metadata": {},
   "source": [
    "#### Delta Convergence criteria"
   ]
  },
  {
   "cell_type": "code",
   "execution_count": null,
   "metadata": {
    "scrolled": true
   },
   "outputs": [],
   "source": [
    "from codeE.learning_models import LogisticRegression_Sklearn,LogisticRegression_Keras,MLP_Keras\n",
    "#deep learning\n",
    "from codeE.learning_models import default_CNN,default_RNN,CNN_simple, RNN_simple, Clonable_Model\n",
    "\n",
    "from codeE.utils import EarlyStopRelative\n",
    "ourCallback = EarlyStopRelative(monitor='loss',patience=1,min_delta=TOL)"
   ]
  },
  {
   "cell_type": "markdown",
   "metadata": {},
   "source": [
    "### Upper Bound Model -- ideal"
   ]
  },
  {
   "cell_type": "code",
   "execution_count": null,
   "metadata": {
    "scrolled": true
   },
   "outputs": [],
   "source": [
    "Z_train_onehot = keras.utils.to_categorical(Z_train)\n",
    "Kl = Z_train_onehot.shape[1]\n",
    "\n",
    "model_UB = default_RNN_text(max_L, Kl, embed_M=embedding_matrix)\n",
    "model_UB.compile(loss='categorical_crossentropy',optimizer=OPT)\n",
    "hist = model_UB.fit(X_train,Z_train_onehot,epochs=EPOCHS_BASE,batch_size=BATCH_SIZE,verbose=0,callbacks=[ourCallback])\n",
    "print(\"Trained IDeal Model, Epochs to converge =\",len(hist.epoch))\n",
    "clone_UB = Clonable_Model(model_UB)\n",
    "Z_train_pred = model_UB.predict_classes(X_train)\n",
    "Z_test_pred = model_UB.predict_classes(X_test)"
   ]
  },
  {
   "cell_type": "code",
   "execution_count": null,
   "metadata": {},
   "outputs": [],
   "source": [
    "plt.plot(hist.history[\"loss\"],label=\"train\")\n",
    "plt.plot(hist.history[\"val_loss\"])\n",
    "plt.legend()"
   ]
  },
  {
   "cell_type": "code",
   "execution_count": null,
   "metadata": {},
   "outputs": [],
   "source": [
    "from codeE.evaluation import accuracy_model\n",
    "print(\"Train accuracy of model =\", accuracy_model(model_UB, Xstd_train, Z_train))\n",
    "print(\"Test accuracy of model =\", accuracy_model(model_UB, Xstd_test, Z_test))"
   ]
  },
  {
   "cell_type": "code",
   "execution_count": null,
   "metadata": {
    "scrolled": false
   },
   "outputs": [],
   "source": [
    "from codeE.evaluation import f1score_model\n",
    "print(\"Train accuracy of model =\", f1score_model(model_UB, Xstd_train, Z_train))\n",
    "print(\"Test accuracy of model =\", f1score_model(model_UB, Xstd_test, Z_test))"
   ]
  },
  {
   "cell_type": "markdown",
   "metadata": {},
   "source": [
    "## Aggregation methods (without predictive model)\n",
    "* Majority Voting (MV)\n",
    "* Weighted Majority Voting\n",
    "* Dawid and Skene (DS): with inference"
   ]
  },
  {
   "cell_type": "code",
   "execution_count": null,
   "metadata": {
    "scrolled": true
   },
   "outputs": [],
   "source": [
    "from codeE.methods import LabelAggregation\n",
    "label_A = LabelAggregation(scenario=\"global\")\n",
    "\n",
    "mv_soft = label_A.infer(  r_obs, 'softMV')\n",
    "mv_hard = label_A.predict(r_obs, 'hardMV')\n",
    "mv_hard"
   ]
  },
  {
   "cell_type": "code",
   "execution_count": null,
   "metadata": {
    "scrolled": true
   },
   "outputs": [],
   "source": [
    "from codeE.methods import LabelAggregation\n",
    "label_A = LabelAggregation(scenario=\"individual\")\n",
    "\n",
    "mv_soft = label_A.infer(  y_obs_categorical, 'softMV')\n",
    "mv_hard = label_A.predict(y_obs_categorical, 'hardMV')\n",
    "mv_soft"
   ]
  },
  {
   "cell_type": "code",
   "execution_count": null,
   "metadata": {},
   "outputs": [],
   "source": [
    "print(\"ACC MV on train:\",np.mean(mv_hard==Z_train))"
   ]
  },
  {
   "cell_type": "markdown",
   "metadata": {},
   "source": [
    "### generate confusion matrix to understand MV"
   ]
  },
  {
   "cell_type": "code",
   "execution_count": null,
   "metadata": {},
   "outputs": [],
   "source": [
    "from codeE.utils import generate_confusionM\n",
    "prob_Yz = generate_confusionM(mv_soft, r_obs) #confusion matrix of all annotators\n",
    "\n",
    "from codeE.utils import plot_confusion_matrix\n",
    "plot_confusion_matrix(prob_Yz, np.arange(8), title= \"soft-MV confusion matrix\")"
   ]
  },
  {
   "cell_type": "code",
   "execution_count": null,
   "metadata": {
    "scrolled": true
   },
   "outputs": [],
   "source": [
    "prob_Yz = generate_confusionM(mv_hard, r_obs) #confusion matrix of all annotators\n",
    "plot_confusion_matrix(prob_Yz, np.arange(8), title= \"hard-MV confusion matrix\")"
   ]
  },
  {
   "cell_type": "markdown",
   "metadata": {},
   "source": [
    "### Metrics to compare the estimation of confusion matrix"
   ]
  },
  {
   "cell_type": "code",
   "execution_count": null,
   "metadata": {},
   "outputs": [],
   "source": [
    "from codeE.utils import compare_conf_mats\n",
    "compare_conf_mats(prob_Yz, true_conf_mat=confe_matrix_G, text=True)"
   ]
  },
  {
   "cell_type": "code",
   "execution_count": null,
   "metadata": {},
   "outputs": [],
   "source": [
    "from codeE.evaluation import D_JS, D_KL, D_NormF\n",
    "print(\"Global D (based on Jensen Shannon) =\",D_JS(confe_matrix_G, prob_Yz))\n",
    "print(\"Global D (based on normalized Frobenius) =\",D_NormF(confe_matrix_G, prob_Yz))"
   ]
  },
  {
   "cell_type": "markdown",
   "metadata": {},
   "source": [
    "##### Weighted"
   ]
  },
  {
   "cell_type": "code",
   "execution_count": null,
   "metadata": {},
   "outputs": [],
   "source": [
    "from codeE.methods import LabelAggregation\n",
    "label_A = LabelAggregation(scenario=\"individual\")\n",
    "\n",
    "Wmv_soft = label_A.infer(y_obs_categorical, 'softMV', weights=T_weights)\n",
    "Wmv_soft"
   ]
  },
  {
   "cell_type": "code",
   "execution_count": null,
   "metadata": {},
   "outputs": [],
   "source": [
    "print(\"ACC MV on train:\",np.mean(Wmv_soft.argmax(axis=-1)==Z_train))"
   ]
  },
  {
   "cell_type": "code",
   "execution_count": null,
   "metadata": {},
   "outputs": [],
   "source": []
  },
  {
   "cell_type": "markdown",
   "metadata": {},
   "source": [
    "### Dawid and Skene model"
   ]
  },
  {
   "cell_type": "code",
   "execution_count": null,
   "metadata": {
    "scrolled": true
   },
   "outputs": [],
   "source": [
    "from codeE.methods import LabelInference_EM as DS\n",
    "\n",
    "DS_model = DS(init_Z='softmv') \n",
    "#DS_model = DS(init_Z='softmv', priors=\"None\", fast=False) \n",
    "    \n",
    "# if you want you can initialize step E forcing some method\n",
    "#DS_model.init_E(y_obs_categorical)\n",
    "#DS_model.get_qestimation()\n",
    "\n",
    "hist = DS_model.fit(y_obs_categorical, max_iter=EPOCHS_BASE, tolerance=TOL)"
   ]
  },
  {
   "cell_type": "code",
   "execution_count": null,
   "metadata": {},
   "outputs": [],
   "source": [
    "print(\"p(z) = \",DS_model.get_marginalZ())\n",
    "\n",
    "ds_labels = DS_model.infer() #could infer/predict on the trainint set only\n",
    "ds_labels"
   ]
  },
  {
   "cell_type": "code",
   "execution_count": null,
   "metadata": {},
   "outputs": [],
   "source": [
    "print(\"ACC D&S on train:\",np.mean(ds_labels.argmax(axis=1)==Z_train))"
   ]
  },
  {
   "cell_type": "code",
   "execution_count": null,
   "metadata": {},
   "outputs": [],
   "source": [
    "prob_Yzt = DS_model.get_confusionM() # estimate of conf_matrix_I\n",
    "\n",
    "from codeE.evaluation import Individual_D, D_JS, D_NormF\n",
    "print(\"Individual D_JS = \",Individual_D(conf_matrix_I, prob_Yzt, D=D_JS))\n",
    "print(\"Individual D_NormF = \",Individual_D(conf_matrix_I, prob_Yzt, D=D_NormF))"
   ]
  },
  {
   "cell_type": "markdown",
   "metadata": {},
   "source": [
    "### Second Phase\n",
    "train a predictive model over the inference/aggregation label"
   ]
  },
  {
   "cell_type": "code",
   "execution_count": null,
   "metadata": {},
   "outputs": [],
   "source": [
    "from codeE.evaluation import accuracy_model"
   ]
  },
  {
   "cell_type": "code",
   "execution_count": null,
   "metadata": {},
   "outputs": [],
   "source": [
    "model_mvsoft = clone_UB.get_model()\n",
    "model_mvsoft.compile(loss='categorical_crossentropy',optimizer=OPT)\n",
    "hist=model_mvsoft.fit(Xstd_train, mv_soft, epochs=EPOCHS_BASE,batch_size=BATCH_SIZE,verbose=0,callbacks=[ourCallback])\n",
    "print(\"Trained model over soft-MV, Epochs to converge =\",len(hist.epoch))\n",
    "\n",
    "#Z_train_pred = model_mvsoft.predict_classes(Xstd_train)\n",
    "#Z_test_pred = model_mvsoft.predict_classes(Xstd_test)\n",
    "\n",
    "print(\"Train accuracy of model =\", accuracy_model(model_mvsoft, Xstd_train, Z_train))\n",
    "print(\"Test accuracy of model =\", accuracy_model(model_mvsoft, Xstd_test, Z_test))"
   ]
  },
  {
   "cell_type": "code",
   "execution_count": null,
   "metadata": {},
   "outputs": [],
   "source": [
    "mv_hard_onehot = keras.utils.to_categorical(mv_hard, num_classes=Kl)\n",
    "mv_hard_onehot"
   ]
  },
  {
   "cell_type": "code",
   "execution_count": null,
   "metadata": {},
   "outputs": [],
   "source": [
    "model_mvhard = clone_UB.get_model()\n",
    "model_mvhard.compile(loss='categorical_crossentropy',optimizer=OPT)\n",
    "hist=model_mvhard.fit(Xstd_train, mv_hard_onehot, epochs=EPOCHS_BASE,batch_size=BATCH_SIZE,verbose=0,callbacks=[ourCallback])\n",
    "print(\"Trained model over hard-MV, Epochs to converge =\",len(hist.epoch))\n",
    "\n",
    "#Z_train_pred = model_mvhard.predict_classes(Xstd_train)\n",
    "#Z_test_pred = model_mvhard.predict_classes(Xstd_test)\n",
    "print(\"Train accuracy of model =\", accuracy_model(model_mvhard, Xstd_train, Z_train))\n",
    "print(\"Test accuracy of model =\", accuracy_model(model_mvhard, Xstd_test, Z_test))"
   ]
  },
  {
   "cell_type": "code",
   "execution_count": null,
   "metadata": {
    "scrolled": true
   },
   "outputs": [],
   "source": [
    "model_ds = clone_UB.get_model()\n",
    "model_ds.compile(loss='categorical_crossentropy',optimizer=OPT)\n",
    "hist=model_ds.fit(Xstd_train, ds_labels, epochs=EPOCHS_BASE,batch_size=BATCH_SIZE,verbose=0,callbacks=[ourCallback])\n",
    "print(\"Trained model over D&S, Epochs to converge =\",len(hist.epoch))\n",
    "\n",
    "#Z_train_pred = model_ds.predict_classes(Xstd_train)\n",
    "#Z_test_pred = model_ds.predict_classes(Xstd_test)\n",
    "\n",
    "print(\"Train accuracy of model =\", accuracy_model(model_ds, Xstd_train, Z_train))\n",
    "print(\"Test accuracy of model =\", accuracy_model(model_ds, Xstd_test, Z_test))"
   ]
  },
  {
   "cell_type": "markdown",
   "metadata": {},
   "source": [
    "## Raykar Model (joint predict model)"
   ]
  },
  {
   "cell_type": "code",
   "execution_count": null,
   "metadata": {},
   "outputs": [],
   "source": [
    "model_R = clone_UB.get_model()\n",
    "model_R.summary()"
   ]
  },
  {
   "cell_type": "code",
   "execution_count": null,
   "metadata": {
    "scrolled": true
   },
   "outputs": [],
   "source": [
    "from codeE.methods import ModelInference_EM as Raykar\n",
    "R_model = Raykar(init_Z=\"softmv\")\n",
    "#R_model = Raykar(init_Z=\"softmv\", priors='laplace', n_init_Z=3)\n",
    "\n",
    "args = {'epochs':1, 'batch_size':BATCH_SIZE, 'optimizer':OPT}\n",
    "R_model.set_model(model_R, **args)\n",
    "\n",
    "# if you want you can initialize step E forcing some method\n",
    "#R_model.init_E(y_obs_categorical, method=\"hardmv\")\n",
    "#R_model.get_qestimation()"
   ]
  },
  {
   "cell_type": "code",
   "execution_count": null,
   "metadata": {
    "scrolled": true
   },
   "outputs": [],
   "source": [
    "#logL_hists,i_r = R_model.multiples_run(20, Xstd_train,y_obs_categorical,\n",
    "#                                        max_iter=EPOCHS_BASE, tolerance=TOL)\n",
    "\n",
    "R_model.fit(Xstd_train, y_obs_categorical, runs=20, max_iter=EPOCHS_BASE, tolerance=TOL)"
   ]
  },
  {
   "cell_type": "code",
   "execution_count": null,
   "metadata": {},
   "outputs": [],
   "source": [
    "plt.figure(figsize=(15,7))\n",
    "for a, value in enumerate(logL_hists): \n",
    "    if a != i_r:\n",
    "        plt.plot(range(len(value)),value,'.-')\n",
    "plt.plot(range(len(logL_hists[i_r])),logL_hists[i_r],'o-',markersize=10,label=\"Selected run\")\n",
    "plt.legend()\n",
    "plt.show()"
   ]
  },
  {
   "cell_type": "code",
   "execution_count": null,
   "metadata": {},
   "outputs": [],
   "source": [
    "raykar_fx = R_model.get_basemodel()\n",
    "\n",
    "from codeE.evaluation import accuracy_model\n",
    "print(\"Train accuracy of model =\", accuracy_model(raykar_fx, Xstd_train, Z_train))\n",
    "print(\"Test accuracy of model =\", accuracy_model(raykar_fx, Xstd_test, Z_test))"
   ]
  },
  {
   "cell_type": "code",
   "execution_count": null,
   "metadata": {},
   "outputs": [],
   "source": [
    "prob_Yzt = R_model.get_confusionM() # estimate of conf_matrix_I\n",
    "\n",
    "from codeE.evaluation import Individual_D, D_JS, D_NormF\n",
    "print(\"Individual D_JS = \",Individual_D(conf_matrix_I, prob_Yzt, D=D_JS))\n",
    "print(\"Individual D_NormF = \",Individual_D(conf_matrix_I, prob_Yzt, D=D_NormF))"
   ]
  },
  {
   "cell_type": "code",
   "execution_count": null,
   "metadata": {},
   "outputs": [],
   "source": [
    "prob_Yz = prob_Yzt.mean(axis=0)\n",
    "from codeE.evaluation import D_JS, D_KL, D_NormF\n",
    "print(\"Global D (based on Jensen Shannon) =\",D_JS(confe_matrix_G, prob_Yz))\n",
    "print(\"Global D (based on normalized Frobenius) =\",D_NormF(confe_matrix_G, prob_Yz))"
   ]
  },
  {
   "cell_type": "code",
   "execution_count": null,
   "metadata": {
    "scrolled": true
   },
   "outputs": [],
   "source": [
    "#how good estimate the annotations ?\n",
    "prob_Y_xt = R_model.get_predictions_annot(Xstd_train)\n",
    "- np.sum(np.sum(y_obs_categorical * np.log(prob_Y_xt +1e-7 ), axis=-1))"
   ]
  },
  {
   "cell_type": "markdown",
   "metadata": {},
   "source": [
    "## Our Proposed - CMM"
   ]
  },
  {
   "cell_type": "code",
   "execution_count": null,
   "metadata": {},
   "outputs": [],
   "source": [
    "M_seted = 3\n",
    "\n",
    "aux_model = clone_UB.get_model()\n",
    "aux_model.summary()"
   ]
  },
  {
   "cell_type": "code",
   "execution_count": null,
   "metadata": {
    "scrolled": true
   },
   "outputs": [],
   "source": [
    "from codeE.methods import CMM\n",
    "CMM_model = CMM(M=M_seted) \n",
    "#CMM_model = CMM(M=M_seted, init_Z='softmv', n_init_Z=3, priors=0) \n",
    "\n",
    "args = {'epochs':1, 'batch_size':BATCH_SIZE, 'optimizer':OPT}\n",
    "CMM_model.set_model(aux_model, **args)\n",
    "\n",
    "# if you want you can initialize step E forcing some method\n",
    "#CMM_model.init_E(r_obs, method=\"hardmv\")\n",
    "#CMM_model.get_qestimation()"
   ]
  },
  {
   "cell_type": "code",
   "execution_count": null,
   "metadata": {
    "scrolled": true
   },
   "outputs": [],
   "source": [
    "#logL_hists,i_r = CMM_model.multiples_run(20,Xstd_train,r_obs,\n",
    "#                                               max_iter=EPOCHS_BASE,tolerance=TOL)\n",
    "\n",
    "CMM_model.fit(Xstd_train, r_obs, runs =20,max_iter=EPOCHS_BASE,tolerance=TOL)"
   ]
  },
  {
   "cell_type": "code",
   "execution_count": null,
   "metadata": {},
   "outputs": [],
   "source": [
    "plt.figure(figsize=(15,7))\n",
    "for a, value in enumerate(logL_hists): #logL_hists\n",
    "    if a != i_r:\n",
    "        plt.plot(range(len(value)),value,'.-')\n",
    "plt.plot(range(len(logL_hists[i_r])),logL_hists[i_r],'o-',markersize=10,label=\"Selected run\")\n",
    "plt.legend()\n",
    "plt.show()"
   ]
  },
  {
   "cell_type": "code",
   "execution_count": null,
   "metadata": {
    "scrolled": true
   },
   "outputs": [],
   "source": [
    "cmm_fx = CMM_model.get_basemodel()\n",
    "\n",
    "from codeE.evaluation import accuracy_model\n",
    "print(\"Train accuracy of model =\", accuracy_model(cmm_fx, Xstd_train, Z_train))\n",
    "print(\"Test accuracy of model =\", accuracy_model(cmm_fx, Xstd_test, Z_test))"
   ]
  },
  {
   "cell_type": "code",
   "execution_count": null,
   "metadata": {},
   "outputs": [],
   "source": [
    "prob_Yz = CMM_model.get_global_confusionM()\n",
    "\n",
    "from codeE.evaluation import D_JS, D_KL, D_NormF\n",
    "print(\"Global D (based on Jensen Shannon) =\",D_JS(confe_matrix_G, prob_Yz))\n",
    "print(\"Global D (based on normalized Frobenius) =\",D_NormF(confe_matrix_G, prob_Yz))"
   ]
  },
  {
   "cell_type": "markdown",
   "metadata": {},
   "source": [
    "### Groups found"
   ]
  },
  {
   "cell_type": "code",
   "execution_count": null,
   "metadata": {},
   "outputs": [],
   "source": [
    "print(\"p(g) =\",CMM_model.get_alpha())"
   ]
  },
  {
   "cell_type": "code",
   "execution_count": null,
   "metadata": {
    "scrolled": true
   },
   "outputs": [],
   "source": [
    "B = CMM_model.get_confusionM()\n",
    "for i in range(len(B)):\n",
    "    plot_confusion_matrix(B[i])"
   ]
  },
  {
   "cell_type": "markdown",
   "metadata": {},
   "source": [
    "#### With priors= \"laplace\"\n",
    "smooth confusion matrices"
   ]
  },
  {
   "cell_type": "code",
   "execution_count": null,
   "metadata": {},
   "outputs": [],
   "source": [
    "plt.figure(figsize=(15,7))\n",
    "for a, value in enumerate(logL_hists): #logL_hists\n",
    "    if a != i_r:\n",
    "        plt.plot(range(len(value)),value,'.-')\n",
    "plt.plot(range(len(logL_hists[i_r])),logL_hists[i_r],'o-',markersize=10,label=\"Selected run\")\n",
    "plt.legend()\n",
    "plt.show()"
   ]
  },
  {
   "cell_type": "code",
   "execution_count": null,
   "metadata": {},
   "outputs": [],
   "source": [
    "print(\"p(g) =\",CMM_model.get_alpha())"
   ]
  },
  {
   "cell_type": "code",
   "execution_count": null,
   "metadata": {
    "scrolled": true
   },
   "outputs": [],
   "source": [
    "B = CMM_model.get_confusionM()\n",
    "for i in range(len(B)):\n",
    "    plot_confusion_matrix(B[i])"
   ]
  },
  {
   "cell_type": "code",
   "execution_count": null,
   "metadata": {},
   "outputs": [],
   "source": [
    "## usar las otras funciones parao btener grupos de anotadoras.. en visualizacion!!"
   ]
  },
  {
   "cell_type": "code",
   "execution_count": null,
   "metadata": {
    "scrolled": true
   },
   "outputs": [],
   "source": [
    "prob_Yzt = []\n",
    "for t in range(y_obs.shape[1]):\n",
    "    conf = CMM_model.get_ann_confusionM(Xstd_train, y_obs[:,t])\n",
    "    \n",
    "    prob_Yzt.append(conf)\n",
    "prob_Yzt = np.asarray(prob_Yzt)\n",
    "prob_Yzt"
   ]
  },
  {
   "cell_type": "markdown",
   "metadata": {},
   "source": [
    "## Our Proposed - C-MoA"
   ]
  },
  {
   "cell_type": "markdown",
   "metadata": {},
   "source": [
    "#### Auxiliar representation with variable number of annotations per annotator and identity"
   ]
  },
  {
   "cell_type": "code",
   "execution_count": null,
   "metadata": {},
   "outputs": [],
   "source": [
    "y_cat_var, A_idx_var = set_representation(y_obs,\"onehotvar\")\n",
    "print(\"Individual sparse representation, variable shape (N,)= \",y_cat_var.shape)\n",
    "K = y_cat_var[0].shape[1]\n",
    "print(\"one-hot vectors of K-dimensions, K=\",K)\n",
    "y_cat_var"
   ]
  },
  {
   "cell_type": "code",
   "execution_count": null,
   "metadata": {},
   "outputs": [],
   "source": [
    "M_seted = 3\n",
    "\n",
    "aux_model = clone_UB.get_model()\n",
    "aux_model.summary()"
   ]
  },
  {
   "cell_type": "markdown",
   "metadata": {},
   "source": [
    "#### Fixed annotators representation (non trainable embedding)"
   ]
  },
  {
   "cell_type": "code",
   "execution_count": null,
   "metadata": {},
   "outputs": [],
   "source": [
    "T= np.concatenate(A_idx_var).max() +1\n",
    "A_rep = np.zeros((T, K))\n",
    "for i in range(N):\n",
    "    for l, t_idx in enumerate(A_idx_var[i]):\n",
    "        obs_t = y_cat_var[i][l].argmax(axis=-1)\n",
    "        A_rep[t_idx, obs_t] += 1\n",
    "print(\"shape of annotator representation (T, R_t)=\", A_rep.shape)"
   ]
  },
  {
   "cell_type": "code",
   "execution_count": null,
   "metadata": {},
   "outputs": [],
   "source": [
    "from keras.models import Sequential\n",
    "from keras.layers import *\n",
    "group_model = Sequential()\n",
    "group_model.add(Embedding(T, K,input_length=1, \n",
    "                         trainable=False,weights=[A_rep]))\n",
    "#                         trainable=True))\n",
    "group_model.add(Reshape([K]))\n",
    "group_model.add(Dense(K*M_seted, activation='relu'))\n",
    "group_model.add(Dense(M_seted, activation='softmax'))\n",
    "group_model.summary()"
   ]
  },
  {
   "cell_type": "code",
   "execution_count": null,
   "metadata": {
    "scrolled": true
   },
   "outputs": [],
   "source": [
    "from codeE.methods import CMOA\n",
    "CMOA_model = CMOA(M=M_seted) \n",
    "#CMOA_model = CMOA(M=M_seted, init_Z='softmv', n_init_Z=0, n_init_G=0, priors=1) \n",
    "\n",
    "args = {'epochs':1, 'batch_size':BATCH_SIZE, 'optimizer':OPT}\n",
    "CMOA_model.set_model(aux_model, ann_model=group_model, **args)\n",
    "#CMOA_model.set_model(group_model) #you also can set it manually\n",
    "\n",
    "# if you want you can initialize step E forcing some method\n",
    "#CMOA_model.init_E(y_cat_var, A_idx_var, method=\"hardmv\")\n",
    "#CMOA_model.get_qestimation()"
   ]
  },
  {
   "cell_type": "code",
   "execution_count": null,
   "metadata": {
    "scrolled": true
   },
   "outputs": [],
   "source": [
    "#logL_hists,i_r = CMOA_model.multiples_run(20,Xstd_train,y_cat_var, A_idx_var, \n",
    "#                                   max_iter=EPOCHS_BASE,tolerance=TOL) \n",
    "\n",
    "CMOA_model.fit(Xstd_train, y_cat_var, A_idx_var, runs = 20,max_iter=EPOCHS_BASE,tolerance=TOL) "
   ]
  },
  {
   "cell_type": "code",
   "execution_count": null,
   "metadata": {},
   "outputs": [],
   "source": [
    "plt.figure(figsize=(15,7))\n",
    "for a, value in enumerate(logL_hists): #logL_hists\n",
    "    if a != i_r:\n",
    "        plt.plot(range(len(value)),value,'.-')\n",
    "plt.plot(range(len(logL_hists[i_r])),logL_hists[i_r],'o-',markersize=10,label=\"Selected run\")\n",
    "plt.legend()\n",
    "plt.show()"
   ]
  },
  {
   "cell_type": "code",
   "execution_count": null,
   "metadata": {},
   "outputs": [],
   "source": [
    "cmoaK_fx = CMOA_model.get_basemodel()\n",
    "\n",
    "from codeE.evaluation import accuracy_model\n",
    "print(\"Train accuracy of model =\", accuracy_model(cmoaK_fx, Xstd_train, Z_train))\n",
    "print(\"Test accuracy of model =\", accuracy_model(cmoaK_fx, Xstd_test, Z_test))"
   ]
  },
  {
   "cell_type": "code",
   "execution_count": null,
   "metadata": {
    "scrolled": true
   },
   "outputs": [],
   "source": [
    "A = np.unique(np.concatenate(A_idx_var)).reshape(-1,1)\n",
    "prob_Yzt = CMOA_model.get_ann_confusionM(A) # estimate of conf_matrix_I\n",
    "\n",
    "from codeE.evaluation import Individual_D, D_JS, D_NormF\n",
    "print(\"Individual D_JS = \",Individual_D(conf_matrix_I, prob_Yzt, D=D_JS))\n",
    "print(\"Individual D_NormF = \",Individual_D(conf_matrix_I, prob_Yzt, D=D_NormF))"
   ]
  },
  {
   "cell_type": "code",
   "execution_count": null,
   "metadata": {
    "scrolled": true
   },
   "outputs": [],
   "source": [
    "B = CMOA_model.get_confusionM()\n",
    "for i in range(len(B)):\n",
    "    plot_confusion_matrix(B[i])"
   ]
  },
  {
   "cell_type": "markdown",
   "metadata": {},
   "source": [
    "#### With priors= \"laplace\"\n",
    "smooth confusion matrices"
   ]
  },
  {
   "cell_type": "code",
   "execution_count": null,
   "metadata": {
    "scrolled": true
   },
   "outputs": [],
   "source": [
    "B = CMOA_model.get_confusionM()\n",
    "for i in range(len(B)):\n",
    "    plot_confusion_matrix(B[i])"
   ]
  }
 ],
 "metadata": {
  "anaconda-cloud": {},
  "kernelspec": {
   "display_name": "Python [conda env:newpy3_tf1]",
   "language": "python",
   "name": "conda-env-newpy3_tf1-py"
  },
  "language_info": {
   "codemirror_mode": {
    "name": "ipython",
    "version": 3
   },
   "file_extension": ".py",
   "mimetype": "text/x-python",
   "name": "python",
   "nbconvert_exporter": "python",
   "pygments_lexer": "ipython3",
   "version": "3.6.10"
  }
 },
 "nbformat": 4,
 "nbformat_minor": 2
}
